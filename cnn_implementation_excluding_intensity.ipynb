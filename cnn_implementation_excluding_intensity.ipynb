{
 "cells": [
  {
   "cell_type": "code",
   "execution_count": 1,
   "metadata": {
    "colab": {
     "base_uri": "https://localhost:8080/"
    },
    "id": "CKiPaeMP2Qb7",
    "outputId": "e6cc939b-83a9-4bc4-eb25-fa248f208405"
   },
   "outputs": [
    {
     "name": "stdout",
     "output_type": "stream",
     "text": [
      "Tensorflow version: 2.6.0\n",
      "Keras Version: 2.6.0\n",
      "GPU is NOT AVAILABLE\n"
     ]
    }
   ],
   "source": [
    "import os\n",
    "import pandas as pd\n",
    "import numpy as np\n",
    "import pickle\n",
    "import tensorflow as tf\n",
    "from matplotlib.image import imread\n",
    "from numpy import mean\n",
    "from numpy import std\n",
    "from sklearn.datasets import make_multilabel_classification\n",
    "from sklearn.model_selection import RepeatedKFold\n",
    "from keras.models import Sequential\n",
    "from keras.layers import Dense, Activation\n",
    "from keras.layers import Conv1D, MaxPooling1D\n",
    "from keras.layers import Dense, Dropout, Flatten\n",
    "from sklearn.metrics import accuracy_score\n",
    "from sklearn.model_selection import train_test_split\n",
    "from tensorflow.keras.optimizers import *\n",
    "print(f\"Tensorflow version: {tf.__version__}\")\n",
    "print(f\"Keras Version: {tf.keras.__version__}\")\n",
    "\n",
    "print(\"GPU is\", \"available\" if tf.config.list_physical_devices('GPU') else \"NOT AVAILABLE\")"
   ]
  },
  {
   "cell_type": "code",
   "execution_count": 2,
   "metadata": {
    "id": "5MByZEHoWxsh"
   },
   "outputs": [],
   "source": [
    "data_dev = []\n",
    "data_test = []\n",
    "data_train = []\n",
    "file_name_dev = \"audioDataDev.pickle\"\n",
    "file_name_test = \"audioDataTest.pickle\"\n",
    "file_name_train = \"audioDataTrain.pickle\"\n",
    "\n",
    "with (open(file_name_dev, \"rb\")) as f:\n",
    "    while True:\n",
    "        try:\n",
    "            data_dev.append(pickle.load(f))\n",
    "        except EOFError:\n",
    "            break\n",
    "f.close()\n",
    "\n",
    "with (open(file_name_test, \"rb\")) as f:\n",
    "    while True:\n",
    "        try:\n",
    "            data_test.append(pickle.load(f))\n",
    "        except EOFError:\n",
    "            break\n",
    "f.close()\n",
    "\n",
    "with (open(file_name_train, \"rb\")) as f:\n",
    "    while True:\n",
    "        try:\n",
    "            data_train.append(pickle.load(f))\n",
    "        except EOFError:\n",
    "            break\n",
    "f.close()"
   ]
  },
  {
   "cell_type": "code",
   "execution_count": 40,
   "metadata": {
    "id": "sdOkQA7J2ngD"
   },
   "outputs": [],
   "source": [
    "X_dev = []\n",
    "y_dev = []\n",
    "X_train = []\n",
    "y_train = []\n",
    "X_test = []\n",
    "y_test = []\n",
    "\n",
    "for i in range(len(data_dev)-1):\n",
    "    X_dev.append(data_dev[i+1][3])\n",
    "for i in range(len(data_dev)-1):\n",
    "    y_dev.append(data_dev[i+1][6:12])\n",
    "    \n",
    "for i in range(len(data_test)-1):\n",
    "    X_test.append(data_test[i+1][3])\n",
    "for i in range(len(data_test)-1):\n",
    "    y_test.append(data_test[i+1][6:12])\n",
    "    \n",
    "for i in range(len(data_train)-1):\n",
    "    X_train.append(data_train[i+1][3])\n",
    "for i in range(len(data_train)-1):\n",
    "    y_train.append(data_train[i+1][6:12])\n",
    "\n",
    "X_dev = np.array(X_dev)\n",
    "y_dev = np.array(y_dev)\n",
    "X_test = np.array(X_test)\n",
    "y_test = np.array(y_test)\n",
    "X_train = np.array(X_train)\n",
    "y_train = np.array(y_train)\n"
   ]
  },
  {
   "cell_type": "code",
   "execution_count": 4,
   "metadata": {
    "id": "Ufzo5PJvWxsi"
   },
   "outputs": [],
   "source": [
    "y_dev = np.ceil(y_dev)\n",
    "y_test = np.ceil(y_test)\n",
    "y_train = np.ceil(y_train)"
   ]
  },
  {
   "cell_type": "code",
   "execution_count": 44,
   "metadata": {},
   "outputs": [],
   "source": [
    "for i in range(len(y_train)):\n",
    "    for j in range(len(y_train[i])):\n",
    "        if(y_train[i][j] <= 0.2):\n",
    "            y_train[i][j] = 0\n",
    "        elif(y_train[i][j] > 0.2 ):\n",
    "            y_train[i][j] = 1;"
   ]
  },
  {
   "cell_type": "code",
   "execution_count": 45,
   "metadata": {},
   "outputs": [],
   "source": [
    "\n",
    "for i in range(len(y_dev)):\n",
    "    for j in range(len(y_dev[i])):\n",
    "        if(y_dev[i][j] <= 0.2):\n",
    "            y_dev[i][j] = 0\n",
    "        elif(y_dev[i][j] > 0.2 ):\n",
    "            y_dev[i][j] = 1;"
   ]
  },
  {
   "cell_type": "code",
   "execution_count": 53,
   "metadata": {
    "id": "Kfg9CyWXWxsj",
    "outputId": "838b3477-911c-4d1f-a43d-221170c9c132"
   },
   "outputs": [
    {
     "data": {
      "text/plain": [
       "(16327, 128, 850)"
      ]
     },
     "execution_count": 53,
     "metadata": {},
     "output_type": "execute_result"
    }
   ],
   "source": [
    "X_train.shape"
   ]
  },
  {
   "cell_type": "code",
   "execution_count": 62,
   "metadata": {
    "colab": {
     "base_uri": "https://localhost:8080/"
    },
    "id": "jWyL453O3hXf",
    "outputId": "69777b0a-fcc9-4401-875c-2be39e6c4024"
   },
   "outputs": [
    {
     "name": "stdout",
     "output_type": "stream",
     "text": [
      "Epoch 1/10\n",
      "164/164 [==============================] - 30s 173ms/step - loss: 0.1743 - mean_squared_error: 0.1743 - auc: 0.6902 - accuracy: 0.6568 - mae: 0.3125 - mape: 125141328.0000 - val_loss: 0.1650 - val_mean_squared_error: 0.1650 - val_auc: 0.7111 - val_accuracy: 0.6980 - val_mae: 0.3017 - val_mape: 122446352.0000\n",
      "Epoch 2/10\n",
      "164/164 [==============================] - 28s 173ms/step - loss: 0.1651 - mean_squared_error: 0.1651 - auc: 0.7093 - accuracy: 0.6812 - mae: 0.2992 - mape: 118469600.0000 - val_loss: 0.1579 - val_mean_squared_error: 0.1579 - val_auc: 0.7180 - val_accuracy: 0.6980 - val_mae: 0.2886 - val_mape: 115897616.0000\n",
      "Epoch 3/10\n",
      "164/164 [==============================] - 26s 157ms/step - loss: 0.1608 - mean_squared_error: 0.1608 - auc: 0.7150 - accuracy: 0.6812 - mae: 0.2883 - mape: 113061688.0000 - val_loss: 0.1554 - val_mean_squared_error: 0.1554 - val_auc: 0.7192 - val_accuracy: 0.6980 - val_mae: 0.2806 - val_mape: 111904672.0000\n",
      "Epoch 4/10\n",
      "164/164 [==============================] - 23s 138ms/step - loss: 0.1595 - mean_squared_error: 0.1595 - auc: 0.7165 - accuracy: 0.6812 - mae: 0.2830 - mape: 110413000.0000 - val_loss: 0.1546 - val_mean_squared_error: 0.1546 - val_auc: 0.7192 - val_accuracy: 0.6980 - val_mae: 0.2771 - val_mape: 110134744.0000\n",
      "Epoch 5/10\n",
      "164/164 [==============================] - 23s 137ms/step - loss: 0.1590 - mean_squared_error: 0.1590 - auc: 0.7167 - accuracy: 0.6812 - mae: 0.2807 - mape: 109237128.0000 - val_loss: 0.1543 - val_mean_squared_error: 0.1543 - val_auc: 0.7192 - val_accuracy: 0.6980 - val_mae: 0.2752 - val_mape: 109202120.0000\n",
      "Epoch 6/10\n",
      "164/164 [==============================] - 23s 142ms/step - loss: 0.1587 - mean_squared_error: 0.1587 - auc: 0.7176 - accuracy: 0.6812 - mae: 0.2792 - mape: 108483600.0000 - val_loss: 0.1542 - val_mean_squared_error: 0.1542 - val_auc: 0.7192 - val_accuracy: 0.6980 - val_mae: 0.2741 - val_mape: 108655688.0000\n",
      "Epoch 7/10\n",
      "164/164 [==============================] - 22s 132ms/step - loss: 0.1585 - mean_squared_error: 0.1585 - auc: 0.7178 - accuracy: 0.6812 - mae: 0.2781 - mape: 107943824.0000 - val_loss: 0.1541 - val_mean_squared_error: 0.1541 - val_auc: 0.7192 - val_accuracy: 0.6980 - val_mae: 0.2736 - val_mape: 108385440.0000r - ETA: 2s - loss: 0.1582 - mean_squared_error: 0.1582 - auc: 0.7184 - accuracy: 0.6816 - \n",
      "Epoch 8/10\n",
      "164/164 [==============================] - 24s 147ms/step - loss: 0.1584 - mean_squared_error: 0.1584 - auc: 0.7175 - accuracy: 0.6812 - mae: 0.2778 - mape: 107806336.0000 - val_loss: 0.1541 - val_mean_squared_error: 0.1541 - val_auc: 0.7204 - val_accuracy: 0.6980 - val_mae: 0.2730 - val_mape: 108100008.0000\n",
      "Epoch 9/10\n",
      "164/164 [==============================] - 19s 114ms/step - loss: 0.1583 - mean_squared_error: 0.1583 - auc: 0.7181 - accuracy: 0.6812 - mae: 0.2768 - mape: 107295264.0000 - val_loss: 0.1541 - val_mean_squared_error: 0.1541 - val_auc: 0.7204 - val_accuracy: 0.6980 - val_mae: 0.2731 - val_mape: 108156592.0000\n",
      "Epoch 10/10\n",
      "164/164 [==============================] - 22s 133ms/step - loss: 0.1582 - mean_squared_error: 0.1582 - auc: 0.7179 - accuracy: 0.6812 - mae: 0.2770 - mape: 107381016.0000 - val_loss: 0.1541 - val_mean_squared_error: 0.1541 - val_auc: 0.7204 - val_accuracy: 0.6980 - val_mae: 0.2726 - val_mape: 107871552.0000\n"
     ]
    }
   ],
   "source": [
    "# get the model\n",
    "def get_model():\n",
    "    model = Sequential()\n",
    "    model.add(Conv1D(32, kernel_size=(2), activation='relu', input_shape=(128, 850)))\n",
    "    model.add(MaxPooling1D(pool_size=(2)))\n",
    "    model.add(Dropout(0.25))\n",
    "    model.add(Conv1D(filters=64, kernel_size=(5), activation='relu'))\n",
    "    model.add(MaxPooling1D(pool_size=(2)))\n",
    "    model.add(Dropout(0.25))\n",
    "    model.add(Conv1D(filters=128, kernel_size=(5), activation=\"relu\"))\n",
    "    model.add(MaxPooling1D(pool_size=(2)))\n",
    "    model.add(Dropout(0.25))\n",
    "    model.add(Conv1D(filters=128, kernel_size=(5), activation=\"relu\"))\n",
    "    model.add(MaxPooling1D(pool_size=(2)))\n",
    "    model.add(Dropout(0.25))\n",
    "    model.add(Flatten())\n",
    "    model.add(Dense(128, activation='softmax'))\n",
    "    model.add(Dropout(0.5))\n",
    "    model.add(Dense(60, activation='softmax'))\n",
    "    model.add(Dropout(0.5))\n",
    "    model.add(Dense(6, activation='softmax'))\n",
    "    return model\n",
    " \n",
    "# evaluate a model using repeated k-fold cross-validation\n",
    "adam = Adam(0.0005)\n",
    "model = get_model()\n",
    "model.compile(optimizer='adam',loss='mean_squared_error',metrics=['MeanSquaredError','AUC','accuracy', 'mae', 'mape'])\n",
    "history = model.fit(X_train, y_train, epochs=10, validation_data=(X_dev, y_dev), batch_size=100)"
   ]
  },
  {
   "cell_type": "code",
   "execution_count": 59,
   "metadata": {},
   "outputs": [
    {
     "data": {
      "image/png": "[encoded data removed]",
      "text/plain": [
       "<Figure size 432x288 with 1 Axes>"
      ]
     },
     "metadata": {
      "needs_background": "light"
     },
     "output_type": "display_data"
    }
   ],
   "source": [
    "from matplotlib import pyplot\n",
    "pyplot.plot(history.history['mean_squared_error'])\n",
    "plt.xlabel(\"Epochs\")\n",
    "plt.ylabel(\"Mean Square Error\")\n",
    "\n",
    "pyplot.show()"
   ]
  },
  {
   "cell_type": "code",
   "execution_count": 60,
   "metadata": {},
   "outputs": [
    {
     "data": {
      "image/png": "[encoded data removed]",
      "text/plain": [
       "<Figure size 432x288 with 1 Axes>"
      ]
     },
     "metadata": {
      "needs_background": "light"
     },
     "output_type": "display_data"
    }
   ],
   "source": [
    "\n",
    "pyplot.plot(history.history['mae'])\n",
    "plt.xlabel(\"Epochs\")\n",
    "plt.ylabel(\"Mean Absolute Error\")\n",
    "\n",
    "\n",
    "pyplot.show()"
   ]
  },
  {
   "cell_type": "code",
   "execution_count": 61,
   "metadata": {},
   "outputs": [
    {
     "data": {
      "image/png": "[encoded data removed]",
      "text/plain": [
       "<Figure size 432x288 with 1 Axes>"
      ]
     },
     "metadata": {
      "needs_background": "light"
     },
     "output_type": "display_data"
    }
   ],
   "source": [
    "pyplot.plot(history.history['mape'])\n",
    "\n",
    "plt.xlabel(\"Epochs\")\n",
    "plt.ylabel(\"Mean Absolute Percentage Error\")\n",
    "pyplot.plot(history.history['mae'])\n",
    "\n",
    "pyplot.show()"
   ]
  },
  {
   "cell_type": "code",
   "execution_count": 63,
   "metadata": {
    "id": "R3l_Iso0Wxsl"
   },
   "outputs": [],
   "source": [
    "yhat = model.predict(X_test)\n"
   ]
  },
  {
   "cell_type": "code",
   "execution_count": 64,
   "metadata": {},
   "outputs": [],
   "source": [
    "for i in range(len(y_test)):\n",
    "    for j in range(len(y_test[i])):\n",
    "        if(yhat[i][j] <= 0.2):\n",
    "            yhat[i][j] = 0\n",
    "        elif(yhat[i][j] > 0.2):\n",
    "            yhat[i][j] = 1;\n",
    "        "
   ]
  },
  {
   "cell_type": "code",
   "execution_count": null,
   "metadata": {},
   "outputs": [],
   "source": [
    "\n",
    "for i in range()"
   ]
  },
  {
   "cell_type": "code",
   "execution_count": 37,
   "metadata": {
    "id": "9-udVMPNWxsm",
    "outputId": "ee6d7455-5dff-47bb-b766-70d717a43680"
   },
   "outputs": [
    {
     "name": "stdout",
     "output_type": "stream",
     "text": [
      "INFO:tensorflow:Assets written to: modelCNN_30epochs_batch500\\assets\n"
     ]
    }
   ],
   "source": [
    "model.save('modelCNN_30epochs_batch500')"
   ]
  },
  {
   "cell_type": "code",
   "execution_count": 65,
   "metadata": {
    "colab": {
     "base_uri": "https://localhost:8080/"
    },
    "id": "t3XB9VgN3vrx",
    "outputId": "2c59f960-c816-4082-e319-d928a74bbb51"
   },
   "outputs": [
    {
     "name": "stdout",
     "output_type": "stream",
     "text": [
      ">0.786\n"
     ]
    }
   ],
   "source": [
    "results=[]\n",
    "total = 0\n",
    "similar = 0\n",
    "for i in range(len(y_test)):\n",
    "    for j in range(len(y_test[i])):\n",
    "        if y_test[i][j] == yhat[i][j]:\n",
    "            similar += 1\n",
    "        total += 1\n",
    "acc = similar/total\n",
    "\n",
    "print('>%.3f' % acc)\n",
    "results.append(acc)"
   ]
  },
  {
   "cell_type": "code",
   "execution_count": null,
   "metadata": {},
   "outputs": [],
   "source": []
  }
 ],
 "metadata": {
  "accelerator": "GPU",
  "colab": {
   "name": "cnn_implementation_aqsa.ipynb",
   "provenance": []
  },
  "kernelspec": {
   "display_name": "Python 3 (ipykernel)",
   "language": "python",
   "name": "python3"
  },
  "language_info": {
   "codemirror_mode": {
    "name": "ipython",
    "version": 3
   },
   "file_extension": ".py",
   "mimetype": "text/x-python",
   "name": "python",
   "nbconvert_exporter": "python",
   "pygments_lexer": "ipython3",
   "version": "3.9.7"
  }
 },
 "nbformat": 4,
 "nbformat_minor": 1
}
