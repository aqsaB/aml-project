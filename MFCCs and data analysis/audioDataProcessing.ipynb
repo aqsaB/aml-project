{
  "cells": [
    {
      "cell_type": "markdown",
      "metadata": {},
      "source": [
        "## Clone Multimodal SDK Repo"
      ]
    },
    {
      "cell_type": "code",
      "execution_count": null,
      "metadata": {
        "colab": {
          "base_uri": "https://localhost:8080/"
        },
        "id": "CGC9HVoXKRGz",
        "outputId": "28b74908-8cbf-4288-c682-232e27e22b90"
      },
      "outputs": [
        {
          "name": "stdout",
          "output_type": "stream",
          "text": [
            "fatal: destination path 'CMU-MultimodalSDK' already exists and is not an empty directory.\n"
          ]
        }
      ],
      "source": [
        "!git clone https://github.com/A2Zadeh/CMU-MultimodalSDK.git"
      ]
    },
    {
      "cell_type": "code",
      "execution_count": null,
      "metadata": {
        "colab": {
          "base_uri": "https://localhost:8080/"
        },
        "id": "BjxHKGeOKRG1",
        "outputId": "7daa7653-b68b-4fc2-e8a1-fe6368d129bc"
      },
      "outputs": [
        {
          "name": "stdout",
          "output_type": "stream",
          "text": [
            "env: PYTHONPATH=/Users/main/Documents/repos/audioNN/CMU-MultimodalSDK\n"
          ]
        }
      ],
      "source": [
        "%set_env PYTHONPATH=/Users/main/Documents/repos/audioNN/CMU-MultimodalSDK"
      ]
    },
    {
      "cell_type": "code",
      "execution_count": null,
      "metadata": {
        "id": "QBhy9uLjKRG1"
      },
      "outputs": [],
      "source": [
        "import sys\n",
        "sys.path.insert(1, \"/Users/main/Documents/repos/audioNN/CMU-MultimodalSDK\")"
      ]
    },
    {
      "cell_type": "code",
      "execution_count": null,
      "metadata": {
        "colab": {
          "base_uri": "https://localhost:8080/",
          "height": 445
        },
        "id": "cH7S4vMnKRG2",
        "outputId": "1eeb4d0f-dfeb-4909-e0bf-94e69eeb04ed"
      },
      "outputs": [
        {
          "name": "stdout",
          "output_type": "stream",
          "text": [
            "Requirement already satisfied: h5py in /opt/homebrew/Caskroom/miniconda/base/envs/amlproj/lib/python3.8/site-packages (3.6.0)\n",
            "Requirement already satisfied: validators in /opt/homebrew/Caskroom/miniconda/base/envs/amlproj/lib/python3.8/site-packages (0.18.2)\n",
            "Requirement already satisfied: tqdm in /opt/homebrew/Caskroom/miniconda/base/envs/amlproj/lib/python3.8/site-packages (4.63.0)\n",
            "Requirement already satisfied: numpy in /opt/homebrew/Caskroom/miniconda/base/envs/amlproj/lib/python3.8/site-packages (1.21.5)\n",
            "Collecting argparse\n",
            "  Using cached argparse-1.4.0-py2.py3-none-any.whl (23 kB)\n",
            "Requirement already satisfied: requests in /opt/homebrew/Caskroom/miniconda/base/envs/amlproj/lib/python3.8/site-packages (2.27.1)\n",
            "Requirement already satisfied: colorama in /opt/homebrew/Caskroom/miniconda/base/envs/amlproj/lib/python3.8/site-packages (0.4.4)\n",
            "Requirement already satisfied: six>=1.4.0 in /opt/homebrew/Caskroom/miniconda/base/envs/amlproj/lib/python3.8/site-packages (from validators) (1.16.0)\n",
            "Requirement already satisfied: decorator>=3.4.0 in /opt/homebrew/Caskroom/miniconda/base/envs/amlproj/lib/python3.8/site-packages (from validators) (5.1.1)\n",
            "Requirement already satisfied: idna<4,>=2.5 in /opt/homebrew/Caskroom/miniconda/base/envs/amlproj/lib/python3.8/site-packages (from requests) (3.3)\n",
            "Requirement already satisfied: urllib3<1.27,>=1.21.1 in /opt/homebrew/Caskroom/miniconda/base/envs/amlproj/lib/python3.8/site-packages (from requests) (1.26.9)\n",
            "Requirement already satisfied: charset-normalizer~=2.0.0 in /opt/homebrew/Caskroom/miniconda/base/envs/amlproj/lib/python3.8/site-packages (from requests) (2.0.4)\n",
            "Requirement already satisfied: certifi>=2017.4.17 in /opt/homebrew/Caskroom/miniconda/base/envs/amlproj/lib/python3.8/site-packages (from requests) (2021.10.8)\n",
            "Installing collected packages: argparse\n",
            "Successfully installed argparse-1.4.0\n"
          ]
        }
      ],
      "source": [
        "!pip install h5py validators tqdm numpy argparse requests colorama"
      ]
    },
    {
      "cell_type": "code",
      "execution_count": null,
      "metadata": {
        "id": "9Lp4GmjsJxLg"
      },
      "outputs": [],
      "source": [
        "import colorama\n",
        "import mmsdk\n",
        "from mmsdk import mmdatasdk"
      ]
    },
    {
      "cell_type": "markdown",
      "metadata": {},
      "source": [
        "# Find all computional sequences in the repository"
      ]
    },
    {
      "cell_type": "code",
      "execution_count": null,
      "metadata": {
        "colab": {
          "base_uri": "https://localhost:8080/"
        },
        "id": "MEocQwpPz1vN",
        "outputId": "694e314d-7d83-40f7-9f5b-cd111cfe0696"
      },
      "outputs": [
        {
          "name": "stdout",
          "output_type": "stream",
          "text": [
            "5 csd files found\n",
            "\u001b[92m\u001b[1m[2022-04-25 20:40:36.222] | Success | \u001b[0mComputational sequence read from file ./downloaded_dataset/CMU_MOSEI_TimestampedWordVectors.csd ...\n",
            "\u001b[94m\u001b[1m[2022-04-25 20:40:36.699] | Status  | \u001b[0mChecking the integrity of the <glove_vectors> computational sequence ...\n",
            "\u001b[94m\u001b[1m[2022-04-25 20:40:36.699] | Status  | \u001b[0mChecking the format of the data in <glove_vectors> computational sequence ...\n"
          ]
        },
        {
          "name": "stderr",
          "output_type": "stream",
          "text": [
            "                                                                                  \r"
          ]
        },
        {
          "name": "stdout",
          "output_type": "stream",
          "text": [
            "\u001b[92m\u001b[1m[2022-04-25 20:40:39.066] | Success | \u001b[0m<glove_vectors> computational sequence data in correct format.\n",
            "\u001b[94m\u001b[1m[2022-04-25 20:40:39.066] | Status  | \u001b[0mChecking the format of the metadata in <glove_vectors> computational sequence ...\n",
            "\u001b[93m\u001b[1m[2022-04-25 20:40:39.066] | Warning | \u001b[0m<glove_vectors> computational sequence does not have all the required metadata ... continuing \n",
            "\u001b[92m\u001b[1m[2022-04-25 20:40:39.067] | Success | \u001b[0mComputational sequence read from file ./downloaded_dataset/CMU_MOSEI_COVAREP.csd ...\n",
            "\u001b[94m\u001b[1m[2022-04-25 20:40:39.499] | Status  | \u001b[0mChecking the integrity of the <COVAREP> computational sequence ...\n",
            "\u001b[94m\u001b[1m[2022-04-25 20:40:39.499] | Status  | \u001b[0mChecking the format of the data in <COVAREP> computational sequence ...\n"
          ]
        },
        {
          "name": "stderr",
          "output_type": "stream",
          "text": [
            "                                                                                  \r"
          ]
        },
        {
          "name": "stdout",
          "output_type": "stream",
          "text": [
            "\u001b[92m\u001b[1m[2022-04-25 20:40:42.051] | Success | \u001b[0m<COVAREP> computational sequence data in correct format.\n",
            "\u001b[94m\u001b[1m[2022-04-25 20:40:42.051] | Status  | \u001b[0mChecking the format of the metadata in <COVAREP> computational sequence ...\n",
            "\u001b[93m\u001b[1m[2022-04-25 20:40:42.051] | Warning | \u001b[0m<COVAREP> computational sequence does not have all the required metadata ... continuing \n",
            "\u001b[92m\u001b[1m[2022-04-25 20:40:42.051] | Success | \u001b[0mComputational sequence read from file ./downloaded_dataset/CMU_MOSEI_VisualOpenFace2.csd ...\n",
            "\u001b[94m\u001b[1m[2022-04-25 20:40:42.446] | Status  | \u001b[0mChecking the integrity of the <OpenFace_2> computational sequence ...\n",
            "\u001b[94m\u001b[1m[2022-04-25 20:40:42.446] | Status  | \u001b[0mChecking the format of the data in <OpenFace_2> computational sequence ...\n"
          ]
        },
        {
          "name": "stderr",
          "output_type": "stream",
          "text": [
            "                                                                                  \r"
          ]
        },
        {
          "name": "stdout",
          "output_type": "stream",
          "text": [
            "\u001b[92m\u001b[1m[2022-04-25 20:40:44.956] | Success | \u001b[0m<OpenFace_2> computational sequence data in correct format.\n",
            "\u001b[94m\u001b[1m[2022-04-25 20:40:44.956] | Status  | \u001b[0mChecking the format of the metadata in <OpenFace_2> computational sequence ...\n",
            "\u001b[93m\u001b[1m[2022-04-25 20:40:44.956] | Warning | \u001b[0m<OpenFace_2> computational sequence does not have all the required metadata ... continuing \n",
            "\u001b[92m\u001b[1m[2022-04-25 20:40:44.957] | Success | \u001b[0mComputational sequence read from file ./downloaded_dataset/CMU_MOSEI_VisualFacet42.csd ...\n",
            "\u001b[94m\u001b[1m[2022-04-25 20:40:45.547] | Status  | \u001b[0mChecking the integrity of the <FACET 4.2> computational sequence ...\n",
            "\u001b[94m\u001b[1m[2022-04-25 20:40:45.547] | Status  | \u001b[0mChecking the format of the data in <FACET 4.2> computational sequence ...\n"
          ]
        },
        {
          "name": "stderr",
          "output_type": "stream",
          "text": [
            "                                                                                  \r"
          ]
        },
        {
          "name": "stdout",
          "output_type": "stream",
          "text": [
            "\u001b[92m\u001b[1m[2022-04-25 20:40:48.261] | Success | \u001b[0m<FACET 4.2> computational sequence data in correct format.\n",
            "\u001b[94m\u001b[1m[2022-04-25 20:40:48.261] | Status  | \u001b[0mChecking the format of the metadata in <FACET 4.2> computational sequence ...\n",
            "\u001b[93m\u001b[1m[2022-04-25 20:40:48.261] | Warning | \u001b[0m<FACET 4.2> computational sequence does not have all the required metadata ... continuing \n",
            "\u001b[92m\u001b[1m[2022-04-25 20:40:48.262] | Success | \u001b[0mComputational sequence read from file ./downloaded_dataset/CMU_MOSEI_Labels.csd ...\n",
            "\u001b[94m\u001b[1m[2022-04-25 20:40:48.516] | Status  | \u001b[0mChecking the integrity of the <All Labels> computational sequence ...\n",
            "\u001b[94m\u001b[1m[2022-04-25 20:40:48.516] | Status  | \u001b[0mChecking the format of the data in <All Labels> computational sequence ...\n"
          ]
        },
        {
          "name": "stderr",
          "output_type": "stream",
          "text": [
            "                                                                                  "
          ]
        },
        {
          "name": "stdout",
          "output_type": "stream",
          "text": [
            "\u001b[92m\u001b[1m[2022-04-25 20:40:50.247] | Success | \u001b[0m<All Labels> computational sequence data in correct format.\n",
            "\u001b[94m\u001b[1m[2022-04-25 20:40:50.247] | Status  | \u001b[0mChecking the format of the metadata in <All Labels> computational sequence ...\n",
            "\u001b[93m\u001b[1m[2022-04-25 20:40:50.247] | Warning | \u001b[0m<All Labels> computational sequence does not have all the required metadata ... continuing \n",
            "\u001b[92m\u001b[1m[2022-04-25 20:40:50.247] | Success | \u001b[0mDataset initialized successfully ... \n"
          ]
        },
        {
          "name": "stderr",
          "output_type": "stream",
          "text": [
            "\r"
          ]
        }
      ],
      "source": [
        "import os\n",
        "from os import listdir\n",
        "from os.path import isfile, join\n",
        "\n",
        "# Path to csd files. If path is incorrect or missing the entire dataset will be downloaded\n",
        "pathf = './downloaded_dataset'\n",
        "dataset_dictionary={}\n",
        "\n",
        "\n",
        "# choice={\"cmu_mosei\":mmdatasdk.cmu_mosei.highlevel,\"cmu_mosi\":mmdatasdk.cmu_mosi.highlevel,\"pom\":mmdatasdk.pom.highlevel}\n",
        "# labels={\"cmu_mosei\":mmdatasdk.cmu_mosei.labels,\"cmu_mosi\":mmdatasdk.cmu_mosi.labels,\"pom\":mmdatasdk.pom.labels}\n",
        "##ONLY RUN IF DATASET IS NOT PREVIOUSLY ALIGNED\n",
        "if os.path.isdir(pathf) is False:\n",
        "    dataset=mmdatasdk.mmdataset(mmdatasdk.cmu_mosei.highlevel,pathf)\n",
        "    dataset.add_computational_sequences(mmdatasdk.cmu_mosei.labels,pathf)\n",
        "else: \n",
        "    ##RUN IF DATASET IS PREVIOUSLY ALIGNED aka downloaded previously\n",
        "    csdfiles = [f for f in listdir(pathf) if isfile(join(pathf, f)) and f[-4:]=='.csd']\n",
        "    if len(csdfiles)==0:\n",
        "        print(\"No csd files in the given folder\")\n",
        "        exit(-2)\n",
        "\n",
        "    print(\"%d csd files found\"%len(csdfiles))\n",
        "    for csdfile in csdfiles:\n",
        "        dataset_dictionary[csdfile]=os.path.join(pathf,csdfile)\n",
        "    dataset=mmdatasdk.mmdataset(dataset_dictionary)"
      ]
    },
    {
      "cell_type": "markdown",
      "metadata": {},
      "source": [
        "Get the ids for the data splits"
      ]
    },
    {
      "cell_type": "code",
      "execution_count": null,
      "metadata": {
        "id": "1G0wvqcAJxLl"
      },
      "outputs": [],
      "source": [
        "train_split = mmdatasdk.cmu_mosei.standard_folds.standard_train_fold\n",
        "dev_split = mmdatasdk.cmu_mosei.standard_folds.standard_valid_fold\n",
        "test_split = mmdatasdk.cmu_mosei.standard_folds.standard_test_fold"
      ]
    },
    {
      "cell_type": "code",
      "execution_count": null,
      "metadata": {
        "id": "-ajzKb7eJxLm",
        "outputId": "fa5c15a6-2254-4b0f-f752-ceb25fcafda3"
      },
      "outputs": [
        {
          "name": "stdout",
          "output_type": "stream",
          "text": [
            "List of the computational sequences in the downloaded dataset\n",
            "dict_keys(['CMU_MOSEI_TimestampedWordVectors.csd', 'CMU_MOSEI_COVAREP.csd', 'CMU_MOSEI_VisualOpenFace2.csd', 'CMU_MOSEI_VisualFacet42.csd', 'CMU_MOSEI_Labels.csd'])\n"
          ]
        }
      ],
      "source": [
        "print (\"List of the computational sequences in the downloaded dataset\")\n",
        "print (dataset.computational_sequences.keys())"
      ]
    },
    {
      "cell_type": "code",
      "execution_count": null,
      "metadata": {
        "id": "ssDT8mlpJxLo",
        "outputId": "608cf893-d4bf-4525-c850-dae135a0d5cb"
      },
      "outputs": [
        {
          "data": {
            "text/plain": [
              "array([ 8.7982e-03,  2.8731e-01, -6.1526e-01, -3.5694e-01,  1.8977e-01,\n",
              "        2.3487e-01,  3.1982e-01, -7.9121e-02, -3.2447e-01,  2.3599e+00,\n",
              "       -4.7748e-01,  4.6134e-02,  6.9496e-01, -1.8484e-01, -7.7504e-02,\n",
              "        2.2559e-01,  4.7522e-02,  3.3704e-01, -1.2238e-01, -3.2800e-01,\n",
              "        6.5003e-02,  2.2165e-01, -3.3592e-01,  4.4698e-01, -3.8576e-02,\n",
              "       -5.0441e-02, -1.6209e-01, -3.5643e-02, -7.9561e-02, -3.9799e-01,\n",
              "        2.7352e-01,  3.4264e-02,  3.5326e-01,  4.1972e-01, -1.5792e-01,\n",
              "        2.1663e-01, -3.3070e-01,  1.8665e-01, -3.9424e-01, -8.5799e-02,\n",
              "        2.4474e-01,  3.9804e-01, -1.0199e-01, -5.9201e-01,  2.3073e-01,\n",
              "       -2.2358e-01, -1.5474e-01, -3.3788e-01, -2.6283e-01, -9.8721e-02,\n",
              "       -1.8223e-01,  3.6109e-01,  2.7070e-02,  5.7290e-01,  1.7994e-01,\n",
              "       -2.7817e-01, -5.2845e-02, -7.1350e-02, -2.1708e-01, -2.3401e-01,\n",
              "        1.2194e-01,  1.5009e-01,  1.9745e-01,  3.3526e-01,  1.0456e-01,\n",
              "       -2.6216e-01,  2.8393e-01,  2.4053e-01, -7.7442e-03,  8.9198e-02,\n",
              "        2.2148e-01,  1.1477e-01,  7.0959e-02, -2.3884e-01, -5.2453e-01,\n",
              "       -4.9695e-01,  3.2495e-02,  1.1629e-02, -6.7704e-02, -3.8717e-02,\n",
              "       -1.5717e-01,  1.2387e-01, -4.7942e-01, -3.1075e-01,  1.7529e-01,\n",
              "       -5.2790e-01, -6.0220e-01, -4.8374e-01, -5.1854e-01, -3.2643e-01,\n",
              "        2.4879e-01,  3.0479e-02, -7.1518e-02,  6.1069e-02,  2.8808e-01,\n",
              "        1.2249e-01,  2.3461e-01,  1.0934e-01,  2.2791e-01, -1.0656e-01,\n",
              "       -8.5047e-02, -1.1338e-01, -9.0281e-02, -2.4675e-01,  2.1910e-01,\n",
              "       -2.7257e-01, -4.5521e-03,  1.9213e-01,  1.3442e-01,  3.0393e-02,\n",
              "       -3.2267e-01,  3.5981e-01,  1.7596e-02,  3.7946e-02,  3.1540e-01,\n",
              "        2.5560e-01, -2.5972e-01,  5.4590e-01, -4.7258e-01,  4.2784e-01,\n",
              "        2.0335e-02, -5.0495e-01,  1.5909e-02, -2.3570e-01, -5.6390e-02,\n",
              "        1.7825e-01,  3.7987e-01, -9.1192e-02,  1.9937e-01,  4.9020e-01,\n",
              "       -3.0500e-01, -8.4682e-02,  7.4362e-02,  1.1955e-01,  7.2388e-02,\n",
              "       -9.7157e-02,  3.6956e-01, -1.0807e-01,  2.7676e-01,  9.1645e-02,\n",
              "       -1.2415e+00, -2.1667e-01,  3.5780e-02, -3.5664e-01,  2.1206e-01,\n",
              "       -1.0999e-01,  3.7082e-01,  1.1961e-02, -3.1546e-01, -5.3862e-01,\n",
              "       -3.0965e-02,  1.1866e-01, -4.3838e-02, -2.4549e-01, -2.3572e-01,\n",
              "        4.9519e-02, -3.3068e-01,  9.3629e-03, -4.5615e-01, -2.8077e-03,\n",
              "       -2.8840e-01, -2.0573e-01, -1.8359e-02, -4.1662e-01, -1.5952e-01,\n",
              "       -3.7920e-01, -1.4132e-01, -1.9839e-01,  7.1199e-02, -1.8916e-01,\n",
              "       -6.6205e-02,  3.6754e-01, -3.7440e-01, -3.4733e-01, -3.6241e-01,\n",
              "        2.1351e-02, -5.3355e-02,  9.0946e-02, -6.8217e-02, -3.7267e-01,\n",
              "       -1.5232e-01, -2.6522e-02, -1.5146e-01, -4.5105e-01, -1.0588e-01,\n",
              "        6.3225e-02, -8.3254e-02,  4.4980e-01, -3.3879e-01, -9.1565e-02,\n",
              "       -1.1942e-01, -1.6702e-01, -3.4904e-01,  1.3524e-01,  2.5096e-03,\n",
              "        3.1909e-01, -5.7992e-02, -3.5680e-02, -2.0223e-01,  6.6804e-01,\n",
              "       -3.7298e-01,  2.6275e-01,  3.0292e-01,  4.9202e-02,  2.6038e-01,\n",
              "       -7.5940e-02, -2.3298e-01, -1.1619e-01,  1.1086e-01,  1.9442e-01,\n",
              "       -3.8302e-01,  1.6547e-01, -1.3429e-01, -1.6143e-01,  1.8937e-01,\n",
              "       -2.7782e-01, -2.2988e-01,  1.9148e-01, -3.1631e-01, -6.1984e-01,\n",
              "        2.0280e-01,  1.5853e-01,  1.1352e-01,  2.7064e-01, -1.9347e-01,\n",
              "       -4.8677e-03,  1.8438e-01,  5.6237e-01, -1.5709e-01,  3.2471e-01,\n",
              "        2.0606e-01, -5.4740e-03,  3.9767e-01, -3.6756e-01,  1.3885e-01,\n",
              "       -3.0486e-02,  1.0799e-01,  3.1875e-03,  1.8922e-01,  3.5743e-01,\n",
              "       -3.0787e-01, -1.3276e-02,  2.5180e-01, -9.7855e-02,  2.0122e-01,\n",
              "        8.5362e-02,  2.1776e-03, -3.3392e-01, -2.1253e-01, -6.0572e-01,\n",
              "        1.8651e-01, -4.0266e-01,  4.2925e-01, -1.4380e-01,  5.2499e-02,\n",
              "        2.4753e-01, -2.2813e-01,  1.0288e-01,  1.9870e-01, -3.0521e-01,\n",
              "        7.4262e-01,  2.6892e-01, -2.4006e-01,  3.3177e-01,  1.8201e-01,\n",
              "        2.4334e-01,  2.6287e-02, -1.8673e-01,  5.4609e-01,  2.1295e-01,\n",
              "        6.3108e-01, -6.4210e-02, -2.7661e-01, -7.0856e-02,  1.2034e-01,\n",
              "       -1.7167e-01, -4.2292e-01,  1.3628e-01,  4.2491e-01,  1.9284e-01,\n",
              "        2.4058e-01,  2.4287e-01,  1.6964e-01, -3.4201e-01, -3.4934e-01,\n",
              "        1.1732e-01,  1.2630e-01, -6.9694e-02,  1.8653e-01,  6.4793e-02,\n",
              "        5.0304e-01,  2.1812e-01,  3.9810e-02, -6.9350e-02, -2.2188e-01,\n",
              "        1.0525e-01,  3.0879e-01,  1.4758e-01, -1.4358e-01, -1.0641e-01])"
            ]
          },
          "execution_count": 14,
          "metadata": {},
          "output_type": "execute_result"
        }
      ],
      "source": [
        "dataset.computational_sequences['CMU_MOSEI_TimestampedWordVectors.csd']['-3g5yACwYnA']['features'][50]"
      ]
    },
    {
      "cell_type": "markdown",
      "metadata": {},
      "source": [
        "Align labels and time sequences"
      ]
    },
    {
      "cell_type": "code",
      "execution_count": null,
      "metadata": {
        "id": "eikOeEgPJxLq"
      },
      "outputs": [],
      "source": [
        "import pandas as pd\n",
        "import numpy as np\n",
        "# The following may require 'CMU_MOSEI_Labels.csd' or 'All Labels' depending on dataset.computational_sequences.keys()\n",
        "compseq = 'CMU_MOSEI_Labels.csd'\n",
        "\n",
        "files = []\n",
        "starts = []\n",
        "ends = []\n",
        "sentiment = []\n",
        "happy = []\n",
        "sad = []\n",
        "anger = []\n",
        "surprise = []\n",
        "disgust = []\n",
        "fear = []\n",
        "for file in dataset.computational_sequences[compseq].keys():\n",
        "    for index in range(len(dataset.computational_sequences[compseq][file]['intervals'])):\n",
        "        files += [file]\n",
        "        starts += [dataset.computational_sequences[compseq][file]['intervals'][index][0]]\n",
        "        ends += [dataset.computational_sequences[compseq][file]['intervals'][index][1]]\n",
        "        # sentiment,happy,sad,anger,surprise,disgust,fear\n",
        "        # dataset.computational_sequences['CMU_MOSEI_Labels.csd']['-3g5yACwYnA']['features'][index][0]\n",
        "        sentiment += [dataset.computational_sequences[compseq][file]['features'][index][0]]\n",
        "        happy += [dataset.computational_sequences[compseq][file]['features'][index][1]]\n",
        "        sad += [dataset.computational_sequences[compseq][file]['features'][index][2]]\n",
        "        anger += [dataset.computational_sequences[compseq][file]['features'][index][3]]\n",
        "        surprise += [dataset.computational_sequences[compseq][file]['features'][index][4]]\n",
        "        disgust += [dataset.computational_sequences[compseq][file]['features'][index][5]]\n",
        "        fear += [dataset.computational_sequences[compseq][file]['features'][index][6]]\n",
        "        \n",
        "df_labels = pd.DataFrame(\n",
        "    data=np.stack([\n",
        "        files,\n",
        "        starts,\n",
        "        ends,\n",
        "        sentiment,\n",
        "        happy,\n",
        "        sad,\n",
        "        anger,\n",
        "        surprise,\n",
        "        disgust,\n",
        "        fear\n",
        "    ], axis=1),\n",
        "    columns=[\n",
        "        'file',\n",
        "        'start',\n",
        "        'end',\n",
        "        'sentiment',\n",
        "        'happy',\n",
        "        'sad',\n",
        "        'anger',\n",
        "        'surprise',\n",
        "        'disgust',\n",
        "        'fear'\n",
        "    ]\n",
        ")"
      ]
    },
    {
      "cell_type": "code",
      "execution_count": null,
      "metadata": {
        "id": "fyrkOBNkJxLr",
        "outputId": "226393e1-e578-4b95-8f72-c9388112c549"
      },
      "outputs": [
        {
          "data": {
            "text/html": [
              "<div>\n",
              "<style scoped>\n",
              "    .dataframe tbody tr th:only-of-type {\n",
              "        vertical-align: middle;\n",
              "    }\n",
              "\n",
              "    .dataframe tbody tr th {\n",
              "        vertical-align: top;\n",
              "    }\n",
              "\n",
              "    .dataframe thead th {\n",
              "        text-align: right;\n",
              "    }\n",
              "</style>\n",
              "<table border=\"1\" class=\"dataframe\">\n",
              "  <thead>\n",
              "    <tr style=\"text-align: right;\">\n",
              "      <th></th>\n",
              "      <th>file</th>\n",
              "      <th>start</th>\n",
              "      <th>end</th>\n",
              "      <th>sentiment</th>\n",
              "      <th>happy</th>\n",
              "      <th>sad</th>\n",
              "      <th>anger</th>\n",
              "      <th>surprise</th>\n",
              "      <th>disgust</th>\n",
              "      <th>fear</th>\n",
              "    </tr>\n",
              "  </thead>\n",
              "  <tbody>\n",
              "    <tr>\n",
              "      <th>0</th>\n",
              "      <td>--qXJuDtHPw</td>\n",
              "      <td>23.199</td>\n",
              "      <td>30.325</td>\n",
              "      <td>1.0</td>\n",
              "      <td>0.6666667</td>\n",
              "      <td>0.0</td>\n",
              "      <td>0.0</td>\n",
              "      <td>0.0</td>\n",
              "      <td>0.0</td>\n",
              "      <td>0.0</td>\n",
              "    </tr>\n",
              "    <tr>\n",
              "      <th>1</th>\n",
              "      <td>-3g5yACwYnA</td>\n",
              "      <td>82.753</td>\n",
              "      <td>100.555</td>\n",
              "      <td>1.0</td>\n",
              "      <td>0.6666667</td>\n",
              "      <td>0.6666667</td>\n",
              "      <td>0.0</td>\n",
              "      <td>0.0</td>\n",
              "      <td>0.0</td>\n",
              "      <td>0.6666667</td>\n",
              "    </tr>\n",
              "    <tr>\n",
              "      <th>2</th>\n",
              "      <td>-3g5yACwYnA</td>\n",
              "      <td>119.919</td>\n",
              "      <td>125.299</td>\n",
              "      <td>0.6666667</td>\n",
              "      <td>0.0</td>\n",
              "      <td>0.0</td>\n",
              "      <td>0.0</td>\n",
              "      <td>0.0</td>\n",
              "      <td>0.0</td>\n",
              "      <td>0.0</td>\n",
              "    </tr>\n",
              "    <tr>\n",
              "      <th>3</th>\n",
              "      <td>-3g5yACwYnA</td>\n",
              "      <td>4.84</td>\n",
              "      <td>14.052</td>\n",
              "      <td>0.0</td>\n",
              "      <td>0.6666667</td>\n",
              "      <td>0.6666667</td>\n",
              "      <td>0.0</td>\n",
              "      <td>0.0</td>\n",
              "      <td>0.0</td>\n",
              "      <td>0.33333334</td>\n",
              "    </tr>\n",
              "    <tr>\n",
              "      <th>4</th>\n",
              "      <td>-3g5yACwYnA</td>\n",
              "      <td>13.211</td>\n",
              "      <td>27.521</td>\n",
              "      <td>0.0</td>\n",
              "      <td>0.33333334</td>\n",
              "      <td>0.33333334</td>\n",
              "      <td>0.0</td>\n",
              "      <td>0.0</td>\n",
              "      <td>0.0</td>\n",
              "      <td>0.0</td>\n",
              "    </tr>\n",
              "    <tr>\n",
              "      <th>...</th>\n",
              "      <td>...</td>\n",
              "      <td>...</td>\n",
              "      <td>...</td>\n",
              "      <td>...</td>\n",
              "      <td>...</td>\n",
              "      <td>...</td>\n",
              "      <td>...</td>\n",
              "      <td>...</td>\n",
              "      <td>...</td>\n",
              "      <td>...</td>\n",
              "    </tr>\n",
              "    <tr>\n",
              "      <th>23254</th>\n",
              "      <td>zwTrXwi54us</td>\n",
              "      <td>47.444</td>\n",
              "      <td>49.312</td>\n",
              "      <td>0.0</td>\n",
              "      <td>0.0</td>\n",
              "      <td>0.0</td>\n",
              "      <td>0.0</td>\n",
              "      <td>0.0</td>\n",
              "      <td>0.0</td>\n",
              "      <td>0.0</td>\n",
              "    </tr>\n",
              "    <tr>\n",
              "      <th>23255</th>\n",
              "      <td>zwTrXwi54us</td>\n",
              "      <td>48.511</td>\n",
              "      <td>53.652</td>\n",
              "      <td>0.0</td>\n",
              "      <td>0.0</td>\n",
              "      <td>0.0</td>\n",
              "      <td>0.0</td>\n",
              "      <td>0.0</td>\n",
              "      <td>0.0</td>\n",
              "      <td>0.0</td>\n",
              "    </tr>\n",
              "    <tr>\n",
              "      <th>23256</th>\n",
              "      <td>zwTrXwi54us</td>\n",
              "      <td>52.652</td>\n",
              "      <td>57.942</td>\n",
              "      <td>1.0</td>\n",
              "      <td>1.0</td>\n",
              "      <td>0.0</td>\n",
              "      <td>0.0</td>\n",
              "      <td>0.0</td>\n",
              "      <td>0.0</td>\n",
              "      <td>0.0</td>\n",
              "    </tr>\n",
              "    <tr>\n",
              "      <th>23257</th>\n",
              "      <td>zwTrXwi54us</td>\n",
              "      <td>57.98</td>\n",
              "      <td>69.326</td>\n",
              "      <td>0.6666667</td>\n",
              "      <td>0.33333334</td>\n",
              "      <td>0.0</td>\n",
              "      <td>0.0</td>\n",
              "      <td>0.0</td>\n",
              "      <td>0.0</td>\n",
              "      <td>0.0</td>\n",
              "    </tr>\n",
              "    <tr>\n",
              "      <th>23258</th>\n",
              "      <td>zx4W0Vuus-I</td>\n",
              "      <td>15.057</td>\n",
              "      <td>38.327</td>\n",
              "      <td>1.0</td>\n",
              "      <td>1.0</td>\n",
              "      <td>0.0</td>\n",
              "      <td>0.0</td>\n",
              "      <td>0.0</td>\n",
              "      <td>0.0</td>\n",
              "      <td>0.0</td>\n",
              "    </tr>\n",
              "  </tbody>\n",
              "</table>\n",
              "<p>23259 rows × 10 columns</p>\n",
              "</div>"
            ],
            "text/plain": [
              "              file    start      end  sentiment       happy         sad anger  \\\n",
              "0      --qXJuDtHPw   23.199   30.325        1.0   0.6666667         0.0   0.0   \n",
              "1      -3g5yACwYnA   82.753  100.555        1.0   0.6666667   0.6666667   0.0   \n",
              "2      -3g5yACwYnA  119.919  125.299  0.6666667         0.0         0.0   0.0   \n",
              "3      -3g5yACwYnA     4.84   14.052        0.0   0.6666667   0.6666667   0.0   \n",
              "4      -3g5yACwYnA   13.211   27.521        0.0  0.33333334  0.33333334   0.0   \n",
              "...            ...      ...      ...        ...         ...         ...   ...   \n",
              "23254  zwTrXwi54us   47.444   49.312        0.0         0.0         0.0   0.0   \n",
              "23255  zwTrXwi54us   48.511   53.652        0.0         0.0         0.0   0.0   \n",
              "23256  zwTrXwi54us   52.652   57.942        1.0         1.0         0.0   0.0   \n",
              "23257  zwTrXwi54us    57.98   69.326  0.6666667  0.33333334         0.0   0.0   \n",
              "23258  zx4W0Vuus-I   15.057   38.327        1.0         1.0         0.0   0.0   \n",
              "\n",
              "      surprise disgust        fear  \n",
              "0          0.0     0.0         0.0  \n",
              "1          0.0     0.0   0.6666667  \n",
              "2          0.0     0.0         0.0  \n",
              "3          0.0     0.0  0.33333334  \n",
              "4          0.0     0.0         0.0  \n",
              "...        ...     ...         ...  \n",
              "23254      0.0     0.0         0.0  \n",
              "23255      0.0     0.0         0.0  \n",
              "23256      0.0     0.0         0.0  \n",
              "23257      0.0     0.0         0.0  \n",
              "23258      0.0     0.0         0.0  \n",
              "\n",
              "[23259 rows x 10 columns]"
            ]
          },
          "execution_count": 9,
          "metadata": {},
          "output_type": "execute_result"
        }
      ],
      "source": [
        "df_labels"
      ]
    },
    {
      "cell_type": "code",
      "execution_count": null,
      "metadata": {
        "id": "mv_1j3blJxLs"
      },
      "outputs": [],
      "source": [
        "df_labels.to_csv(\"/Users/main/Documents/repos/audioNN/audioLabels.csv\")"
      ]
    },
    {
      "cell_type": "markdown",
      "metadata": {
        "id": "s5cFAjWo2MNf"
      },
      "source": []
    },
    {
      "cell_type": "code",
      "execution_count": null,
      "metadata": {
        "id": "n2ypqclMzSV9"
      },
      "outputs": [],
      "source": [
        "!git clone https://github.com/A2Zadeh/CMU-MultimodalSDK.git"
      ]
    },
    {
      "cell_type": "code",
      "execution_count": null,
      "metadata": {
        "colab": {
          "base_uri": "https://localhost:8080/"
        },
        "id": "LmUq0jN2zjYB",
        "outputId": "9b5e23aa-3c5f-4b4e-afa2-b3d86389bdf8"
      },
      "outputs": [
        {
          "name": "stdout",
          "output_type": "stream",
          "text": [
            "env: PYTHONPATH=C:\\Users\\User\\Documents\\repos\\CMU-MultimodalSDK\n"
          ]
        }
      ],
      "source": [
        "%set_env PYTHONPATH=C:\\Users\\User\\Documents\\repos\\CMU-MultimodalSDK"
      ]
    },
    {
      "cell_type": "code",
      "execution_count": null,
      "metadata": {
        "id": "rYIN5x9z8JfF"
      },
      "outputs": [],
      "source": [
        "import sys\n",
        "sys.path.insert(1, \"C:\\\\Users\\\\User\\\\Documents\\\\repos\\\\CMU-MultimodalSDK\")"
      ]
    },
    {
      "cell_type": "code",
      "execution_count": null,
      "metadata": {
        "id": "D4zXkTNszofS"
      },
      "outputs": [],
      "source": [
        "# !pip install h5py validators tqdm numpy argparse requests colorama"
      ]
    },
    {
      "cell_type": "code",
      "execution_count": null,
      "metadata": {
        "colab": {
          "base_uri": "https://localhost:8080/"
        },
        "id": "xUpj27MP1A6_",
        "outputId": "3660c1a9-2803-4b6b-ec38-7ddcc2e36035",
        "scrolled": true
      },
      "outputs": [
        {
          "name": "stdout",
          "output_type": "stream",
          "text": [
            "1 csd files found\n",
            "\u001b[92m\u001b[1m[2022-04-26 22:07:43.455] | Success | \u001b[0mComputational sequence read from file C:\\Users\\User\\Documents\\repos\\downloaded_datasets\\CMU_MOSEI_Labels.csd ...\n",
            "\u001b[94m\u001b[1m[2022-04-26 22:07:44.172] | Status  | \u001b[0mChecking the integrity of the <All Labels> computational sequence ...\n",
            "\u001b[94m\u001b[1m[2022-04-26 22:07:44.172] | Status  | \u001b[0mChecking the format of the data in <All Labels> computational sequence ...\n"
          ]
        },
        {
          "name": "stderr",
          "output_type": "stream",
          "text": [
            "                                                                                                                       "
          ]
        },
        {
          "name": "stdout",
          "output_type": "stream",
          "text": [
            "\u001b[92m\u001b[1m[2022-04-26 22:07:46.109] | Success | \u001b[0m<All Labels> computational sequence data in correct format.\n",
            "\u001b[94m\u001b[1m[2022-04-26 22:07:46.128] | Status  | \u001b[0mChecking the format of the metadata in <All Labels> computational sequence ...\n",
            "\u001b[93m\u001b[1m[2022-04-26 22:07:46.128] | Warning | \u001b[0m<All Labels> computational sequence does not have all the required metadata ... continuing \n",
            "\u001b[92m\u001b[1m[2022-04-26 22:07:46.129] | Success | \u001b[0mDataset initialized successfully ... \n"
          ]
        },
        {
          "name": "stderr",
          "output_type": "stream",
          "text": [
            "\r"
          ]
        }
      ],
      "source": [
        "import colorama\n",
        "import mmsdk\n",
        "from mmsdk import mmdatasdk\n",
        "import os\n",
        "from os import listdir\n",
        "from os.path import isfile, join\n",
        "\n",
        "# Path to csd files. If path is incorrect or missing the entire dataset will be downloaded\n",
        "pathf = 'C:\\\\Users\\\\User\\\\Documents\\\\repos\\\\downloaded_datasets'\n",
        "dataset_dictionary={}\n",
        "\n",
        "\n",
        "# choice={\"cmu_mosei\":mmdatasdk.cmu_mosei.highlevel,\"cmu_mosi\":mmdatasdk.cmu_mosi.highlevel,\"pom\":mmdatasdk.pom.highlevel}\n",
        "# labels={\"cmu_mosei\":mmdatasdk.cmu_mosei.labels,\"cmu_mosi\":mmdatasdk.cmu_mosi.labels,\"pom\":mmdatasdk.pom.labels}\n",
        "##ONLY RUN IF DATASET IS NOT PREVIOUSLY ALIGNED\n",
        "if os.path.isdir(pathf) is False:\n",
        "    dataset=mmdatasdk.mmdataset(mmdatasdk.cmu_mosei.highlevel,pathf)\n",
        "    dataset.add_computational_sequences(mmdatasdk.cmu_mosei.labels,pathf)\n",
        "else: \n",
        "    ##RUN IF DATASET IS PREVIOUSLY ALIGNED aka downloaded previously\n",
        "    csdfiles = [f for f in listdir(pathf) if isfile(join(pathf, f)) and f[-4:]=='.csd']\n",
        "    if len(csdfiles)==0:\n",
        "        print(\"No csd files in the given folder\")\n",
        "        exit(-2)\n",
        "\n",
        "    print(\"%d csd files found\"%len(csdfiles))\n",
        "    for csdfile in csdfiles:\n",
        "        dataset_dictionary[csdfile]=os.path.join(pathf,csdfile)\n",
        "    dataset=mmdatasdk.mmdataset(dataset_dictionary)"
      ]
    },
    {
      "cell_type": "code",
      "execution_count": null,
      "metadata": {
        "id": "D5yFbc4YJ1xu"
      },
      "outputs": [],
      "source": [
        "import pandas as pd"
      ]
    },
    {
      "cell_type": "code",
      "execution_count": null,
      "metadata": {
        "id": "lvRAo6fkoJWD"
      },
      "outputs": [],
      "source": [
        "import os\n",
        "\n",
        "data_files = [(x[0], x[2]) for x in os.walk(\"C:\\\\Users\\\\User\\\\Documents\\\\repos\\\\WAV_16000\")]\n",
        "data_files = data_files[0][1]"
      ]
    },
    {
      "cell_type": "code",
      "execution_count": null,
      "metadata": {
        "colab": {
          "base_uri": "https://localhost:8080/"
        },
        "id": "B5_oZhOTqNNU",
        "outputId": "e528ce45-3aa1-4202-b0de-3be8cb78d899"
      },
      "outputs": [
        {
          "data": {
            "text/plain": [
              "3838"
            ]
          },
          "execution_count": 10,
          "metadata": {},
          "output_type": "execute_result"
        }
      ],
      "source": [
        "len(data_files)"
      ]
    },
    {
      "cell_type": "code",
      "execution_count": null,
      "metadata": {
        "id": "4QR-o989Xf9r"
      },
      "outputs": [],
      "source": [
        "fileids = []\n",
        "for i in range(len(data_files)):\n",
        "  fileids.append(data_files[i].strip('.wav'))"
      ]
    },
    {
      "cell_type": "code",
      "execution_count": null,
      "metadata": {
        "id": "JQDAOOoFqI-u"
      },
      "outputs": [],
      "source": [
        "import pandas as pd\n",
        "labelData = pd.read_csv(\"C:\\\\Users\\\\User\\\\Documents\\\\repos\\\\audioLabels.csv\")"
      ]
    },
    {
      "cell_type": "code",
      "execution_count": null,
      "metadata": {
        "id": "4mC6h9rKppH9"
      },
      "outputs": [],
      "source": [
        "sampledf = labelData"
      ]
    },
    {
      "cell_type": "code",
      "execution_count": null,
      "metadata": {
        "colab": {
          "base_uri": "https://localhost:8080/"
        },
        "id": "SlFskDnKwvg0",
        "outputId": "3a574514-1eed-44a8-bfa5-381f044bca44"
      },
      "outputs": [
        {
          "data": {
            "text/plain": [
              "3293"
            ]
          },
          "execution_count": 14,
          "metadata": {},
          "output_type": "execute_result"
        }
      ],
      "source": [
        "set1 = list(set(sampledf.file))\n",
        "\n",
        "\n",
        "master = list(set(set1))\n",
        "len(master)"
      ]
    },
    {
      "cell_type": "code",
      "execution_count": null,
      "metadata": {
        "colab": {
          "base_uri": "https://localhost:8080/"
        },
        "id": "XW5rJ6203zNU",
        "outputId": "04bc55ea-97d8-41af-c126-8ffb766ded9e"
      },
      "outputs": [
        {
          "data": {
            "text/plain": [
              "3838"
            ]
          },
          "execution_count": 15,
          "metadata": {},
          "output_type": "execute_result"
        }
      ],
      "source": [
        "len(fileids)"
      ]
    },
    {
      "cell_type": "code",
      "execution_count": null,
      "metadata": {
        "colab": {
          "base_uri": "https://localhost:8080/",
          "height": 423
        },
        "id": "mTIVFRqisU_7",
        "outputId": "98e99faf-7c9b-4a56-b6cc-6679486d459d"
      },
      "outputs": [
        {
          "data": {
            "text/html": [
              "<div>\n",
              "<style scoped>\n",
              "    .dataframe tbody tr th:only-of-type {\n",
              "        vertical-align: middle;\n",
              "    }\n",
              "\n",
              "    .dataframe tbody tr th {\n",
              "        vertical-align: top;\n",
              "    }\n",
              "\n",
              "    .dataframe thead th {\n",
              "        text-align: right;\n",
              "    }\n",
              "</style>\n",
              "<table border=\"1\" class=\"dataframe\">\n",
              "  <thead>\n",
              "    <tr style=\"text-align: right;\">\n",
              "      <th></th>\n",
              "      <th>Unnamed: 0</th>\n",
              "      <th>file</th>\n",
              "      <th>start</th>\n",
              "      <th>end</th>\n",
              "      <th>sentiment</th>\n",
              "      <th>happy</th>\n",
              "      <th>sad</th>\n",
              "      <th>anger</th>\n",
              "      <th>surprise</th>\n",
              "      <th>disgust</th>\n",
              "      <th>fear</th>\n",
              "    </tr>\n",
              "  </thead>\n",
              "  <tbody>\n",
              "    <tr>\n",
              "      <th>0</th>\n",
              "      <td>0</td>\n",
              "      <td>--qXJuDtHPw</td>\n",
              "      <td>23.199</td>\n",
              "      <td>30.325</td>\n",
              "      <td>1.000000</td>\n",
              "      <td>0.666667</td>\n",
              "      <td>0.000000</td>\n",
              "      <td>0.0</td>\n",
              "      <td>0.0</td>\n",
              "      <td>0.0</td>\n",
              "      <td>0.000000</td>\n",
              "    </tr>\n",
              "    <tr>\n",
              "      <th>1</th>\n",
              "      <td>1</td>\n",
              "      <td>-3g5yACwYnA</td>\n",
              "      <td>82.753</td>\n",
              "      <td>100.555</td>\n",
              "      <td>1.000000</td>\n",
              "      <td>0.666667</td>\n",
              "      <td>0.666667</td>\n",
              "      <td>0.0</td>\n",
              "      <td>0.0</td>\n",
              "      <td>0.0</td>\n",
              "      <td>0.666667</td>\n",
              "    </tr>\n",
              "    <tr>\n",
              "      <th>2</th>\n",
              "      <td>2</td>\n",
              "      <td>-3g5yACwYnA</td>\n",
              "      <td>119.919</td>\n",
              "      <td>125.299</td>\n",
              "      <td>0.666667</td>\n",
              "      <td>0.000000</td>\n",
              "      <td>0.000000</td>\n",
              "      <td>0.0</td>\n",
              "      <td>0.0</td>\n",
              "      <td>0.0</td>\n",
              "      <td>0.000000</td>\n",
              "    </tr>\n",
              "    <tr>\n",
              "      <th>3</th>\n",
              "      <td>3</td>\n",
              "      <td>-3g5yACwYnA</td>\n",
              "      <td>4.840</td>\n",
              "      <td>14.052</td>\n",
              "      <td>0.000000</td>\n",
              "      <td>0.666667</td>\n",
              "      <td>0.666667</td>\n",
              "      <td>0.0</td>\n",
              "      <td>0.0</td>\n",
              "      <td>0.0</td>\n",
              "      <td>0.333333</td>\n",
              "    </tr>\n",
              "    <tr>\n",
              "      <th>4</th>\n",
              "      <td>4</td>\n",
              "      <td>-3g5yACwYnA</td>\n",
              "      <td>13.211</td>\n",
              "      <td>27.521</td>\n",
              "      <td>0.000000</td>\n",
              "      <td>0.333333</td>\n",
              "      <td>0.333333</td>\n",
              "      <td>0.0</td>\n",
              "      <td>0.0</td>\n",
              "      <td>0.0</td>\n",
              "      <td>0.000000</td>\n",
              "    </tr>\n",
              "    <tr>\n",
              "      <th>...</th>\n",
              "      <td>...</td>\n",
              "      <td>...</td>\n",
              "      <td>...</td>\n",
              "      <td>...</td>\n",
              "      <td>...</td>\n",
              "      <td>...</td>\n",
              "      <td>...</td>\n",
              "      <td>...</td>\n",
              "      <td>...</td>\n",
              "      <td>...</td>\n",
              "      <td>...</td>\n",
              "    </tr>\n",
              "    <tr>\n",
              "      <th>23254</th>\n",
              "      <td>23254</td>\n",
              "      <td>zwTrXwi54us</td>\n",
              "      <td>47.444</td>\n",
              "      <td>49.312</td>\n",
              "      <td>0.000000</td>\n",
              "      <td>0.000000</td>\n",
              "      <td>0.000000</td>\n",
              "      <td>0.0</td>\n",
              "      <td>0.0</td>\n",
              "      <td>0.0</td>\n",
              "      <td>0.000000</td>\n",
              "    </tr>\n",
              "    <tr>\n",
              "      <th>23255</th>\n",
              "      <td>23255</td>\n",
              "      <td>zwTrXwi54us</td>\n",
              "      <td>48.511</td>\n",
              "      <td>53.652</td>\n",
              "      <td>0.000000</td>\n",
              "      <td>0.000000</td>\n",
              "      <td>0.000000</td>\n",
              "      <td>0.0</td>\n",
              "      <td>0.0</td>\n",
              "      <td>0.0</td>\n",
              "      <td>0.000000</td>\n",
              "    </tr>\n",
              "    <tr>\n",
              "      <th>23256</th>\n",
              "      <td>23256</td>\n",
              "      <td>zwTrXwi54us</td>\n",
              "      <td>52.652</td>\n",
              "      <td>57.942</td>\n",
              "      <td>1.000000</td>\n",
              "      <td>1.000000</td>\n",
              "      <td>0.000000</td>\n",
              "      <td>0.0</td>\n",
              "      <td>0.0</td>\n",
              "      <td>0.0</td>\n",
              "      <td>0.000000</td>\n",
              "    </tr>\n",
              "    <tr>\n",
              "      <th>23257</th>\n",
              "      <td>23257</td>\n",
              "      <td>zwTrXwi54us</td>\n",
              "      <td>57.980</td>\n",
              "      <td>69.326</td>\n",
              "      <td>0.666667</td>\n",
              "      <td>0.333333</td>\n",
              "      <td>0.000000</td>\n",
              "      <td>0.0</td>\n",
              "      <td>0.0</td>\n",
              "      <td>0.0</td>\n",
              "      <td>0.000000</td>\n",
              "    </tr>\n",
              "    <tr>\n",
              "      <th>23258</th>\n",
              "      <td>23258</td>\n",
              "      <td>zx4W0Vuus-I</td>\n",
              "      <td>15.057</td>\n",
              "      <td>38.327</td>\n",
              "      <td>1.000000</td>\n",
              "      <td>1.000000</td>\n",
              "      <td>0.000000</td>\n",
              "      <td>0.0</td>\n",
              "      <td>0.0</td>\n",
              "      <td>0.0</td>\n",
              "      <td>0.000000</td>\n",
              "    </tr>\n",
              "  </tbody>\n",
              "</table>\n",
              "<p>23259 rows × 11 columns</p>\n",
              "</div>"
            ],
            "text/plain": [
              "       Unnamed: 0         file    start      end  sentiment     happy  \\\n",
              "0               0  --qXJuDtHPw   23.199   30.325   1.000000  0.666667   \n",
              "1               1  -3g5yACwYnA   82.753  100.555   1.000000  0.666667   \n",
              "2               2  -3g5yACwYnA  119.919  125.299   0.666667  0.000000   \n",
              "3               3  -3g5yACwYnA    4.840   14.052   0.000000  0.666667   \n",
              "4               4  -3g5yACwYnA   13.211   27.521   0.000000  0.333333   \n",
              "...           ...          ...      ...      ...        ...       ...   \n",
              "23254       23254  zwTrXwi54us   47.444   49.312   0.000000  0.000000   \n",
              "23255       23255  zwTrXwi54us   48.511   53.652   0.000000  0.000000   \n",
              "23256       23256  zwTrXwi54us   52.652   57.942   1.000000  1.000000   \n",
              "23257       23257  zwTrXwi54us   57.980   69.326   0.666667  0.333333   \n",
              "23258       23258  zx4W0Vuus-I   15.057   38.327   1.000000  1.000000   \n",
              "\n",
              "            sad  anger  surprise  disgust      fear  \n",
              "0      0.000000    0.0       0.0      0.0  0.000000  \n",
              "1      0.666667    0.0       0.0      0.0  0.666667  \n",
              "2      0.000000    0.0       0.0      0.0  0.000000  \n",
              "3      0.666667    0.0       0.0      0.0  0.333333  \n",
              "4      0.333333    0.0       0.0      0.0  0.000000  \n",
              "...         ...    ...       ...      ...       ...  \n",
              "23254  0.000000    0.0       0.0      0.0  0.000000  \n",
              "23255  0.000000    0.0       0.0      0.0  0.000000  \n",
              "23256  0.000000    0.0       0.0      0.0  0.000000  \n",
              "23257  0.000000    0.0       0.0      0.0  0.000000  \n",
              "23258  0.000000    0.0       0.0      0.0  0.000000  \n",
              "\n",
              "[23259 rows x 11 columns]"
            ]
          },
          "execution_count": 16,
          "metadata": {},
          "output_type": "execute_result"
        }
      ],
      "source": [
        "sampledf"
      ]
    },
    {
      "cell_type": "code",
      "execution_count": null,
      "metadata": {
        "id": "nWJlvuMyJ1x4"
      },
      "outputs": [],
      "source": [
        "from os.path import exists\n",
        "\n",
        "# file_exists = exists(path_to_file)"
      ]
    },
    {
      "cell_type": "markdown",
      "metadata": {},
      "source": [
        "## Create a function align the data, Compute the MFCCs, and export."
      ]
    },
    {
      "cell_type": "code",
      "execution_count": null,
      "metadata": {
        "id": "MSnFzObKbI34"
      },
      "outputs": [],
      "source": [
        "import librosa, librosa.display\n",
        "import matplotlib.pyplot as plt\n",
        "import numpy as np\n",
        "def pickleme(filels):\n",
        "    numSamplesFFT = 2048\n",
        "    hopLength = 512\n",
        "    d = 0\n",
        "    validfiles_temp = filels\n",
        "    for i in validfiles_temp:\n",
        "        labelData_temp = sampledf[sampledf.file == i].reset_index()\n",
        "        d += 1\n",
        "        if d % 50 == 0:\n",
        "          print(d / len(validfiles_temp), end= \" \")\n",
        "        tempdir = 'C:\\\\Users\\\\User\\\\Documents\\\\repos\\\\WAV_16000\\\\' + str(i) + '.wav'\n",
        "        temptextdir = 'C:\\\\Users\\\\User\\\\Documents\\\\repos\\\\Combined\\\\' + str(i) + '.txt'\n",
        "        file_exists = exists(tempdir)\n",
        "        file_exists_text = exists(temptextdir)\n",
        "        if file_exists & file_exists_text:\n",
        "            for j in range(len(labelData_temp)):\n",
        "                text_df_temp = pd.read_csv(temptextdir, sep='___', header=None)\n",
        "                text_df_temp = text_df_temp[text_df_temp[1] == j]\n",
        "                text_temp = text_df_temp[4]\n",
        "                signal_temp, sampleRate_temp = librosa.load(tempdir, sr=16000)\n",
        "                start_t = float(labelData_temp.iloc[[j]].start)\n",
        "                end_t = float(labelData_temp.iloc[[j]].end)\n",
        "                if start_t < 0:\n",
        "                  start_t = 0\n",
        "                start_index = librosa.time_to_samples(start_t, sr=sampleRate_temp)\n",
        "                end_index = librosa.time_to_samples(end_t, sr=sampleRate_temp)\n",
        "                signal_temp_slice = signal_temp[int(start_index):int(end_index)]\n",
        "                MFCC = librosa.feature.mfcc(signal_temp_slice, n_fft=numSamplesFFT, hop_length=hopLength, n_mfcc=128)\n",
        "                MFCC = librosa.util.fix_length(MFCC, size=850)\n",
        "                librosa.display.specshow(MFCC, sr=16000, hop_length=hopLength)\n",
        "                plt.savefig('C:\\\\Users\\\\User\\\\Documents\\\\repos\\\\MFCCs\\\\' + str(i) + '-' + str(j))\n",
        "                yield (str(i), j, signal_temp_slice, MFCC, str(text_temp),\n",
        "                          float(labelData_temp.iloc[[j]].sentiment), \n",
        "                          float(labelData_temp.iloc[[j]].happy), \n",
        "                          float(labelData_temp.iloc[[j]].sad), \n",
        "                          float(labelData_temp.iloc[[j]].anger), \n",
        "                          float(labelData_temp.iloc[[j]].surprise), \n",
        "                          float(labelData_temp.iloc[[j]].disgust), \n",
        "                          float(labelData_temp.iloc[[j]].fear))"
      ]
    },
    {
      "cell_type": "markdown",
      "metadata": {},
      "source": [
        "### Save all files to pickle files for each example in the data splits"
      ]
    },
    {
      "cell_type": "code",
      "execution_count": null,
      "metadata": {
        "id": "QaFC_PV2yjAJ"
      },
      "outputs": [],
      "source": [
        "# obtain the train/dev/test splits - these splits are based on video IDs\n",
        "train_split = mmdatasdk.cmu_mosei.standard_folds.standard_train_fold\n",
        "dev_split = mmdatasdk.cmu_mosei.standard_folds.standard_valid_fold\n",
        "test_split = mmdatasdk.cmu_mosei.standard_folds.standard_test_fold\n"
      ]
    },
    {
      "cell_type": "code",
      "execution_count": null,
      "metadata": {
        "id": "fTkfEa1TyjAK"
      },
      "outputs": [],
      "source": [
        "import sys\n",
        "import warnings\n",
        "warnings.filterwarnings(\"ignore\")\n",
        "\n",
        "train_split_data = pickleme(train_split)\n",
        "dev_split_data = pickleme(dev_split)\n",
        "test_split_data = pickleme(test_split)"
      ]
    },
    {
      "cell_type": "code",
      "execution_count": null,
      "metadata": {
        "id": "nUf_OG7IyjAL",
        "outputId": "ec53a377-7570-4a2c-af12-f069ebdbcec1"
      },
      "outputs": [
        {
          "name": "stdout",
          "output_type": "stream",
          "text": [
            "0.02501250625312656 0.05002501250625312 "
          ]
        }
      ],
      "source": [
        "import pickle\n",
        "obj = []\n",
        "file_path = 'audioDataTrain.pickle'\n",
        "pickle_out = open(file_path,\"wb\")\n",
        "pickle.dump(obj, pickle_out)\n",
        "pickle_out.close()\n",
        "for i in train_split_data:\n",
        "    file = open(file_path, 'rb')\n",
        "    old_data = pickle.load(file) \n",
        "    old_data += i\n",
        "    with open(file_path, 'ab+') as fp:\n",
        "        pickle.dump(old_data, fp)\n",
        "        fp.close()"
      ]
    },
    {
      "cell_type": "code",
      "execution_count": null,
      "metadata": {
        "id": "HBrs2u9UJ1x8",
        "outputId": "01e71b82-b45c-4a5e-b8c2-753ebedec8bf"
      },
      "outputs": [
        {
          "name": "stdout",
          "output_type": "stream",
          "text": [
            "0.16666666666666666 0.3333333333333333 0.5 0.6666666666666666 0.8333333333333334 1.0 "
          ]
        }
      ],
      "source": [
        "import pickle\n",
        "obj = []\n",
        "file_path = 'audioDataDevLabels.pickle'\n",
        "pickle_out = open(file_path, \"wb\")\n",
        "pickle.dump(obj, pickle_out)\n",
        "pickle_out.close()\n",
        "for i in dev_split_data:\n",
        "    file = open(file_path, 'rb')\n",
        "    old_data = pickle.load(file) \n",
        "    old_data += i\n",
        "    with open(file_path, 'ab+') as fp:\n",
        "        pickle.dump(old_data, fp)\n",
        "        fp.close()"
      ]
    },
    {
      "cell_type": "code",
      "execution_count": null,
      "metadata": {
        "id": "aZO2KM9CJ1x8",
        "outputId": "f0131de6-c08a-4387-ac85-23741ea01b96"
      },
      "outputs": [
        {
          "name": "stdout",
          "output_type": "stream",
          "text": [
            "0.07374631268436578 0.14749262536873156 0.22123893805309736 0.2949852507374631 0.3687315634218289 0.4424778761061947 0.5162241887905604 0.5899705014749262 0.6637168141592921 0.7374631268436578 0.8112094395280236 0.8849557522123894 0.9587020648967551 "
          ]
        }
      ],
      "source": [
        "obj = []\n",
        "file_path = 'audioDataTestLabels.pickle'\n",
        "pickle_out = open(file_path,\"wb\")\n",
        "pickle.dump(obj, pickle_out)\n",
        "pickle_out.close()\n",
        "for i in test_split_data:\n",
        "    file = open(file_path, 'rb')\n",
        "    old_data = pickle.load(file) \n",
        "    old_data += i\n",
        "    with open(file_path, 'ab+') as fp:\n",
        "        pickle.dump(old_data, fp)\n",
        "        fp.close()"
      ]
    },
    {
      "cell_type": "code",
      "execution_count": null,
      "metadata": {
        "id": "LwDP4gDyJ1x9"
      },
      "outputs": [],
      "source": [
        "file_path = 'audioDataTest.pickle'\n",
        "pickle_out = open(file_path,\"rb\")\n",
        "pickle_out.close()"
      ]
    },
    {
      "cell_type": "code",
      "execution_count": null,
      "metadata": {
        "id": "IP-xL2D-J1x9"
      },
      "outputs": [],
      "source": [
        "objects = []\n",
        "file_name = \"audioDataDev.pickle\"\n",
        "\n",
        "with (open(file_name, \"rb\")) as f:\n",
        "    while True:\n",
        "        try:\n",
        "            objects.append(pickle.load(f))\n",
        "        except EOFError:\n",
        "            break\n",
        "f.close()"
      ]
    },
    {
      "cell_type": "code",
      "execution_count": null,
      "metadata": {
        "id": "nNvpF6ixJ1x9",
        "outputId": "839d2acb-e3d7-40fa-a7b9-42413d2a4be1"
      },
      "outputs": [
        {
          "data": {
            "text/plain": [
              "(13, 850)"
            ]
          },
          "execution_count": 78,
          "metadata": {},
          "output_type": "execute_result"
        }
      ],
      "source": [
        "# Gives the audio id key for the 1000th sample\n",
        "objects[1000][1]"
      ]
    },
    {
      "cell_type": "code",
      "execution_count": null,
      "metadata": {
        "colab": {
          "base_uri": "https://localhost:8080/",
          "height": 252
        },
        "id": "EWuH3RSI9Mwm",
        "outputId": "a41f1733-164b-4eb5-ecab-aa044e91abdb"
      },
      "outputs": [
        {
          "data": {
            "text/plain": [
              "<matplotlib.collections.QuadMesh at 0x1d9182fc820>"
            ]
          },
          "execution_count": 54,
          "metadata": {},
          "output_type": "execute_result"
        },
        {
          "data": {
            "image/png": "[encoded data removed]",
            "text/plain": [
              "<Figure size 432x288 with 1 Axes>"
            ]
          },
          "metadata": {},
          "output_type": "display_data"
        }
      ],
      "source": [
        "hopLength = 512\n",
        "\n",
        "librosa.display.specshow(objects[10000][14], sr=16000, hop_length=hopLength)"
      ]
    }
  ],
  "metadata": {
    "colab": {
      "collapsed_sections": [],
      "name": "audioDataProcessingRevised.ipynb",
      "provenance": []
    },
    "kernelspec": {
      "display_name": "Python 3 (ipykernel)",
      "language": "python",
      "name": "python3"
    },
    "language_info": {
      "codemirror_mode": {
        "name": "ipython",
        "version": 3
      },
      "file_extension": ".py",
      "mimetype": "text/x-python",
      "name": "python",
      "nbconvert_exporter": "python",
      "pygments_lexer": "ipython3",
      "version": "3.8.12"
    }
  },
  "nbformat": 4,
  "nbformat_minor": 0
}
