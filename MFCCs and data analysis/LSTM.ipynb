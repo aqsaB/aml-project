{
 "cells": [
  {
   "cell_type": "code",
   "execution_count": 1,
   "id": "f33369c4",
   "metadata": {},
   "outputs": [],
   "source": [
    "import pickle\n",
    "\n",
    "objects = []\n",
    "file_name = \"audioDataTrainLabels.pickle\"\n",
    "\n",
    "with (open(file_name, \"rb\")) as f:\n",
    "    while True:\n",
    "        try:\n",
    "            objects.append(pickle.load(f))\n",
    "        except EOFError:\n",
    "            break\n",
    "f.close()"
   ]
  },
  {
   "cell_type": "code",
   "execution_count": 2,
   "id": "255f2d02",
   "metadata": {},
   "outputs": [
    {
     "name": "stdout",
     "output_type": "stream",
     "text": [
      "49\n",
      "49\n"
     ]
    }
   ],
   "source": [
    "from tensorflow.keras.preprocessing.text import Tokenizer\n",
    "\n",
    "tokenizer = Tokenizer(num_words = 8000, filters = '!\"#$%&()*+,-./:;<=>?@[\\\\]^`{|}~\\t\\n')\n",
    "\n",
    "temp = objects[1004][1].split('\\n')\n",
    "temp_text = temp[0][6:]\n",
    "tokenizer.fit_on_texts(temp_text)\n",
    "text_total_train = tokenizer.texts_to_sequences(temp_text)\n",
    "print(len(text_total_train))\n",
    "print(len(temp_text))"
   ]
  },
  {
   "cell_type": "code",
   "execution_count": 3,
   "id": "e3d996a3",
   "metadata": {},
   "outputs": [
    {
     "data": {
      "text/plain": [
       "['267278-12',\n",
       " \"12     Which is exactly what this movie is, it's stupid\\nName: 4, dtype: object\",\n",
       " 0.33333334,\n",
       " 0.33333334,\n",
       " 0.0,\n",
       " 0.0,\n",
       " 0.0,\n",
       " 0.33333334,\n",
       " 0.0]"
      ]
     },
     "execution_count": 3,
     "metadata": {},
     "output_type": "execute_result"
    }
   ],
   "source": [
    "objects[1002]"
   ]
  },
  {
   "cell_type": "code",
   "execution_count": 4,
   "id": "a0c7c359",
   "metadata": {},
   "outputs": [
    {
     "data": {
      "text/html": [
       "<div>\n",
       "<style scoped>\n",
       "    .dataframe tbody tr th:only-of-type {\n",
       "        vertical-align: middle;\n",
       "    }\n",
       "\n",
       "    .dataframe tbody tr th {\n",
       "        vertical-align: top;\n",
       "    }\n",
       "\n",
       "    .dataframe thead th {\n",
       "        text-align: right;\n",
       "    }\n",
       "</style>\n",
       "<table border=\"1\" class=\"dataframe\">\n",
       "  <thead>\n",
       "    <tr style=\"text-align: right;\">\n",
       "      <th></th>\n",
       "      <th>text</th>\n",
       "      <th>sentiment</th>\n",
       "    </tr>\n",
       "  </thead>\n",
       "  <tbody>\n",
       "    <tr>\n",
       "      <th>0</th>\n",
       "      <td>his is another of my favorite albums</td>\n",
       "      <td>[1.0, 0.0, 0.33333334, 0.0, 0.0, 0.0]</td>\n",
       "    </tr>\n",
       "    <tr>\n",
       "      <th>1</th>\n",
       "      <td>ow you might wonder, why are you buying your ...</td>\n",
       "      <td>[1.0, 0.33333334, 0.0, 0.0, 0.0, 0.0]</td>\n",
       "    </tr>\n",
       "    <tr>\n",
       "      <th>2</th>\n",
       "      <td>have multiple copies of albums like this tha...</td>\n",
       "      <td>[-0.33333334, 0.6666667, 0.0, 0.0, 0.0, 0.0]</td>\n",
       "    </tr>\n",
       "    <tr>\n",
       "      <th>3</th>\n",
       "      <td>ello my name is FJ Cava and I have an MBA fro...</td>\n",
       "      <td>[0.0, 0.0, 1.0, 0.0, 0.0, 0.0]</td>\n",
       "    </tr>\n",
       "    <tr>\n",
       "      <th>4</th>\n",
       "      <td>'m also owner of the Bayview Webspot here in ...</td>\n",
       "      <td>[0.0, 0.0, 0.6666667, 0.0, 0.0, 0.0]</td>\n",
       "    </tr>\n",
       "  </tbody>\n",
       "</table>\n",
       "</div>"
      ],
      "text/plain": [
       "                                               text  \\\n",
       "0              his is another of my favorite albums   \n",
       "1  ow you might wonder, why are you buying your ...   \n",
       "2   have multiple copies of albums like this tha...   \n",
       "3  ello my name is FJ Cava and I have an MBA fro...   \n",
       "4  'm also owner of the Bayview Webspot here in ...   \n",
       "\n",
       "                                      sentiment  \n",
       "0         [1.0, 0.0, 0.33333334, 0.0, 0.0, 0.0]  \n",
       "1         [1.0, 0.33333334, 0.0, 0.0, 0.0, 0.0]  \n",
       "2  [-0.33333334, 0.6666667, 0.0, 0.0, 0.0, 0.0]  \n",
       "3                [0.0, 0.0, 1.0, 0.0, 0.0, 0.0]  \n",
       "4          [0.0, 0.0, 0.6666667, 0.0, 0.0, 0.0]  "
      ]
     },
     "execution_count": 4,
     "metadata": {},
     "output_type": "execute_result"
    }
   ],
   "source": [
    "import pandas as pd\n",
    "import numpy as np\n",
    "data =[]\n",
    "for i in range(1, len(objects)):\n",
    "    #add text\n",
    "    temp = objects[i][1].split('\\n')\n",
    "    text_obj = temp[0][6:]\n",
    "    \n",
    "    #add sentiment\n",
    "    sentiment = []\n",
    "    sentiment.append(objects[i][2])\n",
    "    sentiment.append(objects[i][3])\n",
    "    sentiment.append(objects[i][4])\n",
    "    sentiment.append(objects[i][5])\n",
    "    sentiment.append(objects[i][6])\n",
    "    sentiment.append(objects[i][7])\n",
    "    row = [text_obj, np.array(sentiment)]\n",
    "    data.append(row)\n",
    "\n",
    "df = pd.DataFrame(data, columns = ['text', 'sentiment'])\n",
    "df.head()"
   ]
  },
  {
   "cell_type": "code",
   "execution_count": 5,
   "id": "be9b2e4c",
   "metadata": {},
   "outputs": [
    {
     "name": "stderr",
     "output_type": "stream",
     "text": [
      "[nltk_data] Downloading package stopwords to\n",
      "[nltk_data]     /Users/yanzhangzhu/nltk_data...\n",
      "[nltk_data]   Package stopwords is already up-to-date!\n"
     ]
    }
   ],
   "source": [
    "from nltk.corpus import stopwords\n",
    "import nltk\n",
    "\n",
    "nltk.download('stopwords')\n",
    "stop = stopwords.words('english')\n",
    "\n",
    "def remove_punctuation(text):\n",
    "    import string\n",
    "    translator = str.maketrans('', '', string.punctuation)\n",
    "    return text.translate(translator)\n",
    "\n",
    "def remove_stopwords(text):\n",
    "    sw = stopwords.words('english')\n",
    "    text = [word.lower() for word in text.split() if word.lower() not in sw]\n",
    "    return \" \".join(text)"
   ]
  },
  {
   "cell_type": "code",
   "execution_count": 6,
   "id": "c5c9492b",
   "metadata": {},
   "outputs": [
    {
     "data": {
      "text/html": [
       "<div>\n",
       "<style scoped>\n",
       "    .dataframe tbody tr th:only-of-type {\n",
       "        vertical-align: middle;\n",
       "    }\n",
       "\n",
       "    .dataframe tbody tr th {\n",
       "        vertical-align: top;\n",
       "    }\n",
       "\n",
       "    .dataframe thead th {\n",
       "        text-align: right;\n",
       "    }\n",
       "</style>\n",
       "<table border=\"1\" class=\"dataframe\">\n",
       "  <thead>\n",
       "    <tr style=\"text-align: right;\">\n",
       "      <th></th>\n",
       "      <th>text</th>\n",
       "      <th>sentiment</th>\n",
       "    </tr>\n",
       "  </thead>\n",
       "  <tbody>\n",
       "    <tr>\n",
       "      <th>0</th>\n",
       "      <td>another favorite albums</td>\n",
       "      <td>[1.0, 0.0, 0.33333334, 0.0, 0.0, 0.0]</td>\n",
       "    </tr>\n",
       "    <tr>\n",
       "      <th>1</th>\n",
       "      <td>ow might wonder buying</td>\n",
       "      <td>[1.0, 0.33333334, 0.0, 0.0, 0.0, 0.0]</td>\n",
       "    </tr>\n",
       "    <tr>\n",
       "      <th>2</th>\n",
       "      <td>multiple copies albums like tha</td>\n",
       "      <td>[-0.33333334, 0.6666667, 0.0, 0.0, 0.0, 0.0]</td>\n",
       "    </tr>\n",
       "    <tr>\n",
       "      <th>3</th>\n",
       "      <td>ello name fj cava mba fro</td>\n",
       "      <td>[0.0, 0.0, 1.0, 0.0, 0.0, 0.0]</td>\n",
       "    </tr>\n",
       "    <tr>\n",
       "      <th>4</th>\n",
       "      <td>also owner bayview webspot</td>\n",
       "      <td>[0.0, 0.0, 0.6666667, 0.0, 0.0, 0.0]</td>\n",
       "    </tr>\n",
       "  </tbody>\n",
       "</table>\n",
       "</div>"
      ],
      "text/plain": [
       "                              text  \\\n",
       "0          another favorite albums   \n",
       "1           ow might wonder buying   \n",
       "2  multiple copies albums like tha   \n",
       "3        ello name fj cava mba fro   \n",
       "4       also owner bayview webspot   \n",
       "\n",
       "                                      sentiment  \n",
       "0         [1.0, 0.0, 0.33333334, 0.0, 0.0, 0.0]  \n",
       "1         [1.0, 0.33333334, 0.0, 0.0, 0.0, 0.0]  \n",
       "2  [-0.33333334, 0.6666667, 0.0, 0.0, 0.0, 0.0]  \n",
       "3                [0.0, 0.0, 1.0, 0.0, 0.0, 0.0]  \n",
       "4          [0.0, 0.0, 0.6666667, 0.0, 0.0, 0.0]  "
      ]
     },
     "execution_count": 6,
     "metadata": {},
     "output_type": "execute_result"
    }
   ],
   "source": [
    "df['text'] = df['text'].apply(remove_punctuation).apply(remove_stopwords)\n",
    "df.to_csv('afterFilter.csv')\n",
    "df.head()"
   ]
  },
  {
   "cell_type": "code",
   "execution_count": 7,
   "id": "2dfbd2a3",
   "metadata": {},
   "outputs": [],
   "source": [
    "tokenizer = Tokenizer(num_words = 8000, filters = '!\"#$%&()*+,-./:;<=>?@[\\\\]^`{|}~\\t\\n')\n",
    "tokenizer.fit_on_texts(df['text'])\n",
    "df['text'] = tokenizer.texts_to_sequences(df['text'].values)"
   ]
  },
  {
   "cell_type": "code",
   "execution_count": 8,
   "id": "895bea51",
   "metadata": {},
   "outputs": [
    {
     "data": {
      "text/html": [
       "<div>\n",
       "<style scoped>\n",
       "    .dataframe tbody tr th:only-of-type {\n",
       "        vertical-align: middle;\n",
       "    }\n",
       "\n",
       "    .dataframe tbody tr th {\n",
       "        vertical-align: top;\n",
       "    }\n",
       "\n",
       "    .dataframe thead th {\n",
       "        text-align: right;\n",
       "    }\n",
       "</style>\n",
       "<table border=\"1\" class=\"dataframe\">\n",
       "  <thead>\n",
       "    <tr style=\"text-align: right;\">\n",
       "      <th></th>\n",
       "      <th>text</th>\n",
       "      <th>sentiment</th>\n",
       "    </tr>\n",
       "  </thead>\n",
       "  <tbody>\n",
       "    <tr>\n",
       "      <th>0</th>\n",
       "      <td>[136, 407, 3674]</td>\n",
       "      <td>[1.0, 0.0, 0.33333334, 0.0, 0.0, 0.0]</td>\n",
       "    </tr>\n",
       "    <tr>\n",
       "      <th>1</th>\n",
       "      <td>[41, 115, 734, 640]</td>\n",
       "      <td>[1.0, 0.33333334, 0.0, 0.0, 0.0, 0.0]</td>\n",
       "    </tr>\n",
       "    <tr>\n",
       "      <th>2</th>\n",
       "      <td>[1646, 5533, 3674, 5, 197]</td>\n",
       "      <td>[-0.33333334, 0.6666667, 0.0, 0.0, 0.0, 0.0]</td>\n",
       "    </tr>\n",
       "    <tr>\n",
       "      <th>3</th>\n",
       "      <td>[63, 4, 3675, 5534, 2769, 785]</td>\n",
       "      <td>[0.0, 0.0, 1.0, 0.0, 0.0, 0.0]</td>\n",
       "    </tr>\n",
       "    <tr>\n",
       "      <th>4</th>\n",
       "      <td>[26, 844, 5535, 5536]</td>\n",
       "      <td>[0.0, 0.0, 0.6666667, 0.0, 0.0, 0.0]</td>\n",
       "    </tr>\n",
       "  </tbody>\n",
       "</table>\n",
       "</div>"
      ],
      "text/plain": [
       "                             text  \\\n",
       "0                [136, 407, 3674]   \n",
       "1             [41, 115, 734, 640]   \n",
       "2      [1646, 5533, 3674, 5, 197]   \n",
       "3  [63, 4, 3675, 5534, 2769, 785]   \n",
       "4           [26, 844, 5535, 5536]   \n",
       "\n",
       "                                      sentiment  \n",
       "0         [1.0, 0.0, 0.33333334, 0.0, 0.0, 0.0]  \n",
       "1         [1.0, 0.33333334, 0.0, 0.0, 0.0, 0.0]  \n",
       "2  [-0.33333334, 0.6666667, 0.0, 0.0, 0.0, 0.0]  \n",
       "3                [0.0, 0.0, 1.0, 0.0, 0.0, 0.0]  \n",
       "4          [0.0, 0.0, 0.6666667, 0.0, 0.0, 0.0]  "
      ]
     },
     "execution_count": 8,
     "metadata": {},
     "output_type": "execute_result"
    }
   ],
   "source": [
    "df.head()"
   ]
  },
  {
   "cell_type": "code",
   "execution_count": 9,
   "id": "336c39f7",
   "metadata": {},
   "outputs": [
    {
     "data": {
      "text/html": [
       "<div>\n",
       "<style scoped>\n",
       "    .dataframe tbody tr th:only-of-type {\n",
       "        vertical-align: middle;\n",
       "    }\n",
       "\n",
       "    .dataframe tbody tr th {\n",
       "        vertical-align: top;\n",
       "    }\n",
       "\n",
       "    .dataframe thead th {\n",
       "        text-align: right;\n",
       "    }\n",
       "</style>\n",
       "<table border=\"1\" class=\"dataframe\">\n",
       "  <thead>\n",
       "    <tr style=\"text-align: right;\">\n",
       "      <th></th>\n",
       "      <th>text</th>\n",
       "      <th>sentiment</th>\n",
       "    </tr>\n",
       "  </thead>\n",
       "  <tbody>\n",
       "    <tr>\n",
       "      <th>0</th>\n",
       "      <td>[136, 407, 3674]</td>\n",
       "      <td>[1.0, 0.0, 0.33333334, 0.0, 0.0, 0.0]</td>\n",
       "    </tr>\n",
       "    <tr>\n",
       "      <th>1</th>\n",
       "      <td>[41, 115, 734, 640]</td>\n",
       "      <td>[1.0, 0.33333334, 0.0, 0.0, 0.0, 0.0]</td>\n",
       "    </tr>\n",
       "    <tr>\n",
       "      <th>2</th>\n",
       "      <td>[1646, 5533, 3674, 5, 197]</td>\n",
       "      <td>[-0.33333334, 0.6666667, 0.0, 0.0, 0.0, 0.0]</td>\n",
       "    </tr>\n",
       "    <tr>\n",
       "      <th>3</th>\n",
       "      <td>[63, 4, 3675, 5534, 2769, 785]</td>\n",
       "      <td>[0.0, 0.0, 1.0, 0.0, 0.0, 0.0]</td>\n",
       "    </tr>\n",
       "    <tr>\n",
       "      <th>4</th>\n",
       "      <td>[26, 844, 5535, 5536]</td>\n",
       "      <td>[0.0, 0.0, 0.6666667, 0.0, 0.0, 0.0]</td>\n",
       "    </tr>\n",
       "  </tbody>\n",
       "</table>\n",
       "</div>"
      ],
      "text/plain": [
       "                             text  \\\n",
       "0                [136, 407, 3674]   \n",
       "1             [41, 115, 734, 640]   \n",
       "2      [1646, 5533, 3674, 5, 197]   \n",
       "3  [63, 4, 3675, 5534, 2769, 785]   \n",
       "4           [26, 844, 5535, 5536]   \n",
       "\n",
       "                                      sentiment  \n",
       "0         [1.0, 0.0, 0.33333334, 0.0, 0.0, 0.0]  \n",
       "1         [1.0, 0.33333334, 0.0, 0.0, 0.0, 0.0]  \n",
       "2  [-0.33333334, 0.6666667, 0.0, 0.0, 0.0, 0.0]  \n",
       "3                [0.0, 0.0, 1.0, 0.0, 0.0, 0.0]  \n",
       "4          [0.0, 0.0, 0.6666667, 0.0, 0.0, 0.0]  "
      ]
     },
     "execution_count": 9,
     "metadata": {},
     "output_type": "execute_result"
    }
   ],
   "source": [
    "df.to_csv('afterTranslate.csv')\n",
    "df.head()"
   ]
  },
  {
   "cell_type": "code",
   "execution_count": 164,
   "id": "99541323",
   "metadata": {},
   "outputs": [],
   "source": [
    "tokenizer = Tokenizer(num_words = 8000, filters = '!\"#$%&()*+,-./:;<=>?@[\\\\]^`{|}~\\t\\n')\n",
    "tokenizer.fit_on_texts(df['text'])\n",
    "X_train = tokenizer.texts_to_sequences(df['text'].values)\n",
    "Y_train = df['sentiment'].values"
   ]
  },
  {
   "cell_type": "code",
   "execution_count": 165,
   "id": "ec3c47e0",
   "metadata": {},
   "outputs": [
    {
     "data": {
      "text/plain": [
       "array([array([1.        , 0.        , 0.33333334, 0.        , 0.        ,\n",
       "              0.        ])                                               ,\n",
       "       array([1.        , 0.33333334, 0.        , 0.        , 0.        ,\n",
       "              0.        ])                                               ,\n",
       "       array([-0.33333334,  0.6666667 ,  0.        ,  0.        ,  0.        ,\n",
       "               0.        ])                                                   ,\n",
       "       ...,\n",
       "       array([-1.6666666 ,  0.        ,  0.        ,  0.33333334,  0.        ,\n",
       "               1.        ])                                                   ,\n",
       "       array([-1.        ,  0.        ,  0.        ,  0.        ,  0.        ,\n",
       "               0.33333334])                                                   ,\n",
       "       array([0.33333334, 0.6666667 , 0.33333334, 0.        , 0.33333334,\n",
       "              0.        ])                                               ],\n",
       "      dtype=object)"
      ]
     },
     "execution_count": 165,
     "metadata": {},
     "output_type": "execute_result"
    }
   ],
   "source": [
    "Y_train"
   ]
  },
  {
   "cell_type": "code",
   "execution_count": 166,
   "id": "96a46ddd",
   "metadata": {},
   "outputs": [
    {
     "name": "stdout",
     "output_type": "stream",
     "text": [
      "(16327, 9)\n",
      "(16327, 6)\n"
     ]
    }
   ],
   "source": [
    "from keras.preprocessing.sequence import pad_sequences\n",
    "X_train = pad_sequences(X_train)\n",
    "Y_train = pad_sequences(Y_train)\n",
    "print(X_train.shape)\n",
    "print(Y_train.shape)"
   ]
  },
  {
   "cell_type": "code",
   "execution_count": 167,
   "id": "6012d63c",
   "metadata": {},
   "outputs": [],
   "source": [
    "X_train = X_train.reshape(X_train.shape[0], 1, X_train.shape[1])"
   ]
  },
  {
   "cell_type": "code",
   "execution_count": 168,
   "id": "51f6f92b",
   "metadata": {},
   "outputs": [
    {
     "data": {
      "text/plain": [
       "(16327, 1, 9)"
      ]
     },
     "execution_count": 168,
     "metadata": {},
     "output_type": "execute_result"
    }
   ],
   "source": [
    "X_train.shape"
   ]
  },
  {
   "cell_type": "code",
   "execution_count": 181,
   "id": "52a25550",
   "metadata": {},
   "outputs": [],
   "source": [
    "#set up the LSTM model\n",
    "from tensorflow import keras\n",
    "from keras.layers import LSTM, Dense, Dropout\n",
    "\n",
    "#using the LSTM model with relu activation\n",
    "lstm = keras.Sequential()\n",
    "lstm.add(LSTM(32, input_shape = (1, X_train.shape[2]), activation='relu', return_sequences=False))\n",
    "lstm.add(Dense(6))\n",
    "lstm.compile(loss='mean_squared_error', optimizer='adam')"
   ]
  },
  {
   "cell_type": "code",
   "execution_count": 182,
   "id": "ee399911",
   "metadata": {},
   "outputs": [
    {
     "data": {
      "text/plain": [
       "(16327, 6)"
      ]
     },
     "execution_count": 182,
     "metadata": {},
     "output_type": "execute_result"
    }
   ],
   "source": [
    "Y_train.shape"
   ]
  },
  {
   "cell_type": "code",
   "execution_count": 183,
   "id": "7b5988c4",
   "metadata": {
    "scrolled": true
   },
   "outputs": [
    {
     "name": "stdout",
     "output_type": "stream",
     "text": [
      "Epoch 1/100\n",
      "1633/1633 [==============================] - 4s 2ms/step - loss: 804.4230\n",
      "Epoch 2/100\n",
      "1633/1633 [==============================] - 3s 2ms/step - loss: 16.5975\n",
      "Epoch 3/100\n",
      "1633/1633 [==============================] - 3s 2ms/step - loss: 6.9468\n",
      "Epoch 4/100\n",
      "1633/1633 [==============================] - 3s 2ms/step - loss: 1.4903\n",
      "Epoch 5/100\n",
      "1633/1633 [==============================] - 3s 2ms/step - loss: 0.4732\n",
      "Epoch 6/100\n",
      "1633/1633 [==============================] - 3s 2ms/step - loss: 0.2977\n",
      "Epoch 7/100\n",
      "1633/1633 [==============================] - 3s 2ms/step - loss: 0.2921\n",
      "Epoch 8/100\n",
      "1633/1633 [==============================] - 3s 2ms/step - loss: 0.2515\n",
      "Epoch 9/100\n",
      "1633/1633 [==============================] - 2s 1ms/step - loss: 0.2357\n",
      "Epoch 10/100\n",
      "1633/1633 [==============================] - 2s 2ms/step - loss: 0.2336\n",
      "Epoch 11/100\n",
      "1633/1633 [==============================] - 3s 2ms/step - loss: 0.2334\n",
      "Epoch 12/100\n",
      "1633/1633 [==============================] - 3s 2ms/step - loss: 0.2363\n",
      "Epoch 13/100\n",
      "1633/1633 [==============================] - 3s 2ms/step - loss: 0.2333\n",
      "Epoch 14/100\n",
      "1633/1633 [==============================] - 3s 2ms/step - loss: 0.2334\n",
      "Epoch 15/100\n",
      "1633/1633 [==============================] - 3s 2ms/step - loss: 0.4133\n",
      "Epoch 16/100\n",
      "1633/1633 [==============================] - 4s 2ms/step - loss: 0.2339\n",
      "Epoch 17/100\n",
      "1633/1633 [==============================] - 3s 2ms/step - loss: 0.2335\n",
      "Epoch 18/100\n",
      "1633/1633 [==============================] - 3s 2ms/step - loss: 0.2333\n",
      "Epoch 19/100\n",
      "1633/1633 [==============================] - 3s 2ms/step - loss: 0.2399\n",
      "Epoch 20/100\n",
      "1633/1633 [==============================] - 3s 2ms/step - loss: 0.2332\n",
      "Epoch 21/100\n",
      "1633/1633 [==============================] - 3s 2ms/step - loss: 0.2602\n",
      "Epoch 22/100\n",
      "1633/1633 [==============================] - 3s 2ms/step - loss: 0.2514\n",
      "Epoch 23/100\n",
      "1633/1633 [==============================] - 3s 2ms/step - loss: 0.2333\n",
      "Epoch 24/100\n",
      "1633/1633 [==============================] - 3s 2ms/step - loss: 0.3818\n",
      "Epoch 25/100\n",
      "1633/1633 [==============================] - 3s 2ms/step - loss: 0.3001\n",
      "Epoch 26/100\n",
      "1633/1633 [==============================] - 3s 2ms/step - loss: 0.2331\n",
      "Epoch 27/100\n",
      "1633/1633 [==============================] - 3s 2ms/step - loss: 0.2399\n",
      "Epoch 28/100\n",
      "1633/1633 [==============================] - 3s 2ms/step - loss: 0.2350\n",
      "Epoch 29/100\n",
      "1633/1633 [==============================] - 3s 2ms/step - loss: 0.3458\n",
      "Epoch 30/100\n",
      "1633/1633 [==============================] - 3s 2ms/step - loss: 0.3085\n",
      "Epoch 31/100\n",
      "1633/1633 [==============================] - 3s 2ms/step - loss: 0.2331\n",
      "Epoch 32/100\n",
      "1633/1633 [==============================] - 3s 2ms/step - loss: 0.2367\n",
      "Epoch 33/100\n",
      "1633/1633 [==============================] - 3s 2ms/step - loss: 0.2383\n",
      "Epoch 34/100\n",
      "1633/1633 [==============================] - 3s 2ms/step - loss: 0.2332\n",
      "Epoch 35/100\n",
      "1633/1633 [==============================] - 3s 2ms/step - loss: 0.2654\n",
      "Epoch 36/100\n",
      "1633/1633 [==============================] - 3s 2ms/step - loss: 0.2382\n",
      "Epoch 37/100\n",
      "1633/1633 [==============================] - 3s 2ms/step - loss: 0.2332\n",
      "Epoch 38/100\n",
      "1633/1633 [==============================] - 3s 2ms/step - loss: 0.2368\n",
      "Epoch 39/100\n",
      "1633/1633 [==============================] - 3s 2ms/step - loss: 0.2333\n",
      "Epoch 40/100\n",
      "1633/1633 [==============================] - 3s 2ms/step - loss: 1.6062\n",
      "Epoch 41/100\n",
      "1633/1633 [==============================] - 3s 2ms/step - loss: 0.2403\n",
      "Epoch 42/100\n",
      "1633/1633 [==============================] - 3s 2ms/step - loss: 18.4737\n",
      "Epoch 43/100\n",
      "1633/1633 [==============================] - 3s 2ms/step - loss: 4.7779\n",
      "Epoch 44/100\n",
      "1633/1633 [==============================] - 3s 2ms/step - loss: 0.8734\n",
      "Epoch 45/100\n",
      "1633/1633 [==============================] - 3s 2ms/step - loss: 1.7719\n",
      "Epoch 46/100\n",
      "1633/1633 [==============================] - 3s 2ms/step - loss: 0.2451\n",
      "Epoch 47/100\n",
      "1633/1633 [==============================] - 3s 2ms/step - loss: 0.2755\n",
      "Epoch 48/100\n",
      "1633/1633 [==============================] - 3s 2ms/step - loss: 0.2429\n",
      "Epoch 49/100\n",
      "1633/1633 [==============================] - 3s 2ms/step - loss: 0.2554\n",
      "Epoch 50/100\n",
      "1633/1633 [==============================] - 3s 2ms/step - loss: 0.2335\n",
      "Epoch 51/100\n",
      "1633/1633 [==============================] - 3s 2ms/step - loss: 0.2331\n",
      "Epoch 52/100\n",
      "1633/1633 [==============================] - 3s 2ms/step - loss: 0.2904\n",
      "Epoch 53/100\n",
      "1633/1633 [==============================] - 3s 2ms/step - loss: 0.2332\n",
      "Epoch 54/100\n",
      "1633/1633 [==============================] - 3s 2ms/step - loss: 0.2421\n",
      "Epoch 55/100\n",
      "1633/1633 [==============================] - 3s 2ms/step - loss: 0.2333\n",
      "Epoch 56/100\n",
      "1633/1633 [==============================] - 3s 2ms/step - loss: 0.2948\n",
      "Epoch 57/100\n",
      "1633/1633 [==============================] - 3s 2ms/step - loss: 0.2746\n",
      "Epoch 58/100\n",
      "1633/1633 [==============================] - 3s 2ms/step - loss: 0.2660\n",
      "Epoch 59/100\n",
      "1633/1633 [==============================] - 3s 2ms/step - loss: 0.2393\n",
      "Epoch 60/100\n",
      "1633/1633 [==============================] - 3s 2ms/step - loss: 0.2333\n",
      "Epoch 61/100\n",
      "1633/1633 [==============================] - 3s 2ms/step - loss: 0.2333\n",
      "Epoch 62/100\n",
      "1633/1633 [==============================] - 3s 2ms/step - loss: 0.2333\n",
      "Epoch 63/100\n",
      "1633/1633 [==============================] - 3s 2ms/step - loss: 0.2333\n",
      "Epoch 64/100\n",
      "1633/1633 [==============================] - 3s 2ms/step - loss: 0.2332\n",
      "Epoch 65/100\n",
      "1633/1633 [==============================] - 3s 2ms/step - loss: 0.2332\n",
      "Epoch 66/100\n",
      "1633/1633 [==============================] - 3s 2ms/step - loss: 0.2488\n",
      "Epoch 67/100\n",
      "1633/1633 [==============================] - 3s 2ms/step - loss: 0.2934\n",
      "Epoch 68/100\n",
      "1633/1633 [==============================] - 3s 2ms/step - loss: 0.2339\n",
      "Epoch 69/100\n",
      "1633/1633 [==============================] - 3s 2ms/step - loss: 0.2333\n",
      "Epoch 70/100\n",
      "1633/1633 [==============================] - 3s 2ms/step - loss: 0.2340\n",
      "Epoch 71/100\n",
      "1633/1633 [==============================] - 4s 2ms/step - loss: 0.3567\n",
      "Epoch 72/100\n",
      "1633/1633 [==============================] - 3s 2ms/step - loss: 0.2422\n",
      "Epoch 73/100\n",
      "1633/1633 [==============================] - 3s 2ms/step - loss: 0.2333\n",
      "Epoch 74/100\n",
      "1633/1633 [==============================] - 3s 2ms/step - loss: 0.2703\n",
      "Epoch 75/100\n",
      "1633/1633 [==============================] - 3s 2ms/step - loss: 0.2332\n",
      "Epoch 76/100\n",
      "1633/1633 [==============================] - 4s 2ms/step - loss: 0.2332\n",
      "Epoch 77/100\n",
      "1633/1633 [==============================] - 3s 2ms/step - loss: 0.2332\n",
      "Epoch 78/100\n",
      "1633/1633 [==============================] - 3s 2ms/step - loss: 0.2518\n",
      "Epoch 79/100\n",
      "1633/1633 [==============================] - 3s 2ms/step - loss: 0.2366\n",
      "Epoch 80/100\n",
      "1633/1633 [==============================] - 3s 2ms/step - loss: 0.2572\n",
      "Epoch 81/100\n",
      "1633/1633 [==============================] - 3s 2ms/step - loss: 0.2333\n",
      "Epoch 82/100\n",
      "1633/1633 [==============================] - 3s 2ms/step - loss: 0.2333\n",
      "Epoch 83/100\n",
      "1633/1633 [==============================] - 3s 2ms/step - loss: 0.3223\n",
      "Epoch 84/100\n",
      "1633/1633 [==============================] - 3s 2ms/step - loss: 0.2334\n",
      "Epoch 85/100\n",
      "1633/1633 [==============================] - 3s 2ms/step - loss: 0.2334\n",
      "Epoch 86/100\n",
      "1633/1633 [==============================] - 3s 2ms/step - loss: 0.2334\n",
      "Epoch 87/100\n",
      "1633/1633 [==============================] - 3s 2ms/step - loss: 36.5756\n",
      "Epoch 88/100\n",
      "1633/1633 [==============================] - 3s 2ms/step - loss: 0.2342\n",
      "Epoch 89/100\n",
      "1633/1633 [==============================] - 3s 2ms/step - loss: 0.2334\n",
      "Epoch 90/100\n",
      "1633/1633 [==============================] - 3s 2ms/step - loss: 0.2333\n",
      "Epoch 91/100\n",
      "1633/1633 [==============================] - 3s 2ms/step - loss: 0.2339\n",
      "Epoch 92/100\n",
      "1633/1633 [==============================] - 3s 2ms/step - loss: 0.2333\n",
      "Epoch 93/100\n",
      "1633/1633 [==============================] - 3s 2ms/step - loss: 0.2415\n",
      "Epoch 94/100\n",
      "1633/1633 [==============================] - 3s 2ms/step - loss: 0.2333\n",
      "Epoch 95/100\n",
      "1633/1633 [==============================] - 3s 2ms/step - loss: 0.2333\n",
      "Epoch 96/100\n",
      "1633/1633 [==============================] - 3s 2ms/step - loss: 0.2333\n",
      "Epoch 97/100\n",
      "1633/1633 [==============================] - 3s 2ms/step - loss: 0.2333\n",
      "Epoch 98/100\n",
      "1633/1633 [==============================] - 3s 2ms/step - loss: 0.2333\n",
      "Epoch 99/100\n",
      "1633/1633 [==============================] - 3s 2ms/step - loss: 0.2333\n",
      "Epoch 100/100\n",
      "1633/1633 [==============================] - 3s 2ms/step - loss: 0.2339\n"
     ]
    },
    {
     "data": {
      "text/plain": [
       "<keras.callbacks.History at 0x7f9407b39c10>"
      ]
     },
     "execution_count": 183,
     "metadata": {},
     "output_type": "execute_result"
    }
   ],
   "source": [
    "lstm.fit(X_train, Y_train, epochs=100, batch_size=10, verbose=1, shuffle=False)"
   ]
  },
  {
   "cell_type": "markdown",
   "id": "91eedd77",
   "metadata": {},
   "source": [
    "loading testing set"
   ]
  },
  {
   "cell_type": "code",
   "execution_count": 199,
   "id": "06679452",
   "metadata": {},
   "outputs": [
    {
     "name": "stderr",
     "output_type": "stream",
     "text": [
      "[nltk_data] Downloading package stopwords to\n",
      "[nltk_data]     /Users/yanzhangzhu/nltk_data...\n",
      "[nltk_data]   Package stopwords is already up-to-date!\n"
     ]
    }
   ],
   "source": [
    "from nltk.corpus import stopwords\n",
    "import nltk\n",
    "from tensorflow.keras.preprocessing.text import Tokenizer\n",
    "import pandas as pd\n",
    "import numpy as np\n",
    "\n",
    "objects = []\n",
    "file_name = \"audioDataTestLabels.pickle\"\n",
    "\n",
    "with (open(file_name, \"rb\")) as f:\n",
    "    while True:\n",
    "        try:\n",
    "            objects.append(pickle.load(f))\n",
    "        except EOFError:\n",
    "            break\n",
    "f.close()\n",
    "\n",
    "data_test =[]\n",
    "for i in range(1, len(objects)):\n",
    "    #add text\n",
    "    temp = objects[i][1].split('\\n')\n",
    "    text_obj = temp[0][6:]\n",
    "    \n",
    "    #add sentiment\n",
    "    sentiment = []\n",
    "    sentiment.append(objects[i][2])\n",
    "    sentiment.append(objects[i][3])\n",
    "    sentiment.append(objects[i][4])\n",
    "    sentiment.append(objects[i][5])\n",
    "    sentiment.append(objects[i][6])\n",
    "    sentiment.append(objects[i][7])\n",
    "    row = [text_obj, np.array(sentiment)]\n",
    "    data_test.append(row)\n",
    "\n",
    "df_test = pd.DataFrame(data_test, columns = ['text', 'sentiment'])\n",
    "df_test.head()\n",
    "\n",
    "nltk.download('stopwords')\n",
    "stop = stopwords.words('english')\n",
    "\n",
    "def remove_punctuation(text):\n",
    "    import string\n",
    "    translator = str.maketrans('', '', string.punctuation)\n",
    "    return text.translate(translator)\n",
    "\n",
    "def remove_stopwords(text):\n",
    "    sw = stopwords.words('english')\n",
    "    text = [word.lower() for word in text.split() if word.lower() not in sw]\n",
    "    return \" \".join(text)\n",
    "\n",
    "df_test['text'] = df_test['text'].apply(remove_punctuation).apply(remove_stopwords)\n",
    "\n",
    "tokenizer = Tokenizer(num_words = 8000, filters = '!\"#$%&()*+,-./:;<=>?@[\\\\]^`{|}~\\t\\n')\n",
    "tokenizer.fit_on_texts(df_test['text'])\n",
    "X_test = tokenizer.texts_to_sequences(df_test['text'].values)\n",
    "Y_test = df_test['sentiment'].values\n",
    "\n",
    "X_test = pad_sequences(X_test)\n",
    "Y_test = pad_sequences(Y_test)\n",
    "\n",
    "X_test = X_test.reshape(X_test.shape[0], 1, X_test.shape[1])\n",
    "\n",
    "y_pred= lstm.predict(X_test)\n"
   ]
  },
  {
   "cell_type": "code",
   "execution_count": 202,
   "id": "9c74deb4",
   "metadata": {},
   "outputs": [],
   "source": [
    "y_pred= lstm.predict(X_test)"
   ]
  },
  {
   "cell_type": "code",
   "execution_count": 203,
   "id": "05f93899",
   "metadata": {},
   "outputs": [
    {
     "data": {
      "text/plain": [
       "(4662, 1, 9)"
      ]
     },
     "execution_count": 203,
     "metadata": {},
     "output_type": "execute_result"
    }
   ],
   "source": [
    "X_test.shape"
   ]
  },
  {
   "cell_type": "code",
   "execution_count": 204,
   "id": "50133567",
   "metadata": {},
   "outputs": [
    {
     "name": "stdout",
     "output_type": "stream",
     "text": [
      "y1 MSE:0.8382\n",
      "y2 MSE:0.2920\n"
     ]
    },
    {
     "data": {
      "image/png": "[encoded data removed]",
      "text/plain": [
       "<Figure size 432x288 with 1 Axes>"
      ]
     },
     "metadata": {
      "needs_background": "light"
     },
     "output_type": "display_data"
    }
   ],
   "source": [
    "from sklearn.metrics import mean_squared_error\n",
    "print(\"y1 MSE:%.4f\" % mean_squared_error(Y_test[:,0], y_pred[:,0]))\n",
    "print(\"y2 MSE:%.4f\" % mean_squared_error(Y_test[:,1], y_pred[:,1])) \n",
    "\n",
    "x_ax = range(len(X_test))\n",
    "plt.title(\"LSTM multi-output prediction\")\n",
    "plt.scatter(x_ax,Y_test[:,0],  s=6, label=\"y1-test\")\n",
    "plt.plot(x_ax, y_pred[:,0], label=\"y1-pred\")\n",
    "plt.scatter(x_ax, Y_test[:,1],  s=6, label=\"y2-test\")\n",
    "plt.plot(x_ax, y_pred[:,1], label=\"y2-pred\")\n",
    "plt.legend()\n",
    "plt.show()"
   ]
  },
  {
   "cell_type": "code",
   "execution_count": null,
   "id": "f5b547da",
   "metadata": {},
   "outputs": [],
   "source": []
  }
 ],
 "metadata": {
  "kernelspec": {
   "display_name": "Python 3 (ipykernel)",
   "language": "python",
   "name": "python3"
  },
  "language_info": {
   "codemirror_mode": {
    "name": "ipython",
    "version": 3
   },
   "file_extension": ".py",
   "mimetype": "text/x-python",
   "name": "python",
   "nbconvert_exporter": "python",
   "pygments_lexer": "ipython3",
   "version": "3.9.7"
  }
 },
 "nbformat": 4,
 "nbformat_minor": 5
}
