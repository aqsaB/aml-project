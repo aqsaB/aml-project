{
 "cells": [
  {
   "cell_type": "code",
   "execution_count": 1,
   "metadata": {
    "id": "CKiPaeMP2Qb7"
   },
   "outputs": [
    {
     "name": "stderr",
     "output_type": "stream",
     "text": [
      "[nltk_data] Downloading package stopwords to\n",
      "[nltk_data]     C:\\Users\\User\\AppData\\Roaming\\nltk_data...\n",
      "[nltk_data]   Package stopwords is already up-to-date!\n"
     ]
    },
    {
     "name": "stdout",
     "output_type": "stream",
     "text": [
      "Tensorflow version: 2.8.0\n",
      "Keras Version: 2.8.0\n",
      "GPU is available\n"
     ]
    }
   ],
   "source": [
    "import os\n",
    "import pandas as pd\n",
    "import numpy as np\n",
    "from numpy import mean\n",
    "from numpy import std\n",
    "import pickle\n",
    "import tensorflow as tf\n",
    "from matplotlib.image import imread\n",
    "import matplotlib.pyplot as pl\n",
    "from tensorflow.keras.optimizers import *\n",
    "from tensorflow.keras.preprocessing.text import Tokenizer\n",
    "from tensorflow import keras\n",
    "from sklearn.datasets import make_multilabel_classification\n",
    "from sklearn.model_selection import RepeatedKFold\n",
    "from keras.models import Sequential\n",
    "from keras.layers import LSTM, Dense, Dropout, Activation, Conv1D, MaxPooling1D, Flatten, Lambda\n",
    "from keras.preprocessing.sequence import pad_sequences\n",
    "import keras_tuner as kt\n",
    "from keras_tuner import RandomSearch\n",
    "from keras_tuner.engine.hyperparameters import HyperParameters\n",
    "from sklearn.metrics import accuracy_score\n",
    "from sklearn.model_selection import train_test_split\n",
    "from sklearn.preprocessing import StandardScaler\n",
    "from sklearn.svm import SVC\n",
    "from sklearn.metrics import confusion_matrix\n",
    "from sklearn.metrics import precision_score, recall_score, f1_score, accuracy_score\n",
    "from nltk.corpus import stopwords\n",
    "import nltk\n",
    "nltk.download('stopwords')\n",
    "stop = stopwords.words('english')\n",
    "tokenizer = Tokenizer(num_words = 8000, filters = '!\"#$%&()*+,-./:;<=>?@[\\\\]^`{|}~\\t\\n')\n",
    "print(f\"Tensorflow version: {tf.__version__}\")\n",
    "print(f\"Keras Version: {tf.keras.__version__}\")\n",
    "\n",
    "print(\"GPU is\", \"available\" if tf.config.list_physical_devices('GPU') else \"NOT AVAILABLE\")"
   ]
  },
  {
   "cell_type": "code",
   "execution_count": 2,
   "metadata": {},
   "outputs": [],
   "source": [
    "try:\n",
    "    # Disable all GPUS\n",
    "    tf.config.set_visible_devices([], 'GPU')\n",
    "    visible_devices = tf.config.get_visible_devices()\n",
    "    for device in visible_devices:\n",
    "        assert device.device_type != 'GPU'\n",
    "except:\n",
    "    # Invalid device or cannot modify virtual devices once initialized.\n",
    "    pass\n"
   ]
  },
  {
   "cell_type": "code",
   "execution_count": 3,
   "metadata": {},
   "outputs": [],
   "source": [
    "data_dev = []\n",
    "data_test = []\n",
    "data_train = []\n",
    "file_name_dev = \"audioDataDev.pickle\"\n",
    "file_name_test = \"audioDataTest.pickle\"\n",
    "file_name_train = \"audioDataTrain.pickle\"\n",
    "\n",
    "with (open(file_name_dev, \"rb\")) as f:\n",
    "    while True:\n",
    "        try:\n",
    "            data_dev.append(pickle.load(f))\n",
    "        except EOFError:\n",
    "            break\n",
    "f.close()\n",
    "\n",
    "with (open(file_name_test, \"rb\")) as f:\n",
    "    while True:\n",
    "        try:\n",
    "            data_test.append(pickle.load(f))\n",
    "        except EOFError:\n",
    "            break\n",
    "f.close()\n",
    "\n",
    "with (open(file_name_train, \"rb\")) as f:\n",
    "    while True:\n",
    "        try:\n",
    "            data_train.append(pickle.load(f))\n",
    "        except EOFError:\n",
    "            break\n",
    "f.close()"
   ]
  },
  {
   "cell_type": "code",
   "execution_count": 4,
   "metadata": {},
   "outputs": [
    {
     "data": {
      "text/plain": [
       "'0    Hi expo\\nName: 4, dtype: object'"
      ]
     },
     "execution_count": 4,
     "metadata": {},
     "output_type": "execute_result"
    }
   ],
   "source": [
    "data_test[1][4]"
   ]
  },
  {
   "cell_type": "code",
   "execution_count": null,
   "metadata": {
    "colab": {
     "base_uri": "https://localhost:8080/",
     "height": 393
    },
    "id": "sdOkQA7J2ngD",
    "outputId": "4d381379-031a-418e-bd12-68057336c64c"
   },
   "outputs": [],
   "source": [
    "X_dev = []\n",
    "X_dev_text = []\n",
    "y_dev = []\n",
    "X_train = []\n",
    "X_train_text = []\n",
    "y_train = []\n",
    "X_test = []\n",
    "X_test_text = []\n",
    "y_test = []\n",
    "\n",
    "for i in range(len(data_dev)-1):\n",
    "    X_dev.append(data_dev[i+1][3])\n",
    "for i in range(len(data_dev)-1):\n",
    "    X_dev_text.append(data_dev[i+1][4])\n",
    "for i in range(len(data_dev)-1):\n",
    "    y_dev.append(data_dev[i+1][6:12])\n",
    "    \n",
    "for i in range(len(data_test)-1):\n",
    "    X_test.append(data_test[i+1][3])\n",
    "for i in range(len(data_test)-1):\n",
    "    X_test_text.append(data_test[i+1][4])\n",
    "for i in range(len(data_test)-1):\n",
    "    y_test.append(data_test[i+1][6:12])\n",
    "    \n",
    "for i in range(len(data_train)-1):\n",
    "    X_train.append(data_train[i+1][3])\n",
    "for i in range(len(data_train)-1):\n",
    "    X_train_text.append(data_train[i+1][4])\n",
    "for i in range(len(data_train)-1):\n",
    "    y_train.append(data_train[i+1][6:12])\n",
    "\n",
    "X_dev = np.array(X_dev)\n",
    "X_dev_text = np.array(X_dev_text)\n",
    "y_dev = np.where(np.array(y_dev)> 0.5, 1, 0)\n",
    "X_test = np.array(X_test)\n",
    "X_test_text = np.array(X_test_text)\n",
    "y_test = np.where(np.array(y_test) > 0.5, 1, 0)\n",
    "X_train = np.array(X_train)\n",
    "X_train_text = np.array(X_train_text)\n",
    "y_train = np.where(np.array(y_train) > 0.5, 1, 0)\n"
   ]
  },
  {
   "cell_type": "code",
   "execution_count": null,
   "metadata": {},
   "outputs": [],
   "source": [
    "y_dev"
   ]
  },
  {
   "cell_type": "code",
   "execution_count": null,
   "metadata": {},
   "outputs": [],
   "source": [
    "def sent(X, y):\n",
    "    data = []\n",
    "    for i in range(1, len(X)):\n",
    "        #add text\n",
    "        temp = X[i].split('\\n')\n",
    "        text_obj = temp[0][6:]\n",
    "\n",
    "        row = [text_obj, np.array(y[i])]\n",
    "        data.append(row)\n",
    "\n",
    "    df = pd.DataFrame(data, columns = ['text', 'sentiment'])\n",
    "    return df\n",
    "\n",
    "def remove_punctuation(text):\n",
    "    import string\n",
    "    translator = str.maketrans('', '', string.punctuation)\n",
    "    return text.translate(translator)\n",
    "\n",
    "def remove_stopwords(text):\n",
    "    sw = stopwords.words('english')\n",
    "    text = [word.lower() for word in text.split() if word.lower() not in sw]\n",
    "    return \" \".join(text)\n",
    "\n",
    "def sequences(dframe):\n",
    "    tokenizer = Tokenizer(num_words = 8000, filters = '!\"#$%&()*+,-./:;<=>?@[\\\\]^`{|}~\\t\\n')\n",
    "    tokenizer.fit_on_texts(dframe['text'])\n",
    "    X = tokenizer.texts_to_sequences(dframe['text'].values)\n",
    "    y = dframe['sentiment'].values\n",
    "    return X,y\n"
   ]
  },
  {
   "cell_type": "code",
   "execution_count": null,
   "metadata": {},
   "outputs": [],
   "source": [
    "dev_df = sent(X_dev_text, y_dev)\n",
    "dev_df['text'] = dev_df['text'].apply(remove_punctuation).apply(remove_stopwords)\n",
    "dev = sequences(dev_df)\n",
    "\n",
    "test_df = sent(X_test_text, y_test)\n",
    "test_df['text'] = test_df['text'].apply(remove_punctuation).apply(remove_stopwords)\n",
    "test = sequences(test_df)\n",
    "\n",
    "train_df = sent(X_train_text, y_train)\n",
    "train_df['text'] = train_df['text'].apply(remove_punctuation).apply(remove_stopwords)\n",
    "train = sequences(train_df)"
   ]
  },
  {
   "cell_type": "code",
   "execution_count": null,
   "metadata": {},
   "outputs": [
    {
     "ename": "ValueError",
     "evalue": "zero-size array to reduction operation maximum which has no identity",
     "output_type": "error",
     "traceback": [
      "\u001b[1;31m---------------------------------------------------------------------------\u001b[0m",
      "\u001b[1;31mValueError\u001b[0m                                Traceback (most recent call last)",
      "Input \u001b[1;32mIn [292]\u001b[0m, in \u001b[0;36m<cell line: 1>\u001b[1;34m()\u001b[0m\n\u001b[1;32m----> 1\u001b[0m X_dev_text \u001b[38;5;241m=\u001b[39m \u001b[43mpad_sequences\u001b[49m\u001b[43m(\u001b[49m\u001b[43mdev\u001b[49m\u001b[43m[\u001b[49m\u001b[38;5;241;43m0\u001b[39;49m\u001b[43m]\u001b[49m\u001b[43m)\u001b[49m\n\u001b[0;32m      2\u001b[0m y_dev_text \u001b[38;5;241m=\u001b[39m pad_sequences(dev[\u001b[38;5;241m1\u001b[39m])\n\u001b[0;32m      3\u001b[0m X_test_text \u001b[38;5;241m=\u001b[39m pad_sequences(test[\u001b[38;5;241m0\u001b[39m])\n",
      "File \u001b[1;32mD:\\User\\Documents\\conda\\envs\\amlproj\\lib\\site-packages\\keras\\preprocessing\\sequence.py:152\u001b[0m, in \u001b[0;36mpad_sequences\u001b[1;34m(sequences, maxlen, dtype, padding, truncating, value)\u001b[0m\n\u001b[0;32m     88\u001b[0m \u001b[38;5;129m@keras_export\u001b[39m(\u001b[38;5;124m'\u001b[39m\u001b[38;5;124mkeras.preprocessing.sequence.pad_sequences\u001b[39m\u001b[38;5;124m'\u001b[39m)\n\u001b[0;32m     89\u001b[0m \u001b[38;5;28;01mdef\u001b[39;00m \u001b[38;5;21mpad_sequences\u001b[39m(sequences, maxlen\u001b[38;5;241m=\u001b[39m\u001b[38;5;28;01mNone\u001b[39;00m, dtype\u001b[38;5;241m=\u001b[39m\u001b[38;5;124m'\u001b[39m\u001b[38;5;124mint32\u001b[39m\u001b[38;5;124m'\u001b[39m,\n\u001b[0;32m     90\u001b[0m                   padding\u001b[38;5;241m=\u001b[39m\u001b[38;5;124m'\u001b[39m\u001b[38;5;124mpre\u001b[39m\u001b[38;5;124m'\u001b[39m, truncating\u001b[38;5;241m=\u001b[39m\u001b[38;5;124m'\u001b[39m\u001b[38;5;124mpre\u001b[39m\u001b[38;5;124m'\u001b[39m, value\u001b[38;5;241m=\u001b[39m\u001b[38;5;241m0.\u001b[39m):\n\u001b[0;32m     91\u001b[0m   \u001b[38;5;124;03m\"\"\"Pads sequences to the same length.\u001b[39;00m\n\u001b[0;32m     92\u001b[0m \n\u001b[0;32m     93\u001b[0m \u001b[38;5;124;03m  This function transforms a list (of length `num_samples`)\u001b[39;00m\n\u001b[1;32m   (...)\u001b[0m\n\u001b[0;32m    150\u001b[0m \u001b[38;5;124;03m          or in case of invalid shape for a `sequences` entry.\u001b[39;00m\n\u001b[0;32m    151\u001b[0m \u001b[38;5;124;03m  \"\"\"\u001b[39;00m\n\u001b[1;32m--> 152\u001b[0m   \u001b[38;5;28;01mreturn\u001b[39;00m \u001b[43msequence\u001b[49m\u001b[38;5;241;43m.\u001b[39;49m\u001b[43mpad_sequences\u001b[49m\u001b[43m(\u001b[49m\n\u001b[0;32m    153\u001b[0m \u001b[43m      \u001b[49m\u001b[43msequences\u001b[49m\u001b[43m,\u001b[49m\u001b[43m \u001b[49m\u001b[43mmaxlen\u001b[49m\u001b[38;5;241;43m=\u001b[39;49m\u001b[43mmaxlen\u001b[49m\u001b[43m,\u001b[49m\u001b[43m \u001b[49m\u001b[43mdtype\u001b[49m\u001b[38;5;241;43m=\u001b[39;49m\u001b[43mdtype\u001b[49m\u001b[43m,\u001b[49m\n\u001b[0;32m    154\u001b[0m \u001b[43m      \u001b[49m\u001b[43mpadding\u001b[49m\u001b[38;5;241;43m=\u001b[39;49m\u001b[43mpadding\u001b[49m\u001b[43m,\u001b[49m\u001b[43m \u001b[49m\u001b[43mtruncating\u001b[49m\u001b[38;5;241;43m=\u001b[39;49m\u001b[43mtruncating\u001b[49m\u001b[43m,\u001b[49m\u001b[43m \u001b[49m\u001b[43mvalue\u001b[49m\u001b[38;5;241;43m=\u001b[39;49m\u001b[43mvalue\u001b[49m\u001b[43m)\u001b[49m\n",
      "File \u001b[1;32mD:\\User\\Documents\\conda\\envs\\amlproj\\lib\\site-packages\\keras_preprocessing\\sequence.py:77\u001b[0m, in \u001b[0;36mpad_sequences\u001b[1;34m(sequences, maxlen, dtype, padding, truncating, value)\u001b[0m\n\u001b[0;32m     73\u001b[0m         \u001b[38;5;28;01mraise\u001b[39;00m \u001b[38;5;167;01mValueError\u001b[39;00m(\u001b[38;5;124m'\u001b[39m\u001b[38;5;124m`sequences` must be a list of iterables. \u001b[39m\u001b[38;5;124m'\u001b[39m\n\u001b[0;32m     74\u001b[0m                          \u001b[38;5;124m'\u001b[39m\u001b[38;5;124mFound non-iterable: \u001b[39m\u001b[38;5;124m'\u001b[39m \u001b[38;5;241m+\u001b[39m \u001b[38;5;28mstr\u001b[39m(x))\n\u001b[0;32m     76\u001b[0m \u001b[38;5;28;01mif\u001b[39;00m maxlen \u001b[38;5;129;01mis\u001b[39;00m \u001b[38;5;28;01mNone\u001b[39;00m:\n\u001b[1;32m---> 77\u001b[0m     maxlen \u001b[38;5;241m=\u001b[39m \u001b[43mnp\u001b[49m\u001b[38;5;241;43m.\u001b[39;49m\u001b[43mmax\u001b[49m\u001b[43m(\u001b[49m\u001b[43mlengths\u001b[49m\u001b[43m)\u001b[49m\n\u001b[0;32m     79\u001b[0m is_dtype_str \u001b[38;5;241m=\u001b[39m np\u001b[38;5;241m.\u001b[39missubdtype(dtype, np\u001b[38;5;241m.\u001b[39mstr_) \u001b[38;5;129;01mor\u001b[39;00m np\u001b[38;5;241m.\u001b[39missubdtype(dtype, np\u001b[38;5;241m.\u001b[39municode_)\n\u001b[0;32m     80\u001b[0m \u001b[38;5;28;01mif\u001b[39;00m \u001b[38;5;28misinstance\u001b[39m(value, six\u001b[38;5;241m.\u001b[39mstring_types) \u001b[38;5;129;01mand\u001b[39;00m dtype \u001b[38;5;241m!=\u001b[39m \u001b[38;5;28mobject\u001b[39m \u001b[38;5;129;01mand\u001b[39;00m \u001b[38;5;129;01mnot\u001b[39;00m is_dtype_str:\n",
      "File \u001b[1;32m<__array_function__ internals>:5\u001b[0m, in \u001b[0;36mamax\u001b[1;34m(*args, **kwargs)\u001b[0m\n",
      "File \u001b[1;32mD:\\User\\Documents\\conda\\envs\\amlproj\\lib\\site-packages\\numpy\\core\\fromnumeric.py:2754\u001b[0m, in \u001b[0;36mamax\u001b[1;34m(a, axis, out, keepdims, initial, where)\u001b[0m\n\u001b[0;32m   2638\u001b[0m \u001b[38;5;129m@array_function_dispatch\u001b[39m(_amax_dispatcher)\n\u001b[0;32m   2639\u001b[0m \u001b[38;5;28;01mdef\u001b[39;00m \u001b[38;5;21mamax\u001b[39m(a, axis\u001b[38;5;241m=\u001b[39m\u001b[38;5;28;01mNone\u001b[39;00m, out\u001b[38;5;241m=\u001b[39m\u001b[38;5;28;01mNone\u001b[39;00m, keepdims\u001b[38;5;241m=\u001b[39mnp\u001b[38;5;241m.\u001b[39m_NoValue, initial\u001b[38;5;241m=\u001b[39mnp\u001b[38;5;241m.\u001b[39m_NoValue,\n\u001b[0;32m   2640\u001b[0m          where\u001b[38;5;241m=\u001b[39mnp\u001b[38;5;241m.\u001b[39m_NoValue):\n\u001b[0;32m   2641\u001b[0m     \u001b[38;5;124;03m\"\"\"\u001b[39;00m\n\u001b[0;32m   2642\u001b[0m \u001b[38;5;124;03m    Return the maximum of an array or maximum along an axis.\u001b[39;00m\n\u001b[0;32m   2643\u001b[0m \n\u001b[1;32m   (...)\u001b[0m\n\u001b[0;32m   2752\u001b[0m \u001b[38;5;124;03m    5\u001b[39;00m\n\u001b[0;32m   2753\u001b[0m \u001b[38;5;124;03m    \"\"\"\u001b[39;00m\n\u001b[1;32m-> 2754\u001b[0m     \u001b[38;5;28;01mreturn\u001b[39;00m \u001b[43m_wrapreduction\u001b[49m\u001b[43m(\u001b[49m\u001b[43ma\u001b[49m\u001b[43m,\u001b[49m\u001b[43m \u001b[49m\u001b[43mnp\u001b[49m\u001b[38;5;241;43m.\u001b[39;49m\u001b[43mmaximum\u001b[49m\u001b[43m,\u001b[49m\u001b[43m \u001b[49m\u001b[38;5;124;43m'\u001b[39;49m\u001b[38;5;124;43mmax\u001b[39;49m\u001b[38;5;124;43m'\u001b[39;49m\u001b[43m,\u001b[49m\u001b[43m \u001b[49m\u001b[43maxis\u001b[49m\u001b[43m,\u001b[49m\u001b[43m \u001b[49m\u001b[38;5;28;43;01mNone\u001b[39;49;00m\u001b[43m,\u001b[49m\u001b[43m \u001b[49m\u001b[43mout\u001b[49m\u001b[43m,\u001b[49m\n\u001b[0;32m   2755\u001b[0m \u001b[43m                          \u001b[49m\u001b[43mkeepdims\u001b[49m\u001b[38;5;241;43m=\u001b[39;49m\u001b[43mkeepdims\u001b[49m\u001b[43m,\u001b[49m\u001b[43m \u001b[49m\u001b[43minitial\u001b[49m\u001b[38;5;241;43m=\u001b[39;49m\u001b[43minitial\u001b[49m\u001b[43m,\u001b[49m\u001b[43m \u001b[49m\u001b[43mwhere\u001b[49m\u001b[38;5;241;43m=\u001b[39;49m\u001b[43mwhere\u001b[49m\u001b[43m)\u001b[49m\n",
      "File \u001b[1;32mD:\\User\\Documents\\conda\\envs\\amlproj\\lib\\site-packages\\numpy\\core\\fromnumeric.py:86\u001b[0m, in \u001b[0;36m_wrapreduction\u001b[1;34m(obj, ufunc, method, axis, dtype, out, **kwargs)\u001b[0m\n\u001b[0;32m     83\u001b[0m         \u001b[38;5;28;01melse\u001b[39;00m:\n\u001b[0;32m     84\u001b[0m             \u001b[38;5;28;01mreturn\u001b[39;00m reduction(axis\u001b[38;5;241m=\u001b[39maxis, out\u001b[38;5;241m=\u001b[39mout, \u001b[38;5;241m*\u001b[39m\u001b[38;5;241m*\u001b[39mpasskwargs)\n\u001b[1;32m---> 86\u001b[0m \u001b[38;5;28;01mreturn\u001b[39;00m \u001b[43mufunc\u001b[49m\u001b[38;5;241;43m.\u001b[39;49m\u001b[43mreduce\u001b[49m\u001b[43m(\u001b[49m\u001b[43mobj\u001b[49m\u001b[43m,\u001b[49m\u001b[43m \u001b[49m\u001b[43maxis\u001b[49m\u001b[43m,\u001b[49m\u001b[43m \u001b[49m\u001b[43mdtype\u001b[49m\u001b[43m,\u001b[49m\u001b[43m \u001b[49m\u001b[43mout\u001b[49m\u001b[43m,\u001b[49m\u001b[43m \u001b[49m\u001b[38;5;241;43m*\u001b[39;49m\u001b[38;5;241;43m*\u001b[39;49m\u001b[43mpasskwargs\u001b[49m\u001b[43m)\u001b[49m\n",
      "\u001b[1;31mValueError\u001b[0m: zero-size array to reduction operation maximum which has no identity"
     ]
    }
   ],
   "source": [
    "X_dev_text = pad_sequences(dev[0])\n",
    "y_dev_text = pad_sequences(dev[1])\n",
    "X_test_text = pad_sequences(test[0])\n",
    "y_test_text = pad_sequences(test[1])\n",
    "X_train_text = pad_sequences(train[0])\n",
    "y_train_text = pad_sequences(train[1])"
   ]
  },
  {
   "cell_type": "code",
   "execution_count": 137,
   "metadata": {},
   "outputs": [],
   "source": [
    "X_train_text = X_train_text.reshape(X_train_text.shape[0], 1, X_train_text.shape[1])\n",
    "X_test_text = X_test_text.reshape(X_test_text.shape[0], 1, X_test_text.shape[1])\n",
    "X_dev_text = X_dev_text.reshape(X_dev_text.shape[0], 1, X_dev_text.shape[1])"
   ]
  },
  {
   "cell_type": "code",
   "execution_count": 173,
   "metadata": {
    "colab": {
     "base_uri": "https://localhost:8080/"
    },
    "id": "jWyL453O3hXf",
    "outputId": "69777b0a-fcc9-4401-875c-2be39e6c4024"
   },
   "outputs": [
    {
     "name": "stdout",
     "output_type": "stream",
     "text": [
      "Epoch 1/30\n",
      "1633/1633 [==============================] - 26s 15ms/step - loss: 0.6083 - auc: 0.6489 - binary_accuracy: 0.7521 - val_loss: 0.5109 - val_auc: 0.7039 - val_binary_accuracy: 0.7890\n",
      "Epoch 2/30\n",
      "1633/1633 [==============================] - 22s 13ms/step - loss: 0.4990 - auc: 0.6991 - binary_accuracy: 0.7804 - val_loss: 0.5015 - val_auc: 0.7225 - val_binary_accuracy: 0.7907\n",
      "Epoch 3/30\n",
      "1633/1633 [==============================] - 21s 13ms/step - loss: 0.4872 - auc: 0.7120 - binary_accuracy: 0.7831 - val_loss: 0.5014 - val_auc: 0.7241 - val_binary_accuracy: 0.7905\n",
      "Epoch 4/30\n",
      "1633/1633 [==============================] - 21s 13ms/step - loss: 0.4788 - auc: 0.7250 - binary_accuracy: 0.7861 - val_loss: 0.4895 - val_auc: 0.7269 - val_binary_accuracy: 0.7932\n",
      "Epoch 5/30\n",
      "1633/1633 [==============================] - 21s 13ms/step - loss: 0.4749 - auc: 0.7321 - binary_accuracy: 0.7891 - val_loss: 0.4979 - val_auc: 0.7300 - val_binary_accuracy: 0.7926\n",
      "Epoch 6/30\n",
      "1633/1633 [==============================] - 21s 13ms/step - loss: 0.4722 - auc: 0.7372 - binary_accuracy: 0.7891 - val_loss: 0.4822 - val_auc: 0.7330 - val_binary_accuracy: 0.7940\n",
      "Epoch 7/30\n",
      "1633/1633 [==============================] - 21s 13ms/step - loss: 0.4693 - auc: 0.7412 - binary_accuracy: 0.7896 - val_loss: 0.4827 - val_auc: 0.7360 - val_binary_accuracy: 0.7936\n",
      "Epoch 8/30\n",
      "1633/1633 [==============================] - 22s 13ms/step - loss: 0.4660 - auc: 0.7465 - binary_accuracy: 0.7910 - val_loss: 0.4851 - val_auc: 0.7349 - val_binary_accuracy: 0.7937\n",
      "Epoch 9/30\n",
      "1633/1633 [==============================] - 22s 13ms/step - loss: 0.4648 - auc: 0.7486 - binary_accuracy: 0.7902 - val_loss: 0.4750 - val_auc: 0.7365 - val_binary_accuracy: 0.7945\n",
      "Epoch 10/30\n",
      "1633/1633 [==============================] - 23s 14ms/step - loss: 0.4630 - auc: 0.7517 - binary_accuracy: 0.7916 - val_loss: 0.4865 - val_auc: 0.7359 - val_binary_accuracy: 0.7957\n",
      "Epoch 11/30\n",
      "1633/1633 [==============================] - 23s 14ms/step - loss: 0.4613 - auc: 0.7543 - binary_accuracy: 0.7918 - val_loss: 0.4780 - val_auc: 0.7373 - val_binary_accuracy: 0.7929\n",
      "Epoch 12/30\n",
      "1633/1633 [==============================] - 21s 13ms/step - loss: 0.4597 - auc: 0.7566 - binary_accuracy: 0.7934 - val_loss: 0.4734 - val_auc: 0.7378 - val_binary_accuracy: 0.7940\n",
      "Epoch 13/30\n",
      "1633/1633 [==============================] - 22s 14ms/step - loss: 0.4577 - auc: 0.7596 - binary_accuracy: 0.7934 - val_loss: 0.4941 - val_auc: 0.7335 - val_binary_accuracy: 0.7904\n",
      "Epoch 14/30\n",
      "1633/1633 [==============================] - 23s 14ms/step - loss: 0.4554 - auc: 0.7631 - binary_accuracy: 0.7936 - val_loss: 0.4836 - val_auc: 0.7352 - val_binary_accuracy: 0.7916\n",
      "Epoch 15/30\n",
      "1633/1633 [==============================] - 23s 14ms/step - loss: 0.4543 - auc: 0.7648 - binary_accuracy: 0.7938 - val_loss: 0.4859 - val_auc: 0.7308 - val_binary_accuracy: 0.7928\n",
      "Epoch 16/30\n",
      "1633/1633 [==============================] - 23s 14ms/step - loss: 0.4524 - auc: 0.7674 - binary_accuracy: 0.7949 - val_loss: 0.4874 - val_auc: 0.7321 - val_binary_accuracy: 0.7905\n",
      "Epoch 17/30\n",
      "1633/1633 [==============================] - 23s 14ms/step - loss: 0.4505 - auc: 0.7702 - binary_accuracy: 0.7964 - val_loss: 0.4825 - val_auc: 0.7288 - val_binary_accuracy: 0.7929\n",
      "Epoch 18/30\n",
      "1633/1633 [==============================] - 23s 14ms/step - loss: 0.4489 - auc: 0.7725 - binary_accuracy: 0.7974 - val_loss: 0.4827 - val_auc: 0.7315 - val_binary_accuracy: 0.7933\n",
      "Epoch 19/30\n",
      "1633/1633 [==============================] - 22s 14ms/step - loss: 0.4473 - auc: 0.7752 - binary_accuracy: 0.7968 - val_loss: 0.4975 - val_auc: 0.7219 - val_binary_accuracy: 0.7860\n",
      "Epoch 20/30\n",
      "1633/1633 [==============================] - 22s 13ms/step - loss: 0.4454 - auc: 0.7773 - binary_accuracy: 0.7975 - val_loss: 0.4882 - val_auc: 0.7259 - val_binary_accuracy: 0.7900\n",
      "Epoch 21/30\n",
      "1633/1633 [==============================] - 22s 13ms/step - loss: 0.4447 - auc: 0.7789 - binary_accuracy: 0.7969 - val_loss: 0.4850 - val_auc: 0.7283 - val_binary_accuracy: 0.7929\n",
      "Epoch 22/30\n",
      "1633/1633 [==============================] - 22s 13ms/step - loss: 0.4438 - auc: 0.7799 - binary_accuracy: 0.7983 - val_loss: 0.4905 - val_auc: 0.7293 - val_binary_accuracy: 0.7894\n",
      "Epoch 23/30\n",
      "1633/1633 [==============================] - 24s 15ms/step - loss: 0.4413 - auc: 0.7826 - binary_accuracy: 0.7996 - val_loss: 0.4904 - val_auc: 0.7255 - val_binary_accuracy: 0.7870\n",
      "Epoch 24/30\n",
      "1633/1633 [==============================] - 22s 14ms/step - loss: 0.4399 - auc: 0.7851 - binary_accuracy: 0.7999 - val_loss: 0.4844 - val_auc: 0.7276 - val_binary_accuracy: 0.7892\n",
      "Epoch 25/30\n",
      "1633/1633 [==============================] - 23s 14ms/step - loss: 0.4396 - auc: 0.7853 - binary_accuracy: 0.8002 - val_loss: 0.4844 - val_auc: 0.7261 - val_binary_accuracy: 0.7907\n",
      "Epoch 26/30\n",
      "1633/1633 [==============================] - 24s 14ms/step - loss: 0.4384 - auc: 0.7869 - binary_accuracy: 0.8020 - val_loss: 0.4833 - val_auc: 0.7243 - val_binary_accuracy: 0.7932\n",
      "Epoch 27/30\n",
      "1633/1633 [==============================] - 23s 14ms/step - loss: 0.4353 - auc: 0.7910 - binary_accuracy: 0.8013 - val_loss: 0.4967 - val_auc: 0.7182 - val_binary_accuracy: 0.7810\n",
      "Epoch 28/30\n",
      "1633/1633 [==============================] - 23s 14ms/step - loss: 0.4341 - auc: 0.7925 - binary_accuracy: 0.8035 - val_loss: 0.4988 - val_auc: 0.7198 - val_binary_accuracy: 0.7793\n",
      "Epoch 29/30\n",
      "1633/1633 [==============================] - 26s 16ms/step - loss: 0.4338 - auc: 0.7929 - binary_accuracy: 0.8026 - val_loss: 0.4892 - val_auc: 0.7260 - val_binary_accuracy: 0.7891\n",
      "Epoch 30/30\n",
      "1633/1633 [==============================] - 23s 14ms/step - loss: 0.4310 - auc: 0.7964 - binary_accuracy: 0.8040 - val_loss: 0.4840 - val_auc: 0.7283 - val_binary_accuracy: 0.7889\n"
     ]
    },
    {
     "data": {
      "text/plain": [
       "<keras.callbacks.History at 0x25360aea970>"
      ]
     },
     "execution_count": 173,
     "metadata": {},
     "output_type": "execute_result"
    }
   ],
   "source": [
    "# get the model\n",
    "def get_model_cnn():\n",
    "    model = Sequential()\n",
    "    model.add(Conv1D(32, kernel_size=(2), activation='relu', input_shape=(128, 850)))\n",
    "    model.add(MaxPooling1D(pool_size=(2)))\n",
    "    model.add(Dropout(0.25))\n",
    "    model.add(Conv1D(filters=64, kernel_size=(5), activation='relu'))\n",
    "    model.add(MaxPooling1D(pool_size=(2)))\n",
    "    model.add(Dropout(0.25))\n",
    "    model.add(Conv1D(filters=128, kernel_size=(5), activation=\"relu\"))\n",
    "    model.add(MaxPooling1D(pool_size=(2)))\n",
    "    model.add(Dropout(0.25))\n",
    "    model.add(Flatten())\n",
    "    model.add(Dense(6, activation='sigmoid'))\n",
    "    return model\n",
    " \n",
    "# evaluate a model using repeated k-fold cross-validation\n",
    "adam = Adam(0.0001)\n",
    "model_cnn = get_model_cnn()\n",
    "model_cnn.compile(optimizer=adam,loss='binary_crossentropy',metrics=['AUC','BinaryAccuracy'])\n",
    "\n",
    "model_cnn.fit(X_train, y_train, epochs=30, validation_data=(X_dev, y_dev), batch_size=10)"
   ]
  },
  {
   "cell_type": "code",
   "execution_count": 254,
   "metadata": {},
   "outputs": [],
   "source": [
    "yhat = model_cnn_hyper.predict(X_test)"
   ]
  },
  {
   "cell_type": "code",
   "execution_count": 258,
   "metadata": {},
   "outputs": [
    {
     "name": "stdout",
     "output_type": "stream",
     "text": [
      "[7.7098936e-02 1.2738496e-02 1.2649357e-02 3.0161923e-06 7.8164041e-03\n",
      " 1.0486991e-07]\n",
      "[0 1 1 0 1 0]\n"
     ]
    }
   ],
   "source": [
    "print(yhat[2])\n",
    "print(y_test[2])"
   ]
  },
  {
   "cell_type": "code",
   "execution_count": 264,
   "metadata": {},
   "outputs": [
    {
     "name": "stdout",
     "output_type": "stream",
     "text": [
      "INFO:tensorflow:Assets written to: modelCNN_hyper\\assets\n"
     ]
    }
   ],
   "source": [
    "model_cnn_hyper.save('modelCNN_hyper')"
   ]
  },
  {
   "cell_type": "code",
   "execution_count": 259,
   "metadata": {
    "colab": {
     "base_uri": "https://localhost:8080/"
    },
    "id": "25ePb84t3qeV",
    "outputId": "5186d60f-18a4-4f68-8051-4fe4c46015d3"
   },
   "outputs": [
    {
     "name": "stdout",
     "output_type": "stream",
     "text": [
      "[1 0 0 0 0 0]\n",
      "[1 0 0 0 0 0]\n"
     ]
    }
   ],
   "source": [
    "threshold = 7e-03\n",
    "yhat = np.where(yhat > threshold, 1, 0)\n"
   ]
  },
  {
   "cell_type": "code",
   "execution_count": 261,
   "metadata": {
    "colab": {
     "base_uri": "https://localhost:8080/"
    },
    "id": "t3XB9VgN3vrx",
    "outputId": "2c59f960-c816-4082-e319-d928a74bbb51"
   },
   "outputs": [
    {
     "name": "stdout",
     "output_type": "stream",
     "text": [
      ">0.702\n"
     ]
    }
   ],
   "source": [
    "results=[]\n",
    "total = 0\n",
    "similar = 0\n",
    "for i in range(len(y_test)):\n",
    "    for j in range(len(y_test[i])):\n",
    "        if y_test[i][j] == yhat[i][j]:\n",
    "            similar += 1\n",
    "        total += 1\n",
    "acc = similar/total\n",
    "\n",
    "print('>%.3f' % acc)\n",
    "results.append(acc)"
   ]
  },
  {
   "cell_type": "code",
   "execution_count": 262,
   "metadata": {},
   "outputs": [],
   "source": [
    "y_test_f = []\n",
    "y_hat_f = []\n",
    "for i in range(len(yhat[0])):\n",
    "    y_temp_t = []\n",
    "    y_temp_h = []\n",
    "    for j in range(len(yhat)):\n",
    "        y_temp_t.append(y_test[j][i])\n",
    "        y_temp_h.append(yhat[j][i])\n",
    "    y_test_f.append(y_temp_t)\n",
    "    y_hat_f.append(y_temp_h)\n",
    "        "
   ]
  },
  {
   "cell_type": "code",
   "execution_count": 263,
   "metadata": {},
   "outputs": [
    {
     "data": {
      "image/png": "[encoded data removed]",
      "text/plain": [
       "<Figure size 360x360 with 1 Axes>"
      ]
     },
     "metadata": {
      "needs_background": "light"
     },
     "output_type": "display_data"
    },
    {
     "data": {
      "image/png": "[encoded data removed]",
      "text/plain": [
       "<Figure size 360x360 with 1 Axes>"
      ]
     },
     "metadata": {
      "needs_background": "light"
     },
     "output_type": "display_data"
    },
    {
     "data": {
      "image/png": "[encoded data removed]",
      "text/plain": [
       "<Figure size 360x360 with 1 Axes>"
      ]
     },
     "metadata": {
      "needs_background": "light"
     },
     "output_type": "display_data"
    },
    {
     "data": {
      "image/png": "[encoded data removed]",
      "text/plain": [
       "<Figure size 360x360 with 1 Axes>"
      ]
     },
     "metadata": {
      "needs_background": "light"
     },
     "output_type": "display_data"
    },
    {
     "data": {
      "image/png": "[encoded data removed]",
      "text/plain": [
       "<Figure size 360x360 with 1 Axes>"
      ]
     },
     "metadata": {
      "needs_background": "light"
     },
     "output_type": "display_data"
    },
    {
     "data": {
      "image/png": "[encoded data removed]",
      "text/plain": [
       "<Figure size 360x360 with 1 Axes>"
      ]
     },
     "metadata": {
      "needs_background": "light"
     },
     "output_type": "display_data"
    }
   ],
   "source": [
    "emotion = ['Happy', 'Sad', 'Anger', 'Surprise', 'Disgust', 'Fear']\n",
    "\n",
    "\n",
    "for n, ax in zip(range(len(emotion)), axs.ravel()):\n",
    "    # add a new subplot iteratively\n",
    "    conf_matrix = confusion_matrix(y_true=y_test_f[n], y_pred=y_hat_f[n])\n",
    "    #\n",
    "    fig, ax = plt.subplots(figsize=(5, 5))\n",
    "    ax.matshow(conf_matrix, cmap=plt.cm.Oranges, alpha=0.3)\n",
    "    for i in range(conf_matrix.shape[0]):\n",
    "        for j in range(conf_matrix.shape[1]):\n",
    "            ax.text(x=j, y=i,s=conf_matrix[i, j], va='center', ha='center', size='xx-large')\n",
    "\n",
    "    # chart formatting\n",
    "    ax.set_title('${}$'.format(emotion[n]), fontsize=18)\n",
    "    ax.set_xlabel('Predictions', fontsize=18)\n",
    "    ax.set_ylabel('Actuals', fontsize=18)    "
   ]
  },
  {
   "cell_type": "code",
   "execution_count": null,
   "metadata": {},
   "outputs": [],
   "source": [
    "from sklearn.metrics import accuracy_score, precision_score, recall_score\n",
    "\n",
    "range_vals = [i/100 for i in range(1, 100)]\n",
    "\n",
    "\n",
    "precision = []\n",
    "recall = []\n",
    "accuracy = []\n",
    "for i in range_vals:\n",
    "    precision.append(precision_score(y_test_f[1], y_hat_f[1]))\n",
    "    recall.append(recall_score(y_test_f[1], y_hat_f[1]))\n",
    "    accuracy.append(accuracy_score(y_test_f[1], y_hat_f[1]))"
   ]
  },
  {
   "cell_type": "code",
   "execution_count": null,
   "metadata": {},
   "outputs": [],
   "source": [
    "import seaborn as sns\n",
    "import matplotlib.pyplot as plt\n",
    "\n",
    "plt.figure(figsize = (11, 7))\n",
    "sns.lineplot(range_vals, precision)\n",
    "sns.scatterplot(range_vals, precision)\n",
    "sns.lineplot(range_vals, recall)\n",
    "sns.scatterplot(range_vals, recall)\n",
    "sns.lineplot(range_vals, accuracy)\n",
    "sns.scatterplot(range_vals, accuracy)\n",
    "plt.legend(['', '', 'Acc'])\n",
    "plt.show()"
   ]
  },
  {
   "cell_type": "code",
   "execution_count": 161,
   "metadata": {},
   "outputs": [],
   "source": [
    "#set up the LSTM model\n",
    "#using the LSTM model with relu activation\n",
    "def get_model_lstm():\n",
    "    lstm = keras.Sequential()\n",
    "    lstm.add(LSTM(32, input_shape = (1, X_train_text.shape[2]), activation='relu', return_sequences=False))\n",
    "    lstm.add(Dense(6, activation='sigmoid'))\n",
    "    return lstm\n",
    "\n",
    "adam = Adam(0.0001)\n",
    "model_lstm = get_model_lstm()\n",
    "model_lstm.compile(loss='binary_crossentropy',metrics='BinaryAccuracy', optimizer=adam)"
   ]
  },
  {
   "cell_type": "code",
   "execution_count": 162,
   "metadata": {},
   "outputs": [
    {
     "name": "stdout",
     "output_type": "stream",
     "text": [
      "Epoch 1/30\n",
      "1633/1633 [==============================] - 4s 2ms/step - loss: 26.1799 - binary_accuracy: 0.6356\n",
      "Epoch 2/30\n",
      "1633/1633 [==============================] - 3s 2ms/step - loss: 10.3013 - binary_accuracy: 0.6935\n",
      "Epoch 3/30\n",
      "1633/1633 [==============================] - 3s 2ms/step - loss: 5.4821 - binary_accuracy: 0.7142\n",
      "Epoch 4/30\n",
      "1633/1633 [==============================] - 3s 2ms/step - loss: 3.2247 - binary_accuracy: 0.7225\n",
      "Epoch 5/30\n",
      "1633/1633 [==============================] - 3s 2ms/step - loss: 1.9562 - binary_accuracy: 0.7393\n",
      "Epoch 6/30\n",
      "1633/1633 [==============================] - 3s 2ms/step - loss: 1.3060 - binary_accuracy: 0.7551\n",
      "Epoch 7/30\n",
      "1633/1633 [==============================] - 3s 2ms/step - loss: 0.9850 - binary_accuracy: 0.7610\n",
      "Epoch 8/30\n",
      "1633/1633 [==============================] - 3s 2ms/step - loss: 0.8076 - binary_accuracy: 0.7667\n",
      "Epoch 9/30\n",
      "1633/1633 [==============================] - 3s 2ms/step - loss: 0.6994 - binary_accuracy: 0.7717\n",
      "Epoch 10/30\n",
      "1633/1633 [==============================] - 3s 2ms/step - loss: 0.6334 - binary_accuracy: 0.7751\n",
      "Epoch 11/30\n",
      "1633/1633 [==============================] - 3s 2ms/step - loss: 0.5910 - binary_accuracy: 0.7783\n",
      "Epoch 12/30\n",
      "1633/1633 [==============================] - 3s 2ms/step - loss: 0.5560 - binary_accuracy: 0.7794\n",
      "Epoch 13/30\n",
      "1633/1633 [==============================] - 3s 2ms/step - loss: 0.5414 - binary_accuracy: 0.7801\n",
      "Epoch 14/30\n",
      "1633/1633 [==============================] - 3s 2ms/step - loss: 0.5294 - binary_accuracy: 0.7801\n",
      "Epoch 15/30\n",
      "1633/1633 [==============================] - 3s 2ms/step - loss: 0.5215 - binary_accuracy: 0.7805\n",
      "Epoch 16/30\n",
      "1633/1633 [==============================] - 3s 2ms/step - loss: 0.5119 - binary_accuracy: 0.7805\n",
      "Epoch 17/30\n",
      "1633/1633 [==============================] - 3s 2ms/step - loss: 0.5064 - binary_accuracy: 0.7807\n",
      "Epoch 18/30\n",
      "1633/1633 [==============================] - 3s 2ms/step - loss: 0.5001 - binary_accuracy: 0.7810\n",
      "Epoch 19/30\n",
      "1633/1633 [==============================] - 3s 2ms/step - loss: 0.4960 - binary_accuracy: 0.7810\n",
      "Epoch 20/30\n",
      "1633/1633 [==============================] - 3s 2ms/step - loss: 0.4928 - binary_accuracy: 0.7810\n",
      "Epoch 21/30\n",
      "1633/1633 [==============================] - 3s 2ms/step - loss: 0.4910 - binary_accuracy: 0.7810\n",
      "Epoch 22/30\n",
      "1633/1633 [==============================] - 3s 2ms/step - loss: 0.4888 - binary_accuracy: 0.7810\n",
      "Epoch 23/30\n",
      "1633/1633 [==============================] - 3s 2ms/step - loss: 0.4873 - binary_accuracy: 0.7810\n",
      "Epoch 24/30\n",
      "1633/1633 [==============================] - 3s 2ms/step - loss: 0.4860 - binary_accuracy: 0.7812\n",
      "Epoch 25/30\n",
      "1633/1633 [==============================] - 3s 2ms/step - loss: 0.4854 - binary_accuracy: 0.7812\n",
      "Epoch 26/30\n",
      "1633/1633 [==============================] - 3s 2ms/step - loss: 0.4847 - binary_accuracy: 0.7814\n",
      "Epoch 27/30\n",
      "1633/1633 [==============================] - 3s 2ms/step - loss: 0.4848 - binary_accuracy: 0.7815\n",
      "Epoch 28/30\n",
      "1633/1633 [==============================] - 3s 2ms/step - loss: 0.4831 - binary_accuracy: 0.7813\n",
      "Epoch 29/30\n",
      "1633/1633 [==============================] - 3s 2ms/step - loss: 0.4840 - binary_accuracy: 0.7814\n",
      "Epoch 30/30\n",
      "1633/1633 [==============================] - 3s 2ms/step - loss: 0.4845 - binary_accuracy: 0.7814\n"
     ]
    },
    {
     "data": {
      "text/plain": [
       "<keras.callbacks.History at 0x2539a714910>"
      ]
     },
     "execution_count": 162,
     "metadata": {},
     "output_type": "execute_result"
    }
   ],
   "source": [
    "model_lstm.fit(X_train_text, y_train_text, epochs=30, batch_size=10, verbose=1, shuffle=False)"
   ]
  },
  {
   "cell_type": "code",
   "execution_count": 163,
   "metadata": {},
   "outputs": [],
   "source": [
    "y_pred= model_lstm.predict(X_test_text)"
   ]
  },
  {
   "cell_type": "code",
   "execution_count": 164,
   "metadata": {},
   "outputs": [
    {
     "data": {
      "text/plain": [
       "array([[0.5265398 , 0.2795878 , 0.22269046, 0.10858017, 0.2002585 ,\n",
       "        0.10222942],\n",
       "       [0.5338979 , 0.27288342, 0.2378596 , 0.11229983, 0.20027038,\n",
       "        0.10253209],\n",
       "       [0.5412264 , 0.26460683, 0.23202917, 0.11731607, 0.20069277,\n",
       "        0.09830052],\n",
       "       ...,\n",
       "       [0.5338979 , 0.27288342, 0.2378596 , 0.11229983, 0.20027038,\n",
       "        0.10253209],\n",
       "       [0.5338979 , 0.27288342, 0.2378596 , 0.11229983, 0.20027038,\n",
       "        0.10253209],\n",
       "       [0.5338979 , 0.27288342, 0.2378596 , 0.11229983, 0.20027038,\n",
       "        0.10253209]], dtype=float32)"
      ]
     },
     "execution_count": 164,
     "metadata": {},
     "output_type": "execute_result"
    }
   ],
   "source": [
    "y_pred"
   ]
  },
  {
   "cell_type": "code",
   "execution_count": 165,
   "metadata": {},
   "outputs": [
    {
     "name": "stdout",
     "output_type": "stream",
     "text": [
      "[1 0 0 0 0 0]\n",
      "[0 1 1 0 1 0]\n"
     ]
    }
   ],
   "source": [
    "threshold = 0.41\n",
    "y_pred = np.where(y_pred > threshold, 1, 0)\n",
    "print(y_pred[1])\n",
    "print(y_test_text[1])"
   ]
  },
  {
   "cell_type": "code",
   "execution_count": 166,
   "metadata": {},
   "outputs": [
    {
     "name": "stdout",
     "output_type": "stream",
     "text": [
      ">0.785\n"
     ]
    }
   ],
   "source": [
    "results=[]\n",
    "total = 0\n",
    "similar = 0\n",
    "for i in range(len(y_test_text)):\n",
    "    for j in range(len(y_test_text[i])):\n",
    "        if y_test_text[i][j] == y_pred[i][j]:\n",
    "            similar += 1\n",
    "        total += 1\n",
    "acc = similar/total\n",
    "\n",
    "print('>%.3f' % acc)\n",
    "results.append(acc)"
   ]
  },
  {
   "cell_type": "code",
   "execution_count": 167,
   "metadata": {},
   "outputs": [],
   "source": [
    "y_test_f = []\n",
    "y_hat_f = []\n",
    "for i in range(len(y_pred[0])):\n",
    "    y_temp_t = []\n",
    "    y_temp_h = []\n",
    "    for j in range(len(y_pred)):\n",
    "        y_temp_t.append(y_test_text[j][i])\n",
    "        y_temp_h.append(y_pred[j][i])\n",
    "    y_test_f.append(y_temp_t)\n",
    "    y_hat_f.append(y_temp_h)"
   ]
  },
  {
   "cell_type": "code",
   "execution_count": 168,
   "metadata": {},
   "outputs": [
    {
     "data": {
      "image/png": "[encoded data removed]",
      "text/plain": [
       "<Figure size 360x360 with 1 Axes>"
      ]
     },
     "metadata": {
      "needs_background": "light"
     },
     "output_type": "display_data"
    },
    {
     "data": {
      "image/png": "[encoded data removed]",
      "text/plain": [
       "<Figure size 360x360 with 1 Axes>"
      ]
     },
     "metadata": {
      "needs_background": "light"
     },
     "output_type": "display_data"
    },
    {
     "data": {
      "image/png": "[encoded data removed]",
      "text/plain": [
       "<Figure size 360x360 with 1 Axes>"
      ]
     },
     "metadata": {
      "needs_background": "light"
     },
     "output_type": "display_data"
    },
    {
     "data": {
      "image/png": "[encoded data removed]",
      "text/plain": [
       "<Figure size 360x360 with 1 Axes>"
      ]
     },
     "metadata": {
      "needs_background": "light"
     },
     "output_type": "display_data"
    },
    {
     "data": {
      "image/png": "[encoded data removed]",
      "text/plain": [
       "<Figure size 360x360 with 1 Axes>"
      ]
     },
     "metadata": {
      "needs_background": "light"
     },
     "output_type": "display_data"
    },
    {
     "data": {
      "image/png": "[encoded data removed]",
      "text/plain": [
       "<Figure size 360x360 with 1 Axes>"
      ]
     },
     "metadata": {
      "needs_background": "light"
     },
     "output_type": "display_data"
    }
   ],
   "source": [
    "emotion = ['Happy', 'Sad', 'Anger', 'Surprise', 'Disgust', 'Fear']\n",
    "\n",
    "\n",
    "for n, ax in zip(range(len(emotion)), axs.ravel()):\n",
    "    # add a new subplot iteratively\n",
    "    conf_matrix = confusion_matrix(y_true=y_test_f[n], y_pred=y_hat_f[n])\n",
    "    #\n",
    "    fig, ax = plt.subplots(figsize=(5, 5))\n",
    "    ax.matshow(conf_matrix, cmap=plt.cm.Oranges, alpha=0.3)\n",
    "    for i in range(conf_matrix.shape[0]):\n",
    "        for j in range(conf_matrix.shape[1]):\n",
    "            ax.text(x=j, y=i,s=conf_matrix[i, j], va='center', ha='center', size='xx-large')\n",
    "\n",
    "    # chart formatting\n",
    "    ax.set_title('${}$'.format(emotion[n]), fontsize=18)\n",
    "    ax.set_xlabel('Predictions', fontsize=18)\n",
    "    ax.set_ylabel('Actuals', fontsize=18)    "
   ]
  },
  {
   "cell_type": "code",
   "execution_count": 236,
   "metadata": {},
   "outputs": [],
   "source": [
    "# get the model\n",
    "# def get_model_cnn():\n",
    "#     model = Sequential()\n",
    "#     model.add(Conv1D(32, kernel_size=(2), activation='relu', input_shape=(128, 850)))\n",
    "#     model.add(MaxPooling1D(pool_size=(2)))\n",
    "#     model.add(Dropout(0.25))\n",
    "#     model.add(Conv1D(filters=64, kernel_size=(5), activation='relu'))\n",
    "#     model.add(MaxPooling1D(pool_size=(2)))\n",
    "#     model.add(Dropout(0.25))\n",
    "#     model.add(Conv1D(filters=128, kernel_size=(5), activation=\"relu\"))\n",
    "#     model.add(MaxPooling1D(pool_size=(2)))\n",
    "#     model.add(Dropout(0.25))\n",
    "#     model.add(Flatten())\n",
    "#     model.add(Dense(6, activation='sigmoid'))\n",
    "#     return model\n",
    " \n",
    "# # evaluate a model using repeated k-fold cross-validation\n",
    "# adam = Adam(0.0001)\n",
    "# model_cnn = get_model_cnn()\n",
    "# model_cnn.compile(optimizer=adam,loss='binary_crossentropy',metrics=['AUC','BinaryAccuracy'])\n",
    "\n",
    "# model_cnn.fit(X_train, y_train, epochs=30, validation_data=(X_dev, y_dev), batch_size=10)\n",
    "\n",
    "def build_model(hp):  \n",
    "  model = keras.Sequential([\n",
    "    keras.layers.Conv1D(\n",
    "        filters=hp.Int('conv_1_filter', min_value=32, max_value=256, step=16),\n",
    "        kernel_size=hp.Choice('conv_1_kernel', values = [2,6]),\n",
    "        activation='relu',\n",
    "        input_shape=(128, 850)\n",
    "    ),\n",
    "    keras.layers.Conv1D(\n",
    "        filters=hp.Int('conv_2_filter', min_value=32, max_value=64, step=16),\n",
    "        kernel_size=hp.Choice('conv_2_kernel', values = [2,6]),\n",
    "        activation='relu'\n",
    "    ),\n",
    "    keras.layers.Flatten(),\n",
    "    keras.layers.Dense(\n",
    "        units=hp.Int('dense_1_units', min_value=32, max_value=128, step=16),\n",
    "        activation='relu'\n",
    "    ),\n",
    "    keras.layers.Dense(6, activation='sigmoid')\n",
    "  ])\n",
    "  \n",
    "  model.compile(optimizer=keras.optimizers.Adam(hp.Choice('learning_rate', values=[9e-4, 1e-4])),\n",
    "              loss='binary_crossentropy',\n",
    "              metrics=['BinaryAccuracy'])\n",
    "  \n",
    "  return model\n",
    "\n"
   ]
  },
  {
   "cell_type": "code",
   "execution_count": 249,
   "metadata": {},
   "outputs": [
    {
     "name": "stdout",
     "output_type": "stream",
     "text": [
      "INFO:tensorflow:Reloading Oracle from existing project output\\MOSEI CNN\\oracle.json\n",
      "INFO:tensorflow:Reloading Tuner from output\\MOSEI CNN\\tuner0.json\n"
     ]
    }
   ],
   "source": [
    "tuner_search=RandomSearch(build_model,objective=[\"val_accuracy\"],max_trials=10,directory='output',project_name=\"MOSEI CNN\")"
   ]
  },
  {
   "cell_type": "code",
   "execution_count": 250,
   "metadata": {},
   "outputs": [
    {
     "name": "stdout",
     "output_type": "stream",
     "text": [
      "Trial 10 Complete [00h 01m 28s]\n",
      "multi_objective: 0.0\n",
      "\n",
      "Best multi_objective So Far: 0.0\n",
      "Total elapsed time: 00h 16m 19s\n",
      "INFO:tensorflow:Oracle triggered exit\n"
     ]
    }
   ],
   "source": [
    "tuner_search.search(X_train, y_train,epochs=4,validation_data=(X_dev, y_dev))"
   ]
  },
  {
   "cell_type": "code",
   "execution_count": 265,
   "metadata": {},
   "outputs": [
    {
     "name": "stdout",
     "output_type": "stream",
     "text": [
      "Epoch 1/6\n",
      "1633/1633 [==============================] - 56s 34ms/step - loss: 0.4678 - binary_accuracy: 0.7916 - val_loss: 0.4819 - val_binary_accuracy: 0.7924\n",
      "Epoch 2/6\n",
      "1633/1633 [==============================] - 54s 33ms/step - loss: 0.4189 - binary_accuracy: 0.8112 - val_loss: 0.5052 - val_binary_accuracy: 0.7772\n",
      "Epoch 3/6\n",
      "1633/1633 [==============================] - 54s 33ms/step - loss: 0.3624 - binary_accuracy: 0.8399 - val_loss: 0.5186 - val_binary_accuracy: 0.7855\n",
      "Epoch 4/6\n",
      "1633/1633 [==============================] - 58s 35ms/step - loss: 0.2968 - binary_accuracy: 0.8735 - val_loss: 0.5601 - val_binary_accuracy: 0.7734\n",
      "Epoch 5/6\n",
      "1633/1633 [==============================] - 58s 36ms/step - loss: 0.2316 - binary_accuracy: 0.9054 - val_loss: 0.6245 - val_binary_accuracy: 0.7650\n",
      "Epoch 6/6\n",
      "1633/1633 [==============================] - 59s 36ms/step - loss: 0.1722 - binary_accuracy: 0.9343 - val_loss: 0.7234 - val_binary_accuracy: 0.7624\n"
     ]
    },
    {
     "data": {
      "text/plain": [
       "<keras.callbacks.History at 0x25270f12250>"
      ]
     },
     "execution_count": 265,
     "metadata": {},
     "output_type": "execute_result"
    }
   ],
   "source": [
    "model_cnn_hyper=tuner_search.get_best_models(num_models=1)[0]\n",
    "model_cnn_hyper.fit(X_train, y_train, epochs=6, validation_data=(X_dev, y_dev), batch_size=10)"
   ]
  },
  {
   "cell_type": "code",
   "execution_count": 283,
   "metadata": {},
   "outputs": [],
   "source": [
    "yhat = model_cnn_hyper.predict(X_test)"
   ]
  },
  {
   "cell_type": "code",
   "execution_count": 284,
   "metadata": {},
   "outputs": [
    {
     "data": {
      "text/plain": [
       "array([0.544771  , 0.508513  , 0.1240226 , 0.02616093, 0.27811998,\n",
       "       0.00476438], dtype=float32)"
      ]
     },
     "execution_count": 284,
     "metadata": {},
     "output_type": "execute_result"
    }
   ],
   "source": [
    "yhat[2]"
   ]
  },
  {
   "cell_type": "code",
   "execution_count": 285,
   "metadata": {},
   "outputs": [
    {
     "name": "stdout",
     "output_type": "stream",
     "text": [
      ">0.757\n"
     ]
    }
   ],
   "source": [
    "threshold = .5\n",
    "yhat = np.where(yhat > threshold, 1, 0)\n",
    "results=[]\n",
    "total = 0\n",
    "similar = 0\n",
    "for i in range(len(y_test)):\n",
    "    for j in range(len(y_test[i])):\n",
    "        if y_test[i][j] == yhat[i][j]:\n",
    "            similar += 1\n",
    "        total += 1\n",
    "acc = similar/total\n",
    "\n",
    "print('>%.3f' % acc)\n",
    "results.append(acc)"
   ]
  },
  {
   "cell_type": "code",
   "execution_count": 286,
   "metadata": {},
   "outputs": [],
   "source": [
    "y_test_f = []\n",
    "y_hat_f = []\n",
    "for i in range(len(yhat[0])):\n",
    "    y_temp_t = []\n",
    "    y_temp_h = []\n",
    "    for j in range(len(yhat)):\n",
    "        y_temp_t.append(y_test[j][i])\n",
    "        y_temp_h.append(yhat[j][i])\n",
    "    y_test_f.append(y_temp_t)\n",
    "    y_hat_f.append(y_temp_h)\n",
    "        "
   ]
  },
  {
   "cell_type": "code",
   "execution_count": 287,
   "metadata": {},
   "outputs": [
    {
     "data": {
      "image/png": "[encoded data removed]",
      "text/plain": [
       "<Figure size 360x360 with 1 Axes>"
      ]
     },
     "metadata": {
      "needs_background": "light"
     },
     "output_type": "display_data"
    },
    {
     "data": {
      "image/png": "[encoded data removed]",
      "text/plain": [
       "<Figure size 360x360 with 1 Axes>"
      ]
     },
     "metadata": {
      "needs_background": "light"
     },
     "output_type": "display_data"
    },
    {
     "data": {
      "image/png": "[encoded data removed]",
      "text/plain": [
       "<Figure size 360x360 with 1 Axes>"
      ]
     },
     "metadata": {
      "needs_background": "light"
     },
     "output_type": "display_data"
    },
    {
     "data": {
      "image/png": "[encoded data removed]",
      "text/plain": [
       "<Figure size 360x360 with 1 Axes>"
      ]
     },
     "metadata": {
      "needs_background": "light"
     },
     "output_type": "display_data"
    },
    {
     "data": {
      "image/png": "[encoded data removed]",
      "text/plain": [
       "<Figure size 360x360 with 1 Axes>"
      ]
     },
     "metadata": {
      "needs_background": "light"
     },
     "output_type": "display_data"
    },
    {
     "data": {
      "image/png": "[encoded data removed]",
      "text/plain": [
       "<Figure size 360x360 with 1 Axes>"
      ]
     },
     "metadata": {
      "needs_background": "light"
     },
     "output_type": "display_data"
    }
   ],
   "source": [
    "emotion = ['Happy', 'Sad', 'Anger', 'Surprise', 'Disgust', 'Fear']\n",
    "\n",
    "\n",
    "for n, ax in zip(range(len(emotion)), axs.ravel()):\n",
    "    # add a new subplot iteratively\n",
    "    conf_matrix = confusion_matrix(y_true=y_test_f[n], y_pred=y_hat_f[n])\n",
    "    #\n",
    "    fig, ax = plt.subplots(figsize=(5, 5))\n",
    "    ax.matshow(conf_matrix, cmap=plt.cm.Oranges, alpha=0.3)\n",
    "    for i in range(conf_matrix.shape[0]):\n",
    "        for j in range(conf_matrix.shape[1]):\n",
    "            ax.text(x=j, y=i,s=conf_matrix[i, j], va='center', ha='center', size='xx-large')\n",
    "\n",
    "    # chart formatting\n",
    "    ax.set_title('${}$'.format(emotion[n]), fontsize=18)\n",
    "    ax.set_xlabel('Predictions', fontsize=18)\n",
    "    ax.set_ylabel('Actuals', fontsize=18) "
   ]
  },
  {
   "cell_type": "code",
   "execution_count": null,
   "metadata": {},
   "outputs": [],
   "source": []
  }
 ],
 "metadata": {
  "colab": {
   "name": "cnn_implementation.ipynb",
   "provenance": []
  },
  "kernelspec": {
   "display_name": "Python 3 (ipykernel)",
   "language": "python",
   "name": "python3"
  },
  "language_info": {
   "codemirror_mode": {
    "name": "ipython",
    "version": 3
   },
   "file_extension": ".py",
   "mimetype": "text/x-python",
   "name": "python",
   "nbconvert_exporter": "python",
   "pygments_lexer": "ipython3",
   "version": "3.8.12"
  }
 },
 "nbformat": 4,
 "nbformat_minor": 4
}
