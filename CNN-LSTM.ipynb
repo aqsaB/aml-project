{
 "cells": [
  {
   "cell_type": "code",
   "execution_count": 77,
   "metadata": {
    "id": "CKiPaeMP2Qb7"
   },
   "outputs": [
    {
     "name": "stdout",
     "output_type": "stream",
     "text": [
      "Tensorflow version: 2.8.0\n",
      "Keras Version: 2.8.0\n",
      "GPU is available\n"
     ]
    },
    {
     "name": "stderr",
     "output_type": "stream",
     "text": [
      "[nltk_data] Downloading package stopwords to\n",
      "[nltk_data]     C:\\Users\\User\\AppData\\Roaming\\nltk_data...\n",
      "[nltk_data]   Package stopwords is already up-to-date!\n"
     ]
    }
   ],
   "source": [
    "import os\n",
    "import pandas as pd\n",
    "import numpy as np\n",
    "from numpy import mean\n",
    "from numpy import std\n",
    "import pickle\n",
    "import tensorflow as tf\n",
    "from matplotlib.image import imread\n",
    "import matplotlib.pyplot as plt\n",
    "from tensorflow.keras.optimizers import *\n",
    "from tensorflow.keras.preprocessing.text import Tokenizer\n",
    "from tensorflow import keras\n",
    "from sklearn.datasets import make_multilabel_classification\n",
    "from sklearn.model_selection import RepeatedKFold\n",
    "from keras.models import Sequential\n",
    "from keras.layers import LSTM, Dense, Dropout, Activation, Conv1D, MaxPooling1D, Flatten, Lambda\n",
    "from keras.preprocessing.sequence import pad_sequences\n",
    "from keras.utils.vis_utils import plot_model\n",
    "import keras_tuner as kt\n",
    "from keras_tuner import RandomSearch\n",
    "from keras_tuner.engine.hyperparameters import HyperParameters\n",
    "from sklearn.metrics import accuracy_score\n",
    "from sklearn.model_selection import train_test_split\n",
    "from sklearn.preprocessing import StandardScaler\n",
    "from sklearn.svm import SVC\n",
    "from sklearn.metrics import confusion_matrix\n",
    "from sklearn.metrics import precision_score, recall_score, f1_score, accuracy_score\n",
    "from nltk.corpus import stopwords\n",
    "import nltk\n",
    "nltk.download('stopwords')\n",
    "stop = stopwords.words('english')\n",
    "tokenizer = Tokenizer(num_words = 8000, filters = '!\"#$%&()*+,-./:;<=>?@[\\\\]^`{|}~\\t\\n')\n",
    "print(f\"Tensorflow version: {tf.__version__}\")\n",
    "print(f\"Keras Version: {tf.keras.__version__}\")\n",
    "\n",
    "print(\"GPU is\", \"available\" if tf.config.list_physical_devices('GPU') else \"NOT AVAILABLE\")"
   ]
  },
  {
   "cell_type": "code",
   "execution_count": 2,
   "metadata": {},
   "outputs": [],
   "source": [
    "try:\n",
    "    # Disable all GPUS\n",
    "    tf.config.set_visible_devices([], 'GPU')\n",
    "    visible_devices = tf.config.get_visible_devices()\n",
    "    for device in visible_devices:\n",
    "        assert device.device_type != 'GPU'\n",
    "except:\n",
    "    # Invalid device or cannot modify virtual devices once initialized.\n",
    "    pass\n"
   ]
  },
  {
   "cell_type": "code",
   "execution_count": 4,
   "metadata": {},
   "outputs": [],
   "source": [
    "data_dev = []\n",
    "data_test = []\n",
    "data_train = []\n",
    "file_name_dev = \"audioDataDev.pickle\"\n",
    "file_name_test = \"audioDataTest.pickle\"\n",
    "file_name_train = \"audioDataTrain.pickle\"\n",
    "\n",
    "with (open(file_name_dev, \"rb\")) as f:\n",
    "    while True:\n",
    "        try:\n",
    "            data_dev.append(pickle.load(f))\n",
    "        except EOFError:\n",
    "            break\n",
    "f.close()\n",
    "\n",
    "with (open(file_name_test, \"rb\")) as f:\n",
    "    while True:\n",
    "        try:\n",
    "            data_test.append(pickle.load(f))\n",
    "        except EOFError:\n",
    "            break\n",
    "f.close()\n",
    "\n",
    "with (open(file_name_train, \"rb\")) as f:\n",
    "    while True:\n",
    "        try:\n",
    "            data_train.append(pickle.load(f))\n",
    "        except EOFError:\n",
    "            break\n",
    "f.close()"
   ]
  },
  {
   "cell_type": "code",
   "execution_count": 4,
   "metadata": {},
   "outputs": [
    {
     "data": {
      "text/plain": [
       "'0    Hi expo\\nName: 4, dtype: object'"
      ]
     },
     "execution_count": 4,
     "metadata": {},
     "output_type": "execute_result"
    }
   ],
   "source": [
    "data_test[1][4]"
   ]
  },
  {
   "cell_type": "code",
   "execution_count": 5,
   "metadata": {
    "colab": {
     "base_uri": "https://localhost:8080/",
     "height": 393
    },
    "id": "sdOkQA7J2ngD",
    "outputId": "4d381379-031a-418e-bd12-68057336c64c"
   },
   "outputs": [],
   "source": [
    "X_dev = []\n",
    "X_dev_text = []\n",
    "y_dev = []\n",
    "X_train = []\n",
    "X_train_text = []\n",
    "y_train = []\n",
    "X_test = []\n",
    "X_test_text = []\n",
    "y_test = []\n",
    "\n",
    "for i in range(len(data_dev)-1):\n",
    "    X_dev.append(data_dev[i+1][3])\n",
    "for i in range(len(data_dev)-1):\n",
    "    X_dev_text.append(data_dev[i+1][4])\n",
    "for i in range(len(data_dev)-1):\n",
    "    y_dev.append(data_dev[i+1][6:12])\n",
    "    \n",
    "for i in range(len(data_test)-1):\n",
    "    X_test.append(data_test[i+1][3])\n",
    "for i in range(len(data_test)-1):\n",
    "    X_test_text.append(data_test[i+1][4])\n",
    "for i in range(len(data_test)-1):\n",
    "    y_test.append(data_test[i+1][6:12])\n",
    "    \n",
    "for i in range(len(data_train)-1):\n",
    "    X_train.append(data_train[i+1][3])\n",
    "for i in range(len(data_train)-1):\n",
    "    X_train_text.append(data_train[i+1][4])\n",
    "for i in range(len(data_train)-1):\n",
    "    y_train.append(data_train[i+1][6:12])\n",
    "\n",
    "X_dev = np.array(X_dev)\n",
    "X_dev_text = np.array(X_dev_text)\n",
    "y_dev = np.where(np.array(y_dev)> 0.5, 1, 0)\n",
    "X_test = np.array(X_test)\n",
    "X_test_text = np.array(X_test_text)\n",
    "y_test = np.where(np.array(y_test) > 0.5, 1, 0)\n",
    "X_train = np.array(X_train)\n",
    "X_train_text = np.array(X_train_text)\n",
    "y_train = np.where(np.array(y_train) > 0.5, 1, 0)"
   ]
  },
  {
   "cell_type": "code",
   "execution_count": 6,
   "metadata": {},
   "outputs": [
    {
     "data": {
      "text/plain": [
       "array([[1, 0, 0, 0, 0, 0],\n",
       "       [0, 0, 0, 0, 0, 0],\n",
       "       [1, 0, 0, 0, 0, 0],\n",
       "       ...,\n",
       "       [0, 1, 0, 0, 0, 1],\n",
       "       [0, 1, 0, 0, 0, 0],\n",
       "       [0, 0, 0, 0, 0, 0]])"
      ]
     },
     "execution_count": 6,
     "metadata": {},
     "output_type": "execute_result"
    }
   ],
   "source": [
    "y_dev"
   ]
  },
  {
   "cell_type": "code",
   "execution_count": 6,
   "metadata": {},
   "outputs": [],
   "source": [
    "def sent(X, y):\n",
    "    data = []\n",
    "    for i in range(1, len(X)):\n",
    "        #add text\n",
    "        temp = X[i].split('\\n')\n",
    "        text_obj = temp[0][6:]\n",
    "\n",
    "        row = [text_obj, np.array(y[i])]\n",
    "        data.append(row)\n",
    "\n",
    "    df = pd.DataFrame(data, columns = ['text', 'sentiment'])\n",
    "    return df\n",
    "\n",
    "def remove_punctuation(text):\n",
    "    import string\n",
    "    translator = str.maketrans('', '', string.punctuation)\n",
    "    return text.translate(translator)\n",
    "\n",
    "def remove_stopwords(text):\n",
    "    sw = stopwords.words('english')\n",
    "    text = [word.lower() for word in text.split() if word.lower() not in sw]\n",
    "    return \" \".join(text)\n",
    "\n",
    "def sequences(dframe):\n",
    "    tokenizer = Tokenizer(num_words = 8000, filters = '!\"#$%&()*+,-./:;<=>?@[\\\\]^`{|}~\\t\\n')\n",
    "    tokenizer.fit_on_texts(dframe['text'])\n",
    "    X = tokenizer.texts_to_sequences(dframe['text'].values)\n",
    "    y = dframe['sentiment'].values\n",
    "    return X,y\n"
   ]
  },
  {
   "cell_type": "code",
   "execution_count": 7,
   "metadata": {},
   "outputs": [],
   "source": [
    "dev_df = sent(X_dev_text, y_dev)\n",
    "dev_df['text'] = dev_df['text'].apply(remove_punctuation).apply(remove_stopwords)\n",
    "dev = sequences(dev_df)\n",
    "\n",
    "test_df = sent(X_test_text, y_test)\n",
    "test_df['text'] = test_df['text'].apply(remove_punctuation).apply(remove_stopwords)\n",
    "test = sequences(test_df)\n",
    "\n",
    "train_df = sent(X_train_text, y_train)\n",
    "train_df['text'] = train_df['text'].apply(remove_punctuation).apply(remove_stopwords)\n",
    "train = sequences(train_df)"
   ]
  },
  {
   "cell_type": "code",
   "execution_count": 8,
   "metadata": {},
   "outputs": [],
   "source": [
    "X_dev_text = pad_sequences(dev[0])\n",
    "y_dev_text = pad_sequences(dev[1])\n",
    "X_test_text = pad_sequences(test[0])\n",
    "y_test_text = pad_sequences(test[1])\n",
    "X_train_text = pad_sequences(train[0])\n",
    "y_train_text = pad_sequences(train[1])"
   ]
  },
  {
   "cell_type": "code",
   "execution_count": 9,
   "metadata": {},
   "outputs": [],
   "source": [
    "X_train_text = X_train_text.reshape(X_train_text.shape[0], 1, X_train_text.shape[1])\n",
    "X_test_text = X_test_text.reshape(X_test_text.shape[0], 1, X_test_text.shape[1])\n",
    "X_dev_text = X_dev_text.reshape(X_dev_text.shape[0], 1, X_dev_text.shape[1])"
   ]
  },
  {
   "cell_type": "code",
   "execution_count": null,
   "metadata": {
    "colab": {
     "base_uri": "https://localhost:8080/"
    },
    "id": "jWyL453O3hXf",
    "outputId": "69777b0a-fcc9-4401-875c-2be39e6c4024"
   },
   "outputs": [],
   "source": [
    "# get the model\n",
    "def get_model_cnn():\n",
    "    model = Sequential()\n",
    "    model.add(Conv1D(32, kernel_size=(2), activation='relu', input_shape=(128, 850)))\n",
    "    model.add(MaxPooling1D(pool_size=(2)))\n",
    "    model.add(Dropout(0.25))\n",
    "    model.add(Conv1D(filters=64, kernel_size=(5), activation='relu'))\n",
    "    model.add(MaxPooling1D(pool_size=(2)))\n",
    "    model.add(Dropout(0.25))\n",
    "    model.add(Conv1D(filters=128, kernel_size=(5), activation=\"relu\"))\n",
    "    model.add(MaxPooling1D(pool_size=(2)))\n",
    "    model.add(Dropout(0.25))\n",
    "    model.add(Flatten())\n",
    "    model.add(Dense(6, activation='sigmoid'))\n",
    "    return model\n",
    " \n",
    "# evaluate a model using repeated k-fold cross-validation\n",
    "adam = Adam(0.0001)\n",
    "model_cnn = get_model_cnn()\n",
    "model_cnn.compile(optimizer=adam,loss='binary_crossentropy',metrics=['AUC','BinaryAccuracy'])\n",
    "\n",
    "model_cnn.fit(X_train, y_train, epochs=30, validation_data=(X_dev, y_dev), batch_size=10)"
   ]
  },
  {
   "cell_type": "code",
   "execution_count": 254,
   "metadata": {},
   "outputs": [],
   "source": [
    "yhat = model_cnn_hyper.predict(X_test)"
   ]
  },
  {
   "cell_type": "code",
   "execution_count": 258,
   "metadata": {},
   "outputs": [
    {
     "name": "stdout",
     "output_type": "stream",
     "text": [
      "[7.7098936e-02 1.2738496e-02 1.2649357e-02 3.0161923e-06 7.8164041e-03\n",
      " 1.0486991e-07]\n",
      "[0 1 1 0 1 0]\n"
     ]
    }
   ],
   "source": [
    "print(yhat[2])\n",
    "print(y_test[2])"
   ]
  },
  {
   "cell_type": "code",
   "execution_count": 264,
   "metadata": {},
   "outputs": [
    {
     "name": "stdout",
     "output_type": "stream",
     "text": [
      "INFO:tensorflow:Assets written to: modelCNN_hyper\\assets\n"
     ]
    }
   ],
   "source": [
    "model_cnn_hyper.save('modelCNN_hyper')"
   ]
  },
  {
   "cell_type": "code",
   "execution_count": 259,
   "metadata": {
    "colab": {
     "base_uri": "https://localhost:8080/"
    },
    "id": "25ePb84t3qeV",
    "outputId": "5186d60f-18a4-4f68-8051-4fe4c46015d3"
   },
   "outputs": [
    {
     "name": "stdout",
     "output_type": "stream",
     "text": [
      "[1 0 0 0 0 0]\n",
      "[1 0 0 0 0 0]\n"
     ]
    }
   ],
   "source": [
    "threshold = 7e-03\n",
    "yhat = np.where(yhat > threshold, 1, 0)\n"
   ]
  },
  {
   "cell_type": "code",
   "execution_count": 261,
   "metadata": {
    "colab": {
     "base_uri": "https://localhost:8080/"
    },
    "id": "t3XB9VgN3vrx",
    "outputId": "2c59f960-c816-4082-e319-d928a74bbb51"
   },
   "outputs": [
    {
     "name": "stdout",
     "output_type": "stream",
     "text": [
      ">0.702\n"
     ]
    }
   ],
   "source": [
    "results=[]\n",
    "total = 0\n",
    "similar = 0\n",
    "for i in range(len(y_test)):\n",
    "    for j in range(len(y_test[i])):\n",
    "        if y_test[i][j] == yhat[i][j]:\n",
    "            similar += 1\n",
    "        total += 1\n",
    "acc = similar/total\n",
    "\n",
    "print('>%.3f' % acc)\n",
    "results.append(acc)"
   ]
  },
  {
   "cell_type": "code",
   "execution_count": 262,
   "metadata": {},
   "outputs": [],
   "source": [
    "y_test_f = []\n",
    "y_hat_f = []\n",
    "for i in range(len(yhat[0])):\n",
    "    y_temp_t = []\n",
    "    y_temp_h = []\n",
    "    for j in range(len(yhat)):\n",
    "        y_temp_t.append(y_test[j][i])\n",
    "        y_temp_h.append(yhat[j][i])\n",
    "    y_test_f.append(y_temp_t)\n",
    "    y_hat_f.append(y_temp_h)\n",
    "        "
   ]
  },
  {
   "cell_type": "code",
   "execution_count": 21,
   "metadata": {},
   "outputs": [
    {
     "ename": "NameError",
     "evalue": "name 'axs' is not defined",
     "output_type": "error",
     "traceback": [
      "\u001b[1;31m---------------------------------------------------------------------------\u001b[0m",
      "\u001b[1;31mNameError\u001b[0m                                 Traceback (most recent call last)",
      "Input \u001b[1;32mIn [21]\u001b[0m, in \u001b[0;36m<cell line: 4>\u001b[1;34m()\u001b[0m\n\u001b[0;32m      1\u001b[0m emotion \u001b[38;5;241m=\u001b[39m [\u001b[38;5;124m'\u001b[39m\u001b[38;5;124mHappy\u001b[39m\u001b[38;5;124m'\u001b[39m, \u001b[38;5;124m'\u001b[39m\u001b[38;5;124mSad\u001b[39m\u001b[38;5;124m'\u001b[39m, \u001b[38;5;124m'\u001b[39m\u001b[38;5;124mAnger\u001b[39m\u001b[38;5;124m'\u001b[39m, \u001b[38;5;124m'\u001b[39m\u001b[38;5;124mSurprise\u001b[39m\u001b[38;5;124m'\u001b[39m, \u001b[38;5;124m'\u001b[39m\u001b[38;5;124mDisgust\u001b[39m\u001b[38;5;124m'\u001b[39m, \u001b[38;5;124m'\u001b[39m\u001b[38;5;124mFear\u001b[39m\u001b[38;5;124m'\u001b[39m]\n\u001b[1;32m----> 4\u001b[0m \u001b[38;5;28;01mfor\u001b[39;00m n, ax \u001b[38;5;129;01min\u001b[39;00m \u001b[38;5;28mzip\u001b[39m(\u001b[38;5;28mrange\u001b[39m(\u001b[38;5;28mlen\u001b[39m(emotion)), \u001b[43maxs\u001b[49m\u001b[38;5;241m.\u001b[39mravel()):\n\u001b[0;32m      5\u001b[0m     \u001b[38;5;66;03m# add a new subplot iteratively\u001b[39;00m\n\u001b[0;32m      6\u001b[0m     conf_matrix \u001b[38;5;241m=\u001b[39m confusion_matrix(y_true\u001b[38;5;241m=\u001b[39my_test_f[n], y_pred\u001b[38;5;241m=\u001b[39my_hat_f[n])\n\u001b[0;32m      7\u001b[0m     \u001b[38;5;66;03m#\u001b[39;00m\n",
      "\u001b[1;31mNameError\u001b[0m: name 'axs' is not defined"
     ]
    }
   ],
   "source": [
    "emotion = ['Happy', 'Sad', 'Anger', 'Surprise', 'Disgust', 'Fear']\n",
    "\n",
    "\n",
    "for n, ax in zip(range(len(emotion)), axs.ravel()):\n",
    "    # add a new subplot iteratively\n",
    "    conf_matrix = confusion_matrix(y_true=y_test_f[n], y_pred=y_hat_f[n])\n",
    "    #\n",
    "    fig, ax = plt.subplots(figsize=(5, 5))\n",
    "    ax.matshow(conf_matrix, cmap=plt.cm.Oranges, alpha=0.3)\n",
    "    for i in range(conf_matrix.shape[0]):\n",
    "        for j in range(conf_matrix.shape[1]):\n",
    "            ax.text(x=j, y=i,s=conf_matrix[i, j], va='center', ha='center', size='xx-large')\n",
    "\n",
    "    # chart formatting\n",
    "    ax.set_title('${}$'.format(emotion[n]), fontsize=18)\n",
    "    ax.set_xlabel('Predictions', fontsize=18)\n",
    "    ax.set_ylabel('Actuals', fontsize=18)    "
   ]
  },
  {
   "cell_type": "code",
   "execution_count": null,
   "metadata": {},
   "outputs": [],
   "source": [
    "from sklearn.metrics import accuracy_score, precision_score, recall_score\n",
    "\n",
    "range_vals = [i/100 for i in range(1, 100)]\n",
    "\n",
    "\n",
    "precision = []\n",
    "recall = []\n",
    "accuracy = []\n",
    "for i in range_vals:\n",
    "    precision.append(precision_score(y_test_f[1], y_hat_f[1]))\n",
    "    recall.append(recall_score(y_test_f[1], y_hat_f[1]))\n",
    "    accuracy.append(accuracy_score(y_test_f[1], y_hat_f[1]))"
   ]
  },
  {
   "cell_type": "code",
   "execution_count": null,
   "metadata": {},
   "outputs": [],
   "source": [
    "import seaborn as sns\n",
    "import matplotlib.pyplot as plt\n",
    "\n",
    "plt.figure(figsize = (11, 7))\n",
    "sns.lineplot(range_vals, precision)\n",
    "sns.scatterplot(range_vals, precision)\n",
    "sns.lineplot(range_vals, recall)\n",
    "sns.scatterplot(range_vals, recall)\n",
    "sns.lineplot(range_vals, accuracy)\n",
    "sns.scatterplot(range_vals, accuracy)\n",
    "plt.legend(['', '', 'Acc'])\n",
    "plt.show()"
   ]
  },
  {
   "cell_type": "code",
   "execution_count": 38,
   "metadata": {},
   "outputs": [],
   "source": [
    "#set up the LSTM model\n",
    "#using the LSTM model with relu activation\n",
    "def get_model_lstm():\n",
    "    lstm = keras.Sequential()\n",
    "    lstm.add(LSTM(32, input_shape = (1, X_train_text.shape[2]), activation='relu', return_sequences=False))\n",
    "    lstm.add(Dense(6, activation='sigmoid'))\n",
    "    return lstm\n",
    "\n",
    "adam = Adam(0.0001)\n",
    "model_lstm = get_model_lstm()\n",
    "model_lstm.compile(loss='binary_crossentropy',metrics='BinaryAccuracy', optimizer=adam)"
   ]
  },
  {
   "cell_type": "code",
   "execution_count": 39,
   "metadata": {},
   "outputs": [
    {
     "name": "stdout",
     "output_type": "stream",
     "text": [
      "Epoch 1/30\n",
      "1633/1633 [==============================] - 4s 2ms/step - loss: 22.7029 - binary_accuracy: 0.6571\n",
      "Epoch 2/30\n",
      "1633/1633 [==============================] - 3s 2ms/step - loss: 4.7605 - binary_accuracy: 0.7878\n",
      "Epoch 3/30\n",
      "1633/1633 [==============================] - 3s 2ms/step - loss: 1.9241 - binary_accuracy: 0.8308\n",
      "Epoch 4/30\n",
      "1633/1633 [==============================] - 3s 2ms/step - loss: 1.0471 - binary_accuracy: 0.8515\n",
      "Epoch 5/30\n",
      "1633/1633 [==============================] - 3s 2ms/step - loss: 0.7073 - binary_accuracy: 0.8622\n",
      "Epoch 6/30\n",
      "1633/1633 [==============================] - 3s 2ms/step - loss: 0.5817 - binary_accuracy: 0.8658\n",
      "Epoch 7/30\n",
      "1633/1633 [==============================] - 3s 2ms/step - loss: 0.4910 - binary_accuracy: 0.8679\n",
      "Epoch 8/30\n",
      "1633/1633 [==============================] - 3s 2ms/step - loss: 0.4518 - binary_accuracy: 0.8689\n",
      "Epoch 9/30\n",
      "1633/1633 [==============================] - 3s 2ms/step - loss: 0.4189 - binary_accuracy: 0.8695\n",
      "Epoch 10/30\n",
      "1633/1633 [==============================] - 3s 2ms/step - loss: 0.4024 - binary_accuracy: 0.8699\n",
      "Epoch 11/30\n",
      "1633/1633 [==============================] - 3s 2ms/step - loss: 0.3880 - binary_accuracy: 0.8703\n",
      "Epoch 12/30\n",
      "1633/1633 [==============================] - 3s 2ms/step - loss: 0.3765 - binary_accuracy: 0.8706\n",
      "Epoch 13/30\n",
      "1633/1633 [==============================] - 3s 2ms/step - loss: 0.3687 - binary_accuracy: 0.8707\n",
      "Epoch 14/30\n",
      "1633/1633 [==============================] - 3s 2ms/step - loss: 0.3636 - binary_accuracy: 0.8708\n",
      "Epoch 15/30\n",
      "1633/1633 [==============================] - 3s 2ms/step - loss: 0.3589 - binary_accuracy: 0.8707\n",
      "Epoch 16/30\n",
      "1633/1633 [==============================] - 3s 2ms/step - loss: 0.3558 - binary_accuracy: 0.8707\n",
      "Epoch 17/30\n",
      "1633/1633 [==============================] - 3s 2ms/step - loss: 0.3529 - binary_accuracy: 0.8707\n",
      "Epoch 18/30\n",
      "1633/1633 [==============================] - 3s 2ms/step - loss: 0.3511 - binary_accuracy: 0.8708\n",
      "Epoch 19/30\n",
      "1633/1633 [==============================] - 3s 2ms/step - loss: 0.3493 - binary_accuracy: 0.8709\n",
      "Epoch 20/30\n",
      "1633/1633 [==============================] - 3s 2ms/step - loss: 0.3474 - binary_accuracy: 0.8709\n",
      "Epoch 21/30\n",
      "1633/1633 [==============================] - 3s 2ms/step - loss: 0.3460 - binary_accuracy: 0.8709\n",
      "Epoch 22/30\n",
      "1633/1633 [==============================] - 3s 2ms/step - loss: 0.3451 - binary_accuracy: 0.8709\n",
      "Epoch 23/30\n",
      "1633/1633 [==============================] - 3s 2ms/step - loss: 0.3447 - binary_accuracy: 0.8709\n",
      "Epoch 24/30\n",
      "1633/1633 [==============================] - 3s 2ms/step - loss: 0.3440 - binary_accuracy: 0.8709\n",
      "Epoch 25/30\n",
      "1633/1633 [==============================] - 3s 2ms/step - loss: 0.3426 - binary_accuracy: 0.8710\n",
      "Epoch 26/30\n",
      "1633/1633 [==============================] - 3s 2ms/step - loss: 0.3438 - binary_accuracy: 0.8710\n",
      "Epoch 27/30\n",
      "1633/1633 [==============================] - 3s 2ms/step - loss: 0.3421 - binary_accuracy: 0.8710\n",
      "Epoch 28/30\n",
      "1633/1633 [==============================] - 3s 2ms/step - loss: 0.3409 - binary_accuracy: 0.8710\n",
      "Epoch 29/30\n",
      "1633/1633 [==============================] - 3s 2ms/step - loss: 0.3407 - binary_accuracy: 0.8710\n",
      "Epoch 30/30\n",
      "1633/1633 [==============================] - 3s 2ms/step - loss: 0.3423 - binary_accuracy: 0.8711\n"
     ]
    },
    {
     "data": {
      "text/plain": [
       "<keras.callbacks.History at 0x20d7a522b20>"
      ]
     },
     "execution_count": 39,
     "metadata": {},
     "output_type": "execute_result"
    }
   ],
   "source": [
    "model_lstm.fit(X_train_text, y_train_text, epochs=30, batch_size=10, verbose=1, shuffle=False)"
   ]
  },
  {
   "cell_type": "code",
   "execution_count": 163,
   "metadata": {},
   "outputs": [],
   "source": [
    "y_pred= model_lstm.predict(X_test_text)"
   ]
  },
  {
   "cell_type": "code",
   "execution_count": 164,
   "metadata": {},
   "outputs": [
    {
     "data": {
      "text/plain": [
       "array([[0.5265398 , 0.2795878 , 0.22269046, 0.10858017, 0.2002585 ,\n",
       "        0.10222942],\n",
       "       [0.5338979 , 0.27288342, 0.2378596 , 0.11229983, 0.20027038,\n",
       "        0.10253209],\n",
       "       [0.5412264 , 0.26460683, 0.23202917, 0.11731607, 0.20069277,\n",
       "        0.09830052],\n",
       "       ...,\n",
       "       [0.5338979 , 0.27288342, 0.2378596 , 0.11229983, 0.20027038,\n",
       "        0.10253209],\n",
       "       [0.5338979 , 0.27288342, 0.2378596 , 0.11229983, 0.20027038,\n",
       "        0.10253209],\n",
       "       [0.5338979 , 0.27288342, 0.2378596 , 0.11229983, 0.20027038,\n",
       "        0.10253209]], dtype=float32)"
      ]
     },
     "execution_count": 164,
     "metadata": {},
     "output_type": "execute_result"
    }
   ],
   "source": [
    "y_pred"
   ]
  },
  {
   "cell_type": "code",
   "execution_count": 165,
   "metadata": {},
   "outputs": [
    {
     "name": "stdout",
     "output_type": "stream",
     "text": [
      "[1 0 0 0 0 0]\n",
      "[0 1 1 0 1 0]\n"
     ]
    }
   ],
   "source": [
    "threshold = 0.41\n",
    "y_pred = np.where(y_pred > threshold, 1, 0)\n",
    "print(y_pred[1])\n",
    "print(y_test_text[1])"
   ]
  },
  {
   "cell_type": "code",
   "execution_count": 166,
   "metadata": {},
   "outputs": [
    {
     "name": "stdout",
     "output_type": "stream",
     "text": [
      ">0.785\n"
     ]
    }
   ],
   "source": [
    "results=[]\n",
    "total = 0\n",
    "similar = 0\n",
    "for i in range(len(y_test_text)):\n",
    "    for j in range(len(y_test_text[i])):\n",
    "        if y_test_text[i][j] == y_pred[i][j]:\n",
    "            similar += 1\n",
    "        total += 1\n",
    "acc = similar/total\n",
    "\n",
    "print('>%.3f' % acc)\n",
    "results.append(acc)"
   ]
  },
  {
   "cell_type": "code",
   "execution_count": 167,
   "metadata": {},
   "outputs": [],
   "source": [
    "y_test_f = []\n",
    "y_hat_f = []\n",
    "for i in range(len(y_pred[0])):\n",
    "    y_temp_t = []\n",
    "    y_temp_h = []\n",
    "    for j in range(len(y_pred)):\n",
    "        y_temp_t.append(y_test_text[j][i])\n",
    "        y_temp_h.append(y_pred[j][i])\n",
    "    y_test_f.append(y_temp_t)\n",
    "    y_hat_f.append(y_temp_h)"
   ]
  },
  {
   "cell_type": "code",
   "execution_count": null,
   "metadata": {},
   "outputs": [],
   "source": [
    "emotion = ['Happy', 'Sad', 'Anger', 'Surprise', 'Disgust', 'Fear']\n",
    "\n",
    "\n",
    "for n, ax in zip(range(len(emotion)), axs.ravel()):\n",
    "    # add a new subplot iteratively\n",
    "    conf_matrix = confusion_matrix(y_true=y_test_f[n], y_pred=y_hat_f[n])\n",
    "    #\n",
    "    fig, ax = plt.subplots(figsize=(5, 5))\n",
    "    ax.matshow(conf_matrix, cmap=plt.cm.Oranges, alpha=0.3)\n",
    "    for i in range(conf_matrix.shape[0]):\n",
    "        for j in range(conf_matrix.shape[1]):\n",
    "            ax.text(x=j, y=i,s=conf_matrix[i, j], va='center', ha='center', size='xx-large')\n",
    "\n",
    "    # chart formatting\n",
    "    ax.set_title('${}$'.format(emotion[n]), fontsize=18)\n",
    "    ax.set_xlabel('Predictions', fontsize=18)\n",
    "    ax.set_ylabel('Actuals', fontsize=18)    "
   ]
  },
  {
   "cell_type": "code",
   "execution_count": 11,
   "metadata": {},
   "outputs": [],
   "source": [
    "def build_model_cnn(hp):  \n",
    "  model = keras.Sequential([\n",
    "    keras.layers.Conv1D(\n",
    "        filters=hp.Int('conv_1_filter', min_value=32, max_value=256, step=16),\n",
    "        kernel_size=hp.Choice('conv_1_kernel', values = [2,6]),\n",
    "        activation='relu',\n",
    "        input_shape=(128, 850)\n",
    "    ),\n",
    "    keras.layers.BatchNormalization(),\n",
    "    keras.layers.MaxPooling1D(\n",
    "        pool_size=hp.Choice('conv_1_pool', values = [1,2,3])\n",
    "    ),\n",
    "    keras.layers.Dropout(\n",
    "        hp.Choice('conv_1_drop',values=[0.25, 0.5])\n",
    "    ),\n",
    "    keras.layers.Conv1D(\n",
    "        filters=hp.Int('conv_2_filter', min_value=32, max_value=64, step=16),\n",
    "        kernel_size=hp.Choice('conv_2_kernel', values = [2,6]),\n",
    "        activation='relu'\n",
    "    ),\n",
    "    keras.layers.BatchNormalization(),\n",
    "    keras.layers.MaxPooling1D(\n",
    "        pool_size=hp.Choice('conv_2_pool', values = [1,2,3])\n",
    "    ),\n",
    "    keras.layers.Dropout(\n",
    "        hp.Choice('conv_2_drop',values=[0.25, 0.5])\n",
    "    ),\n",
    "    keras.layers.Flatten(),\n",
    "    keras.layers.Dense(\n",
    "        units=hp.Int('dense_1_units', min_value=32, max_value=128, step=16),\n",
    "        activation='relu'\n",
    "    ),\n",
    "    keras.layers.BatchNormalization(),\n",
    "    keras.layers.Dropout(\n",
    "        hp.Choice('final_drop',values=[0.25, 0.5])\n",
    "    ),\n",
    "    keras.layers.Dense(6, activation='sigmoid')\n",
    "    ])\n",
    "  \n",
    "  model.compile(optimizer=keras.optimizers.Adam(hp.Choice('learning_rate', values=[9e-4, 1e-4])),\n",
    "              loss='binary_crossentropy',\n",
    "              metrics=['BinaryAccuracy'])\n",
    "  \n",
    "  return model\n",
    "\n"
   ]
  },
  {
   "cell_type": "code",
   "execution_count": 12,
   "metadata": {},
   "outputs": [],
   "source": [
    "tuner_search=RandomSearch(build_model_cnn,objective=[\"val_accuracy\"],max_trials=10,directory='output',project_name=\"MOSEI CNN\")"
   ]
  },
  {
   "cell_type": "code",
   "execution_count": 13,
   "metadata": {},
   "outputs": [
    {
     "name": "stdout",
     "output_type": "stream",
     "text": [
      "Trial 10 Complete [00h 02m 03s]\n",
      "multi_objective: 0.0\n",
      "\n",
      "Best multi_objective So Far: 0.0\n",
      "Total elapsed time: 00h 20m 09s\n",
      "INFO:tensorflow:Oracle triggered exit\n"
     ]
    }
   ],
   "source": [
    "tuner_search.search(X_train, y_train,epochs=3,validation_data=(X_dev, y_dev))"
   ]
  },
  {
   "cell_type": "code",
   "execution_count": 14,
   "metadata": {},
   "outputs": [
    {
     "name": "stdout",
     "output_type": "stream",
     "text": [
      "Epoch 1/18\n",
      "1633/1633 [==============================] - 24s 14ms/step - loss: 0.3389 - binary_accuracy: 0.8707 - val_loss: 0.3146 - val_binary_accuracy: 0.8823\n",
      "Epoch 2/18\n",
      "1633/1633 [==============================] - 22s 14ms/step - loss: 0.3324 - binary_accuracy: 0.8722 - val_loss: 0.3130 - val_binary_accuracy: 0.8818\n",
      "Epoch 3/18\n",
      "1633/1633 [==============================] - 22s 14ms/step - loss: 0.3304 - binary_accuracy: 0.8729 - val_loss: 0.3139 - val_binary_accuracy: 0.8818\n",
      "Epoch 4/18\n",
      "1633/1633 [==============================] - 22s 14ms/step - loss: 0.3283 - binary_accuracy: 0.8724 - val_loss: 0.3135 - val_binary_accuracy: 0.8826\n",
      "Epoch 5/18\n",
      "1633/1633 [==============================] - 23s 14ms/step - loss: 0.3261 - binary_accuracy: 0.8728 - val_loss: 0.3129 - val_binary_accuracy: 0.8837\n",
      "Epoch 6/18\n",
      "1633/1633 [==============================] - 22s 14ms/step - loss: 0.3240 - binary_accuracy: 0.8748 - val_loss: 0.3144 - val_binary_accuracy: 0.8828\n",
      "Epoch 7/18\n",
      "1633/1633 [==============================] - 22s 14ms/step - loss: 0.3226 - binary_accuracy: 0.8740 - val_loss: 0.3116 - val_binary_accuracy: 0.8835\n",
      "Epoch 8/18\n",
      "1633/1633 [==============================] - 23s 14ms/step - loss: 0.3208 - binary_accuracy: 0.8749 - val_loss: 0.3133 - val_binary_accuracy: 0.8838\n",
      "Epoch 9/18\n",
      "1633/1633 [==============================] - 29s 18ms/step - loss: 0.3191 - binary_accuracy: 0.8749 - val_loss: 0.3142 - val_binary_accuracy: 0.8837\n",
      "Epoch 10/18\n",
      "1633/1633 [==============================] - 23s 14ms/step - loss: 0.3177 - binary_accuracy: 0.8755 - val_loss: 0.3117 - val_binary_accuracy: 0.8838\n",
      "Epoch 11/18\n",
      "1633/1633 [==============================] - 23s 14ms/step - loss: 0.3174 - binary_accuracy: 0.8758 - val_loss: 0.3125 - val_binary_accuracy: 0.8831\n",
      "Epoch 12/18\n",
      "1633/1633 [==============================] - 26s 16ms/step - loss: 0.3160 - binary_accuracy: 0.8754 - val_loss: 0.3110 - val_binary_accuracy: 0.8827\n",
      "Epoch 13/18\n",
      "1633/1633 [==============================] - 26s 16ms/step - loss: 0.3146 - binary_accuracy: 0.8758 - val_loss: 0.3110 - val_binary_accuracy: 0.8831\n",
      "Epoch 14/18\n",
      "1633/1633 [==============================] - 21s 13ms/step - loss: 0.3132 - binary_accuracy: 0.8759 - val_loss: 0.3134 - val_binary_accuracy: 0.8828\n",
      "Epoch 15/18\n",
      "1633/1633 [==============================] - 21s 13ms/step - loss: 0.3113 - binary_accuracy: 0.8765 - val_loss: 0.3171 - val_binary_accuracy: 0.8831\n",
      "Epoch 16/18\n",
      "1633/1633 [==============================] - 21s 13ms/step - loss: 0.3090 - binary_accuracy: 0.8769 - val_loss: 0.3135 - val_binary_accuracy: 0.8827\n",
      "Epoch 17/18\n",
      "1633/1633 [==============================] - 25s 15ms/step - loss: 0.3094 - binary_accuracy: 0.8771 - val_loss: 0.3202 - val_binary_accuracy: 0.8811\n",
      "Epoch 18/18\n",
      "1633/1633 [==============================] - 23s 14ms/step - loss: 0.3076 - binary_accuracy: 0.8777 - val_loss: 0.3211 - val_binary_accuracy: 0.8818\n"
     ]
    },
    {
     "data": {
      "text/plain": [
       "<keras.callbacks.History at 0x20d76dde7c0>"
      ]
     },
     "execution_count": 14,
     "metadata": {},
     "output_type": "execute_result"
    }
   ],
   "source": [
    "model_cnn_hyper=tuner_search.get_best_models(num_models=1)[0]\n",
    "model_cnn_hyper.fit(X_train, y_train, epochs=18, validation_data=(X_dev, y_dev), batch_size=10)"
   ]
  },
  {
   "cell_type": "code",
   "execution_count": 15,
   "metadata": {},
   "outputs": [
    {
     "name": "stdout",
     "output_type": "stream",
     "text": [
      "Model: \"sequential\"\n",
      "_________________________________________________________________\n",
      " Layer (type)                Output Shape              Param #   \n",
      "=================================================================\n",
      " conv1d (Conv1D)             (None, 127, 32)           54432     \n",
      "                                                                 \n",
      " batch_normalization (BatchN  (None, 127, 32)          128       \n",
      " ormalization)                                                   \n",
      "                                                                 \n",
      " max_pooling1d (MaxPooling1D  (None, 42, 32)           0         \n",
      " )                                                               \n",
      "                                                                 \n",
      " dropout (Dropout)           (None, 42, 32)            0         \n",
      "                                                                 \n",
      " conv1d_1 (Conv1D)           (None, 41, 48)            3120      \n",
      "                                                                 \n",
      " batch_normalization_1 (Batc  (None, 41, 48)           192       \n",
      " hNormalization)                                                 \n",
      "                                                                 \n",
      " max_pooling1d_1 (MaxPooling  (None, 20, 48)           0         \n",
      " 1D)                                                             \n",
      "                                                                 \n",
      " dropout_1 (Dropout)         (None, 20, 48)            0         \n",
      "                                                                 \n",
      " flatten (Flatten)           (None, 960)               0         \n",
      "                                                                 \n",
      " dense (Dense)               (None, 64)                61504     \n",
      "                                                                 \n",
      " batch_normalization_2 (Batc  (None, 64)               256       \n",
      " hNormalization)                                                 \n",
      "                                                                 \n",
      " dropout_2 (Dropout)         (None, 64)                0         \n",
      "                                                                 \n",
      " dense_1 (Dense)             (None, 6)                 390       \n",
      "                                                                 \n",
      "=================================================================\n",
      "Total params: 120,022\n",
      "Trainable params: 119,734\n",
      "Non-trainable params: 288\n",
      "_________________________________________________________________\n"
     ]
    }
   ],
   "source": [
    "model_cnn_hyper.summary()"
   ]
  },
  {
   "cell_type": "code",
   "execution_count": 79,
   "metadata": {},
   "outputs": [
    {
     "name": "stdout",
     "output_type": "stream",
     "text": [
      "You must install pydot (`pip install pydot`) and install graphviz (see instructions at https://graphviz.gitlab.io/download/) for plot_model/model_to_dot to work.\n"
     ]
    }
   ],
   "source": [
    "tf.keras.utils.plot_model(model_cnn_hyper, to_file='model_plot.png', show_shapes=True, show_layer_names=True)"
   ]
  },
  {
   "cell_type": "code",
   "execution_count": 53,
   "metadata": {},
   "outputs": [],
   "source": [
    "yhat = model_cnn_hyper.predict(X_test)"
   ]
  },
  {
   "cell_type": "code",
   "execution_count": 16,
   "metadata": {},
   "outputs": [
    {
     "data": {
      "text/plain": [
       "array([0.5752954 , 0.13135716, 0.2371169 , 0.10371614, 0.1424762 ,\n",
       "       0.01648575], dtype=float32)"
      ]
     },
     "execution_count": 16,
     "metadata": {},
     "output_type": "execute_result"
    }
   ],
   "source": [
    "yhat[2]"
   ]
  },
  {
   "cell_type": "code",
   "execution_count": 27,
   "metadata": {},
   "outputs": [
    {
     "name": "stdout",
     "output_type": "stream",
     "text": [
      ">0.874\n"
     ]
    }
   ],
   "source": [
    "threshold = .5\n",
    "yhat = np.where(yhat > threshold, 1, 0)\n",
    "results=[]\n",
    "total = 0\n",
    "similar = 0\n",
    "for i in range(len(y_test)):\n",
    "    for j in range(len(y_test[i])):\n",
    "        if y_test[i][j] == yhat[i][j]:\n",
    "            similar += 1\n",
    "        total += 1\n",
    "acc = similar/total\n",
    "\n",
    "print('>%.3f' % acc)\n",
    "results.append(acc)"
   ]
  },
  {
   "cell_type": "code",
   "execution_count": 22,
   "metadata": {},
   "outputs": [],
   "source": [
    "y_test_f = []\n",
    "y_hat_f = []\n",
    "for i in range(len(yhat[0])):\n",
    "    y_temp_t = []\n",
    "    y_temp_h = []\n",
    "    for j in range(len(yhat)):\n",
    "        y_temp_t.append(y_test[j][i])\n",
    "        y_temp_h.append(yhat[j][i])\n",
    "    y_test_f.append(y_temp_t)\n",
    "    y_hat_f.append(y_temp_h)\n",
    "        "
   ]
  },
  {
   "cell_type": "code",
   "execution_count": 23,
   "metadata": {},
   "outputs": [
    {
     "data": {
      "image/png": "[encoded data removed]",
      "text/plain": [
       "<Figure size 360x360 with 1 Axes>"
      ]
     },
     "metadata": {
      "needs_background": "light"
     },
     "output_type": "display_data"
    },
    {
     "data": {
      "image/png": "[encoded data removed]",
      "text/plain": [
       "<Figure size 360x360 with 1 Axes>"
      ]
     },
     "metadata": {
      "needs_background": "light"
     },
     "output_type": "display_data"
    },
    {
     "data": {
      "image/png": "[encoded data removed]",
      "text/plain": [
       "<Figure size 360x360 with 1 Axes>"
      ]
     },
     "metadata": {
      "needs_background": "light"
     },
     "output_type": "display_data"
    },
    {
     "data": {
      "image/png": "[encoded data removed]",
      "text/plain": [
       "<Figure size 360x360 with 1 Axes>"
      ]
     },
     "metadata": {
      "needs_background": "light"
     },
     "output_type": "display_data"
    },
    {
     "data": {
      "image/png": "[encoded data removed]",
      "text/plain": [
       "<Figure size 360x360 with 1 Axes>"
      ]
     },
     "metadata": {
      "needs_background": "light"
     },
     "output_type": "display_data"
    },
    {
     "data": {
      "image/png": "[encoded data removed]",
      "text/plain": [
       "<Figure size 360x360 with 1 Axes>"
      ]
     },
     "metadata": {
      "needs_background": "light"
     },
     "output_type": "display_data"
    }
   ],
   "source": [
    "emotion = ['Happy', 'Sad', 'Anger', 'Surprise', 'Disgust', 'Fear']\n",
    "\n",
    "for n in range(len(emotion)):\n",
    "    # add a new subplot iteratively\n",
    "    conf_matrix = confusion_matrix(y_true=y_test_f[n], y_pred=y_hat_f[n])\n",
    "    #\n",
    "    fig, ax = plt.subplots(figsize=(5, 5))\n",
    "    ax.matshow(conf_matrix, cmap=plt.cm.Oranges, alpha=0.3)\n",
    "    for i in range(conf_matrix.shape[0]):\n",
    "        for j in range(conf_matrix.shape[1]):\n",
    "            ax.text(x=j, y=i,s=conf_matrix[i, j], va='center', ha='center', size='xx-large')\n",
    "\n",
    "    # chart formatting\n",
    "    ax.set_title('${}$'.format(emotion[n]), fontsize=18)\n",
    "    ax.set_xlabel('Predictions', fontsize=18)\n",
    "    ax.set_ylabel('Actuals', fontsize=18) "
   ]
  },
  {
   "cell_type": "code",
   "execution_count": 42,
   "metadata": {},
   "outputs": [],
   "source": [
    "def build_model_lstm(hp):  \n",
    "  model = keras.Sequential([\n",
    "    keras.layers.LSTM(\n",
    "        32,\n",
    "        return_sequences=False,\n",
    "        activation='relu',\n",
    "        input_shape = (1, X_train_text.shape[2])\n",
    "    ),\n",
    "    keras.layers.BatchNormalization(),\n",
    "    keras.layers.Dropout(\n",
    "        hp.Choice('final_drop',values=[0.25, 0.5])\n",
    "    ),\n",
    "    keras.layers.Dense(6, activation='sigmoid')\n",
    "    ])\n",
    "  model.compile(optimizer=keras.optimizers.Adam(hp.Choice('learning_rate', values=[9e-4, 1e-4])),\n",
    "              loss='binary_crossentropy',\n",
    "              metrics=['BinaryAccuracy'])\n",
    "  \n",
    "  return model"
   ]
  },
  {
   "cell_type": "code",
   "execution_count": null,
   "metadata": {},
   "outputs": [],
   "source": []
  },
  {
   "cell_type": "code",
   "execution_count": 43,
   "metadata": {},
   "outputs": [
    {
     "name": "stdout",
     "output_type": "stream",
     "text": [
      "INFO:tensorflow:Reloading Oracle from existing project output_lstm\\MOSEI CNN\\oracle.json\n",
      "INFO:tensorflow:Reloading Tuner from output_lstm\\MOSEI CNN\\tuner0.json\n"
     ]
    }
   ],
   "source": [
    "tuner_search_lstm=RandomSearch(build_model_lstm,objective=[\"val_accuracy\"],max_trials=10,directory='output_lstm',project_name=\"MOSEI CNN\")"
   ]
  },
  {
   "cell_type": "code",
   "execution_count": 44,
   "metadata": {},
   "outputs": [
    {
     "name": "stdout",
     "output_type": "stream",
     "text": [
      "Trial 10 Complete [00h 00m 08s]\n",
      "multi_objective: 0.0\n",
      "\n",
      "Best multi_objective So Far: 0.0\n",
      "Total elapsed time: 00h 01m 24s\n",
      "INFO:tensorflow:Oracle triggered exit\n"
     ]
    }
   ],
   "source": [
    "tuner_search_lstm.search(X_train_text, y_train_text,epochs=5)"
   ]
  },
  {
   "cell_type": "code",
   "execution_count": 67,
   "metadata": {},
   "outputs": [
    {
     "name": "stdout",
     "output_type": "stream",
     "text": [
      "WARNING:tensorflow:Detecting that an object or model or tf.train.Checkpoint is being deleted with unrestored values. See the following logs for the specific values in question. To silence these warnings, use `status.expect_partial()`. See https://www.tensorflow.org/api_docs/python/tf/train/Checkpoint#restorefor details about the status object returned by the restore function.\n",
      "WARNING:tensorflow:Value in checkpoint could not be found in the restored object: (root).optimizer.iter\n",
      "WARNING:tensorflow:Value in checkpoint could not be found in the restored object: (root).optimizer.beta_1\n",
      "WARNING:tensorflow:Value in checkpoint could not be found in the restored object: (root).optimizer.beta_2\n",
      "WARNING:tensorflow:Value in checkpoint could not be found in the restored object: (root).optimizer.decay\n",
      "WARNING:tensorflow:Value in checkpoint could not be found in the restored object: (root).optimizer.learning_rate\n",
      "Epoch 1/10\n",
      "1633/1633 [==============================] - 5s 2ms/step - loss: 0.3438 - binary_accuracy: 0.8710\n",
      "Epoch 2/10\n",
      "1633/1633 [==============================] - 3s 2ms/step - loss: 0.3419 - binary_accuracy: 0.8710\n",
      "Epoch 3/10\n",
      "1633/1633 [==============================] - 4s 2ms/step - loss: 0.3416 - binary_accuracy: 0.8710\n",
      "Epoch 4/10\n",
      "1633/1633 [==============================] - 3s 2ms/step - loss: 0.3418 - binary_accuracy: 0.8710\n",
      "Epoch 5/10\n",
      "1633/1633 [==============================] - 3s 2ms/step - loss: 0.3407 - binary_accuracy: 0.8710\n",
      "Epoch 6/10\n",
      "1633/1633 [==============================] - 3s 2ms/step - loss: 0.3405 - binary_accuracy: 0.8710\n",
      "Epoch 7/10\n",
      "1633/1633 [==============================] - 3s 2ms/step - loss: 0.3405 - binary_accuracy: 0.8710\n",
      "Epoch 8/10\n",
      "1633/1633 [==============================] - 3s 2ms/step - loss: 0.3402 - binary_accuracy: 0.8710\n",
      "Epoch 9/10\n",
      "1633/1633 [==============================] - 3s 2ms/step - loss: 0.3396 - binary_accuracy: 0.8710\n",
      "Epoch 10/10\n",
      "1633/1633 [==============================] - 3s 2ms/step - loss: 0.3398 - binary_accuracy: 0.8710\n"
     ]
    },
    {
     "data": {
      "text/plain": [
       "<keras.callbacks.History at 0x20d7ba82fd0>"
      ]
     },
     "execution_count": 67,
     "metadata": {},
     "output_type": "execute_result"
    }
   ],
   "source": [
    "model_lstm_hyper=tuner_search_lstm.get_best_models(num_models=1)[0]\n",
    "model_lstm_hyper.fit(X_train_text, y_train_text, epochs=10, batch_size=10)"
   ]
  },
  {
   "cell_type": "code",
   "execution_count": 68,
   "metadata": {},
   "outputs": [],
   "source": [
    "yhat_lstm = model_lstm_hyper.predict(X_test_text)"
   ]
  },
  {
   "cell_type": "code",
   "execution_count": 69,
   "metadata": {},
   "outputs": [
    {
     "data": {
      "text/plain": [
       "array([0.36505556, 0.12270793, 0.11696479, 0.02556542, 0.07726943,\n",
       "       0.02738133], dtype=float32)"
      ]
     },
     "execution_count": 69,
     "metadata": {},
     "output_type": "execute_result"
    }
   ],
   "source": [
    "yhat_lstm[1]"
   ]
  },
  {
   "cell_type": "code",
   "execution_count": 70,
   "metadata": {},
   "outputs": [
    {
     "data": {
      "text/plain": [
       "array([0.3216885 , 0.14271232, 0.3334688 , 0.04644832, 0.28505594,\n",
       "       0.02101082], dtype=float32)"
      ]
     },
     "execution_count": 70,
     "metadata": {},
     "output_type": "execute_result"
    }
   ],
   "source": [
    "yhat[1]"
   ]
  },
  {
   "cell_type": "code",
   "execution_count": 71,
   "metadata": {},
   "outputs": [
    {
     "data": {
      "text/plain": [
       "array([0, 0, 1, 0, 0, 0])"
      ]
     },
     "execution_count": 71,
     "metadata": {},
     "output_type": "execute_result"
    }
   ],
   "source": [
    "y_test_text[1]"
   ]
  },
  {
   "cell_type": "code",
   "execution_count": 73,
   "metadata": {},
   "outputs": [
    {
     "data": {
      "text/plain": [
       "array([0, 0, 0, 0, 0, 0])"
      ]
     },
     "execution_count": 73,
     "metadata": {},
     "output_type": "execute_result"
    }
   ],
   "source": [
    "y_test[1]"
   ]
  },
  {
   "cell_type": "code",
   "execution_count": null,
   "metadata": {},
   "outputs": [],
   "source": []
  }
 ],
 "metadata": {
  "colab": {
   "name": "cnn_implementation.ipynb",
   "provenance": []
  },
  "kernelspec": {
   "display_name": "Python 3 (ipykernel)",
   "language": "python",
   "name": "python3"
  },
  "language_info": {
   "codemirror_mode": {
    "name": "ipython",
    "version": 3
   },
   "file_extension": ".py",
   "mimetype": "text/x-python",
   "name": "python",
   "nbconvert_exporter": "python",
   "pygments_lexer": "ipython3",
   "version": "3.8.12"
  }
 },
 "nbformat": 4,
 "nbformat_minor": 4
}
