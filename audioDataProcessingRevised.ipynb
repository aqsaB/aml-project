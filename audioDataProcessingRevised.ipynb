{
 "cells": [
  {
   "cell_type": "code",
   "execution_count": 1,
   "metadata": {
    "colab": {
     "base_uri": "https://localhost:8080/"
    },
    "executionInfo": {
     "elapsed": 24245,
     "status": "ok",
     "timestamp": 1650841416742,
     "user": {
      "displayName": "Calvin Milligan",
      "userId": "04067737593273056719"
     },
     "user_tz": 240
    },
    "id": "tkw5tMQOBL3p",
    "outputId": "16487e96-3c65-41f6-c534-d38f7454d33a"
   },
   "outputs": [],
   "source": [
    "# from google.colab import drive\n",
    "# drive.mount('/content/gdrive')"
   ]
  },
  {
   "cell_type": "code",
   "execution_count": 2,
   "metadata": {
    "executionInfo": {
     "elapsed": 1552,
     "status": "ok",
     "timestamp": 1650842513529,
     "user": {
      "displayName": "Calvin Milligan",
      "userId": "04067737593273056719"
     },
     "user_tz": 240
    },
    "id": "_vumw_NJBh7Y"
   },
   "outputs": [],
   "source": [
    "# %%bash\n",
    "# DIR=\"AudioFiles/\"\n",
    "# if [ ! -d \"$DIR\" ]; then\n",
    "#   # Take action if $DIR does not exists. #\n",
    "#   # cp -r /content/gdrive/MyDrive/AMLProject/WAV_16000 /content\n",
    "#   cp -r /content/gdrive/MyDrive/AMLProject/audioLabels.csv /content\n",
    "#   cp -r /content/gdrive/MyDrive/AMLProject/audioNN/downloaded_datasets /content\n",
    "# fi"
   ]
  },
  {
   "cell_type": "markdown",
   "metadata": {
    "id": "s5cFAjWo2MNf"
   },
   "source": []
  },
  {
   "cell_type": "code",
   "execution_count": 3,
   "metadata": {
    "colab": {
     "base_uri": "https://localhost:8080/"
    },
    "executionInfo": {
     "elapsed": 824,
     "status": "ok",
     "timestamp": 1650842527978,
     "user": {
      "displayName": "Calvin Milligan",
      "userId": "04067737593273056719"
     },
     "user_tz": 240
    },
    "id": "n2ypqclMzSV9",
    "outputId": "2e701a21-5799-40e4-ef75-9aeea0105163"
   },
   "outputs": [],
   "source": [
    "# !git clone https://github.com/A2Zadeh/CMU-MultimodalSDK.git"
   ]
  },
  {
   "cell_type": "code",
   "execution_count": 4,
   "metadata": {
    "colab": {
     "base_uri": "https://localhost:8080/"
    },
    "executionInfo": {
     "elapsed": 110,
     "status": "ok",
     "timestamp": 1650842529996,
     "user": {
      "displayName": "Calvin Milligan",
      "userId": "04067737593273056719"
     },
     "user_tz": 240
    },
    "id": "LmUq0jN2zjYB",
    "outputId": "9b5e23aa-3c5f-4b4e-afa2-b3d86389bdf8"
   },
   "outputs": [
    {
     "name": "stdout",
     "output_type": "stream",
     "text": [
      "env: PYTHONPATH=C:\\Users\\User\\Documents\\repos\\CMU-MultimodalSDK\n"
     ]
    }
   ],
   "source": [
    "%set_env PYTHONPATH=C:\\Users\\User\\Documents\\repos\\CMU-MultimodalSDK"
   ]
  },
  {
   "cell_type": "code",
   "execution_count": 5,
   "metadata": {
    "executionInfo": {
     "elapsed": 129,
     "status": "ok",
     "timestamp": 1650842534880,
     "user": {
      "displayName": "Calvin Milligan",
      "userId": "04067737593273056719"
     },
     "user_tz": 240
    },
    "id": "rYIN5x9z8JfF"
   },
   "outputs": [],
   "source": [
    "import sys\n",
    "sys.path.insert(1, \"C:\\\\Users\\\\User\\\\Documents\\\\repos\\\\CMU-MultimodalSDK\")"
   ]
  },
  {
   "cell_type": "code",
   "execution_count": 6,
   "metadata": {
    "colab": {
     "base_uri": "https://localhost:8080/",
     "height": 473
    },
    "executionInfo": {
     "elapsed": 4350,
     "status": "ok",
     "timestamp": 1650842540283,
     "user": {
      "displayName": "Calvin Milligan",
      "userId": "04067737593273056719"
     },
     "user_tz": 240
    },
    "id": "D4zXkTNszofS",
    "outputId": "2387db75-f7c8-4ac8-ec15-cde15ef16cda"
   },
   "outputs": [],
   "source": [
    "# !pip install h5py validators tqdm numpy argparse requests colorama"
   ]
  },
  {
   "cell_type": "code",
   "execution_count": 7,
   "metadata": {
    "colab": {
     "base_uri": "https://localhost:8080/"
    },
    "executionInfo": {
     "elapsed": 2084,
     "status": "ok",
     "timestamp": 1650842633166,
     "user": {
      "displayName": "Calvin Milligan",
      "userId": "04067737593273056719"
     },
     "user_tz": 240
    },
    "id": "xUpj27MP1A6_",
    "outputId": "3660c1a9-2803-4b6b-ec38-7ddcc2e36035",
    "scrolled": true
   },
   "outputs": [
    {
     "name": "stdout",
     "output_type": "stream",
     "text": [
      "1 csd files found\n",
      "\u001b[92m\u001b[1m[2022-04-26 22:07:43.455] | Success | \u001b[0mComputational sequence read from file C:\\Users\\User\\Documents\\repos\\downloaded_datasets\\CMU_MOSEI_Labels.csd ...\n",
      "\u001b[94m\u001b[1m[2022-04-26 22:07:44.172] | Status  | \u001b[0mChecking the integrity of the <All Labels> computational sequence ...\n",
      "\u001b[94m\u001b[1m[2022-04-26 22:07:44.172] | Status  | \u001b[0mChecking the format of the data in <All Labels> computational sequence ...\n"
     ]
    },
    {
     "name": "stderr",
     "output_type": "stream",
     "text": [
      "                                                                                                                       "
     ]
    },
    {
     "name": "stdout",
     "output_type": "stream",
     "text": [
      "\u001b[92m\u001b[1m[2022-04-26 22:07:46.109] | Success | \u001b[0m<All Labels> computational sequence data in correct format.\n",
      "\u001b[94m\u001b[1m[2022-04-26 22:07:46.128] | Status  | \u001b[0mChecking the format of the metadata in <All Labels> computational sequence ...\n",
      "\u001b[93m\u001b[1m[2022-04-26 22:07:46.128] | Warning | \u001b[0m<All Labels> computational sequence does not have all the required metadata ... continuing \n",
      "\u001b[92m\u001b[1m[2022-04-26 22:07:46.129] | Success | \u001b[0mDataset initialized successfully ... \n"
     ]
    },
    {
     "name": "stderr",
     "output_type": "stream",
     "text": [
      "\r"
     ]
    }
   ],
   "source": [
    "import colorama\n",
    "import mmsdk\n",
    "from mmsdk import mmdatasdk\n",
    "import os\n",
    "from os import listdir\n",
    "from os.path import isfile, join\n",
    "\n",
    "# Path to csd files. If path is incorrect or missing the entire dataset will be downloaded\n",
    "pathf = 'C:\\\\Users\\\\User\\\\Documents\\\\repos\\\\downloaded_datasets'\n",
    "dataset_dictionary={}\n",
    "\n",
    "\n",
    "# choice={\"cmu_mosei\":mmdatasdk.cmu_mosei.highlevel,\"cmu_mosi\":mmdatasdk.cmu_mosi.highlevel,\"pom\":mmdatasdk.pom.highlevel}\n",
    "# labels={\"cmu_mosei\":mmdatasdk.cmu_mosei.labels,\"cmu_mosi\":mmdatasdk.cmu_mosi.labels,\"pom\":mmdatasdk.pom.labels}\n",
    "##ONLY RUN IF DATASET IS NOT PREVIOUSLY ALIGNED\n",
    "if os.path.isdir(pathf) is False:\n",
    "    dataset=mmdatasdk.mmdataset(mmdatasdk.cmu_mosei.highlevel,pathf)\n",
    "    dataset.add_computational_sequences(mmdatasdk.cmu_mosei.labels,pathf)\n",
    "else: \n",
    "    ##RUN IF DATASET IS PREVIOUSLY ALIGNED aka downloaded previously\n",
    "    csdfiles = [f for f in listdir(pathf) if isfile(join(pathf, f)) and f[-4:]=='.csd']\n",
    "    if len(csdfiles)==0:\n",
    "        print(\"No csd files in the given folder\")\n",
    "        exit(-2)\n",
    "\n",
    "    print(\"%d csd files found\"%len(csdfiles))\n",
    "    for csdfile in csdfiles:\n",
    "        dataset_dictionary[csdfile]=os.path.join(pathf,csdfile)\n",
    "    dataset=mmdatasdk.mmdataset(dataset_dictionary)"
   ]
  },
  {
   "cell_type": "code",
   "execution_count": 8,
   "metadata": {},
   "outputs": [],
   "source": [
    "import pandas as pd"
   ]
  },
  {
   "cell_type": "code",
   "execution_count": 9,
   "metadata": {
    "executionInfo": {
     "elapsed": 127,
     "status": "ok",
     "timestamp": 1650843047795,
     "user": {
      "displayName": "Calvin Milligan",
      "userId": "04067737593273056719"
     },
     "user_tz": 240
    },
    "id": "lvRAo6fkoJWD"
   },
   "outputs": [],
   "source": [
    "import os\n",
    "\n",
    "data_files = [(x[0], x[2]) for x in os.walk(\"C:\\\\Users\\\\User\\\\Documents\\\\repos\\\\WAV_16000\")]\n",
    "data_files = data_files[0][1]"
   ]
  },
  {
   "cell_type": "code",
   "execution_count": 10,
   "metadata": {
    "colab": {
     "base_uri": "https://localhost:8080/"
    },
    "executionInfo": {
     "elapsed": 127,
     "status": "ok",
     "timestamp": 1650843050163,
     "user": {
      "displayName": "Calvin Milligan",
      "userId": "04067737593273056719"
     },
     "user_tz": 240
    },
    "id": "B5_oZhOTqNNU",
    "outputId": "e528ce45-3aa1-4202-b0de-3be8cb78d899"
   },
   "outputs": [
    {
     "data": {
      "text/plain": [
       "3838"
      ]
     },
     "execution_count": 10,
     "metadata": {},
     "output_type": "execute_result"
    }
   ],
   "source": [
    "len(data_files)"
   ]
  },
  {
   "cell_type": "code",
   "execution_count": 11,
   "metadata": {
    "executionInfo": {
     "elapsed": 126,
     "status": "ok",
     "timestamp": 1650843054801,
     "user": {
      "displayName": "Calvin Milligan",
      "userId": "04067737593273056719"
     },
     "user_tz": 240
    },
    "id": "4QR-o989Xf9r"
   },
   "outputs": [],
   "source": [
    "fileids = []\n",
    "for i in range(len(data_files)):\n",
    "  fileids.append(data_files[i].strip('.wav'))"
   ]
  },
  {
   "cell_type": "code",
   "execution_count": 12,
   "metadata": {
    "executionInfo": {
     "elapsed": 971,
     "status": "ok",
     "timestamp": 1650843061160,
     "user": {
      "displayName": "Calvin Milligan",
      "userId": "04067737593273056719"
     },
     "user_tz": 240
    },
    "id": "JQDAOOoFqI-u"
   },
   "outputs": [],
   "source": [
    "import pandas as pd\n",
    "labelData = pd.read_csv(\"C:\\\\Users\\\\User\\\\Documents\\\\repos\\\\audioLabels.csv\")"
   ]
  },
  {
   "cell_type": "code",
   "execution_count": 13,
   "metadata": {
    "executionInfo": {
     "elapsed": 113,
     "status": "ok",
     "timestamp": 1650843063724,
     "user": {
      "displayName": "Calvin Milligan",
      "userId": "04067737593273056719"
     },
     "user_tz": 240
    },
    "id": "4mC6h9rKppH9"
   },
   "outputs": [],
   "source": [
    "sampledf = labelData"
   ]
  },
  {
   "cell_type": "code",
   "execution_count": 14,
   "metadata": {
    "colab": {
     "base_uri": "https://localhost:8080/"
    },
    "executionInfo": {
     "elapsed": 126,
     "status": "ok",
     "timestamp": 1650843068829,
     "user": {
      "displayName": "Calvin Milligan",
      "userId": "04067737593273056719"
     },
     "user_tz": 240
    },
    "id": "SlFskDnKwvg0",
    "outputId": "3a574514-1eed-44a8-bfa5-381f044bca44"
   },
   "outputs": [
    {
     "data": {
      "text/plain": [
       "3293"
      ]
     },
     "execution_count": 14,
     "metadata": {},
     "output_type": "execute_result"
    }
   ],
   "source": [
    "set1 = list(set(sampledf.file))\n",
    "\n",
    "\n",
    "master = list(set(set1))\n",
    "len(master)"
   ]
  },
  {
   "cell_type": "code",
   "execution_count": 15,
   "metadata": {
    "colab": {
     "base_uri": "https://localhost:8080/"
    },
    "executionInfo": {
     "elapsed": 226,
     "status": "ok",
     "timestamp": 1650843072771,
     "user": {
      "displayName": "Calvin Milligan",
      "userId": "04067737593273056719"
     },
     "user_tz": 240
    },
    "id": "XW5rJ6203zNU",
    "outputId": "04bc55ea-97d8-41af-c126-8ffb766ded9e"
   },
   "outputs": [
    {
     "data": {
      "text/plain": [
       "3838"
      ]
     },
     "execution_count": 15,
     "metadata": {},
     "output_type": "execute_result"
    }
   ],
   "source": [
    "len(fileids)"
   ]
  },
  {
   "cell_type": "code",
   "execution_count": 16,
   "metadata": {
    "colab": {
     "base_uri": "https://localhost:8080/",
     "height": 423
    },
    "executionInfo": {
     "elapsed": 142,
     "status": "ok",
     "timestamp": 1650843082496,
     "user": {
      "displayName": "Calvin Milligan",
      "userId": "04067737593273056719"
     },
     "user_tz": 240
    },
    "id": "mTIVFRqisU_7",
    "outputId": "98e99faf-7c9b-4a56-b6cc-6679486d459d"
   },
   "outputs": [
    {
     "data": {
      "text/html": [
       "<div>\n",
       "<style scoped>\n",
       "    .dataframe tbody tr th:only-of-type {\n",
       "        vertical-align: middle;\n",
       "    }\n",
       "\n",
       "    .dataframe tbody tr th {\n",
       "        vertical-align: top;\n",
       "    }\n",
       "\n",
       "    .dataframe thead th {\n",
       "        text-align: right;\n",
       "    }\n",
       "</style>\n",
       "<table border=\"1\" class=\"dataframe\">\n",
       "  <thead>\n",
       "    <tr style=\"text-align: right;\">\n",
       "      <th></th>\n",
       "      <th>Unnamed: 0</th>\n",
       "      <th>file</th>\n",
       "      <th>start</th>\n",
       "      <th>end</th>\n",
       "      <th>sentiment</th>\n",
       "      <th>happy</th>\n",
       "      <th>sad</th>\n",
       "      <th>anger</th>\n",
       "      <th>surprise</th>\n",
       "      <th>disgust</th>\n",
       "      <th>fear</th>\n",
       "    </tr>\n",
       "  </thead>\n",
       "  <tbody>\n",
       "    <tr>\n",
       "      <th>0</th>\n",
       "      <td>0</td>\n",
       "      <td>--qXJuDtHPw</td>\n",
       "      <td>23.199</td>\n",
       "      <td>30.325</td>\n",
       "      <td>1.000000</td>\n",
       "      <td>0.666667</td>\n",
       "      <td>0.000000</td>\n",
       "      <td>0.0</td>\n",
       "      <td>0.0</td>\n",
       "      <td>0.0</td>\n",
       "      <td>0.000000</td>\n",
       "    </tr>\n",
       "    <tr>\n",
       "      <th>1</th>\n",
       "      <td>1</td>\n",
       "      <td>-3g5yACwYnA</td>\n",
       "      <td>82.753</td>\n",
       "      <td>100.555</td>\n",
       "      <td>1.000000</td>\n",
       "      <td>0.666667</td>\n",
       "      <td>0.666667</td>\n",
       "      <td>0.0</td>\n",
       "      <td>0.0</td>\n",
       "      <td>0.0</td>\n",
       "      <td>0.666667</td>\n",
       "    </tr>\n",
       "    <tr>\n",
       "      <th>2</th>\n",
       "      <td>2</td>\n",
       "      <td>-3g5yACwYnA</td>\n",
       "      <td>119.919</td>\n",
       "      <td>125.299</td>\n",
       "      <td>0.666667</td>\n",
       "      <td>0.000000</td>\n",
       "      <td>0.000000</td>\n",
       "      <td>0.0</td>\n",
       "      <td>0.0</td>\n",
       "      <td>0.0</td>\n",
       "      <td>0.000000</td>\n",
       "    </tr>\n",
       "    <tr>\n",
       "      <th>3</th>\n",
       "      <td>3</td>\n",
       "      <td>-3g5yACwYnA</td>\n",
       "      <td>4.840</td>\n",
       "      <td>14.052</td>\n",
       "      <td>0.000000</td>\n",
       "      <td>0.666667</td>\n",
       "      <td>0.666667</td>\n",
       "      <td>0.0</td>\n",
       "      <td>0.0</td>\n",
       "      <td>0.0</td>\n",
       "      <td>0.333333</td>\n",
       "    </tr>\n",
       "    <tr>\n",
       "      <th>4</th>\n",
       "      <td>4</td>\n",
       "      <td>-3g5yACwYnA</td>\n",
       "      <td>13.211</td>\n",
       "      <td>27.521</td>\n",
       "      <td>0.000000</td>\n",
       "      <td>0.333333</td>\n",
       "      <td>0.333333</td>\n",
       "      <td>0.0</td>\n",
       "      <td>0.0</td>\n",
       "      <td>0.0</td>\n",
       "      <td>0.000000</td>\n",
       "    </tr>\n",
       "    <tr>\n",
       "      <th>...</th>\n",
       "      <td>...</td>\n",
       "      <td>...</td>\n",
       "      <td>...</td>\n",
       "      <td>...</td>\n",
       "      <td>...</td>\n",
       "      <td>...</td>\n",
       "      <td>...</td>\n",
       "      <td>...</td>\n",
       "      <td>...</td>\n",
       "      <td>...</td>\n",
       "      <td>...</td>\n",
       "    </tr>\n",
       "    <tr>\n",
       "      <th>23254</th>\n",
       "      <td>23254</td>\n",
       "      <td>zwTrXwi54us</td>\n",
       "      <td>47.444</td>\n",
       "      <td>49.312</td>\n",
       "      <td>0.000000</td>\n",
       "      <td>0.000000</td>\n",
       "      <td>0.000000</td>\n",
       "      <td>0.0</td>\n",
       "      <td>0.0</td>\n",
       "      <td>0.0</td>\n",
       "      <td>0.000000</td>\n",
       "    </tr>\n",
       "    <tr>\n",
       "      <th>23255</th>\n",
       "      <td>23255</td>\n",
       "      <td>zwTrXwi54us</td>\n",
       "      <td>48.511</td>\n",
       "      <td>53.652</td>\n",
       "      <td>0.000000</td>\n",
       "      <td>0.000000</td>\n",
       "      <td>0.000000</td>\n",
       "      <td>0.0</td>\n",
       "      <td>0.0</td>\n",
       "      <td>0.0</td>\n",
       "      <td>0.000000</td>\n",
       "    </tr>\n",
       "    <tr>\n",
       "      <th>23256</th>\n",
       "      <td>23256</td>\n",
       "      <td>zwTrXwi54us</td>\n",
       "      <td>52.652</td>\n",
       "      <td>57.942</td>\n",
       "      <td>1.000000</td>\n",
       "      <td>1.000000</td>\n",
       "      <td>0.000000</td>\n",
       "      <td>0.0</td>\n",
       "      <td>0.0</td>\n",
       "      <td>0.0</td>\n",
       "      <td>0.000000</td>\n",
       "    </tr>\n",
       "    <tr>\n",
       "      <th>23257</th>\n",
       "      <td>23257</td>\n",
       "      <td>zwTrXwi54us</td>\n",
       "      <td>57.980</td>\n",
       "      <td>69.326</td>\n",
       "      <td>0.666667</td>\n",
       "      <td>0.333333</td>\n",
       "      <td>0.000000</td>\n",
       "      <td>0.0</td>\n",
       "      <td>0.0</td>\n",
       "      <td>0.0</td>\n",
       "      <td>0.000000</td>\n",
       "    </tr>\n",
       "    <tr>\n",
       "      <th>23258</th>\n",
       "      <td>23258</td>\n",
       "      <td>zx4W0Vuus-I</td>\n",
       "      <td>15.057</td>\n",
       "      <td>38.327</td>\n",
       "      <td>1.000000</td>\n",
       "      <td>1.000000</td>\n",
       "      <td>0.000000</td>\n",
       "      <td>0.0</td>\n",
       "      <td>0.0</td>\n",
       "      <td>0.0</td>\n",
       "      <td>0.000000</td>\n",
       "    </tr>\n",
       "  </tbody>\n",
       "</table>\n",
       "<p>23259 rows × 11 columns</p>\n",
       "</div>"
      ],
      "text/plain": [
       "       Unnamed: 0         file    start      end  sentiment     happy  \\\n",
       "0               0  --qXJuDtHPw   23.199   30.325   1.000000  0.666667   \n",
       "1               1  -3g5yACwYnA   82.753  100.555   1.000000  0.666667   \n",
       "2               2  -3g5yACwYnA  119.919  125.299   0.666667  0.000000   \n",
       "3               3  -3g5yACwYnA    4.840   14.052   0.000000  0.666667   \n",
       "4               4  -3g5yACwYnA   13.211   27.521   0.000000  0.333333   \n",
       "...           ...          ...      ...      ...        ...       ...   \n",
       "23254       23254  zwTrXwi54us   47.444   49.312   0.000000  0.000000   \n",
       "23255       23255  zwTrXwi54us   48.511   53.652   0.000000  0.000000   \n",
       "23256       23256  zwTrXwi54us   52.652   57.942   1.000000  1.000000   \n",
       "23257       23257  zwTrXwi54us   57.980   69.326   0.666667  0.333333   \n",
       "23258       23258  zx4W0Vuus-I   15.057   38.327   1.000000  1.000000   \n",
       "\n",
       "            sad  anger  surprise  disgust      fear  \n",
       "0      0.000000    0.0       0.0      0.0  0.000000  \n",
       "1      0.666667    0.0       0.0      0.0  0.666667  \n",
       "2      0.000000    0.0       0.0      0.0  0.000000  \n",
       "3      0.666667    0.0       0.0      0.0  0.333333  \n",
       "4      0.333333    0.0       0.0      0.0  0.000000  \n",
       "...         ...    ...       ...      ...       ...  \n",
       "23254  0.000000    0.0       0.0      0.0  0.000000  \n",
       "23255  0.000000    0.0       0.0      0.0  0.000000  \n",
       "23256  0.000000    0.0       0.0      0.0  0.000000  \n",
       "23257  0.000000    0.0       0.0      0.0  0.000000  \n",
       "23258  0.000000    0.0       0.0      0.0  0.000000  \n",
       "\n",
       "[23259 rows x 11 columns]"
      ]
     },
     "execution_count": 16,
     "metadata": {},
     "output_type": "execute_result"
    }
   ],
   "source": [
    "sampledf"
   ]
  },
  {
   "cell_type": "code",
   "execution_count": 17,
   "metadata": {},
   "outputs": [],
   "source": [
    "from os.path import exists\n",
    "\n",
    "# file_exists = exists(path_to_file)"
   ]
  },
  {
   "cell_type": "code",
   "execution_count": 18,
   "metadata": {
    "executionInfo": {
     "elapsed": 2597,
     "status": "ok",
     "timestamp": 1650843100752,
     "user": {
      "displayName": "Calvin Milligan",
      "userId": "04067737593273056719"
     },
     "user_tz": 240
    },
    "id": "MSnFzObKbI34"
   },
   "outputs": [],
   "source": [
    "import librosa, librosa.display\n",
    "import matplotlib.pyplot as plt\n",
    "import numpy as np\n",
    "def pickleme(filels):\n",
    "    numSamplesFFT = 2048\n",
    "    hopLength = 512\n",
    "    d = 0\n",
    "    validfiles_temp = filels\n",
    "    for i in validfiles_temp:\n",
    "        labelData_temp = sampledf[sampledf.file == i].reset_index()\n",
    "        d += 1\n",
    "        if d % 50 == 0:\n",
    "          print(d / len(validfiles_temp), end= \" \")\n",
    "        tempdir = 'C:\\\\Users\\\\User\\\\Documents\\\\repos\\\\WAV_16000\\\\' + str(i) + '.wav'\n",
    "        temptextdir = 'C:\\\\Users\\\\User\\\\Documents\\\\repos\\\\Combined\\\\' + str(i) + '.txt'\n",
    "        file_exists = exists(tempdir)\n",
    "        file_exists_text = exists(temptextdir)\n",
    "        if file_exists & file_exists_text:\n",
    "            for j in range(len(labelData_temp)):\n",
    "                text_df_temp = pd.read_csv(temptextdir, sep='___', header=None)\n",
    "                text_df_temp = text_df_temp[text_df_temp[1] == j]\n",
    "                text_temp = text_df_temp[4]\n",
    "                signal_temp, sampleRate_temp = librosa.load(tempdir, sr=16000)\n",
    "                start_t = float(labelData_temp.iloc[[j]].start)\n",
    "                end_t = float(labelData_temp.iloc[[j]].end)\n",
    "                if start_t < 0:\n",
    "                  start_t = 0\n",
    "                start_index = librosa.time_to_samples(start_t, sr=sampleRate_temp)\n",
    "                end_index = librosa.time_to_samples(end_t, sr=sampleRate_temp)\n",
    "                signal_temp_slice = signal_temp[int(start_index):int(end_index)]\n",
    "                MFCC = librosa.feature.mfcc(signal_temp_slice, n_fft=numSamplesFFT, hop_length=hopLength, n_mfcc=288)\n",
    "                MFCC = librosa.util.fix_length(MFCC, size=850)\n",
    "                librosa.display.specshow(MFCC, sr=16000, hop_length=hopLength)\n",
    "                plt.savefig('C:\\\\Users\\\\User\\\\Documents\\\\repos\\\\MFCCs\\\\' + str(i) + '-' + str(j))\n",
    "                yield (str(i), j, signal_temp_slice, MFCC, str(text_temp),\n",
    "                          float(labelData_temp.iloc[[j]].sentiment), \n",
    "                          float(labelData_temp.iloc[[j]].happy), \n",
    "                          float(labelData_temp.iloc[[j]].sad), \n",
    "                          float(labelData_temp.iloc[[j]].anger), \n",
    "                          float(labelData_temp.iloc[[j]].surprise), \n",
    "                          float(labelData_temp.iloc[[j]].disgust), \n",
    "                          float(labelData_temp.iloc[[j]].fear))"
   ]
  },
  {
   "cell_type": "code",
   "execution_count": 24,
   "metadata": {},
   "outputs": [],
   "source": [
    "import librosa, librosa.display\n",
    "import matplotlib.pyplot as plt\n",
    "import numpy as np\n",
    "def picklemelabels(filels):\n",
    "    numSamplesFFT = 2048\n",
    "    hopLength = 512\n",
    "    d = 0\n",
    "    validfiles_temp = filels\n",
    "    for i in validfiles_temp:\n",
    "        labelData_temp = sampledf[sampledf.file == i].reset_index()\n",
    "        d += 1\n",
    "        if d % 50 == 0:\n",
    "          print(d / len(validfiles_temp), end= \" \")\n",
    "        tempdir = 'C:\\\\Users\\\\User\\\\Documents\\\\repos\\\\WAV_16000\\\\' + str(i) + '.wav'\n",
    "        temptextdir = 'C:\\\\Users\\\\User\\\\Documents\\\\repos\\\\Combined\\\\' + str(i) + '.txt'\n",
    "        file_exists = exists(tempdir)\n",
    "        file_exists_text = exists(temptextdir)\n",
    "        if file_exists & file_exists_text:\n",
    "            for j in range(len(labelData_temp)):\n",
    "                text_df_temp = pd.read_csv(temptextdir, sep='___', header=None)\n",
    "                text_df_temp = text_df_temp[text_df_temp[1] == j]\n",
    "                text_temp = text_df_temp[4]\n",
    "#                 signal_temp, sampleRate_temp = librosa.load(tempdir, sr=16000)\n",
    "#                 start_t = float(labelData_temp.iloc[[j]].start)\n",
    "#                 end_t = float(labelData_temp.iloc[[j]].end)\n",
    "#                 if start_t < 0:\n",
    "#                   start_t = 0\n",
    "#                 start_index = librosa.time_to_samples(start_t, sr=sampleRate_temp)\n",
    "#                 end_index = librosa.time_to_samples(end_t, sr=sampleRate_temp)\n",
    "#                 signal_temp_slice = signal_temp[int(start_index):int(end_index)]\n",
    "#                 MFCC = librosa.feature.mfcc(signal_temp_slice, n_fft=numSamplesFFT, hop_length=hopLength, n_mfcc=288)\n",
    "#                 MFCC = librosa.util.fix_length(MFCC, size=850)\n",
    "#                 plt.savefig('C:\\\\Users\\\\User\\\\Documents\\\\repos\\\\MFCCs\\\\' + str(i) + '-' + str(j))\n",
    "                yield (str(str(i) + '-' + str(j)), str(text_temp),\n",
    "                          float(labelData_temp.iloc[[j]].sentiment), \n",
    "                          float(labelData_temp.iloc[[j]].happy), \n",
    "                          float(labelData_temp.iloc[[j]].sad), \n",
    "                          float(labelData_temp.iloc[[j]].anger), \n",
    "                          float(labelData_temp.iloc[[j]].surprise), \n",
    "                          float(labelData_temp.iloc[[j]].disgust), \n",
    "                          float(labelData_temp.iloc[[j]].fear))"
   ]
  },
  {
   "cell_type": "code",
   "execution_count": 20,
   "metadata": {
    "executionInfo": {
     "elapsed": 123,
     "status": "ok",
     "timestamp": 1650843112926,
     "user": {
      "displayName": "Calvin Milligan",
      "userId": "04067737593273056719"
     },
     "user_tz": 240
    },
    "id": "QaFC_PV2yjAJ"
   },
   "outputs": [],
   "source": [
    "# obtain the train/dev/test splits - these splits are based on video IDs\n",
    "train_split = mmdatasdk.cmu_mosei.standard_folds.standard_train_fold\n",
    "dev_split = mmdatasdk.cmu_mosei.standard_folds.standard_valid_fold\n",
    "test_split = mmdatasdk.cmu_mosei.standard_folds.standard_test_fold\n"
   ]
  },
  {
   "cell_type": "code",
   "execution_count": 21,
   "metadata": {
    "colab": {
     "base_uri": "https://localhost:8080/"
    },
    "id": "fTkfEa1TyjAK",
    "outputId": "59bc9952-a737-4a96-c52b-ee1233961695"
   },
   "outputs": [],
   "source": [
    "import sys\n",
    "import warnings\n",
    "warnings.filterwarnings(\"ignore\")\n",
    "\n",
    "train_split_data = pickleme(train_split[1:2000])\n",
    "dev_split_data = pickleme(dev_split)\n",
    "test_split_data = pickleme(test_split)"
   ]
  },
  {
   "cell_type": "code",
   "execution_count": null,
   "metadata": {},
   "outputs": [],
   "source": [
    "train_split_data = pickleme(train_split)"
   ]
  },
  {
   "cell_type": "code",
   "execution_count": null,
   "metadata": {
    "id": "nUf_OG7IyjAL",
    "outputId": "ec53a377-7570-4a2c-af12-f069ebdbcec1"
   },
   "outputs": [
    {
     "name": "stdout",
     "output_type": "stream",
     "text": [
      "0.02501250625312656 0.05002501250625312 "
     ]
    }
   ],
   "source": [
    "import pickle\n",
    "obj = []\n",
    "file_path = 'audioDataTrain2000.pickle'\n",
    "pickle_out = open(file_path,\"wb\")\n",
    "pickle.dump(obj, pickle_out)\n",
    "pickle_out.close()\n",
    "for i in train_split_data:\n",
    "    file = open(file_path, 'rb')\n",
    "    old_data = pickle.load(file) \n",
    "    old_data += i\n",
    "    with open(file_path, 'ab+') as fp:\n",
    "        pickle.dump(old_data, fp)\n",
    "        fp.close()"
   ]
  },
  {
   "cell_type": "code",
   "execution_count": 30,
   "metadata": {},
   "outputs": [
    {
     "name": "stdout",
     "output_type": "stream",
     "text": [
      "0.16666666666666666 0.3333333333333333 0.5 0.6666666666666666 0.8333333333333334 1.0 "
     ]
    }
   ],
   "source": [
    "import pickle\n",
    "obj = []\n",
    "file_path = 'audioDataDevLabels.pickle'\n",
    "pickle_out = open(file_path, \"wb\")\n",
    "pickle.dump(obj, pickle_out)\n",
    "pickle_out.close()\n",
    "for i in dev_split_data:\n",
    "    file = open(file_path, 'rb')\n",
    "    old_data = pickle.load(file) \n",
    "    old_data += i\n",
    "    with open(file_path, 'ab+') as fp:\n",
    "        pickle.dump(old_data, fp)\n",
    "        fp.close()"
   ]
  },
  {
   "cell_type": "code",
   "execution_count": 31,
   "metadata": {},
   "outputs": [
    {
     "name": "stdout",
     "output_type": "stream",
     "text": [
      "0.07374631268436578 0.14749262536873156 0.22123893805309736 0.2949852507374631 0.3687315634218289 0.4424778761061947 0.5162241887905604 0.5899705014749262 0.6637168141592921 0.7374631268436578 0.8112094395280236 0.8849557522123894 0.9587020648967551 "
     ]
    }
   ],
   "source": [
    "obj = []\n",
    "file_path = 'audioDataTestLabels.pickle'\n",
    "pickle_out = open(file_path,\"wb\")\n",
    "pickle.dump(obj, pickle_out)\n",
    "pickle_out.close()\n",
    "for i in test_split_data:\n",
    "    file = open(file_path, 'rb')\n",
    "    old_data = pickle.load(file) \n",
    "    old_data += i\n",
    "    with open(file_path, 'ab+') as fp:\n",
    "        pickle.dump(old_data, fp)\n",
    "        fp.close()"
   ]
  },
  {
   "cell_type": "code",
   "execution_count": 32,
   "metadata": {},
   "outputs": [],
   "source": [
    "file_path = 'audioDataTest.pickle'\n",
    "pickle_out = open(file_path,\"rb\")\n",
    "pickle_out.close()"
   ]
  },
  {
   "cell_type": "code",
   "execution_count": 77,
   "metadata": {},
   "outputs": [],
   "source": [
    "objects = []\n",
    "file_name = \"audioDataDev.pickle\"\n",
    "\n",
    "with (open(file_name, \"rb\")) as f:\n",
    "    while True:\n",
    "        try:\n",
    "            objects.append(pickle.load(f))\n",
    "        except EOFError:\n",
    "            break\n",
    "f.close()"
   ]
  },
  {
   "cell_type": "code",
   "execution_count": 78,
   "metadata": {},
   "outputs": [
    {
     "data": {
      "text/plain": [
       "(13, 850)"
      ]
     },
     "execution_count": 78,
     "metadata": {},
     "output_type": "execute_result"
    }
   ],
   "source": [
    "# Gives the audio id key for the 1000th sample\n",
    "objects[1000][1]"
   ]
  },
  {
   "cell_type": "code",
   "execution_count": 54,
   "metadata": {
    "colab": {
     "base_uri": "https://localhost:8080/",
     "height": 252
    },
    "id": "EWuH3RSI9Mwm",
    "outputId": "a41f1733-164b-4eb5-ecab-aa044e91abdb"
   },
   "outputs": [
    {
     "data": {
      "text/plain": [
       "<matplotlib.collections.QuadMesh at 0x1d9182fc820>"
      ]
     },
     "execution_count": 54,
     "metadata": {},
     "output_type": "execute_result"
    },
    {
     "data": {
      "image/png": "[encoded data removed]",
      "text/plain": [
       "<Figure size 432x288 with 1 Axes>"
      ]
     },
     "metadata": {},
     "output_type": "display_data"
    }
   ],
   "source": [
    "hopLength = 512\n",
    "\n",
    "librosa.display.specshow(objects[10000][14], sr=16000, hop_length=hopLength)"
   ]
  }
 ],
 "metadata": {
  "colab": {
   "collapsed_sections": [],
   "name": "audioDataProcessingRevised.ipynb",
   "provenance": []
  },
  "kernelspec": {
   "display_name": "Python 3 (ipykernel)",
   "language": "python",
   "name": "python3"
  },
  "language_info": {
   "codemirror_mode": {
    "name": "ipython",
    "version": 3
   },
   "file_extension": ".py",
   "mimetype": "text/x-python",
   "name": "python",
   "nbconvert_exporter": "python",
   "pygments_lexer": "ipython3",
   "version": "3.8.12"
  }
 },
 "nbformat": 4,
 "nbformat_minor": 4
}
