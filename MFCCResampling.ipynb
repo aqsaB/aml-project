{
  "nbformat": 4,
  "nbformat_minor": 0,
  "metadata": {
    "colab": {
      "name": "MFCCResampling.ipynb",
      "provenance": []
    },
    "kernelspec": {
      "name": "python3",
      "display_name": "Python 3"
    },
    "language_info": {
      "name": "python"
    }
  },
  "cells": [
    {
      "cell_type": "code",
      "source": [
        "from google.colab import drive\n",
        "drive.mount('/content/gdrive')"
      ],
      "metadata": {
        "colab": {
          "base_uri": "https://localhost:8080/"
        },
        "id": "brc4Q6px6ajW",
        "outputId": "5c00210e-fb6e-4ae5-b262-b15276e14441"
      },
      "execution_count": 2,
      "outputs": [
        {
          "output_type": "stream",
          "name": "stdout",
          "text": [
            "Mounted at /content/gdrive\n"
          ]
        }
      ]
    },
    {
      "cell_type": "code",
      "source": [
        "import os\n",
        "\n",
        "data_files = [(x[0], x[2]) for x in os.walk(\"/content/gdrive/MyDrive/AMLProject/audioNN/WAV_1600\")]\n",
        "#print(data_files)\n",
        "data_files = data_files[0][1]"
      ],
      "metadata": {
        "id": "v3TLyL9M2ifx"
      },
      "execution_count": 3,
      "outputs": []
    },
    {
      "cell_type": "code",
      "source": [
        "fileids = [];\n",
        "for i in range(len(data_files)):\n",
        "  fileids.append(data_files[i].strip('.wav'))\n",
        "print(fileids)"
      ],
      "metadata": {
        "id": "4QR-o989Xf9r",
        "colab": {
          "base_uri": "https://localhost:8080/"
        },
        "outputId": "4698e080-ada1-4978-8b8e-4d9db4b600e5"
      },
      "execution_count": 4,
      "outputs": [
        {
          "output_type": "stream",
          "name": "stdout",
          "text": [
            "['_BtdwH6mfWg', '_gzYkdjNvPc', '_BvNNdEkhZA', '_HabvL0VnrQ', '_BXmhCPTQmA', '_gr7o5ynhn', '_HanACduNJk', '_iy7ftq27xE', '_iRAn6feOm', '_OmWVs0-6UM', '_K0okiLaF9I', '_KGd7IpX3B4', '_JcML8u5Wes', '_MGd6t9eZP8', '_on_E-ZWy0I', '_PJ26YwqRJE', '_PKP676ez2c', '_qVgNLJCYdA', '_q7DM8WkzAQ', '_v8c7iWkYz0', '_tBaGXNwlp0', '_t8ETpf2LnM', '_UNQDdiAbWI', '_ZlF5Q9W1DM', '_xjBqNfiEY4', '_WA0HtVEe8U', '_XWUKMkxa-Q', '_Vp4SDp_knI', '_YzIvwvyIq4', '_WkXQNVLQXs', '0AA-wmk8WdA', '0AkGtPzl7D8', '0bsTzavb-AE', '0BVed2nBq1g', '0cBmQ_ItVUc', '0bxhZ-LIfZY', '0EAAfLCQabY', '0DBfvvIVmqY', '_1nvuNk7EFY', '0FA32bEZ6xI', '_0efYOjQYRc', '0EphpADwdPg', '0eTibWQdO5M', '_4PNh8dIILI', '_2u0MkRqpjA', '_4K620KW_Is', '_7HVhnSYX1Y', '_26JmJnPKfM', '_BMdEKNF5Js', '_aJghSQmxD8', '_8pvMpMdGM4', '_aZDaIfGfPo', '_bIJOxiIJFk']\n"
          ]
        }
      ]
    },
    {
      "cell_type": "code",
      "source": [
        "import librosa, librosa.display\n",
        "import matplotlib.pyplot as plt\n",
        "import numpy as np\n",
        "\n",
        "signals = []\n",
        "rates = []\n",
        "fileids = []\n",
        "for i in data_files:\n",
        "    tempdir = '/content/gdrive/MyDrive/AMLProject/audioNN/WAV_1600/' + str(i)\n",
        "    signal_temp, sampleRate_temp = librosa.load(tempdir, sr=22050)\n",
        "    fileids.append(i)\n",
        "    signals.append(signal_temp)\n",
        "    rates.append(sampleRate_temp)\n"
      ],
      "metadata": {
        "id": "6qqGa94636jI"
      },
      "execution_count": 5,
      "outputs": []
    },
    {
      "cell_type": "code",
      "source": [
        "fileids = [];\n",
        "for i in range(len(data_files)):\n",
        "  fileids.append(data_files[i].strip('.wav'))\n",
        "print(fileids)"
      ],
      "metadata": {
        "colab": {
          "base_uri": "https://localhost:8080/"
        },
        "id": "EO0dCikjkLpM",
        "outputId": "c64db289-93f9-410d-fcb3-bbd4b38e6c25"
      },
      "execution_count": 6,
      "outputs": [
        {
          "output_type": "stream",
          "name": "stdout",
          "text": [
            "['_BtdwH6mfWg', '_gzYkdjNvPc', '_BvNNdEkhZA', '_HabvL0VnrQ', '_BXmhCPTQmA', '_gr7o5ynhn', '_HanACduNJk', '_iy7ftq27xE', '_iRAn6feOm', '_OmWVs0-6UM', '_K0okiLaF9I', '_KGd7IpX3B4', '_JcML8u5Wes', '_MGd6t9eZP8', '_on_E-ZWy0I', '_PJ26YwqRJE', '_PKP676ez2c', '_qVgNLJCYdA', '_q7DM8WkzAQ', '_v8c7iWkYz0', '_tBaGXNwlp0', '_t8ETpf2LnM', '_UNQDdiAbWI', '_ZlF5Q9W1DM', '_xjBqNfiEY4', '_WA0HtVEe8U', '_XWUKMkxa-Q', '_Vp4SDp_knI', '_YzIvwvyIq4', '_WkXQNVLQXs', '0AA-wmk8WdA', '0AkGtPzl7D8', '0bsTzavb-AE', '0BVed2nBq1g', '0cBmQ_ItVUc', '0bxhZ-LIfZY', '0EAAfLCQabY', '0DBfvvIVmqY', '_1nvuNk7EFY', '0FA32bEZ6xI', '_0efYOjQYRc', '0EphpADwdPg', '0eTibWQdO5M', '_4PNh8dIILI', '_2u0MkRqpjA', '_4K620KW_Is', '_7HVhnSYX1Y', '_26JmJnPKfM', '_BMdEKNF5Js', '_aJghSQmxD8', '_8pvMpMdGM4', '_aZDaIfGfPo', '_bIJOxiIJFk']\n"
          ]
        }
      ]
    },
    {
      "cell_type": "code",
      "source": [
        "print([signals[0]])"
      ],
      "metadata": {
        "colab": {
          "base_uri": "https://localhost:8080/"
        },
        "id": "MldcAEZBkkpo",
        "outputId": "48b6dc8a-3fff-4ed4-aba0-93cbb24fe78e"
      },
      "execution_count": 7,
      "outputs": [
        {
          "output_type": "stream",
          "name": "stdout",
          "text": [
            "[array([ 0.000000e+00,  0.000000e+00,  0.000000e+00, ...,  4.306241e-06,\n",
            "       -7.964126e-07,  0.000000e+00], dtype=float32)]\n"
          ]
        }
      ]
    },
    {
      "cell_type": "code",
      "source": [
        "new_list = signals[0][300:322]\n",
        "print(new_list)\n"
      ],
      "metadata": {
        "colab": {
          "base_uri": "https://localhost:8080/"
        },
        "id": "HkJYvkKMqKUu",
        "outputId": "3dcd8475-fcdf-4cb4-e5e8-c355c97810a8"
      },
      "execution_count": 8,
      "outputs": [
        {
          "output_type": "stream",
          "name": "stdout",
          "text": [
            "[0. 0. 0. 0. 0. 0. 0. 0. 0. 0. 0. 0. 0. 0. 0. 0. 0. 0. 0. 0. 0. 0.]\n"
          ]
        }
      ]
    },
    {
      "cell_type": "code",
      "source": [
        "a = [1,20,31,4,5,6]\n",
        "b = a[2:5]\n",
        "index = a.index(5)\n",
        "print(index)"
      ],
      "metadata": {
        "colab": {
          "base_uri": "https://localhost:8080/"
        },
        "id": "XRdZqFWkqrUA",
        "outputId": "2bb2dd2c-6bcc-44f9-ba5a-cb6575cdf2eb"
      },
      "execution_count": 9,
      "outputs": [
        {
          "output_type": "stream",
          "name": "stdout",
          "text": [
            "4\n"
          ]
        }
      ]
    },
    {
      "cell_type": "code",
      "source": [
        "print(fileids[0])\n",
        "print(signals[0].shape)\n",
        "print(signals[2].shape)\n",
        "print(signals[3].shape)\n",
        "print(signals[10].shape)"
      ],
      "metadata": {
        "colab": {
          "base_uri": "https://localhost:8080/"
        },
        "id": "kidLIINi5uWA",
        "outputId": "2932fee9-c913-419a-e15d-fc38840e4bac"
      },
      "execution_count": 10,
      "outputs": [
        {
          "output_type": "stream",
          "name": "stdout",
          "text": [
            "_BtdwH6mfWg\n",
            "(2189825,)\n",
            "(2323457,)\n",
            "(3916289,)\n",
            "(1169410,)\n"
          ]
        }
      ]
    },
    {
      "cell_type": "code",
      "source": [
        "%cd /content/gdrive/MyDrive/AMLProject/Multimodal_Dataset"
      ],
      "metadata": {
        "colab": {
          "base_uri": "https://localhost:8080/"
        },
        "id": "-R2nMB4K97SC",
        "outputId": "a0ee8e71-2464-45bd-d34e-a360ecff7bfb"
      },
      "execution_count": 11,
      "outputs": [
        {
          "output_type": "stream",
          "name": "stdout",
          "text": [
            "/content/gdrive/.shortcut-targets-by-id/19hXWzWoU0l_6KZqYHC_U7mp25fP6na39/AMLProject/Multimodal_Dataset\n"
          ]
        }
      ]
    },
    {
      "cell_type": "code",
      "source": [
        "\n",
        "!git clone https://github.com/A2Zadeh/CMU-MultimodalSDK.git"
      ],
      "metadata": {
        "colab": {
          "base_uri": "https://localhost:8080/"
        },
        "id": "qQtuu6Hl7zeN",
        "outputId": "6f289af9-8b6c-4d0a-c9b7-e3be4515bd37"
      },
      "execution_count": 12,
      "outputs": [
        {
          "output_type": "stream",
          "name": "stdout",
          "text": [
            "fatal: destination path 'CMU-MultimodalSDK' already exists and is not an empty directory.\n"
          ]
        }
      ]
    },
    {
      "cell_type": "code",
      "source": [
        "!pip install h5py validators tqdm numpy argparse requests colorama"
      ],
      "metadata": {
        "colab": {
          "base_uri": "https://localhost:8080/",
          "height": 434
        },
        "id": "35jFxWGZ50DQ",
        "outputId": "c8d49ee1-c45f-495e-b4b3-7bb7e4db9b48"
      },
      "execution_count": 13,
      "outputs": [
        {
          "output_type": "stream",
          "name": "stdout",
          "text": [
            "Requirement already satisfied: h5py in /usr/local/lib/python3.7/dist-packages (3.1.0)\n",
            "Collecting validators\n",
            "  Downloading validators-0.18.2-py3-none-any.whl (19 kB)\n",
            "Requirement already satisfied: tqdm in /usr/local/lib/python3.7/dist-packages (4.64.0)\n",
            "Requirement already satisfied: numpy in /usr/local/lib/python3.7/dist-packages (1.21.6)\n",
            "Collecting argparse\n",
            "  Downloading argparse-1.4.0-py2.py3-none-any.whl (23 kB)\n",
            "Requirement already satisfied: requests in /usr/local/lib/python3.7/dist-packages (2.23.0)\n",
            "Collecting colorama\n",
            "  Downloading colorama-0.4.4-py2.py3-none-any.whl (16 kB)\n",
            "Requirement already satisfied: cached-property in /usr/local/lib/python3.7/dist-packages (from h5py) (1.5.2)\n",
            "Requirement already satisfied: decorator>=3.4.0 in /usr/local/lib/python3.7/dist-packages (from validators) (4.4.2)\n",
            "Requirement already satisfied: six>=1.4.0 in /usr/local/lib/python3.7/dist-packages (from validators) (1.15.0)\n",
            "Requirement already satisfied: idna<3,>=2.5 in /usr/local/lib/python3.7/dist-packages (from requests) (2.10)\n",
            "Requirement already satisfied: urllib3!=1.25.0,!=1.25.1,<1.26,>=1.21.1 in /usr/local/lib/python3.7/dist-packages (from requests) (1.24.3)\n",
            "Requirement already satisfied: chardet<4,>=3.0.2 in /usr/local/lib/python3.7/dist-packages (from requests) (3.0.4)\n",
            "Requirement already satisfied: certifi>=2017.4.17 in /usr/local/lib/python3.7/dist-packages (from requests) (2021.10.8)\n",
            "Installing collected packages: validators, colorama, argparse\n",
            "Successfully installed argparse-1.4.0 colorama-0.4.4 validators-0.18.2\n"
          ]
        },
        {
          "output_type": "display_data",
          "data": {
            "application/vnd.colab-display-data+json": {
              "pip_warning": {
                "packages": [
                  "argparse"
                ]
              }
            }
          },
          "metadata": {}
        }
      ]
    },
    {
      "cell_type": "code",
      "source": [
        "%set_env PYTHONPATH=/content/gdrive/MyDrive/AMLProject/Multimodal_Dataset/CMU-MultimodalSDK\n"
      ],
      "metadata": {
        "colab": {
          "base_uri": "https://localhost:8080/"
        },
        "id": "U9cs_vrY7Huo",
        "outputId": "69681089-37f6-41d5-92e1-82d668aa3dbc"
      },
      "execution_count": 14,
      "outputs": [
        {
          "output_type": "stream",
          "name": "stdout",
          "text": [
            "env: PYTHONPATH=/content/gdrive/MyDrive/AMLProject/Multimodal_Dataset/CMU-MultimodalSDK\n"
          ]
        }
      ]
    },
    {
      "cell_type": "code",
      "source": [
        "import sys\n",
        "sys.path.insert(1, \"/content/gdrive/MyDrive/AMLProject/Multimodal_Dataset/CMU-MultimodalSDK\")"
      ],
      "metadata": {
        "id": "rTBzyX137MT8"
      },
      "execution_count": 15,
      "outputs": []
    },
    {
      "cell_type": "code",
      "source": [
        "import colorama\n",
        "import mmsdk\n",
        "from mmsdk import mmdatasdk"
      ],
      "metadata": {
        "id": "GJ3BrWUv9gZz"
      },
      "execution_count": 16,
      "outputs": []
    },
    {
      "cell_type": "code",
      "execution_count": 17,
      "metadata": {
        "colab": {
          "base_uri": "https://localhost:8080/"
        },
        "id": "MEocQwpPz1vN",
        "outputId": "322e1031-ee53-434e-e4c1-18c7bb982d5a"
      },
      "outputs": [
        {
          "output_type": "stream",
          "name": "stdout",
          "text": [
            "1 csd files found\n",
            "\u001b[92m\u001b[1m[2022-04-23 05:30:10.266] | Success | \u001b[0mComputational sequence read from file /content/gdrive/MyDrive/AMLProject/audioNN/downloaded_datasets/CMU_MOSEI_Labels.csd ...\n",
            "\u001b[94m\u001b[1m[2022-04-23 05:30:22.111] | Status  | \u001b[0mChecking the integrity of the <All Labels> computational sequence ...\n",
            "\u001b[94m\u001b[1m[2022-04-23 05:30:22.112] | Status  | \u001b[0mChecking the format of the data in <All Labels> computational sequence ...\n"
          ]
        },
        {
          "output_type": "stream",
          "name": "stderr",
          "text": [
            "                                                                                 "
          ]
        },
        {
          "output_type": "stream",
          "name": "stdout",
          "text": [
            "\u001b[92m\u001b[1m[2022-04-23 05:30:27.969] | Success | \u001b[0m<All Labels> computational sequence data in correct format.\n",
            "\u001b[94m\u001b[1m[2022-04-23 05:30:27.969] | Status  | \u001b[0mChecking the format of the metadata in <All Labels> computational sequence ...\n",
            "\u001b[93m\u001b[1m[2022-04-23 05:30:27.969] | Warning | \u001b[0m<All Labels> computational sequence does not have all the required metadata ... continuing \n",
            "\u001b[92m\u001b[1m[2022-04-23 05:30:27.969] | Success | \u001b[0mDataset initialized successfully ... \n"
          ]
        },
        {
          "output_type": "stream",
          "name": "stderr",
          "text": [
            "\r"
          ]
        }
      ],
      "source": [
        "import os\n",
        "from os import listdir\n",
        "from os.path import isfile, join\n",
        "\n",
        "# Path to csd files. If path is incorrect or missing the entire dataset will be downloaded\n",
        "pathf = '/content/gdrive/MyDrive/AMLProject/audioNN/downloaded_datasets'\n",
        "dataset_dictionary={}\n",
        "\n",
        "\n",
        "# choice={\"cmu_mosei\":mmdatasdk.cmu_mosei.highlevel,\"cmu_mosi\":mmdatasdk.cmu_mosi.highlevel,\"pom\":mmdatasdk.pom.highlevel}\n",
        "# labels={\"cmu_mosei\":mmdatasdk.cmu_mosei.labels,\"cmu_mosi\":mmdatasdk.cmu_mosi.labels,\"pom\":mmdatasdk.pom.labels}\n",
        "##ONLY RUN IF DATASET IS NOT PREVIOUSLY ALIGNED\n",
        "if os.path.isdir(pathf) is False:\n",
        "    dataset=mmdatasdk.mmdataset(mmdatasdk.cmu_mosei.highlevel,pathf)\n",
        "    dataset.add_computational_sequences(mmdatasdk.cmu_mosei.labels,pathf)\n",
        "else: \n",
        "    ##RUN IF DATASET IS PREVIOUSLY ALIGNED aka downloaded previously\n",
        "    csdfiles = [f for f in listdir(pathf) if isfile(join(pathf, f)) and f[-4:]=='.csd']\n",
        "    if len(csdfiles)==0:\n",
        "        print(\"No csd files in the given folder\")\n",
        "        exit(-2)\n",
        "\n",
        "    print(\"%d csd files found\"%len(csdfiles))\n",
        "    for csdfile in csdfiles:\n",
        "        dataset_dictionary[csdfile]=os.path.join(pathf,csdfile)\n",
        "    dataset=mmdatasdk.mmdataset(dataset_dictionary)"
      ]
    },
    {
      "cell_type": "code",
      "source": [
        "print (\"List of the computational sequences in the downloaded dataset\")\n",
        "print (dataset.computational_sequences.keys())"
      ],
      "metadata": {
        "colab": {
          "base_uri": "https://localhost:8080/"
        },
        "id": "KJxchoqq5jyG",
        "outputId": "5468b033-512f-421b-fae4-c0b8a97a0660"
      },
      "execution_count": 18,
      "outputs": [
        {
          "output_type": "stream",
          "name": "stdout",
          "text": [
            "List of the computational sequences in the downloaded dataset\n",
            "dict_keys(['CMU_MOSEI_Labels.csd'])\n"
          ]
        }
      ]
    },
    {
      "cell_type": "code",
      "execution_count": 66,
      "metadata": {
        "id": "iW5WYStdQ2nz"
      },
      "outputs": [],
      "source": [
        "import pandas as pd\n",
        "import numpy as np\n",
        "# The following may require 'CMU_MOSEI_Labels.csd' or 'All Labels' depending on dataset.computational_sequences.keys()\n",
        "compseq = 'CMU_MOSEI_Labels.csd'\n",
        "\n",
        "files = []\n",
        "starts = []\n",
        "ends = []\n",
        "sentiment = []\n",
        "happy = []\n",
        "sad = []\n",
        "anger = []\n",
        "surprise = []\n",
        "disgust = []\n",
        "fear = []\n",
        "\n",
        "for file in dataset.computational_sequences[compseq].keys():\n",
        "    for index in range(len(dataset.computational_sequences[compseq][file]['intervals'])):\n",
        "        files += [file]\n",
        "        starts += [dataset.computational_sequences[compseq][file]['intervals'][index][0]]\n",
        "        ends += [dataset.computational_sequences[compseq][file]['intervals'][index][1]]\n",
        "        # sentiment,happy,sad,anger,surprise,disgust,fear\n",
        "        # dataset.computational_sequences['CMU_MOSEI_Labels.csd']['-3g5yACwYnA']['features'][index][0]\n",
        "        sentiment += [dataset.computational_sequences[compseq][file]['features'][index][0]]\n",
        "        happy += [dataset.computational_sequences[compseq][file]['features'][index][1]]\n",
        "        sad += [dataset.computational_sequences[compseq][file]['features'][index][2]]\n",
        "        anger += [dataset.computational_sequences[compseq][file]['features'][index][3]]\n",
        "        surprise += [dataset.computational_sequences[compseq][file]['features'][index][4]]\n",
        "        disgust += [dataset.computational_sequences[compseq][file]['features'][index][5]]\n",
        "        fear += [dataset.computational_sequences[compseq][file]['features'][index][6]]\n",
        "sampled_signal = [None] * len(happy)\n",
        "df_labels = pd.DataFrame(\n",
        "    data=np.stack([\n",
        "        files,\n",
        "        starts,\n",
        "        ends,\n",
        "        sentiment,\n",
        "        happy,\n",
        "        sad,\n",
        "        anger,\n",
        "        surprise,\n",
        "        disgust,\n",
        "        fear,\n",
        "        sampled_signal\n",
        "    ], axis=1),\n",
        "    columns=[\n",
        "        'file',\n",
        "        'start',\n",
        "        'end',\n",
        "        'sentiment',\n",
        "        'happy',\n",
        "        'sad',\n",
        "        'anger',\n",
        "        'surprise',\n",
        "        'disgust',\n",
        "        'fear',\n",
        "        'sampled_signal'\n",
        "    ]\n",
        ")"
      ]
    },
    {
      "cell_type": "code",
      "source": [
        "array = df_labels[df_labels['file'] == '-3g5yACwYnA' ].index.to_numpy()\n",
        "df_labels.iloc[1].sampled_signal = 1\n",
        "print(df_labels.iloc[1])\n",
        "#for i in array:\n",
        "  #print(df_labels.iloc[i])"
      ],
      "metadata": {
        "colab": {
          "base_uri": "https://localhost:8080/"
        },
        "id": "U1vg2WxBVzrz",
        "outputId": "e9f08506-6be2-4dcb-e8e4-e30b4884e806"
      },
      "execution_count": 76,
      "outputs": [
        {
          "output_type": "stream",
          "name": "stdout",
          "text": [
            "file              -3g5yACwYnA\n",
            "start                  82.753\n",
            "end                   100.555\n",
            "sentiment                 1.0\n",
            "happy                0.666667\n",
            "sad                  0.666667\n",
            "anger                     0.0\n",
            "surprise                  0.0\n",
            "disgust                   0.0\n",
            "fear                 0.666667\n",
            "sampled_signal              1\n",
            "Name: 1, dtype: object\n"
          ]
        }
      ]
    },
    {
      "cell_type": "code",
      "source": [
        "for i in range(len(fileids)):\n",
        "  \n",
        "  sampling_rate = 22050\n",
        "  #target_rows = df_labels.loc[df_labels['file'] == fileids[i]]\n",
        "\n",
        "  index_array = df_labels[df_labels['file'] == fileids[i]].index.to_numpy()\n",
        "\n",
        "  for index in index_array:\n",
        "    row = df_labels.iloc[index]\n",
        "    start_time = int(float(row['start']))\n",
        "    end_time = int(float(row['end']))\n",
        "    sample_start_time = start_time * sampling_rate\n",
        "    sample_end_time = end_time * sampling_rate\n",
        "    sampled_signals = signals[i][sample_start_time:sample_end_time]\n",
        "    df_labels.iloc[index].sampled_signal = sampled_signals\n",
        "\n",
        "\n"
      ],
      "metadata": {
        "id": "qWpdj34No0T7"
      },
      "execution_count": 96,
      "outputs": []
    },
    {
      "cell_type": "code",
      "source": [
        "df_labels"
      ],
      "metadata": {
        "colab": {
          "base_uri": "https://localhost:8080/",
          "height": 424
        },
        "id": "GfyfuDhkbfe-",
        "outputId": "fcf4fd5d-4bcf-4d92-d0dd-4fa0b35d4843"
      },
      "execution_count": 97,
      "outputs": [
        {
          "output_type": "execute_result",
          "data": {
            "text/plain": [
              "              file    start      end sentiment     happy       sad anger  \\\n",
              "0      _BvNNdEkhZA   23.199   30.325       1.0  0.666667       0.0   0.0   \n",
              "1      _BvNNdEkhZA   82.753  100.555       1.0  0.666667  0.666667   0.0   \n",
              "2      _BvNNdEkhZA  119.919  125.299  0.666667       0.0       0.0   0.0   \n",
              "3      _BvNNdEkhZA     4.84   14.052       0.0  0.666667  0.666667   0.0   \n",
              "4      _BvNNdEkhZA   13.211   27.521       0.0  0.333333  0.333333   0.0   \n",
              "...            ...      ...      ...       ...       ...       ...   ...   \n",
              "23254  _BvNNdEkhZA   47.444   49.312       0.0       0.0       0.0   0.0   \n",
              "23255  _BvNNdEkhZA   48.511   53.652       0.0       0.0       0.0   0.0   \n",
              "23256  _BvNNdEkhZA   52.652   57.942       1.0       1.0       0.0   0.0   \n",
              "23257  _BvNNdEkhZA    57.98   69.326  0.666667  0.333333       0.0   0.0   \n",
              "23258  _BvNNdEkhZA   15.057   38.327       1.0       1.0       0.0   0.0   \n",
              "\n",
              "      surprise disgust      fear  \\\n",
              "0          0.0     0.0       0.0   \n",
              "1          0.0     0.0  0.666667   \n",
              "2          0.0     0.0       0.0   \n",
              "3          0.0     0.0  0.333333   \n",
              "4          0.0     0.0       0.0   \n",
              "...        ...     ...       ...   \n",
              "23254      0.0     0.0       0.0   \n",
              "23255      0.0     0.0       0.0   \n",
              "23256      0.0     0.0       0.0   \n",
              "23257      0.0     0.0       0.0   \n",
              "23258      0.0     0.0       0.0   \n",
              "\n",
              "                                          sampled_signal  \n",
              "0      [0.0072750538, 0.008308463, 0.009340583, 0.010...  \n",
              "1      [-0.0011798437, -0.0009722102, -0.00081870006,...  \n",
              "2                                                     []  \n",
              "3      [-0.019770494, -0.020391835, -0.02024241, -0.0...  \n",
              "4      [-0.008297759, -0.008352055, -0.009789717, -0....  \n",
              "...                                                  ...  \n",
              "23254  [-0.010771915, -0.00990389, -0.008617827, -0.0...  \n",
              "23255  [-0.0022794092, -0.0052111065, -0.010248863, -...  \n",
              "23256  [-0.0025273561, -0.0038419843, -0.0063154786, ...  \n",
              "23257  [-0.004718782, -0.0036181237, -0.0026683074, -...  \n",
              "23258  [-0.036076773, -0.03375927, -0.03093241, -0.02...  \n",
              "\n",
              "[23259 rows x 11 columns]"
            ],
            "text/html": [
              "\n",
              "  <div id=\"df-f4480eb1-a402-461c-b52d-27722ec666c8\">\n",
              "    <div class=\"colab-df-container\">\n",
              "      <div>\n",
              "<style scoped>\n",
              "    .dataframe tbody tr th:only-of-type {\n",
              "        vertical-align: middle;\n",
              "    }\n",
              "\n",
              "    .dataframe tbody tr th {\n",
              "        vertical-align: top;\n",
              "    }\n",
              "\n",
              "    .dataframe thead th {\n",
              "        text-align: right;\n",
              "    }\n",
              "</style>\n",
              "<table border=\"1\" class=\"dataframe\">\n",
              "  <thead>\n",
              "    <tr style=\"text-align: right;\">\n",
              "      <th></th>\n",
              "      <th>file</th>\n",
              "      <th>start</th>\n",
              "      <th>end</th>\n",
              "      <th>sentiment</th>\n",
              "      <th>happy</th>\n",
              "      <th>sad</th>\n",
              "      <th>anger</th>\n",
              "      <th>surprise</th>\n",
              "      <th>disgust</th>\n",
              "      <th>fear</th>\n",
              "      <th>sampled_signal</th>\n",
              "    </tr>\n",
              "  </thead>\n",
              "  <tbody>\n",
              "    <tr>\n",
              "      <th>0</th>\n",
              "      <td>_BvNNdEkhZA</td>\n",
              "      <td>23.199</td>\n",
              "      <td>30.325</td>\n",
              "      <td>1.0</td>\n",
              "      <td>0.666667</td>\n",
              "      <td>0.0</td>\n",
              "      <td>0.0</td>\n",
              "      <td>0.0</td>\n",
              "      <td>0.0</td>\n",
              "      <td>0.0</td>\n",
              "      <td>[0.0072750538, 0.008308463, 0.009340583, 0.010...</td>\n",
              "    </tr>\n",
              "    <tr>\n",
              "      <th>1</th>\n",
              "      <td>_BvNNdEkhZA</td>\n",
              "      <td>82.753</td>\n",
              "      <td>100.555</td>\n",
              "      <td>1.0</td>\n",
              "      <td>0.666667</td>\n",
              "      <td>0.666667</td>\n",
              "      <td>0.0</td>\n",
              "      <td>0.0</td>\n",
              "      <td>0.0</td>\n",
              "      <td>0.666667</td>\n",
              "      <td>[-0.0011798437, -0.0009722102, -0.00081870006,...</td>\n",
              "    </tr>\n",
              "    <tr>\n",
              "      <th>2</th>\n",
              "      <td>_BvNNdEkhZA</td>\n",
              "      <td>119.919</td>\n",
              "      <td>125.299</td>\n",
              "      <td>0.666667</td>\n",
              "      <td>0.0</td>\n",
              "      <td>0.0</td>\n",
              "      <td>0.0</td>\n",
              "      <td>0.0</td>\n",
              "      <td>0.0</td>\n",
              "      <td>0.0</td>\n",
              "      <td>[]</td>\n",
              "    </tr>\n",
              "    <tr>\n",
              "      <th>3</th>\n",
              "      <td>_BvNNdEkhZA</td>\n",
              "      <td>4.84</td>\n",
              "      <td>14.052</td>\n",
              "      <td>0.0</td>\n",
              "      <td>0.666667</td>\n",
              "      <td>0.666667</td>\n",
              "      <td>0.0</td>\n",
              "      <td>0.0</td>\n",
              "      <td>0.0</td>\n",
              "      <td>0.333333</td>\n",
              "      <td>[-0.019770494, -0.020391835, -0.02024241, -0.0...</td>\n",
              "    </tr>\n",
              "    <tr>\n",
              "      <th>4</th>\n",
              "      <td>_BvNNdEkhZA</td>\n",
              "      <td>13.211</td>\n",
              "      <td>27.521</td>\n",
              "      <td>0.0</td>\n",
              "      <td>0.333333</td>\n",
              "      <td>0.333333</td>\n",
              "      <td>0.0</td>\n",
              "      <td>0.0</td>\n",
              "      <td>0.0</td>\n",
              "      <td>0.0</td>\n",
              "      <td>[-0.008297759, -0.008352055, -0.009789717, -0....</td>\n",
              "    </tr>\n",
              "    <tr>\n",
              "      <th>...</th>\n",
              "      <td>...</td>\n",
              "      <td>...</td>\n",
              "      <td>...</td>\n",
              "      <td>...</td>\n",
              "      <td>...</td>\n",
              "      <td>...</td>\n",
              "      <td>...</td>\n",
              "      <td>...</td>\n",
              "      <td>...</td>\n",
              "      <td>...</td>\n",
              "      <td>...</td>\n",
              "    </tr>\n",
              "    <tr>\n",
              "      <th>23254</th>\n",
              "      <td>_BvNNdEkhZA</td>\n",
              "      <td>47.444</td>\n",
              "      <td>49.312</td>\n",
              "      <td>0.0</td>\n",
              "      <td>0.0</td>\n",
              "      <td>0.0</td>\n",
              "      <td>0.0</td>\n",
              "      <td>0.0</td>\n",
              "      <td>0.0</td>\n",
              "      <td>0.0</td>\n",
              "      <td>[-0.010771915, -0.00990389, -0.008617827, -0.0...</td>\n",
              "    </tr>\n",
              "    <tr>\n",
              "      <th>23255</th>\n",
              "      <td>_BvNNdEkhZA</td>\n",
              "      <td>48.511</td>\n",
              "      <td>53.652</td>\n",
              "      <td>0.0</td>\n",
              "      <td>0.0</td>\n",
              "      <td>0.0</td>\n",
              "      <td>0.0</td>\n",
              "      <td>0.0</td>\n",
              "      <td>0.0</td>\n",
              "      <td>0.0</td>\n",
              "      <td>[-0.0022794092, -0.0052111065, -0.010248863, -...</td>\n",
              "    </tr>\n",
              "    <tr>\n",
              "      <th>23256</th>\n",
              "      <td>_BvNNdEkhZA</td>\n",
              "      <td>52.652</td>\n",
              "      <td>57.942</td>\n",
              "      <td>1.0</td>\n",
              "      <td>1.0</td>\n",
              "      <td>0.0</td>\n",
              "      <td>0.0</td>\n",
              "      <td>0.0</td>\n",
              "      <td>0.0</td>\n",
              "      <td>0.0</td>\n",
              "      <td>[-0.0025273561, -0.0038419843, -0.0063154786, ...</td>\n",
              "    </tr>\n",
              "    <tr>\n",
              "      <th>23257</th>\n",
              "      <td>_BvNNdEkhZA</td>\n",
              "      <td>57.98</td>\n",
              "      <td>69.326</td>\n",
              "      <td>0.666667</td>\n",
              "      <td>0.333333</td>\n",
              "      <td>0.0</td>\n",
              "      <td>0.0</td>\n",
              "      <td>0.0</td>\n",
              "      <td>0.0</td>\n",
              "      <td>0.0</td>\n",
              "      <td>[-0.004718782, -0.0036181237, -0.0026683074, -...</td>\n",
              "    </tr>\n",
              "    <tr>\n",
              "      <th>23258</th>\n",
              "      <td>_BvNNdEkhZA</td>\n",
              "      <td>15.057</td>\n",
              "      <td>38.327</td>\n",
              "      <td>1.0</td>\n",
              "      <td>1.0</td>\n",
              "      <td>0.0</td>\n",
              "      <td>0.0</td>\n",
              "      <td>0.0</td>\n",
              "      <td>0.0</td>\n",
              "      <td>0.0</td>\n",
              "      <td>[-0.036076773, -0.03375927, -0.03093241, -0.02...</td>\n",
              "    </tr>\n",
              "  </tbody>\n",
              "</table>\n",
              "<p>23259 rows × 11 columns</p>\n",
              "</div>\n",
              "      <button class=\"colab-df-convert\" onclick=\"convertToInteractive('df-f4480eb1-a402-461c-b52d-27722ec666c8')\"\n",
              "              title=\"Convert this dataframe to an interactive table.\"\n",
              "              style=\"display:none;\">\n",
              "        \n",
              "  <svg xmlns=\"http://www.w3.org/2000/svg\" height=\"24px\"viewBox=\"0 0 24 24\"\n",
              "       width=\"24px\">\n",
              "    <path d=\"M0 0h24v24H0V0z\" fill=\"none\"/>\n",
              "    <path d=\"M18.56 5.44l.94 2.06.94-2.06 2.06-.94-2.06-.94-.94-2.06-.94 2.06-2.06.94zm-11 1L8.5 8.5l.94-2.06 2.06-.94-2.06-.94L8.5 2.5l-.94 2.06-2.06.94zm10 10l.94 2.06.94-2.06 2.06-.94-2.06-.94-.94-2.06-.94 2.06-2.06.94z\"/><path d=\"M17.41 7.96l-1.37-1.37c-.4-.4-.92-.59-1.43-.59-.52 0-1.04.2-1.43.59L10.3 9.45l-7.72 7.72c-.78.78-.78 2.05 0 2.83L4 21.41c.39.39.9.59 1.41.59.51 0 1.02-.2 1.41-.59l7.78-7.78 2.81-2.81c.8-.78.8-2.07 0-2.86zM5.41 20L4 18.59l7.72-7.72 1.47 1.35L5.41 20z\"/>\n",
              "  </svg>\n",
              "      </button>\n",
              "      \n",
              "  <style>\n",
              "    .colab-df-container {\n",
              "      display:flex;\n",
              "      flex-wrap:wrap;\n",
              "      gap: 12px;\n",
              "    }\n",
              "\n",
              "    .colab-df-convert {\n",
              "      background-color: #E8F0FE;\n",
              "      border: none;\n",
              "      border-radius: 50%;\n",
              "      cursor: pointer;\n",
              "      display: none;\n",
              "      fill: #1967D2;\n",
              "      height: 32px;\n",
              "      padding: 0 0 0 0;\n",
              "      width: 32px;\n",
              "    }\n",
              "\n",
              "    .colab-df-convert:hover {\n",
              "      background-color: #E2EBFA;\n",
              "      box-shadow: 0px 1px 2px rgba(60, 64, 67, 0.3), 0px 1px 3px 1px rgba(60, 64, 67, 0.15);\n",
              "      fill: #174EA6;\n",
              "    }\n",
              "\n",
              "    [theme=dark] .colab-df-convert {\n",
              "      background-color: #3B4455;\n",
              "      fill: #D2E3FC;\n",
              "    }\n",
              "\n",
              "    [theme=dark] .colab-df-convert:hover {\n",
              "      background-color: #434B5C;\n",
              "      box-shadow: 0px 1px 3px 1px rgba(0, 0, 0, 0.15);\n",
              "      filter: drop-shadow(0px 1px 2px rgba(0, 0, 0, 0.3));\n",
              "      fill: #FFFFFF;\n",
              "    }\n",
              "  </style>\n",
              "\n",
              "      <script>\n",
              "        const buttonEl =\n",
              "          document.querySelector('#df-f4480eb1-a402-461c-b52d-27722ec666c8 button.colab-df-convert');\n",
              "        buttonEl.style.display =\n",
              "          google.colab.kernel.accessAllowed ? 'block' : 'none';\n",
              "\n",
              "        async function convertToInteractive(key) {\n",
              "          const element = document.querySelector('#df-f4480eb1-a402-461c-b52d-27722ec666c8');\n",
              "          const dataTable =\n",
              "            await google.colab.kernel.invokeFunction('convertToInteractive',\n",
              "                                                     [key], {});\n",
              "          if (!dataTable) return;\n",
              "\n",
              "          const docLinkHtml = 'Like what you see? Visit the ' +\n",
              "            '<a target=\"_blank\" href=https://colab.research.google.com/notebooks/data_table.ipynb>data table notebook</a>'\n",
              "            + ' to learn more about interactive tables.';\n",
              "          element.innerHTML = '';\n",
              "          dataTable['output_type'] = 'display_data';\n",
              "          await google.colab.output.renderOutput(dataTable, element);\n",
              "          const docLink = document.createElement('div');\n",
              "          docLink.innerHTML = docLinkHtml;\n",
              "          element.appendChild(docLink);\n",
              "        }\n",
              "      </script>\n",
              "    </div>\n",
              "  </div>\n",
              "  "
            ]
          },
          "metadata": {},
          "execution_count": 97
        }
      ]
    },
    {
      "cell_type": "code",
      "source": [
        "MFCCs = []\n",
        "numSamplesFFT = 2048\n",
        "hopLength = 512\n",
        "\n",
        "for i in range(len(fileids)):\n",
        "  index_array = df_labels[df_labels['file'] == fileids[i]].index.to_numpy()\n",
        "\n",
        "  for index in index_array:\n",
        "    current_signal = df_labels.iloc[index].sampled_signal\n",
        "    if(len(current_signal)!=0):\n",
        "      MFCC = librosa.feature.mfcc(current_signal, n_fft=numSamplesFFT, hop_length=hopLength, n_mfcc=13)\n",
        "      MFCCs.append(MFCC)\n",
        "      librosa.display.specshow(MFCC, sr=rates[i], hop_length=hopLength)\n",
        "      plt.savefig('/content/gdrive/MyDrive/AMLProject/audioNN/MFCCs/' + str(fileids[i]))"
      ],
      "metadata": {
        "id": "m-i2I2ZVfOOn"
      },
      "execution_count": null,
      "outputs": []
    }
  ]
}