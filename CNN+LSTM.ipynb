{
  "cells": [
    {
      "cell_type": "code",
      "execution_count": null,
      "metadata": {
        "colab": {
          "base_uri": "https://localhost:8080/"
        },
        "id": "NFsRf2iN75lb",
        "outputId": "c4eb2aa9-3778-4f0b-c563-cfaadf67b387"
      },
      "outputs": [
        {
          "output_type": "stream",
          "name": "stdout",
          "text": [
            "Collecting keras_tuner\n",
            "  Downloading keras_tuner-1.1.2-py3-none-any.whl (133 kB)\n",
            "\u001b[?25l\r\u001b[K     |██▌                             | 10 kB 44.1 MB/s eta 0:00:01\r\u001b[K     |█████                           | 20 kB 44.2 MB/s eta 0:00:01\r\u001b[K     |███████▍                        | 30 kB 40.9 MB/s eta 0:00:01\r\u001b[K     |█████████▉                      | 40 kB 44.4 MB/s eta 0:00:01\r\u001b[K     |████████████▎                   | 51 kB 33.8 MB/s eta 0:00:01\r\u001b[K     |██████████████▊                 | 61 kB 37.8 MB/s eta 0:00:01\r\u001b[K     |█████████████████▏              | 71 kB 25.9 MB/s eta 0:00:01\r\u001b[K     |███████████████████▋            | 81 kB 27.9 MB/s eta 0:00:01\r\u001b[K     |██████████████████████          | 92 kB 29.9 MB/s eta 0:00:01\r\u001b[K     |████████████████████████▌       | 102 kB 30.4 MB/s eta 0:00:01\r\u001b[K     |███████████████████████████     | 112 kB 30.4 MB/s eta 0:00:01\r\u001b[K     |█████████████████████████████▍  | 122 kB 30.4 MB/s eta 0:00:01\r\u001b[K     |███████████████████████████████▉| 133 kB 30.4 MB/s eta 0:00:01\r\u001b[K     |████████████████████████████████| 133 kB 30.4 MB/s \n",
            "\u001b[?25hRequirement already satisfied: numpy in /usr/local/lib/python3.7/dist-packages (from keras_tuner) (1.21.6)\n",
            "Requirement already satisfied: tensorboard in /usr/local/lib/python3.7/dist-packages (from keras_tuner) (2.8.0)\n",
            "Requirement already satisfied: requests in /usr/local/lib/python3.7/dist-packages (from keras_tuner) (2.23.0)\n",
            "Requirement already satisfied: packaging in /usr/local/lib/python3.7/dist-packages (from keras_tuner) (21.3)\n",
            "Collecting kt-legacy\n",
            "  Downloading kt_legacy-1.0.4-py3-none-any.whl (9.6 kB)\n",
            "Requirement already satisfied: ipython in /usr/local/lib/python3.7/dist-packages (from keras_tuner) (5.5.0)\n",
            "Requirement already satisfied: simplegeneric>0.8 in /usr/local/lib/python3.7/dist-packages (from ipython->keras_tuner) (0.8.1)\n",
            "Requirement already satisfied: setuptools>=18.5 in /usr/local/lib/python3.7/dist-packages (from ipython->keras_tuner) (57.4.0)\n",
            "Requirement already satisfied: pygments in /usr/local/lib/python3.7/dist-packages (from ipython->keras_tuner) (2.6.1)\n",
            "Requirement already satisfied: pickleshare in /usr/local/lib/python3.7/dist-packages (from ipython->keras_tuner) (0.7.5)\n",
            "Requirement already satisfied: decorator in /usr/local/lib/python3.7/dist-packages (from ipython->keras_tuner) (4.4.2)\n",
            "Requirement already satisfied: traitlets>=4.2 in /usr/local/lib/python3.7/dist-packages (from ipython->keras_tuner) (5.1.1)\n",
            "Requirement already satisfied: pexpect in /usr/local/lib/python3.7/dist-packages (from ipython->keras_tuner) (4.8.0)\n",
            "Requirement already satisfied: prompt-toolkit<2.0.0,>=1.0.4 in /usr/local/lib/python3.7/dist-packages (from ipython->keras_tuner) (1.0.18)\n",
            "Requirement already satisfied: wcwidth in /usr/local/lib/python3.7/dist-packages (from prompt-toolkit<2.0.0,>=1.0.4->ipython->keras_tuner) (0.2.5)\n",
            "Requirement already satisfied: six>=1.9.0 in /usr/local/lib/python3.7/dist-packages (from prompt-toolkit<2.0.0,>=1.0.4->ipython->keras_tuner) (1.15.0)\n",
            "Requirement already satisfied: pyparsing!=3.0.5,>=2.0.2 in /usr/local/lib/python3.7/dist-packages (from packaging->keras_tuner) (3.0.8)\n",
            "Requirement already satisfied: ptyprocess>=0.5 in /usr/local/lib/python3.7/dist-packages (from pexpect->ipython->keras_tuner) (0.7.0)\n",
            "Requirement already satisfied: urllib3!=1.25.0,!=1.25.1,<1.26,>=1.21.1 in /usr/local/lib/python3.7/dist-packages (from requests->keras_tuner) (1.24.3)\n",
            "Requirement already satisfied: idna<3,>=2.5 in /usr/local/lib/python3.7/dist-packages (from requests->keras_tuner) (2.10)\n",
            "Requirement already satisfied: chardet<4,>=3.0.2 in /usr/local/lib/python3.7/dist-packages (from requests->keras_tuner) (3.0.4)\n",
            "Requirement already satisfied: certifi>=2017.4.17 in /usr/local/lib/python3.7/dist-packages (from requests->keras_tuner) (2021.10.8)\n",
            "Requirement already satisfied: google-auth-oauthlib<0.5,>=0.4.1 in /usr/local/lib/python3.7/dist-packages (from tensorboard->keras_tuner) (0.4.6)\n",
            "Requirement already satisfied: wheel>=0.26 in /usr/local/lib/python3.7/dist-packages (from tensorboard->keras_tuner) (0.37.1)\n",
            "Requirement already satisfied: protobuf>=3.6.0 in /usr/local/lib/python3.7/dist-packages (from tensorboard->keras_tuner) (3.17.3)\n",
            "Requirement already satisfied: absl-py>=0.4 in /usr/local/lib/python3.7/dist-packages (from tensorboard->keras_tuner) (1.0.0)\n",
            "Requirement already satisfied: google-auth<3,>=1.6.3 in /usr/local/lib/python3.7/dist-packages (from tensorboard->keras_tuner) (1.35.0)\n",
            "Requirement already satisfied: grpcio>=1.24.3 in /usr/local/lib/python3.7/dist-packages (from tensorboard->keras_tuner) (1.44.0)\n",
            "Requirement already satisfied: tensorboard-plugin-wit>=1.6.0 in /usr/local/lib/python3.7/dist-packages (from tensorboard->keras_tuner) (1.8.1)\n",
            "Requirement already satisfied: werkzeug>=0.11.15 in /usr/local/lib/python3.7/dist-packages (from tensorboard->keras_tuner) (1.0.1)\n",
            "Requirement already satisfied: tensorboard-data-server<0.7.0,>=0.6.0 in /usr/local/lib/python3.7/dist-packages (from tensorboard->keras_tuner) (0.6.1)\n",
            "Requirement already satisfied: markdown>=2.6.8 in /usr/local/lib/python3.7/dist-packages (from tensorboard->keras_tuner) (3.3.6)\n",
            "Requirement already satisfied: rsa<5,>=3.1.4 in /usr/local/lib/python3.7/dist-packages (from google-auth<3,>=1.6.3->tensorboard->keras_tuner) (4.8)\n",
            "Requirement already satisfied: pyasn1-modules>=0.2.1 in /usr/local/lib/python3.7/dist-packages (from google-auth<3,>=1.6.3->tensorboard->keras_tuner) (0.2.8)\n",
            "Requirement already satisfied: cachetools<5.0,>=2.0.0 in /usr/local/lib/python3.7/dist-packages (from google-auth<3,>=1.6.3->tensorboard->keras_tuner) (4.2.4)\n",
            "Requirement already satisfied: requests-oauthlib>=0.7.0 in /usr/local/lib/python3.7/dist-packages (from google-auth-oauthlib<0.5,>=0.4.1->tensorboard->keras_tuner) (1.3.1)\n",
            "Requirement already satisfied: importlib-metadata>=4.4 in /usr/local/lib/python3.7/dist-packages (from markdown>=2.6.8->tensorboard->keras_tuner) (4.11.3)\n",
            "Requirement already satisfied: typing-extensions>=3.6.4 in /usr/local/lib/python3.7/dist-packages (from importlib-metadata>=4.4->markdown>=2.6.8->tensorboard->keras_tuner) (4.2.0)\n",
            "Requirement already satisfied: zipp>=0.5 in /usr/local/lib/python3.7/dist-packages (from importlib-metadata>=4.4->markdown>=2.6.8->tensorboard->keras_tuner) (3.8.0)\n",
            "Requirement already satisfied: pyasn1<0.5.0,>=0.4.6 in /usr/local/lib/python3.7/dist-packages (from pyasn1-modules>=0.2.1->google-auth<3,>=1.6.3->tensorboard->keras_tuner) (0.4.8)\n",
            "Requirement already satisfied: oauthlib>=3.0.0 in /usr/local/lib/python3.7/dist-packages (from requests-oauthlib>=0.7.0->google-auth-oauthlib<0.5,>=0.4.1->tensorboard->keras_tuner) (3.2.0)\n",
            "Installing collected packages: kt-legacy, keras-tuner\n",
            "Successfully installed keras-tuner-1.1.2 kt-legacy-1.0.4\n"
          ]
        }
      ],
      "source": [
        "pip install keras_tuner"
      ]
    },
    {
      "cell_type": "code",
      "execution_count": null,
      "metadata": {
        "colab": {
          "base_uri": "https://localhost:8080/"
        },
        "id": "bmJ3MxpRBedE",
        "outputId": "ba0a646d-a335-4edf-c8f9-c42066fcfda5"
      },
      "outputs": [
        {
          "output_type": "stream",
          "name": "stdout",
          "text": [
            "Your runtime has 54.8 gigabytes of available RAM\n",
            "\n",
            "You are using a high-RAM runtime!\n"
          ]
        }
      ],
      "source": [
        "from psutil import virtual_memory\n",
        "ram_gb = virtual_memory().total / 1e9\n",
        "print('Your runtime has {:.1f} gigabytes of available RAM\\n'.format(ram_gb))\n",
        "\n",
        "if ram_gb < 20:\n",
        "  print('Not using a high-RAM runtime')\n",
        "else:\n",
        "  print('You are using a high-RAM runtime!')"
      ]
    },
    {
      "cell_type": "code",
      "execution_count": null,
      "metadata": {
        "colab": {
          "base_uri": "https://localhost:8080/"
        },
        "id": "WV6Zz20b7y2i",
        "outputId": "c8508f93-1ad2-495d-8dc4-ebf9f166c435"
      },
      "outputs": [
        {
          "output_type": "stream",
          "name": "stdout",
          "text": [
            "[nltk_data] Downloading package stopwords to /root/nltk_data...\n",
            "[nltk_data]   Unzipping corpora/stopwords.zip.\n",
            "Tensorflow version: 2.8.0\n",
            "Keras Version: 2.8.0\n",
            "GPU is available\n"
          ]
        }
      ],
      "source": [
        "\n",
        "import os\n",
        "import pandas as pd\n",
        "import numpy as np\n",
        "from numpy import mean\n",
        "from numpy import std\n",
        "import pickle\n",
        "import tensorflow as tf\n",
        "from matplotlib.image import imread\n",
        "import matplotlib.pyplot as pl\n",
        "from tensorflow.keras.optimizers import *\n",
        "from tensorflow.keras.preprocessing.text import Tokenizer\n",
        "from tensorflow import keras\n",
        "from sklearn.datasets import make_multilabel_classification\n",
        "from sklearn.model_selection import RepeatedKFold\n",
        "from keras.models import Sequential\n",
        "from keras.layers import LSTM, Dense, Dropout, Activation, Conv1D, MaxPooling1D, Flatten, Lambda\n",
        "from keras.preprocessing.sequence import pad_sequences\n",
        "import keras_tuner as kt\n",
        "from keras_tuner import RandomSearch\n",
        "from keras_tuner.engine.hyperparameters import HyperParameters\n",
        "from sklearn.metrics import accuracy_score\n",
        "from sklearn.model_selection import train_test_split\n",
        "from sklearn.preprocessing import StandardScaler\n",
        "from sklearn.svm import SVC\n",
        "from sklearn.metrics import confusion_matrix\n",
        "from sklearn.metrics import precision_score, recall_score, f1_score, accuracy_score\n",
        "from nltk.corpus import stopwords\n",
        "import nltk\n",
        "nltk.download('stopwords')\n",
        "stop = stopwords.words('english')\n",
        "tokenizer = Tokenizer(num_words = 8000, filters = '!\"#$%&()*+,-./:;<=>?@[\\\\]^`{|}~\\t\\n')\n",
        "print(f\"Tensorflow version: {tf.__version__}\")\n",
        "print(f\"Keras Version: {tf.keras.__version__}\")\n",
        "\n",
        "print(\"GPU is\", \"available\" if tf.config.list_physical_devices('GPU') else \"NOT AVAILABLE\")"
      ]
    },
    {
      "cell_type": "code",
      "execution_count": null,
      "metadata": {
        "id": "QGwV0BRd8Y_W"
      },
      "outputs": [],
      "source": [
        "try:\n",
        "    # Disable all GPUS\n",
        "    tf.config.set_visible_devices([], 'GPU')\n",
        "    visible_devices = tf.config.get_visible_devices()\n",
        "    for device in visible_devices:\n",
        "        assert device.device_type != 'GPU'\n",
        "except:\n",
        "    # Invalid device or cannot modify virtual devices once initialized.\n",
        "    pass"
      ]
    },
    {
      "cell_type": "code",
      "execution_count": null,
      "metadata": {
        "id": "ZY7YqX2Y8b8m"
      },
      "outputs": [],
      "source": [
        "\n",
        "data_dev = []\n",
        "data_test = []\n",
        "data_train = []\n",
        "file_name_dev = \"drive/MyDrive/AMLProject/audioDataDev.pickle\"\n",
        "file_name_test = \"drive/MyDrive/AMLProject/audioDataTest.pickle\"\n",
        "file_name_train = \"drive/MyDrive/AMLProject/audioDataTrain.pickle\"\n",
        "\n",
        "with (open(file_name_dev, \"rb\")) as f:\n",
        "    while True:\n",
        "        try:\n",
        "            data_dev.append(pickle.load(f))\n",
        "        except EOFError:\n",
        "            break\n",
        "f.close()\n",
        "\n",
        "with (open(file_name_test, \"rb\")) as f:\n",
        "    while True:\n",
        "        try:\n",
        "            data_test.append(pickle.load(f))\n",
        "        except EOFError:\n",
        "            break\n",
        "f.close()\n",
        "\n",
        "with (open(file_name_train, \"rb\")) as f:\n",
        "    while True:\n",
        "        try:\n",
        "            data_train.append(pickle.load(f))\n",
        "        except EOFError:\n",
        "            break\n",
        "f.close()"
      ]
    },
    {
      "cell_type": "code",
      "execution_count": null,
      "metadata": {
        "id": "8lisvxZY-Z75",
        "colab": {
          "base_uri": "https://localhost:8080/",
          "height": 35
        },
        "outputId": "0e698e13-f416-4cac-e7ab-2b0133ed02d8"
      },
      "outputs": [
        {
          "output_type": "execute_result",
          "data": {
            "text/plain": [
              "'0    Hi expo\\nName: 4, dtype: object'"
            ],
            "application/vnd.google.colaboratory.intrinsic+json": {
              "type": "string"
            }
          },
          "metadata": {},
          "execution_count": 6
        }
      ],
      "source": [
        "data_test[1][4]"
      ]
    },
    {
      "cell_type": "code",
      "execution_count": null,
      "metadata": {
        "id": "zev-K3Qv-ece"
      },
      "outputs": [],
      "source": [
        "X_dev = []\n",
        "X_dev_text = []\n",
        "y_dev = []\n",
        "X_train = []\n",
        "X_train_text = []\n",
        "y_train = []\n",
        "X_test = []\n",
        "X_test_text = []\n",
        "y_test = []\n",
        "\n",
        "for i in range(len(data_dev)-1):\n",
        "    X_dev.append(data_dev[i+1][3])\n",
        "for i in range(len(data_dev)-1):\n",
        "    X_dev_text.append(data_dev[i+1][4])\n",
        "for i in range(len(data_dev)-1):\n",
        "    y_dev.append(data_dev[i+1][6:12])\n",
        "    \n",
        "for i in range(len(data_test)-1):\n",
        "    X_test.append(data_test[i+1][3])\n",
        "for i in range(len(data_test)-1):\n",
        "    X_test_text.append(data_test[i+1][4])\n",
        "for i in range(len(data_test)-1):\n",
        "    y_test.append(data_test[i+1][6:12])\n",
        "    \n",
        "for i in range(len(data_train)-1):\n",
        "    X_train.append(data_train[i+1][3])\n",
        "for i in range(len(data_train)-1):\n",
        "    X_train_text.append(data_train[i+1][4])\n",
        "for i in range(len(data_train)-1):\n",
        "    y_train.append(data_train[i+1][6:12])\n",
        "\n",
        "X_dev = np.array(X_dev)\n",
        "X_dev_text = np.array(X_dev_text)\n",
        "y_dev = np.where(np.array(y_dev)> 0.5, 1, 0)\n",
        "X_test = np.array(X_test)\n",
        "X_test_text = np.array(X_test_text)\n",
        "y_test = np.where(np.array(y_test) > 0.5, 1, 0)\n",
        "X_train = np.array(X_train)\n",
        "X_train_text = np.array(X_train_text)\n",
        "y_train = np.where(np.array(y_train) > 0.5, 1, 0)"
      ]
    },
    {
      "cell_type": "code",
      "execution_count": null,
      "metadata": {
        "id": "6K3kjC9U-h02",
        "colab": {
          "base_uri": "https://localhost:8080/"
        },
        "outputId": "b2a9fbf6-6821-4348-84dc-1532c51dc20c"
      },
      "outputs": [
        {
          "output_type": "execute_result",
          "data": {
            "text/plain": [
              "array([[1, 0, 0, 0, 0, 0],\n",
              "       [0, 0, 0, 0, 0, 0],\n",
              "       [1, 0, 0, 0, 0, 0],\n",
              "       ...,\n",
              "       [0, 1, 0, 0, 0, 1],\n",
              "       [0, 1, 0, 0, 0, 0],\n",
              "       [0, 0, 0, 0, 0, 0]])"
            ]
          },
          "metadata": {},
          "execution_count": 8
        }
      ],
      "source": [
        "y_dev"
      ]
    },
    {
      "cell_type": "code",
      "execution_count": null,
      "metadata": {
        "id": "lIEqqKMQDZX1"
      },
      "outputs": [],
      "source": [
        "def sent(X, y):\n",
        "    data = []\n",
        "    for i in range(1, len(X)):\n",
        "        #add text\n",
        "        temp = X[i].split('\\n')\n",
        "        text_obj = temp[0][6:]\n",
        "\n",
        "        row = [text_obj, np.array(y[i])]\n",
        "        data.append(row)\n",
        "\n",
        "    df = pd.DataFrame(data, columns = ['text', 'sentiment'])\n",
        "    return df\n",
        "\n",
        "def remove_punctuation(text):\n",
        "    import string\n",
        "    translator = str.maketrans('', '', string.punctuation)\n",
        "    return text.translate(translator)\n",
        "\n",
        "def remove_stopwords(text):\n",
        "    sw = stopwords.words('english')\n",
        "    text = [word.lower() for word in text.split() if word.lower() not in sw]\n",
        "    return \" \".join(text)\n",
        "\n",
        "def sequences(dframe):\n",
        "    tokenizer = Tokenizer(num_words = 8000, filters = '!\"#$%&()*+,-./:;<=>?@[\\\\]^`{|}~\\t\\n')\n",
        "    tokenizer.fit_on_texts(dframe['text'])\n",
        "    X = tokenizer.texts_to_sequences(dframe['text'].values)\n",
        "    y = dframe['sentiment'].values\n",
        "    return X,y"
      ]
    },
    {
      "cell_type": "code",
      "source": [
        "dev_df = sent(X_dev_text, y_dev)\n",
        "dev_df['text'] = dev_df['text'].apply(remove_punctuation).apply(remove_stopwords)\n",
        "dev = sequences(dev_df)\n",
        "\n",
        "test_df = sent(X_test_text, y_test)\n",
        "test_df['text'] = test_df['text'].apply(remove_punctuation).apply(remove_stopwords)\n",
        "test = sequences(test_df)\n",
        "\n",
        "train_df = sent(X_train_text, y_train)\n",
        "train_df['text'] = train_df['text'].apply(remove_punctuation).apply(remove_stopwords)\n",
        "train = sequences(train_df)"
      ],
      "metadata": {
        "id": "HxeX4Mnj7yI6"
      },
      "execution_count": null,
      "outputs": []
    },
    {
      "cell_type": "code",
      "source": [
        "X_dev_text = pad_sequences(dev[0])\n",
        "y_dev_text = pad_sequences(dev[1])\n",
        "X_test_text = pad_sequences(test[0])\n",
        "y_test_text = pad_sequences(test[1])\n",
        "X_train_text = pad_sequences(train[0])\n",
        "y_train_text = pad_sequences(train[1])"
      ],
      "metadata": {
        "id": "A7Keug4H72eb"
      },
      "execution_count": null,
      "outputs": []
    },
    {
      "cell_type": "code",
      "source": [
        "X_train_text = X_train_text.reshape(X_train_text.shape[0], 1, X_train_text.shape[1])\n",
        "X_test_text = X_test_text.reshape(X_test_text.shape[0], 1, X_test_text.shape[1])\n",
        "X_dev_text = X_dev_text.reshape(X_dev_text.shape[0], 1, X_dev_text.shape[1])"
      ],
      "metadata": {
        "id": "z3wehAfH75mY"
      },
      "execution_count": null,
      "outputs": []
    },
    {
      "cell_type": "code",
      "source": [
        "for i in range(10):\n",
        "  print(y_train_text[i])\n",
        "\n",
        "print(\"+++++++++++++++++++\")\n",
        "for i in range(11):\n",
        "  print(y_train[i])\n"
      ],
      "metadata": {
        "colab": {
          "base_uri": "https://localhost:8080/"
        },
        "id": "keKwP6bJ7e6O",
        "outputId": "6f950d03-faf8-4892-b539-53b854d3069a"
      },
      "execution_count": null,
      "outputs": [
        {
          "output_type": "stream",
          "name": "stdout",
          "text": [
            "[0 0 0 0 0 0]\n",
            "[1 0 0 0 0 0]\n",
            "[0 1 0 0 0 0]\n",
            "[0 1 0 0 0 0]\n",
            "[0 0 0 0 0 0]\n",
            "[0 0 0 0 0 0]\n",
            "[0 0 0 0 0 0]\n",
            "[0 0 0 0 0 0]\n",
            "[0 0 0 0 0 0]\n",
            "[1 0 0 0 0 0]\n",
            "+++++++++++++++++++\n",
            "[0 0 0 0 0 0]\n",
            "[0 0 0 0 0 0]\n",
            "[1 0 0 0 0 0]\n",
            "[0 1 0 0 0 0]\n",
            "[0 1 0 0 0 0]\n",
            "[0 0 0 0 0 0]\n",
            "[0 0 0 0 0 0]\n",
            "[0 0 0 0 0 0]\n",
            "[0 0 0 0 0 0]\n",
            "[0 0 0 0 0 0]\n",
            "[1 0 0 0 0 0]\n"
          ]
        }
      ]
    },
    {
      "cell_type": "code",
      "execution_count": null,
      "metadata": {
        "id": "y-AynXnzZBgM",
        "colab": {
          "base_uri": "https://localhost:8080/"
        },
        "outputId": "e927eb96-44d8-4636-afce-06a37cdd0ce8"
      },
      "outputs": [
        {
          "output_type": "execute_result",
          "data": {
            "text/plain": [
              "(16327, 128, 850)"
            ]
          },
          "metadata": {},
          "execution_count": 22
        }
      ],
      "source": [
        "X_train.shape"
      ]
    },
    {
      "cell_type": "code",
      "execution_count": null,
      "metadata": {
        "id": "1J46Kf4ZcgIM"
      },
      "outputs": [],
      "source": [
        "X_train_audio = X_train.reshape(X_train.shape[0], X_train.shape[1], X_train.shape[2],1)\n",
        "X_test_audio = X_test.reshape(X_test.shape[0], X_test.shape[1], X_test.shape[2], 1)\n",
        "X_dev_audio = X_dev.reshape(X_dev.shape[0], X_dev.shape[1], X_dev.shape[2], 1)"
      ]
    },
    {
      "cell_type": "code",
      "execution_count": null,
      "metadata": {
        "id": "Hnd5oEAahH-i",
        "colab": {
          "base_uri": "https://localhost:8080/"
        },
        "outputId": "15af4766-6189-4ba9-d1f1-7bbd12a9eb26"
      },
      "outputs": [
        {
          "output_type": "execute_result",
          "data": {
            "text/plain": [
              "(16327, 128, 850)"
            ]
          },
          "metadata": {},
          "execution_count": 24
        }
      ],
      "source": [
        "X_train.shape"
      ]
    },
    {
      "cell_type": "code",
      "execution_count": null,
      "metadata": {
        "id": "C9Yj_qQ1Dtwp"
      },
      "outputs": [],
      "source": [
        "def get_2d_conv_model():\n",
        "    model = Sequential()\n",
        "    model.add(Convolution2D(1, 3, activation='relu', input_shape=(128, 850,1)))\n",
        "    model.add(MaxPool2D(pool_size=(2)))\n",
        "    model.add(Dropout(0.25))\n",
        "    model.add(Convolution2D(1, 3, activation='relu'))\n",
        "    model.add(MaxPool2D(pool_size=(2)))\n",
        "    model.add(Dropout(0.25))\n",
        "    model.add(Convolution2D(1, 1, activation='relu'))\n",
        "    model.add(MaxPool2D(pool_size=(2)))\n",
        "    model.add(Dropout(0.25))\n",
        "    model.add(Flatten())\n",
        "    model.add(Dense(6, activation='sigmoid'))\n",
        "    return model"
      ]
    },
    {
      "cell_type": "code",
      "execution_count": null,
      "metadata": {
        "id": "u14_KDyjdOL9"
      },
      "outputs": [],
      "source": [
        "from keras import losses, models, optimizers\n",
        "from keras.activations import relu, softmax\n",
        "from keras.layers import Dense, Dropout, Input, Convolution2D, BatchNormalization, Activation, MaxPool2D, Flatten\n",
        "model_cnn = get_2d_conv_model()"
      ]
    },
    {
      "cell_type": "code",
      "execution_count": null,
      "metadata": {
        "id": "XGYdnLe0I8Al"
      },
      "outputs": [],
      "source": [
        "extractor = keras.Model(inputs=model_cnn.inputs,\n",
        "                        outputs=[layer.output for layer in model_cnn.layers])\n",
        "features = extractor(X_train_audio)\n"
      ]
    },
    {
      "cell_type": "code",
      "execution_count": null,
      "metadata": {
        "colab": {
          "base_uri": "https://localhost:8080/"
        },
        "id": "nXyY6R6MKPT8",
        "outputId": "84354933-ffb4-40ae-ec87-069c8f413968"
      },
      "outputs": [
        {
          "output_type": "stream",
          "name": "stdout",
          "text": [
            "11\n",
            "16327\n",
            "126\n",
            "848\n",
            "1\n"
          ]
        }
      ],
      "source": [
        "print(len(features))\n",
        "print(len(features[0]))\n",
        "print(len(features[0][0]))\n",
        "print(len(features[0][0][0]))\n",
        "print(len(features[0][0][0][0]))"
      ]
    },
    {
      "cell_type": "code",
      "execution_count": null,
      "metadata": {
        "id": "69iJZCCELflq"
      },
      "outputs": [],
      "source": [
        "audio_features =  features"
      ]
    },
    {
      "cell_type": "code",
      "source": [
        "X_train_text.shape"
      ],
      "metadata": {
        "colab": {
          "base_uri": "https://localhost:8080/"
        },
        "id": "nWi-zbYD9k7j",
        "outputId": "50df58b3-1800-482e-b0c3-a326c271dfd3"
      },
      "execution_count": null,
      "outputs": [
        {
          "output_type": "execute_result",
          "data": {
            "text/plain": [
              "(16326, 1, 9)"
            ]
          },
          "metadata": {},
          "execution_count": 34
        }
      ]
    },
    {
      "cell_type": "code",
      "source": [
        "def get_model_lstm_image():\n",
        "    lstm = keras.Sequential()\n",
        "    lstm.add(LSTM(32, input_shape=(128, 850), activation='relu', return_sequences=False))\n",
        "    lstm.add(Dense(6, activation='sigmoid'))\n",
        "    return lstm"
      ],
      "metadata": {
        "id": "Jf1dPmakytcg"
      },
      "execution_count": null,
      "outputs": []
    },
    {
      "cell_type": "code",
      "source": [
        "model_lstm_image = get_model_lstm_image()\n",
        "model_lstm_image.compile(loss='binary_crossentropy',metrics='BinaryAccuracy', optimizer=adam)"
      ],
      "metadata": {
        "id": "_ehCGPiSy32k"
      },
      "execution_count": null,
      "outputs": []
    },
    {
      "cell_type": "code",
      "source": [
        "model_lstm_image.fit(X_train, y_train, epochs=5, batch_size=10, verbose=1, shuffle=True)"
      ],
      "metadata": {
        "colab": {
          "base_uri": "https://localhost:8080/"
        },
        "id": "wlSUZrN3zEeU",
        "outputId": "7a01b316-4c1c-4fd5-d875-76bb74315328"
      },
      "execution_count": null,
      "outputs": [
        {
          "output_type": "stream",
          "name": "stdout",
          "text": [
            "Epoch 1/5\n",
            "1633/1633 [==============================] - 80s 49ms/step - loss: nan - binary_accuracy: 0.8710\n",
            "Epoch 2/5\n",
            "1633/1633 [==============================] - 79s 48ms/step - loss: nan - binary_accuracy: 0.8710\n",
            "Epoch 3/5\n",
            "1633/1633 [==============================] - 79s 48ms/step - loss: nan - binary_accuracy: 0.8710\n",
            "Epoch 4/5\n",
            "1633/1633 [==============================] - 78s 48ms/step - loss: nan - binary_accuracy: 0.8710\n",
            "Epoch 5/5\n",
            "1633/1633 [==============================] - 78s 48ms/step - loss: nan - binary_accuracy: 0.8710\n"
          ]
        },
        {
          "output_type": "execute_result",
          "data": {
            "text/plain": [
              "<keras.callbacks.History at 0x7eeadf468390>"
            ]
          },
          "metadata": {},
          "execution_count": 122
        }
      ]
    },
    {
      "cell_type": "code",
      "source": [
        "yhat_lstm_imge = model_lstm_image.predict(X_test)"
      ],
      "metadata": {
        "id": "NU7sMgFuJyJi"
      },
      "execution_count": 127,
      "outputs": []
    },
    {
      "cell_type": "code",
      "source": [
        "\n",
        "yhat_lstm_imge = np.where(yhat_lstm_imge > 0.5, 1, 0)\n",
        "results=[]\n",
        "total = 0\n",
        "similar = 0\n",
        "ones = 0\n",
        "truth = 0\n",
        "for i in range(len(y_test)):\n",
        "    for j in range(len(y_test[i])):\n",
        "        if y_test[i][j] == yhat_lstm_imge[i][j]:\n",
        "            similar += 1\n",
        "        if yhat_lstm_imge[i][j] == 1:\n",
        "            ones += 1\n",
        "        if y_test[i][j] == 1:\n",
        "            truth += 1\n",
        "        total += 1\n",
        "acc_image = similar/total\n",
        "\n",
        "print('>%.3f' % acc_image)\n",
        "results.append(acc_image)"
      ],
      "metadata": {
        "colab": {
          "base_uri": "https://localhost:8080/"
        },
        "id": "_DhWpkI_J6kk",
        "outputId": "36c38735-f498-49ce-cf3a-ede1b3b59c4f"
      },
      "execution_count": 130,
      "outputs": [
        {
          "output_type": "stream",
          "name": "stdout",
          "text": [
            ">0.872\n"
          ]
        }
      ]
    },
    {
      "cell_type": "code",
      "source": [
        "adam = Adam(0.0001)\n",
        "model_cnn.compile(optimizer=adam,loss='binary_crossentropy',metrics=['AUC','BinaryAccuracy'])\n",
        "model_cnn.fit(X_train, y_train, epochs=30, validation_data=(X_dev, y_dev), batch_size=10)"
      ],
      "metadata": {
        "colab": {
          "base_uri": "https://localhost:8080/"
        },
        "id": "TbiHtj92E-4H",
        "outputId": "e7c3bcb3-373c-4e6a-b53a-32e637e09860"
      },
      "execution_count": null,
      "outputs": [
        {
          "output_type": "stream",
          "name": "stdout",
          "text": [
            "Epoch 1/30\n",
            "1633/1633 [==============================] - 163s 99ms/step - loss: 0.8695 - auc: 0.6248 - binary_accuracy: 0.8007 - val_loss: 0.3516 - val_auc: 0.7068 - val_binary_accuracy: 0.8725\n",
            "Epoch 2/30\n",
            "1633/1633 [==============================] - 150s 92ms/step - loss: 0.3947 - auc: 0.6932 - binary_accuracy: 0.8562 - val_loss: 0.3568 - val_auc: 0.7294 - val_binary_accuracy: 0.8802\n",
            "Epoch 3/30\n",
            "1633/1633 [==============================] - 151s 93ms/step - loss: 0.3552 - auc: 0.7224 - binary_accuracy: 0.8664 - val_loss: 0.3574 - val_auc: 0.7432 - val_binary_accuracy: 0.8820\n",
            "Epoch 4/30\n",
            "1633/1633 [==============================] - 157s 96ms/step - loss: 0.3443 - auc: 0.7375 - binary_accuracy: 0.8696 - val_loss: 0.3456 - val_auc: 0.7489 - val_binary_accuracy: 0.8821\n",
            "Epoch 5/30\n",
            "1633/1633 [==============================] - 151s 92ms/step - loss: 0.3405 - auc: 0.7441 - binary_accuracy: 0.8701 - val_loss: 0.3433 - val_auc: 0.7530 - val_binary_accuracy: 0.8822\n",
            "Epoch 6/30\n",
            "1633/1633 [==============================] - 154s 94ms/step - loss: 0.3378 - auc: 0.7490 - binary_accuracy: 0.8710 - val_loss: 0.3365 - val_auc: 0.7561 - val_binary_accuracy: 0.8821\n",
            "Epoch 7/30\n",
            "1633/1633 [==============================] - 149s 91ms/step - loss: 0.3362 - auc: 0.7532 - binary_accuracy: 0.8708 - val_loss: 0.3405 - val_auc: 0.7570 - val_binary_accuracy: 0.8824\n",
            "Epoch 8/30\n",
            "1633/1633 [==============================] - 148s 91ms/step - loss: 0.3348 - auc: 0.7554 - binary_accuracy: 0.8714 - val_loss: 0.3395 - val_auc: 0.7596 - val_binary_accuracy: 0.8819\n",
            "Epoch 9/30\n",
            "1633/1633 [==============================] - 149s 91ms/step - loss: 0.3340 - auc: 0.7581 - binary_accuracy: 0.8714 - val_loss: 0.3325 - val_auc: 0.7602 - val_binary_accuracy: 0.8817\n",
            "Epoch 10/30\n",
            "1633/1633 [==============================] - 157s 96ms/step - loss: 0.3327 - auc: 0.7618 - binary_accuracy: 0.8715 - val_loss: 0.3370 - val_auc: 0.7618 - val_binary_accuracy: 0.8825\n",
            "Epoch 11/30\n",
            "1633/1633 [==============================] - 153s 94ms/step - loss: 0.3319 - auc: 0.7628 - binary_accuracy: 0.8722 - val_loss: 0.3353 - val_auc: 0.7611 - val_binary_accuracy: 0.8821\n",
            "Epoch 12/30\n",
            "1633/1633 [==============================] - 159s 98ms/step - loss: 0.3315 - auc: 0.7640 - binary_accuracy: 0.8721 - val_loss: 0.3303 - val_auc: 0.7604 - val_binary_accuracy: 0.8826\n",
            "Epoch 13/30\n",
            "1633/1633 [==============================] - 155s 95ms/step - loss: 0.3307 - auc: 0.7659 - binary_accuracy: 0.8725 - val_loss: 0.3293 - val_auc: 0.7611 - val_binary_accuracy: 0.8821\n",
            "Epoch 14/30\n",
            "1633/1633 [==============================] - 155s 95ms/step - loss: 0.3306 - auc: 0.7662 - binary_accuracy: 0.8722 - val_loss: 0.3332 - val_auc: 0.7618 - val_binary_accuracy: 0.8821\n",
            "Epoch 15/30\n",
            "1633/1633 [==============================] - 150s 92ms/step - loss: 0.3302 - auc: 0.7668 - binary_accuracy: 0.8723 - val_loss: 0.3320 - val_auc: 0.7613 - val_binary_accuracy: 0.8821\n",
            "Epoch 16/30\n",
            "1633/1633 [==============================] - 155s 95ms/step - loss: 0.3296 - auc: 0.7684 - binary_accuracy: 0.8729 - val_loss: 0.3300 - val_auc: 0.7618 - val_binary_accuracy: 0.8824\n",
            "Epoch 17/30\n",
            "1633/1633 [==============================] - 151s 92ms/step - loss: 0.3295 - auc: 0.7683 - binary_accuracy: 0.8725 - val_loss: 0.3297 - val_auc: 0.7600 - val_binary_accuracy: 0.8823\n",
            "Epoch 18/30\n",
            "1633/1633 [==============================] - 152s 93ms/step - loss: 0.3294 - auc: 0.7690 - binary_accuracy: 0.8726 - val_loss: 0.3329 - val_auc: 0.7580 - val_binary_accuracy: 0.8818\n",
            "Epoch 19/30\n",
            "1633/1633 [==============================] - 154s 94ms/step - loss: 0.3296 - auc: 0.7683 - binary_accuracy: 0.8728 - val_loss: 0.3285 - val_auc: 0.7599 - val_binary_accuracy: 0.8823\n",
            "Epoch 20/30\n",
            "1633/1633 [==============================] - 151s 92ms/step - loss: 0.3286 - auc: 0.7703 - binary_accuracy: 0.8733 - val_loss: 0.3311 - val_auc: 0.7595 - val_binary_accuracy: 0.8820\n",
            "Epoch 21/30\n",
            "1633/1633 [==============================] - 155s 95ms/step - loss: 0.3280 - auc: 0.7720 - binary_accuracy: 0.8725 - val_loss: 0.3299 - val_auc: 0.7617 - val_binary_accuracy: 0.8822\n",
            "Epoch 22/30\n",
            "1633/1633 [==============================] - 150s 92ms/step - loss: 0.3283 - auc: 0.7714 - binary_accuracy: 0.8731 - val_loss: 0.3299 - val_auc: 0.7605 - val_binary_accuracy: 0.8824\n",
            "Epoch 23/30\n",
            "1633/1633 [==============================] - 159s 97ms/step - loss: 0.3278 - auc: 0.7723 - binary_accuracy: 0.8732 - val_loss: 0.3280 - val_auc: 0.7591 - val_binary_accuracy: 0.8824\n",
            "Epoch 24/30\n",
            "1633/1633 [==============================] - 156s 95ms/step - loss: 0.3274 - auc: 0.7735 - binary_accuracy: 0.8726 - val_loss: 0.3303 - val_auc: 0.7605 - val_binary_accuracy: 0.8824\n",
            "Epoch 25/30\n",
            "1633/1633 [==============================] - 154s 94ms/step - loss: 0.3276 - auc: 0.7728 - binary_accuracy: 0.8727 - val_loss: 0.3304 - val_auc: 0.7597 - val_binary_accuracy: 0.8821\n",
            "Epoch 26/30\n",
            "1633/1633 [==============================] - 155s 95ms/step - loss: 0.3277 - auc: 0.7731 - binary_accuracy: 0.8727 - val_loss: 0.3256 - val_auc: 0.7606 - val_binary_accuracy: 0.8822\n",
            "Epoch 27/30\n",
            "1633/1633 [==============================] - 157s 96ms/step - loss: 0.3275 - auc: 0.7732 - binary_accuracy: 0.8729 - val_loss: 0.3316 - val_auc: 0.7620 - val_binary_accuracy: 0.8821\n",
            "Epoch 28/30\n",
            "1633/1633 [==============================] - 151s 92ms/step - loss: 0.3274 - auc: 0.7737 - binary_accuracy: 0.8727 - val_loss: 0.3327 - val_auc: 0.7597 - val_binary_accuracy: 0.8821\n",
            "Epoch 29/30\n",
            "1633/1633 [==============================] - 150s 92ms/step - loss: 0.3265 - auc: 0.7754 - binary_accuracy: 0.8733 - val_loss: 0.3259 - val_auc: 0.7631 - val_binary_accuracy: 0.8827\n",
            "Epoch 30/30\n",
            "1633/1633 [==============================] - 149s 91ms/step - loss: 0.3269 - auc: 0.7746 - binary_accuracy: 0.8727 - val_loss: 0.3245 - val_auc: 0.7619 - val_binary_accuracy: 0.8822\n"
          ]
        },
        {
          "output_type": "execute_result",
          "data": {
            "text/plain": [
              "<keras.callbacks.History at 0x7eeaf3d93fd0>"
            ]
          },
          "metadata": {},
          "execution_count": 39
        }
      ]
    },
    {
      "cell_type": "code",
      "source": [
        "yhat_imge = model_cnn.predict(X_test)"
      ],
      "metadata": {
        "id": "6YbVkq78ZkrE"
      },
      "execution_count": null,
      "outputs": []
    },
    {
      "cell_type": "code",
      "source": [
        "yhat_imge_train = model_cnn.predict(X_train)"
      ],
      "metadata": {
        "id": "PI8_3fKgijfv"
      },
      "execution_count": null,
      "outputs": []
    },
    {
      "cell_type": "code",
      "source": [
        "\n",
        "yhat_imge_train = np.where(yhat_imge_train > 0.5, 1, 0)\n",
        "results=[]\n",
        "total = 0\n",
        "similar = 0\n",
        "ones = 0\n",
        "truth = 0\n",
        "for i in range(len(y_train)):\n",
        "    for j in range(len(y_train[i])):\n",
        "        if y_train[i][j] == yhat_imge_train[i][j]:\n",
        "            similar += 1\n",
        "        if yhat_imge_train[i][j] == 1:\n",
        "            ones += 1\n",
        "        if y_train[i][j] == 1:\n",
        "            truth += 1\n",
        "        total += 1\n",
        "acc_image = similar/total\n",
        "\n",
        "print('>%.3f' % acc_image)\n",
        "results.append(acc_image)"
      ],
      "metadata": {
        "colab": {
          "base_uri": "https://localhost:8080/"
        },
        "id": "0Fa645d9Z0jH",
        "outputId": "c614c450-b828-45d6-ea1a-3fe0075f0aa4"
      },
      "execution_count": 131,
      "outputs": [
        {
          "output_type": "stream",
          "name": "stdout",
          "text": [
            ">0.873\n"
          ]
        }
      ]
    },
    {
      "cell_type": "code",
      "source": [
        "print(yhat_image)"
      ],
      "metadata": {
        "colab": {
          "base_uri": "https://localhost:8080/"
        },
        "id": "6VBYTngNgk0F",
        "outputId": "832152e8-a136-4684-8975-aca4c028f0ff"
      },
      "execution_count": null,
      "outputs": [
        {
          "output_type": "stream",
          "name": "stdout",
          "text": [
            "[[0 0 0 0 0 0]\n",
            " [0 0 0 0 0 0]\n",
            " [0 0 0 0 0 0]\n",
            " ...\n",
            " [0 0 0 0 0 0]\n",
            " [0 0 0 0 0 0]\n",
            " [0 0 0 0 0 0]]\n"
          ]
        }
      ]
    },
    {
      "cell_type": "code",
      "source": [
        "def get_model_lstm():\n",
        "    lstm = keras.Sequential()\n",
        "    lstm.add(LSTM(32, input_shape = (1, X_train_text.shape[2]), activation='relu', return_sequences=False))\n",
        "    lstm.add(Dense(6, activation='sigmoid'))\n",
        "    return lstm\n",
        "\n",
        "adam = Adam(0.0001)\n",
        "model_lstm = get_model_lstm()\n",
        "model_lstm.compile(loss='binary_crossentropy',metrics='BinaryAccuracy', optimizer=adam)"
      ],
      "metadata": {
        "id": "3f_7C0kzgnjb"
      },
      "execution_count": null,
      "outputs": []
    },
    {
      "cell_type": "code",
      "source": [
        "model_lstm.fit(X_train_text, y_train_text, epochs=30, batch_size=10, verbose=1, shuffle=True)"
      ],
      "metadata": {
        "colab": {
          "base_uri": "https://localhost:8080/"
        },
        "id": "WZBprQy-iNfV",
        "outputId": "0338bd90-9005-43ee-b8cd-280ba0e46872"
      },
      "execution_count": null,
      "outputs": [
        {
          "output_type": "stream",
          "name": "stdout",
          "text": [
            "Epoch 1/30\n",
            "1633/1633 [==============================] - 4s 2ms/step - loss: 19.0647 - binary_accuracy: 0.7578\n",
            "Epoch 2/30\n",
            "1633/1633 [==============================] - 3s 2ms/step - loss: 8.2643 - binary_accuracy: 0.8049\n",
            "Epoch 3/30\n",
            "1633/1633 [==============================] - 3s 2ms/step - loss: 4.5875 - binary_accuracy: 0.8119\n",
            "Epoch 4/30\n",
            "1633/1633 [==============================] - 3s 2ms/step - loss: 2.7550 - binary_accuracy: 0.8195\n",
            "Epoch 5/30\n",
            "1633/1633 [==============================] - 3s 2ms/step - loss: 1.7769 - binary_accuracy: 0.8294\n",
            "Epoch 6/30\n",
            "1633/1633 [==============================] - 3s 2ms/step - loss: 1.2318 - binary_accuracy: 0.8371\n",
            "Epoch 7/30\n",
            "1633/1633 [==============================] - 4s 2ms/step - loss: 0.8675 - binary_accuracy: 0.8502\n",
            "Epoch 8/30\n",
            "1633/1633 [==============================] - 3s 2ms/step - loss: 0.6798 - binary_accuracy: 0.8571\n",
            "Epoch 9/30\n",
            "1633/1633 [==============================] - 3s 2ms/step - loss: 0.5706 - binary_accuracy: 0.8622\n",
            "Epoch 10/30\n",
            "1633/1633 [==============================] - 3s 2ms/step - loss: 0.5069 - binary_accuracy: 0.8652\n",
            "Epoch 11/30\n",
            "1633/1633 [==============================] - 3s 2ms/step - loss: 0.4647 - binary_accuracy: 0.8663\n",
            "Epoch 12/30\n",
            "1633/1633 [==============================] - 3s 2ms/step - loss: 0.4355 - binary_accuracy: 0.8673\n",
            "Epoch 13/30\n",
            "1633/1633 [==============================] - 3s 2ms/step - loss: 0.4151 - binary_accuracy: 0.8682\n",
            "Epoch 14/30\n",
            "1633/1633 [==============================] - 3s 2ms/step - loss: 0.4014 - binary_accuracy: 0.8686\n",
            "Epoch 15/30\n",
            "1633/1633 [==============================] - 3s 2ms/step - loss: 0.3914 - binary_accuracy: 0.8685\n",
            "Epoch 16/30\n",
            "1633/1633 [==============================] - 4s 2ms/step - loss: 0.3820 - binary_accuracy: 0.8687\n",
            "Epoch 17/30\n",
            "1633/1633 [==============================] - 4s 2ms/step - loss: 0.3758 - binary_accuracy: 0.8689\n",
            "Epoch 18/30\n",
            "1633/1633 [==============================] - 4s 2ms/step - loss: 0.3693 - binary_accuracy: 0.8691\n",
            "Epoch 19/30\n",
            "1633/1633 [==============================] - 4s 2ms/step - loss: 0.3643 - binary_accuracy: 0.8695\n",
            "Epoch 20/30\n",
            "1633/1633 [==============================] - 4s 2ms/step - loss: 0.3612 - binary_accuracy: 0.8692\n",
            "Epoch 21/30\n",
            "1633/1633 [==============================] - 3s 2ms/step - loss: 0.3580 - binary_accuracy: 0.8696\n",
            "Epoch 22/30\n",
            "1633/1633 [==============================] - 3s 2ms/step - loss: 0.3672 - binary_accuracy: 0.8694\n",
            "Epoch 23/30\n",
            "1633/1633 [==============================] - 3s 2ms/step - loss: 0.3652 - binary_accuracy: 0.8697\n",
            "Epoch 24/30\n",
            "1633/1633 [==============================] - 4s 2ms/step - loss: 0.3633 - binary_accuracy: 0.8697\n",
            "Epoch 25/30\n",
            "1633/1633 [==============================] - 3s 2ms/step - loss: 0.3650 - binary_accuracy: 0.8694\n",
            "Epoch 26/30\n",
            "1633/1633 [==============================] - 3s 2ms/step - loss: 0.3597 - binary_accuracy: 0.8697\n",
            "Epoch 27/30\n",
            "1633/1633 [==============================] - 3s 2ms/step - loss: 0.3588 - binary_accuracy: 0.8700\n",
            "Epoch 28/30\n",
            "1633/1633 [==============================] - 4s 2ms/step - loss: 0.3575 - binary_accuracy: 0.8698\n",
            "Epoch 29/30\n",
            "1633/1633 [==============================] - 3s 2ms/step - loss: 0.3591 - binary_accuracy: 0.8698\n",
            "Epoch 30/30\n",
            "1633/1633 [==============================] - 3s 2ms/step - loss: 0.3552 - binary_accuracy: 0.8698\n"
          ]
        },
        {
          "output_type": "execute_result",
          "data": {
            "text/plain": [
              "<keras.callbacks.History at 0x7eeaf2845f90>"
            ]
          },
          "metadata": {},
          "execution_count": 65
        }
      ]
    },
    {
      "cell_type": "code",
      "source": [
        "model_lstm.fit(X_train_text, y_train_text, epochs=10, batch_size=10, verbose=1, shuffle=True)"
      ],
      "metadata": {
        "colab": {
          "base_uri": "https://localhost:8080/"
        },
        "id": "qDHpaSmSivOX",
        "outputId": "87b036a9-4ede-4afe-f397-e80e66054f6f"
      },
      "execution_count": null,
      "outputs": [
        {
          "output_type": "stream",
          "name": "stdout",
          "text": [
            "Epoch 1/10\n",
            "1633/1633 [==============================] - 4s 2ms/step - loss: 0.3546 - binary_accuracy: 0.8698\n",
            "Epoch 2/10\n",
            "1633/1633 [==============================] - 3s 2ms/step - loss: 0.3538 - binary_accuracy: 0.8698\n",
            "Epoch 3/10\n",
            "1633/1633 [==============================] - 3s 2ms/step - loss: 0.3525 - binary_accuracy: 0.8701\n",
            "Epoch 4/10\n",
            "1633/1633 [==============================] - 4s 2ms/step - loss: 0.3530 - binary_accuracy: 0.8699\n",
            "Epoch 5/10\n",
            "1633/1633 [==============================] - 3s 2ms/step - loss: 0.3515 - binary_accuracy: 0.8698\n",
            "Epoch 6/10\n",
            "1633/1633 [==============================] - 3s 2ms/step - loss: 0.3515 - binary_accuracy: 0.8698\n",
            "Epoch 7/10\n",
            "1633/1633 [==============================] - 4s 2ms/step - loss: 0.3507 - binary_accuracy: 0.8699\n",
            "Epoch 8/10\n",
            "1633/1633 [==============================] - 3s 2ms/step - loss: 0.3498 - binary_accuracy: 0.8700\n",
            "Epoch 9/10\n",
            "1633/1633 [==============================] - 3s 2ms/step - loss: 0.3491 - binary_accuracy: 0.8699\n",
            "Epoch 10/10\n",
            "1633/1633 [==============================] - 3s 2ms/step - loss: 0.3487 - binary_accuracy: 0.8698\n"
          ]
        },
        {
          "output_type": "execute_result",
          "data": {
            "text/plain": [
              "<keras.callbacks.History at 0x7eeaf26a7390>"
            ]
          },
          "metadata": {},
          "execution_count": 66
        }
      ]
    },
    {
      "cell_type": "code",
      "source": [
        "yhat_text_train = model_lstm.predict(X_train_text)"
      ],
      "metadata": {
        "id": "IrfYFl6ejcMO"
      },
      "execution_count": null,
      "outputs": []
    },
    {
      "cell_type": "code",
      "source": [
        "yhat_text_train = np.where(yhat_text_train > 0.5, 1, 0)\n",
        "results=[]\n",
        "total = 0\n",
        "similar = 0\n",
        "for i in range(len(y_train_text)):\n",
        "    for j in range(len(y_train_text[i])):\n",
        "        if y_train_text[i][j] == yhat_text_train[i][j]:\n",
        "            similar += 1\n",
        "        total += 1\n",
        "\n",
        "acc_image = similar/total\n",
        "\n",
        "print('>%.3f' % acc_image)\n",
        "results.append(acc_image)"
      ],
      "metadata": {
        "colab": {
          "base_uri": "https://localhost:8080/"
        },
        "id": "eMPBK9i2jr7G",
        "outputId": "c55f0f8c-719c-4259-87ec-d8e991ba70b1"
      },
      "execution_count": 133,
      "outputs": [
        {
          "output_type": "stream",
          "name": "stdout",
          "text": [
            ">0.869\n"
          ]
        }
      ]
    },
    {
      "cell_type": "code",
      "source": [
        "y_image_after = yhat_imge_train[1:]\n"
      ],
      "metadata": {
        "id": "UVZuLZJDkPWx"
      },
      "execution_count": null,
      "outputs": []
    },
    {
      "cell_type": "code",
      "source": [
        "print(len(y_image_after))\n",
        "print(len(yhat_text_train))\n",
        "print(len(y_train_text))"
      ],
      "metadata": {
        "colab": {
          "base_uri": "https://localhost:8080/"
        },
        "id": "HjceCAEUkz1Z",
        "outputId": "a7d03e80-2c63-4963-85ba-219aa0ada7d1"
      },
      "execution_count": null,
      "outputs": [
        {
          "output_type": "stream",
          "name": "stdout",
          "text": [
            "16326\n",
            "16326\n",
            "16326\n"
          ]
        }
      ]
    },
    {
      "cell_type": "code",
      "source": [
        "concate = np.concatenate((y_image_after, yhat_text_train), axis = 1)"
      ],
      "metadata": {
        "id": "NCuFhSHjk8PY"
      },
      "execution_count": null,
      "outputs": []
    },
    {
      "cell_type": "code",
      "source": [
        "concate.shape"
      ],
      "metadata": {
        "colab": {
          "base_uri": "https://localhost:8080/"
        },
        "id": "mXADi6ZnmLhc",
        "outputId": "94182c9e-d6ba-4669-b5fb-4a5081752c0b"
      },
      "execution_count": null,
      "outputs": [
        {
          "output_type": "execute_result",
          "data": {
            "text/plain": [
              "(16326, 12)"
            ]
          },
          "metadata": {},
          "execution_count": 94
        }
      ]
    },
    {
      "cell_type": "code",
      "source": [
        "def get_model_lstm_final():\n",
        "    lstm = keras.Sequential()\n",
        "    lstm.add(LSTM(32, input_shape = (1, 12), activation='relu', return_sequences=False))\n",
        "    lstm.add(Dense(6, activation='sigmoid'))\n",
        "    return lstm"
      ],
      "metadata": {
        "id": "f4Z7Va41nZ0W"
      },
      "execution_count": null,
      "outputs": []
    },
    {
      "cell_type": "code",
      "source": [
        "concate = concate.reshape(concate.shape[0], 1, concate.shape[1])\n",
        "model_lstm_final = get_model_lstm_final()\n",
        "model_lstm_final.compile(loss='binary_crossentropy',metrics='BinaryAccuracy', optimizer=adam)\n",
        "model_lstm_final.fit(concate, y_train_text, epochs=30, batch_size=10, verbose=1, shuffle=True)"
      ],
      "metadata": {
        "colab": {
          "base_uri": "https://localhost:8080/"
        },
        "id": "ipisQD6Xmnkt",
        "outputId": "9ee5be07-6683-4d56-d1ac-aa783a300e0d"
      },
      "execution_count": null,
      "outputs": [
        {
          "output_type": "stream",
          "name": "stdout",
          "text": [
            "Epoch 1/30\n",
            "1633/1633 [==============================] - 4s 2ms/step - loss: 0.5396 - binary_accuracy: 0.8709\n",
            "Epoch 2/30\n",
            "1633/1633 [==============================] - 3s 2ms/step - loss: 0.3731 - binary_accuracy: 0.8710\n",
            "Epoch 3/30\n",
            "1633/1633 [==============================] - 3s 2ms/step - loss: 0.3433 - binary_accuracy: 0.8710\n",
            "Epoch 4/30\n",
            "1633/1633 [==============================] - 3s 2ms/step - loss: 0.3392 - binary_accuracy: 0.8710\n",
            "Epoch 5/30\n",
            "1633/1633 [==============================] - 3s 2ms/step - loss: 0.3383 - binary_accuracy: 0.8710\n",
            "Epoch 6/30\n",
            "1633/1633 [==============================] - 3s 2ms/step - loss: 0.3379 - binary_accuracy: 0.8710\n",
            "Epoch 7/30\n",
            "1633/1633 [==============================] - 3s 2ms/step - loss: 0.3376 - binary_accuracy: 0.8710\n",
            "Epoch 8/30\n",
            "1633/1633 [==============================] - 3s 2ms/step - loss: 0.3374 - binary_accuracy: 0.8710\n",
            "Epoch 9/30\n",
            "1633/1633 [==============================] - 3s 2ms/step - loss: 0.3373 - binary_accuracy: 0.8710\n",
            "Epoch 10/30\n",
            "1633/1633 [==============================] - 3s 2ms/step - loss: 0.3372 - binary_accuracy: 0.8720\n",
            "Epoch 11/30\n",
            "1633/1633 [==============================] - 3s 2ms/step - loss: 0.3371 - binary_accuracy: 0.8733\n",
            "Epoch 12/30\n",
            "1633/1633 [==============================] - 3s 2ms/step - loss: 0.3370 - binary_accuracy: 0.8733\n",
            "Epoch 13/30\n",
            "1633/1633 [==============================] - 3s 2ms/step - loss: 0.3369 - binary_accuracy: 0.8733\n",
            "Epoch 14/30\n",
            "1633/1633 [==============================] - 3s 2ms/step - loss: 0.3369 - binary_accuracy: 0.8733\n",
            "Epoch 15/30\n",
            "1633/1633 [==============================] - 3s 2ms/step - loss: 0.3368 - binary_accuracy: 0.8733\n",
            "Epoch 16/30\n",
            "1633/1633 [==============================] - 3s 2ms/step - loss: 0.3368 - binary_accuracy: 0.8733\n",
            "Epoch 17/30\n",
            "1633/1633 [==============================] - 3s 2ms/step - loss: 0.3367 - binary_accuracy: 0.8733\n",
            "Epoch 18/30\n",
            "1633/1633 [==============================] - 3s 2ms/step - loss: 0.3367 - binary_accuracy: 0.8733\n",
            "Epoch 19/30\n",
            "1633/1633 [==============================] - 3s 2ms/step - loss: 0.3367 - binary_accuracy: 0.8733\n",
            "Epoch 20/30\n",
            "1633/1633 [==============================] - 3s 2ms/step - loss: 0.3366 - binary_accuracy: 0.8733\n",
            "Epoch 21/30\n",
            "1633/1633 [==============================] - 3s 2ms/step - loss: 0.3366 - binary_accuracy: 0.8733\n",
            "Epoch 22/30\n",
            "1633/1633 [==============================] - 3s 2ms/step - loss: 0.3366 - binary_accuracy: 0.8733\n",
            "Epoch 23/30\n",
            "1633/1633 [==============================] - 3s 2ms/step - loss: 0.3366 - binary_accuracy: 0.8733\n",
            "Epoch 24/30\n",
            "1633/1633 [==============================] - 3s 2ms/step - loss: 0.3366 - binary_accuracy: 0.8733\n",
            "Epoch 25/30\n",
            "1633/1633 [==============================] - 3s 2ms/step - loss: 0.3366 - binary_accuracy: 0.8733\n",
            "Epoch 26/30\n",
            "1633/1633 [==============================] - 3s 2ms/step - loss: 0.3366 - binary_accuracy: 0.8733\n",
            "Epoch 27/30\n",
            "1633/1633 [==============================] - 3s 2ms/step - loss: 0.3365 - binary_accuracy: 0.8733\n",
            "Epoch 28/30\n",
            "1633/1633 [==============================] - 3s 2ms/step - loss: 0.3365 - binary_accuracy: 0.8733\n",
            "Epoch 29/30\n",
            "1633/1633 [==============================] - 3s 2ms/step - loss: 0.3365 - binary_accuracy: 0.8733\n",
            "Epoch 30/30\n",
            "1633/1633 [==============================] - 3s 2ms/step - loss: 0.3365 - binary_accuracy: 0.8733\n"
          ]
        },
        {
          "output_type": "execute_result",
          "data": {
            "text/plain": [
              "<keras.callbacks.History at 0x7eeaeff1a050>"
            ]
          },
          "metadata": {},
          "execution_count": 95
        }
      ]
    },
    {
      "cell_type": "code",
      "source": [
        "yhat_final = model_lstm_final.predict(concate)"
      ],
      "metadata": {
        "id": "sq5Juwiyobm3"
      },
      "execution_count": null,
      "outputs": []
    },
    {
      "cell_type": "code",
      "source": [
        "yhat_final = np.where(yhat_final > 0.5, 1, 0)\n",
        "results=[]\n",
        "total = 0\n",
        "similar = 0\n",
        "for i in range(len(y_train_text)):\n",
        "    for j in range(len(y_train_text[i])):\n",
        "        if y_train_text[i][j] == yhat_final[i][j]:\n",
        "            similar += 1\n",
        "        total += 1\n",
        "\n",
        "acc_image = similar/total\n",
        "\n",
        "print('>%.3f' % acc_image)\n",
        "results.append(acc_image)"
      ],
      "metadata": {
        "colab": {
          "base_uri": "https://localhost:8080/"
        },
        "id": "TbwEJiPfoijO",
        "outputId": "6c87cbec-2e26-4cdc-ea75-523aabc7adac"
      },
      "execution_count": 134,
      "outputs": [
        {
          "output_type": "stream",
          "name": "stdout",
          "text": [
            ">0.873\n"
          ]
        }
      ]
    },
    {
      "cell_type": "code",
      "source": [
        "model_cnn.summary()"
      ],
      "metadata": {
        "colab": {
          "base_uri": "https://localhost:8080/"
        },
        "id": "W-lRWMaPx4xV",
        "outputId": "eb714c05-7955-4705-9941-1172bb4dd95e"
      },
      "execution_count": null,
      "outputs": [
        {
          "output_type": "stream",
          "name": "stdout",
          "text": [
            "Model: \"sequential\"\n",
            "_________________________________________________________________\n",
            " Layer (type)                Output Shape              Param #   \n",
            "=================================================================\n",
            " conv2d (Conv2D)             (None, 126, 848, 1)       10        \n",
            "                                                                 \n",
            " max_pooling2d (MaxPooling2D  (None, 63, 424, 1)       0         \n",
            " )                                                               \n",
            "                                                                 \n",
            " dropout (Dropout)           (None, 63, 424, 1)        0         \n",
            "                                                                 \n",
            " conv2d_1 (Conv2D)           (None, 61, 422, 1)        10        \n",
            "                                                                 \n",
            " max_pooling2d_1 (MaxPooling  (None, 30, 211, 1)       0         \n",
            " 2D)                                                             \n",
            "                                                                 \n",
            " dropout_1 (Dropout)         (None, 30, 211, 1)        0         \n",
            "                                                                 \n",
            " conv2d_2 (Conv2D)           (None, 30, 211, 1)        2         \n",
            "                                                                 \n",
            " max_pooling2d_2 (MaxPooling  (None, 15, 105, 1)       0         \n",
            " 2D)                                                             \n",
            "                                                                 \n",
            " dropout_2 (Dropout)         (None, 15, 105, 1)        0         \n",
            "                                                                 \n",
            " flatten (Flatten)           (None, 1575)              0         \n",
            "                                                                 \n",
            " dense (Dense)               (None, 6)                 9456      \n",
            "                                                                 \n",
            "=================================================================\n",
            "Total params: 9,478\n",
            "Trainable params: 9,478\n",
            "Non-trainable params: 0\n",
            "_________________________________________________________________\n"
          ]
        }
      ]
    },
    {
      "cell_type": "code",
      "source": [
        "model_lstm.summary()"
      ],
      "metadata": {
        "colab": {
          "base_uri": "https://localhost:8080/"
        },
        "id": "JpBxf5u-yDPn",
        "outputId": "0a657a05-3966-4bc5-ac59-c23507970fef"
      },
      "execution_count": null,
      "outputs": [
        {
          "output_type": "stream",
          "name": "stdout",
          "text": [
            "Model: \"sequential_5\"\n",
            "_________________________________________________________________\n",
            " Layer (type)                Output Shape              Param #   \n",
            "=================================================================\n",
            " lstm (LSTM)                 (None, 32)                5376      \n",
            "                                                                 \n",
            " dense_1 (Dense)             (None, 6)                 198       \n",
            "                                                                 \n",
            "=================================================================\n",
            "Total params: 5,574\n",
            "Trainable params: 5,574\n",
            "Non-trainable params: 0\n",
            "_________________________________________________________________\n"
          ]
        }
      ]
    },
    {
      "cell_type": "code",
      "source": [
        "model_lstm_final.summary()"
      ],
      "metadata": {
        "colab": {
          "base_uri": "https://localhost:8080/"
        },
        "id": "HS8VbyyOyM-f",
        "outputId": "edb89d2f-972a-4313-afc4-00f426d7c6ec"
      },
      "execution_count": null,
      "outputs": [
        {
          "output_type": "stream",
          "name": "stdout",
          "text": [
            "Model: \"sequential_10\"\n",
            "_________________________________________________________________\n",
            " Layer (type)                Output Shape              Param #   \n",
            "=================================================================\n",
            " lstm_5 (LSTM)               (None, 32)                5760      \n",
            "                                                                 \n",
            " dense_6 (Dense)             (None, 6)                 198       \n",
            "                                                                 \n",
            "=================================================================\n",
            "Total params: 5,958\n",
            "Trainable params: 5,958\n",
            "Non-trainable params: 0\n",
            "_________________________________________________________________\n"
          ]
        }
      ]
    },
    {
      "cell_type": "code",
      "source": [
        "yhat_imge_test = model_cnn.predict(X_test)\n",
        "yhat_imge_test = np.where(yhat_imge_test > 0.5, 1, 0)\n",
        "\n",
        "yhat_text_image = model_lstm.predict(X_test_text)\n",
        "yhat_text_image = np.where(yhat_text_image > 0.5, 1, 0)"
      ],
      "metadata": {
        "id": "40uZ4SNOqEID"
      },
      "execution_count": null,
      "outputs": []
    },
    {
      "cell_type": "code",
      "source": [
        "print(len(yhat_imge_test))\n",
        "print(len(yhat_text_image))\n",
        "y_image_drop = yhat_imge_test[1:]\n",
        "print(len(y_image_drop))"
      ],
      "metadata": {
        "colab": {
          "base_uri": "https://localhost:8080/"
        },
        "id": "LhbuvS_wsquD",
        "outputId": "9da401b0-4b89-4951-97f2-e58e87160f4f"
      },
      "execution_count": null,
      "outputs": [
        {
          "output_type": "stream",
          "name": "stdout",
          "text": [
            "4662\n",
            "4661\n",
            "4661\n"
          ]
        }
      ]
    },
    {
      "cell_type": "code",
      "source": [
        "concate_final = np.concatenate((y_image_drop, yhat_text_image), axis = 1)\n",
        "concate_final = concate_final.reshape(concate_final.shape[0], 1, concate_final.shape[1])\n",
        "\n",
        "yhat_final_test = model_lstm_final.predict(concate)"
      ],
      "metadata": {
        "id": "X3whHdL7spss"
      },
      "execution_count": null,
      "outputs": []
    },
    {
      "cell_type": "code",
      "source": [
        "yhat_final_test = np.where(yhat_final_test > 0.5, 1, 0)\n",
        "results=[]\n",
        "total = 0\n",
        "similar = 0\n",
        "for i in range(len(y_test_text)):\n",
        "    for j in range(len(y_test_text[i])):\n",
        "        if y_test_text[i][j] == yhat_final_test[i][j]:\n",
        "            similar += 1\n",
        "        total += 1\n",
        "acc_image = similar/total\n",
        "\n",
        "print('>%.3f' % acc_image)\n",
        "results.append(acc_image)"
      ],
      "metadata": {
        "colab": {
          "base_uri": "https://localhost:8080/"
        },
        "id": "kyc9LpmXs9O-",
        "outputId": "7bbf3822-004d-4eec-8695-ea2c8d537bad"
      },
      "execution_count": 135,
      "outputs": [
        {
          "output_type": "stream",
          "name": "stdout",
          "text": [
            ">0.870\n"
          ]
        }
      ]
    },
    {
      "cell_type": "code",
      "source": [
        "correctness = []\n",
        "for j in range(len(y_test_text[i])):\n",
        "    correct = 0\n",
        "    total = 0\n",
        "    for i in range(len(y_test_text)):\n",
        "        if y_test_text[i][j] == yhat_final_test[i][j]:\n",
        "          correct += 1\n",
        "        total += 1\n",
        "    correctness.append(correct/total)"
      ],
      "metadata": {
        "id": "iDaOG97btYXM"
      },
      "execution_count": null,
      "outputs": []
    },
    {
      "cell_type": "code",
      "source": [
        "correctness"
      ],
      "metadata": {
        "colab": {
          "base_uri": "https://localhost:8080/"
        },
        "id": "xH6FMODLuWhs",
        "outputId": "e1fa4812-7dfe-4f5d-fda3-4c462b348647"
      },
      "execution_count": null,
      "outputs": [
        {
          "output_type": "execute_result",
          "data": {
            "text/plain": [
              "[0.6429950654366016,\n",
              " 0.8759922763355503,\n",
              " 0.8586140313237502,\n",
              " 0.9729671744260888,\n",
              " 0.9092469427161554,\n",
              " 0.9630980476292641]"
            ]
          },
          "metadata": {},
          "execution_count": 108
        }
      ]
    },
    {
      "cell_type": "code",
      "source": [
        "total = 0\n",
        "for i in correctness:\n",
        "  total += i\n",
        "ave = total/6\n",
        "print(ave)"
      ],
      "metadata": {
        "colab": {
          "base_uri": "https://localhost:8080/"
        },
        "id": "5bR578opu3h8",
        "outputId": "555ee74b-3704-4d06-fd94-fe74d1877d61"
      },
      "execution_count": null,
      "outputs": [
        {
          "output_type": "stream",
          "name": "stdout",
          "text": [
            "0.8704855896445686\n"
          ]
        }
      ]
    },
    {
      "cell_type": "code",
      "source": [
        ""
      ],
      "metadata": {
        "id": "pQgfcaXn5NWW"
      },
      "execution_count": null,
      "outputs": []
    },
    {
      "cell_type": "code",
      "source": [
        ""
      ],
      "metadata": {
        "id": "ADbQtm9w5R-4"
      },
      "execution_count": null,
      "outputs": []
    }
  ],
  "metadata": {
    "accelerator": "GPU",
    "colab": {
      "machine_shape": "hm",
      "name": "CNN+LSTM.ipynb",
      "provenance": [],
      "collapsed_sections": []
    },
    "kernelspec": {
      "display_name": "Python 3",
      "name": "python3"
    },
    "language_info": {
      "name": "python"
    }
  },
  "nbformat": 4,
  "nbformat_minor": 0
}