{
 "cells": [
  {
   "cell_type": "code",
   "execution_count": 2,
   "metadata": {
    "id": "CKiPaeMP2Qb7"
   },
   "outputs": [
    {
     "name": "stdout",
     "output_type": "stream",
     "text": [
      "Tensorflow version: 2.3.0\n",
      "Keras Version: 2.4.0\n",
      "GPU is NOT AVAILABLE\n"
     ]
    }
   ],
   "source": [
    "import os\n",
    "import pandas as pd\n",
    "import numpy as np\n",
    "import pickle\n",
    "import tensorflow as tf\n",
    "from matplotlib.image import imread\n",
    "from numpy import mean\n",
    "from numpy import std\n",
    "from sklearn.datasets import make_multilabel_classification\n",
    "from sklearn.model_selection import RepeatedKFold\n",
    "from keras.models import Sequential\n",
    "from keras.layers import Dense, Activation\n",
    "from keras.layers import Conv1D, MaxPooling1D\n",
    "from keras.layers import Dense, Dropout, Flatten\n",
    "from sklearn.metrics import accuracy_score\n",
    "from sklearn.model_selection import train_test_split\n",
    "from tensorflow.keras.optimizers import *\n",
    "print(f\"Tensorflow version: {tf.__version__}\")\n",
    "print(f\"Keras Version: {tf.keras.__version__}\")\n",
    "\n",
    "print(\"GPU is\", \"available\" if tf.config.list_physical_devices('GPU') else \"NOT AVAILABLE\")"
   ]
  },
  {
   "cell_type": "code",
   "execution_count": 3,
   "metadata": {},
   "outputs": [],
   "source": [
    "data_dev = []\n",
    "data_test = []\n",
    "data_train = []\n",
    "file_name_dev = \"audioDataDev.pickle\"\n",
    "file_name_test = \"audioDataTest.pickle\"\n",
    "file_name_train = \"audioDataTrain.pickle\"\n",
    "\n",
    "with (open(file_name_dev, \"rb\")) as f:\n",
    "    while True:\n",
    "        try:\n",
    "            data_dev.append(pickle.load(f))\n",
    "        except EOFError:\n",
    "            break\n",
    "f.close()\n",
    "\n",
    "with (open(file_name_test, \"rb\")) as f:\n",
    "    while True:\n",
    "        try:\n",
    "            data_test.append(pickle.load(f))\n",
    "        except EOFError:\n",
    "            break\n",
    "f.close()\n",
    "\n",
    "with (open(file_name_train, \"rb\")) as f:\n",
    "    while True:\n",
    "        try:\n",
    "            data_train.append(pickle.load(f))\n",
    "        except EOFError:\n",
    "            break\n",
    "f.close()"
   ]
  },
  {
   "cell_type": "code",
   "execution_count": 4,
   "metadata": {
    "colab": {
     "base_uri": "https://localhost:8080/",
     "height": 393
    },
    "id": "sdOkQA7J2ngD",
    "outputId": "4d381379-031a-418e-bd12-68057336c64c"
   },
   "outputs": [],
   "source": [
    "X_dev = []\n",
    "y_dev = []\n",
    "X_train = []\n",
    "y_train = []\n",
    "X_test = []\n",
    "y_test = []\n",
    "\n",
    "for i in range(len(data_dev)-1):\n",
    "    X_dev.append(data_dev[i+1][3])\n",
    "for i in range(len(data_dev)-1):\n",
    "    y_dev.append(data_dev[i+1][5:12])\n",
    "    \n",
    "for i in range(len(data_test)-1):\n",
    "    X_test.append(data_test[i+1][3])\n",
    "for i in range(len(data_test)-1):\n",
    "    y_test.append(data_test[i+1][5:12])\n",
    "    \n",
    "for i in range(len(data_train)-1):\n",
    "    X_train.append(data_train[i+1][3])\n",
    "for i in range(len(data_train)-1):\n",
    "    y_train.append(data_train[i+1][5:12])\n",
    "\n",
    "X_dev = np.array(X_dev)\n",
    "y_dev = np.array(y_dev)\n",
    "X_test = np.array(X_test)\n",
    "y_test = np.array(y_test)\n",
    "X_train = np.array(X_train)\n",
    "y_train = np.array(y_train)\n"
   ]
  },
  {
   "cell_type": "code",
   "execution_count": 5,
   "metadata": {},
   "outputs": [],
   "source": [
    "y_dev = y_dev * 3\n",
    "y_test = y_test * 3\n",
    "y_train = y_train * 3\n",
    "y_dev = y_dev.round()\n",
    "y_test = y_test.round()\n",
    "y_train = y_train.round()"
   ]
  },
  {
   "cell_type": "code",
   "execution_count": 6,
   "metadata": {},
   "outputs": [
    {
     "data": {
      "text/plain": [
       "(16327, 128, 850)"
      ]
     },
     "execution_count": 6,
     "metadata": {},
     "output_type": "execute_result"
    }
   ],
   "source": [
    "X_train.shape"
   ]
  },
  {
   "cell_type": "code",
   "execution_count": 12,
   "metadata": {
    "colab": {
     "base_uri": "https://localhost:8080/"
    },
    "id": "jWyL453O3hXf",
    "outputId": "69777b0a-fcc9-4401-875c-2be39e6c4024"
   },
   "outputs": [
    {
     "name": "stdout",
     "output_type": "stream",
     "text": [
      "Epoch 1/20\n",
      "17/17 [==============================] - 10s 610ms/step - loss: 2.8241 - mean_squared_error: 2.8241 - auc: 0.5515 - accuracy: 0.1738 - val_loss: 2.2736 - val_mean_squared_error: 2.2736 - val_auc: 0.6719 - val_accuracy: 0.2117\n",
      "Epoch 2/20\n",
      "17/17 [==============================] - 9s 529ms/step - loss: 2.7496 - mean_squared_error: 2.7496 - auc: 0.6177 - accuracy: 0.2368 - val_loss: 2.2513 - val_mean_squared_error: 2.2513 - val_auc: 0.6632 - val_accuracy: 0.2117\n",
      "Epoch 3/20\n",
      "17/17 [==============================] - 9s 510ms/step - loss: 2.7337 - mean_squared_error: 2.7337 - auc: 0.6484 - accuracy: 0.2370 - val_loss: 2.2439 - val_mean_squared_error: 2.2439 - val_auc: 0.6756 - val_accuracy: 0.2117\n",
      "Epoch 4/20\n",
      "17/17 [==============================] - 9s 504ms/step - loss: 2.7223 - mean_squared_error: 2.7223 - auc: 0.6697 - accuracy: 0.2392 - val_loss: 2.2402 - val_mean_squared_error: 2.2402 - val_auc: 0.7033 - val_accuracy: 0.2117\n",
      "Epoch 5/20\n",
      "17/17 [==============================] - 9s 507ms/step - loss: 2.7161 - mean_squared_error: 2.7161 - auc: 0.6681 - accuracy: 0.2384 - val_loss: 2.2350 - val_mean_squared_error: 2.2350 - val_auc: 0.7077 - val_accuracy: 0.2117\n",
      "Epoch 6/20\n",
      "17/17 [==============================] - 9s 512ms/step - loss: 2.7066 - mean_squared_error: 2.7066 - auc: 0.6783 - accuracy: 0.2387 - val_loss: 2.2294 - val_mean_squared_error: 2.2294 - val_auc: 0.7217 - val_accuracy: 0.2117\n",
      "Epoch 7/20\n",
      "17/17 [==============================] - 9s 524ms/step - loss: 2.6988 - mean_squared_error: 2.6988 - auc: 0.6785 - accuracy: 0.2390 - val_loss: 2.2225 - val_mean_squared_error: 2.2225 - val_auc: 0.7246 - val_accuracy: 0.2117\n",
      "Epoch 8/20\n",
      "17/17 [==============================] - 9s 527ms/step - loss: 2.6895 - mean_squared_error: 2.6895 - auc: 0.6760 - accuracy: 0.2388 - val_loss: 2.2215 - val_mean_squared_error: 2.2215 - val_auc: 0.7061 - val_accuracy: 0.2117\n",
      "Epoch 9/20\n",
      "17/17 [==============================] - 9s 548ms/step - loss: 2.6777 - mean_squared_error: 2.6777 - auc: 0.6832 - accuracy: 0.2397 - val_loss: 2.2143 - val_mean_squared_error: 2.2143 - val_auc: 0.7330 - val_accuracy: 0.2117\n",
      "Epoch 10/20\n",
      "17/17 [==============================] - 9s 536ms/step - loss: 2.6704 - mean_squared_error: 2.6704 - auc: 0.6777 - accuracy: 0.2401 - val_loss: 2.2073 - val_mean_squared_error: 2.2073 - val_auc: 0.6996 - val_accuracy: 0.2117\n",
      "Epoch 11/20\n",
      "17/17 [==============================] - 9s 521ms/step - loss: 2.6584 - mean_squared_error: 2.6584 - auc: 0.6682 - accuracy: 0.2419 - val_loss: 2.2080 - val_mean_squared_error: 2.2080 - val_auc: 0.6880 - val_accuracy: 0.2117\n",
      "Epoch 12/20\n",
      "17/17 [==============================] - 9s 537ms/step - loss: 2.6541 - mean_squared_error: 2.6541 - auc: 0.6682 - accuracy: 0.2440 - val_loss: 2.2125 - val_mean_squared_error: 2.2125 - val_auc: 0.6661 - val_accuracy: 0.2117\n",
      "Epoch 13/20\n",
      "17/17 [==============================] - 9s 526ms/step - loss: 2.6516 - mean_squared_error: 2.6516 - auc: 0.6668 - accuracy: 0.2454 - val_loss: 2.2020 - val_mean_squared_error: 2.2020 - val_auc: 0.6784 - val_accuracy: 0.2117\n",
      "Epoch 14/20\n",
      "17/17 [==============================] - 9s 547ms/step - loss: 2.6416 - mean_squared_error: 2.6416 - auc: 0.6689 - accuracy: 0.2481 - val_loss: 2.2092 - val_mean_squared_error: 2.2092 - val_auc: 0.6572 - val_accuracy: 0.2117\n",
      "Epoch 15/20\n",
      "17/17 [==============================] - 9s 547ms/step - loss: 2.6368 - mean_squared_error: 2.6368 - auc: 0.6659 - accuracy: 0.2496 - val_loss: 2.2029 - val_mean_squared_error: 2.2029 - val_auc: 0.6763 - val_accuracy: 0.2117\n",
      "Epoch 16/20\n",
      "17/17 [==============================] - 10s 560ms/step - loss: 2.6269 - mean_squared_error: 2.6269 - auc: 0.6663 - accuracy: 0.2529 - val_loss: 2.2007 - val_mean_squared_error: 2.2007 - val_auc: 0.7048 - val_accuracy: 0.2117\n",
      "Epoch 17/20\n",
      "17/17 [==============================] - 9s 532ms/step - loss: 2.6285 - mean_squared_error: 2.6285 - auc: 0.6710 - accuracy: 0.2520 - val_loss: 2.1955 - val_mean_squared_error: 2.1955 - val_auc: 0.6894 - val_accuracy: 0.2117\n",
      "Epoch 18/20\n",
      "17/17 [==============================] - 9s 530ms/step - loss: 2.6226 - mean_squared_error: 2.6226 - auc: 0.6646 - accuracy: 0.2487 - val_loss: 2.2058 - val_mean_squared_error: 2.2058 - val_auc: 0.6784 - val_accuracy: 0.2117\n",
      "Epoch 19/20\n",
      "17/17 [==============================] - 9s 541ms/step - loss: 2.6171 - mean_squared_error: 2.6171 - auc: 0.6636 - accuracy: 0.2514 - val_loss: 2.2024 - val_mean_squared_error: 2.2024 - val_auc: 0.6901 - val_accuracy: 0.2117\n",
      "Epoch 20/20\n",
      "17/17 [==============================] - 9s 524ms/step - loss: 2.6140 - mean_squared_error: 2.6140 - auc: 0.6690 - accuracy: 0.2536 - val_loss: 2.1994 - val_mean_squared_error: 2.1994 - val_auc: 0.6820 - val_accuracy: 0.2117\n"
     ]
    }
   ],
   "source": [
    "# get the model\n",
    "def get_model():\n",
    "    model = Sequential()\n",
    "    model.add(Conv1D(32, kernel_size=(2), activation='relu', input_shape=(128, 850)))\n",
    "    model.add(MaxPooling1D(pool_size=(2)))\n",
    "    model.add(Dropout(0.25))\n",
    "    model.add(Conv1D(filters=64, kernel_size=(5), activation='relu'))\n",
    "    model.add(MaxPooling1D(pool_size=(2)))\n",
    "    model.add(Dropout(0.25))\n",
    "    model.add(Conv1D(filters=128, kernel_size=(5), activation=\"relu\"))\n",
    "    model.add(MaxPooling1D(pool_size=(2)))\n",
    "    model.add(Dropout(0.25))\n",
    "    model.add(Conv1D(filters=256, kernel_size=(5), activation=\"relu\"))\n",
    "    model.add(MaxPooling1D(pool_size=(2)))\n",
    "    model.add(Dropout(0.25))\n",
    "    model.add(Flatten())\n",
    "    model.add(Dense(128, activation='sigmoid'))\n",
    "    model.add(Dropout(0.5))\n",
    "    model.add(Dense(64, activation='sigmoid'))\n",
    "    model.add(Dropout(0.5))\n",
    "    model.add(Dense(7, activation='sigmoid'))\n",
    "    return model\n",
    " \n",
    "# evaluate a model using repeated k-fold cross-validation\n",
    "adam = Adam(0.0005)\n",
    "model = get_model()\n",
    "model.compile(optimizer=adam,loss='mean_squared_error',metrics=['MeanSquaredError','AUC','accuracy'])\n",
    "model.fit(X_train, y_train, epochs=10, validation_data=(X_dev, y_dev), batch_size=1000)\n",
    "yhat = model.predict(X_test)"
   ]
  },
  {
   "cell_type": "code",
   "execution_count": 13,
   "metadata": {
    "colab": {
     "base_uri": "https://localhost:8080/"
    },
    "id": "25ePb84t3qeV",
    "outputId": "5186d60f-18a4-4f68-8051-4fe4c46015d3"
   },
   "outputs": [
    {
     "name": "stdout",
     "output_type": "stream",
     "text": [
      "[0.01108488 0.98947203 0.55688107 0.70674175 0.11051086 0.6799463\n",
      " 0.05487254]\n",
      "(7,)\n",
      "[2. 3. 0. 0. 0. 0. 0.]\n"
     ]
    }
   ],
   "source": [
    "print(yhat[3000])\n",
    "print(y_test[1].shape)\n",
    "print(y_test[3000])"
   ]
  },
  {
   "cell_type": "code",
   "execution_count": 9,
   "metadata": {
    "colab": {
     "base_uri": "https://localhost:8080/"
    },
    "id": "t3XB9VgN3vrx",
    "outputId": "2c59f960-c816-4082-e319-d928a74bbb51"
   },
   "outputs": [
    {
     "name": "stdout",
     "output_type": "stream",
     "text": [
      ">0.000\n"
     ]
    }
   ],
   "source": [
    "results=[]\n",
    "total = 0\n",
    "similar = 0\n",
    "for i in range(len(y_test)):\n",
    "    for j in range(len(y_test[i])):\n",
    "        if y_test[i][j] == yhat[i][j]:\n",
    "            similar += 1\n",
    "        total += 1\n",
    "acc = similar/total\n",
    "\n",
    "print('>%.3f' % acc)\n",
    "results.append(acc)"
   ]
  },
  {
   "cell_type": "code",
   "execution_count": null,
   "metadata": {},
   "outputs": [],
   "source": []
  },
  {
   "cell_type": "code",
   "execution_count": null,
   "metadata": {},
   "outputs": [],
   "source": []
  }
 ],
 "metadata": {
  "colab": {
   "name": "cnn_implementation.ipynb",
   "provenance": []
  },
  "kernelspec": {
   "display_name": "Python 3 (ipykernel)",
   "language": "python",
   "name": "python3"
  },
  "language_info": {
   "codemirror_mode": {
    "name": "ipython",
    "version": 3
   },
   "file_extension": ".py",
   "mimetype": "text/x-python",
   "name": "python",
   "nbconvert_exporter": "python",
   "pygments_lexer": "ipython3",
   "version": "3.8.12"
  }
 },
 "nbformat": 4,
 "nbformat_minor": 4
}
