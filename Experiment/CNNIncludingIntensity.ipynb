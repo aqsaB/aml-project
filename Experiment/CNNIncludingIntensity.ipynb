{
 "cells": [
  {
   "cell_type": "markdown",
   "metadata": {},
   "source": [
    "## CNN Model trained using features extracted from audio files. The labels have been processed to include intensity of the emotions.  Below we have experimented with different batch sizes and number of epochs. "
   ]
  },
  {
   "cell_type": "code",
   "execution_count": 1,
   "metadata": {
    "colab": {
     "base_uri": "https://localhost:8080/"
    },
    "id": "CKiPaeMP2Qb7",
    "outputId": "e6cc939b-83a9-4bc4-eb25-fa248f208405"
   },
   "outputs": [
    {
     "name": "stdout",
     "output_type": "stream",
     "text": [
      "Tensorflow version: 2.6.0\n",
      "Keras Version: 2.6.0\n",
      "GPU is NOT AVAILABLE\n"
     ]
    }
   ],
   "source": [
    "import os\n",
    "import pandas as pd\n",
    "import numpy as np\n",
    "import pickle\n",
    "import tensorflow as tf\n",
    "from matplotlib.image import imread\n",
    "from numpy import mean\n",
    "from numpy import std\n",
    "from sklearn.datasets import make_multilabel_classification\n",
    "from sklearn.model_selection import RepeatedKFold\n",
    "from keras.models import Sequential\n",
    "from keras.layers import Dense, Activation\n",
    "from keras.layers import Conv1D, MaxPooling1D\n",
    "from keras.layers import Dense, Dropout, Flatten\n",
    "from sklearn.metrics import accuracy_score\n",
    "from sklearn.model_selection import train_test_split\n",
    "from tensorflow.keras.optimizers import *\n",
    "print(f\"Tensorflow version: {tf.__version__}\")\n",
    "print(f\"Keras Version: {tf.keras.__version__}\")\n",
    "\n",
    "print(\"GPU is\", \"available\" if tf.config.list_physical_devices('GPU') else \"NOT AVAILABLE\")"
   ]
  },
  {
   "cell_type": "code",
   "execution_count": 2,
   "metadata": {
    "id": "5MByZEHoWxsh"
   },
   "outputs": [],
   "source": [
    "data_dev = []\n",
    "data_test = []\n",
    "data_train = []\n",
    "file_name_dev = \"audioDataDev.pickle\"\n",
    "file_name_test = \"audioDataTest.pickle\"\n",
    "file_name_train = \"audioDataTrain.pickle\"\n",
    "\n",
    "with (open(file_name_dev, \"rb\")) as f:\n",
    "    while True:\n",
    "        try:\n",
    "            data_dev.append(pickle.load(f))\n",
    "        except EOFError:\n",
    "            break\n",
    "f.close()\n",
    "\n",
    "with (open(file_name_test, \"rb\")) as f:\n",
    "    while True:\n",
    "        try:\n",
    "            data_test.append(pickle.load(f))\n",
    "        except EOFError:\n",
    "            break\n",
    "f.close()\n",
    "\n",
    "with (open(file_name_train, \"rb\")) as f:\n",
    "    while True:\n",
    "        try:\n",
    "            data_train.append(pickle.load(f))\n",
    "        except EOFError:\n",
    "            break\n",
    "f.close()"
   ]
  },
  {
   "cell_type": "code",
   "execution_count": 3,
   "metadata": {
    "id": "sdOkQA7J2ngD"
   },
   "outputs": [],
   "source": [
    "X_dev = []\n",
    "y_dev = []\n",
    "X_train = []\n",
    "y_train = []\n",
    "X_test = []\n",
    "y_test = []\n",
    "\n",
    "for i in range(len(data_dev)-1):\n",
    "    X_dev.append(data_dev[i+1][3])\n",
    "for i in range(len(data_dev)-1):\n",
    "    y_dev.append(data_dev[i+1][6:12])\n",
    "    \n",
    "for i in range(len(data_test)-1):\n",
    "    X_test.append(data_test[i+1][3])\n",
    "for i in range(len(data_test)-1):\n",
    "    y_test.append(data_test[i+1][6:12])\n",
    "    \n",
    "for i in range(len(data_train)-1):\n",
    "    X_train.append(data_train[i+1][3])\n",
    "for i in range(len(data_train)-1):\n",
    "    y_train.append(data_train[i+1][6:12])\n",
    "\n",
    "X_dev = np.array(X_dev)\n",
    "y_dev = np.array(y_dev)\n",
    "X_test = np.array(X_test)\n",
    "y_test = np.array(y_test)\n",
    "X_train = np.array(X_train)\n",
    "y_train = np.array(y_train)\n"
   ]
  },
  {
   "cell_type": "code",
   "execution_count": 4,
   "metadata": {
    "id": "Ufzo5PJvWxsi"
   },
   "outputs": [],
   "source": [
    "y_dev = np.ceil(y_dev)\n",
    "y_test = np.ceil(y_test)\n",
    "y_train = np.ceil(y_train)"
   ]
  },
  {
   "cell_type": "code",
   "execution_count": 5,
   "metadata": {
    "id": "Kfg9CyWXWxsj",
    "outputId": "838b3477-911c-4d1f-a43d-221170c9c132"
   },
   "outputs": [
    {
     "data": {
      "text/plain": [
       "(16327, 128, 850)"
      ]
     },
     "execution_count": 5,
     "metadata": {},
     "output_type": "execute_result"
    }
   ],
   "source": [
    "X_train.shape"
   ]
  },
  {
   "cell_type": "markdown",
   "metadata": {},
   "source": [
    "## Training the CNN model with 50 epochs and a batch size of 500 "
   ]
  },
  {
   "cell_type": "code",
   "execution_count": 7,
   "metadata": {
    "colab": {
     "base_uri": "https://localhost:8080/"
    },
    "id": "jWyL453O3hXf",
    "outputId": "69777b0a-fcc9-4401-875c-2be39e6c4024"
   },
   "outputs": [
    {
     "name": "stdout",
     "output_type": "stream",
     "text": [
      "Epoch 1/50\n",
      "33/33 [==============================] - 28s 736ms/step - loss: 0.3060 - mean_squared_error: 0.3060 - auc: 0.6715 - accuracy: 0.5198 - mae: 0.3617 - mape: 127585208.0000 - val_loss: 0.2639 - val_mean_squared_error: 0.2639 - val_auc: 0.7045 - val_accuracy: 0.6927 - val_mae: 0.3447 - val_mape: 127651112.0000\n",
      "Epoch 2/50\n",
      "33/33 [==============================] - 21s 650ms/step - loss: 0.3024 - mean_squared_error: 0.3024 - auc: 0.7085 - accuracy: 0.6725 - mae: 0.3590 - mape: 126233584.0000 - val_loss: 0.2603 - val_mean_squared_error: 0.2603 - val_auc: 0.7135 - val_accuracy: 0.6927 - val_mae: 0.3418 - val_mape: 126200992.0000\n",
      "Epoch 3/50\n",
      "33/33 [==============================] - 18s 554ms/step - loss: 0.2986 - mean_squared_error: 0.2986 - auc: 0.7108 - accuracy: 0.6728 - mae: 0.3561 - mape: 124775560.0000 - val_loss: 0.2567 - val_mean_squared_error: 0.2567 - val_auc: 0.7160 - val_accuracy: 0.6927 - val_mae: 0.3387 - val_mape: 124654688.0000\n",
      "Epoch 4/50\n",
      "33/33 [==============================] - 18s 539ms/step - loss: 0.2948 - mean_squared_error: 0.2948 - auc: 0.7100 - accuracy: 0.6728 - mae: 0.3530 - mape: 123234768.0000 - val_loss: 0.2531 - val_mean_squared_error: 0.2531 - val_auc: 0.7160 - val_accuracy: 0.6927 - val_mae: 0.3355 - val_mape: 123012912.0000\n",
      "Epoch 5/50\n",
      "33/33 [==============================] - 15s 458ms/step - loss: 0.2911 - mean_squared_error: 0.2911 - auc: 0.7104 - accuracy: 0.6728 - mae: 0.3497 - mape: 121584112.0000 - val_loss: 0.2496 - val_mean_squared_error: 0.2496 - val_auc: 0.7160 - val_accuracy: 0.6927 - val_mae: 0.3320 - val_mape: 121267944.0000\n",
      "Epoch 6/50\n",
      "33/33 [==============================] - 11s 319ms/step - loss: 0.2873 - mean_squared_error: 0.2873 - auc: 0.7082 - accuracy: 0.6728 - mae: 0.3462 - mape: 119826368.0000 - val_loss: 0.2462 - val_mean_squared_error: 0.2462 - val_auc: 0.7160 - val_accuracy: 0.6927 - val_mae: 0.3283 - val_mape: 119436392.0000\n",
      "Epoch 7/50\n",
      "33/33 [==============================] - 11s 340ms/step - loss: 0.2841 - mean_squared_error: 0.2841 - auc: 0.7059 - accuracy: 0.6728 - mae: 0.3427 - mape: 118098512.0000 - val_loss: 0.2432 - val_mean_squared_error: 0.2432 - val_auc: 0.7171 - val_accuracy: 0.6927 - val_mae: 0.3247 - val_mape: 117638664.0000\n",
      "Epoch 8/50\n",
      "33/33 [==============================] - 10s 302ms/step - loss: 0.2809 - mean_squared_error: 0.2809 - auc: 0.7039 - accuracy: 0.6728 - mae: 0.3392 - mape: 116326744.0000 - val_loss: 0.2405 - val_mean_squared_error: 0.2405 - val_auc: 0.7171 - val_accuracy: 0.6927 - val_mae: 0.3211 - val_mape: 115819856.0000\n",
      "Epoch 9/50\n",
      "33/33 [==============================] - 10s 312ms/step - loss: 0.2783 - mean_squared_error: 0.2783 - auc: 0.7048 - accuracy: 0.6728 - mae: 0.3357 - mape: 114569584.0000 - val_loss: 0.2383 - val_mean_squared_error: 0.2383 - val_auc: 0.7171 - val_accuracy: 0.6927 - val_mae: 0.3176 - val_mape: 114075480.0000\n",
      "Epoch 10/50\n",
      "33/33 [==============================] - 10s 299ms/step - loss: 0.2760 - mean_squared_error: 0.2760 - auc: 0.7035 - accuracy: 0.6728 - mae: 0.3324 - mape: 112917416.0000 - val_loss: 0.2364 - val_mean_squared_error: 0.2364 - val_auc: 0.7195 - val_accuracy: 0.6927 - val_mae: 0.3143 - val_mape: 112442632.0000\n",
      "Epoch 11/50\n",
      "33/33 [==============================] - 11s 324ms/step - loss: 0.2742 - mean_squared_error: 0.2742 - auc: 0.7030 - accuracy: 0.6728 - mae: 0.3295 - mape: 111487592.0000 - val_loss: 0.2349 - val_mean_squared_error: 0.2349 - val_auc: 0.7184 - val_accuracy: 0.6927 - val_mae: 0.3114 - val_mape: 110962096.0000\n",
      "Epoch 12/50\n",
      "33/33 [==============================] - 10s 305ms/step - loss: 0.2728 - mean_squared_error: 0.2728 - auc: 0.7029 - accuracy: 0.6728 - mae: 0.3267 - mape: 110087048.0000 - val_loss: 0.2338 - val_mean_squared_error: 0.2338 - val_auc: 0.7160 - val_accuracy: 0.6927 - val_mae: 0.3086 - val_mape: 109600912.0000\n",
      "Epoch 13/50\n",
      "33/33 [==============================] - 11s 320ms/step - loss: 0.2714 - mean_squared_error: 0.2714 - auc: 0.7050 - accuracy: 0.6728 - mae: 0.3240 - mape: 108759032.0000 - val_loss: 0.2329 - val_mean_squared_error: 0.2329 - val_auc: 0.7171 - val_accuracy: 0.6927 - val_mae: 0.3062 - val_mape: 108407248.0000\n",
      "Epoch 14/50\n",
      "33/33 [==============================] - 10s 295ms/step - loss: 0.2706 - mean_squared_error: 0.2706 - auc: 0.7060 - accuracy: 0.6728 - mae: 0.3221 - mape: 107769768.0000 - val_loss: 0.2322 - val_mean_squared_error: 0.2322 - val_auc: 0.7195 - val_accuracy: 0.6927 - val_mae: 0.3042 - val_mape: 107364856.0000\n",
      "Epoch 15/50\n",
      "33/33 [==============================] - 10s 302ms/step - loss: 0.2699 - mean_squared_error: 0.2699 - auc: 0.7060 - accuracy: 0.6728 - mae: 0.3202 - mape: 106838344.0000 - val_loss: 0.2316 - val_mean_squared_error: 0.2316 - val_auc: 0.7195 - val_accuracy: 0.6927 - val_mae: 0.3023 - val_mape: 106449200.0000\n",
      "Epoch 16/50\n",
      "33/33 [==============================] - 11s 322ms/step - loss: 0.2692 - mean_squared_error: 0.2692 - auc: 0.7083 - accuracy: 0.6728 - mae: 0.3185 - mape: 105970544.0000 - val_loss: 0.2312 - val_mean_squared_error: 0.2312 - val_auc: 0.7184 - val_accuracy: 0.6927 - val_mae: 0.3008 - val_mape: 105667048.0000\n",
      "Epoch 17/50\n",
      "33/33 [==============================] - 10s 295ms/step - loss: 0.2687 - mean_squared_error: 0.2687 - auc: 0.7106 - accuracy: 0.6728 - mae: 0.3170 - mape: 105249448.0000 - val_loss: 0.2308 - val_mean_squared_error: 0.2308 - val_auc: 0.7184 - val_accuracy: 0.6927 - val_mae: 0.2995 - val_mape: 105014168.0000\n",
      "Epoch 18/50\n",
      "33/33 [==============================] - 10s 291ms/step - loss: 0.2683 - mean_squared_error: 0.2683 - auc: 0.7113 - accuracy: 0.6728 - mae: 0.3159 - mape: 104704520.0000 - val_loss: 0.2305 - val_mean_squared_error: 0.2305 - val_auc: 0.7195 - val_accuracy: 0.6927 - val_mae: 0.2984 - val_mape: 104475648.0000\n",
      "Epoch 19/50\n",
      "33/33 [==============================] - 11s 324ms/step - loss: 0.2680 - mean_squared_error: 0.2680 - auc: 0.7117 - accuracy: 0.6728 - mae: 0.3149 - mape: 104167000.0000 - val_loss: 0.2303 - val_mean_squared_error: 0.2303 - val_auc: 0.7184 - val_accuracy: 0.6927 - val_mae: 0.2973 - val_mape: 103955544.0000\n",
      "Epoch 20/50\n",
      "33/33 [==============================] - 10s 305ms/step - loss: 0.2678 - mean_squared_error: 0.2678 - auc: 0.7121 - accuracy: 0.6728 - mae: 0.3141 - mape: 103791464.0000 - val_loss: 0.2301 - val_mean_squared_error: 0.2301 - val_auc: 0.7195 - val_accuracy: 0.6927 - val_mae: 0.2966 - val_mape: 103562680.0000\n",
      "Epoch 21/50\n",
      "33/33 [==============================] - 10s 312ms/step - loss: 0.2677 - mean_squared_error: 0.2677 - auc: 0.7124 - accuracy: 0.6728 - mae: 0.3135 - mape: 103462712.0000 - val_loss: 0.2299 - val_mean_squared_error: 0.2299 - val_auc: 0.7184 - val_accuracy: 0.6927 - val_mae: 0.2958 - val_mape: 103194544.0000\n",
      "Epoch 22/50\n",
      "33/33 [==============================] - 11s 321ms/step - loss: 0.2673 - mean_squared_error: 0.2673 - auc: 0.7139 - accuracy: 0.6728 - mae: 0.3127 - mape: 103072160.0000 - val_loss: 0.2298 - val_mean_squared_error: 0.2298 - val_auc: 0.7195 - val_accuracy: 0.6927 - val_mae: 0.2952 - val_mape: 102890144.0000\n",
      "Epoch 23/50\n",
      "33/33 [==============================] - 10s 304ms/step - loss: 0.2671 - mean_squared_error: 0.2671 - auc: 0.7154 - accuracy: 0.6728 - mae: 0.3121 - mape: 102787928.0000 - val_loss: 0.2296 - val_mean_squared_error: 0.2296 - val_auc: 0.7184 - val_accuracy: 0.6927 - val_mae: 0.2947 - val_mape: 102642624.0000\n",
      "Epoch 24/50\n",
      "33/33 [==============================] - 11s 324ms/step - loss: 0.2669 - mean_squared_error: 0.2669 - auc: 0.7150 - accuracy: 0.6728 - mae: 0.3116 - mape: 102549528.0000 - val_loss: 0.2295 - val_mean_squared_error: 0.2295 - val_auc: 0.7195 - val_accuracy: 0.6927 - val_mae: 0.2941 - val_mape: 102338616.0000\n",
      "Epoch 25/50\n",
      "33/33 [==============================] - 11s 334ms/step - loss: 0.2669 - mean_squared_error: 0.2669 - auc: 0.7153 - accuracy: 0.6728 - mae: 0.3112 - mape: 102333632.0000 - val_loss: 0.2294 - val_mean_squared_error: 0.2294 - val_auc: 0.7195 - val_accuracy: 0.6927 - val_mae: 0.2939 - val_mape: 102219592.0000\n",
      "Epoch 26/50\n",
      "33/33 [==============================] - 10s 313ms/step - loss: 0.2668 - mean_squared_error: 0.2668 - auc: 0.7150 - accuracy: 0.6728 - mae: 0.3109 - mape: 102170568.0000 - val_loss: 0.2293 - val_mean_squared_error: 0.2293 - val_auc: 0.7184 - val_accuracy: 0.6927 - val_mae: 0.2934 - val_mape: 101969840.0000\n",
      "Epoch 27/50\n",
      "33/33 [==============================] - 11s 317ms/step - loss: 0.2665 - mean_squared_error: 0.2665 - auc: 0.7162 - accuracy: 0.6728 - mae: 0.3104 - mape: 101922520.0000 - val_loss: 0.2292 - val_mean_squared_error: 0.2292 - val_auc: 0.7195 - val_accuracy: 0.6927 - val_mae: 0.2931 - val_mape: 101813432.0000\n",
      "Epoch 28/50\n",
      "33/33 [==============================] - 11s 332ms/step - loss: 0.2663 - mean_squared_error: 0.2663 - auc: 0.7174 - accuracy: 0.6728 - mae: 0.3099 - mape: 101697888.0000 - val_loss: 0.2292 - val_mean_squared_error: 0.2292 - val_auc: 0.7195 - val_accuracy: 0.6927 - val_mae: 0.2927 - val_mape: 101634288.0000\n",
      "Epoch 29/50\n",
      "33/33 [==============================] - 10s 301ms/step - loss: 0.2663 - mean_squared_error: 0.2663 - auc: 0.7166 - accuracy: 0.6728 - mae: 0.3097 - mape: 101604072.0000 - val_loss: 0.2291 - val_mean_squared_error: 0.2291 - val_auc: 0.7184 - val_accuracy: 0.6927 - val_mae: 0.2925 - val_mape: 101532792.0000\n",
      "Epoch 30/50\n",
      "33/33 [==============================] - 12s 363ms/step - loss: 0.2661 - mean_squared_error: 0.2661 - auc: 0.7174 - accuracy: 0.6728 - mae: 0.3095 - mape: 101481584.0000 - val_loss: 0.2290 - val_mean_squared_error: 0.2290 - val_auc: 0.7184 - val_accuracy: 0.6927 - val_mae: 0.2923 - val_mape: 101425416.0000\n",
      "Epoch 31/50\n",
      "33/33 [==============================] - 10s 291ms/step - loss: 0.2662 - mean_squared_error: 0.2662 - auc: 0.7168 - accuracy: 0.6728 - mae: 0.3092 - mape: 101334664.0000 - val_loss: 0.2290 - val_mean_squared_error: 0.2290 - val_auc: 0.7195 - val_accuracy: 0.6927 - val_mae: 0.2919 - val_mape: 101223648.0000\n",
      "Epoch 32/50\n",
      "33/33 [==============================] - 11s 336ms/step - loss: 0.2660 - mean_squared_error: 0.2660 - auc: 0.7172 - accuracy: 0.6728 - mae: 0.3088 - mape: 101152656.0000 - val_loss: 0.2289 - val_mean_squared_error: 0.2289 - val_auc: 0.7195 - val_accuracy: 0.6927 - val_mae: 0.2918 - val_mape: 101179552.0000\n",
      "Epoch 33/50\n",
      "33/33 [==============================] - 10s 295ms/step - loss: 0.2659 - mean_squared_error: 0.2659 - auc: 0.7173 - accuracy: 0.6728 - mae: 0.3089 - mape: 101191232.0000 - val_loss: 0.2289 - val_mean_squared_error: 0.2289 - val_auc: 0.7184 - val_accuracy: 0.6927 - val_mae: 0.2917 - val_mape: 101107544.0000\n",
      "Epoch 34/50\n",
      "33/33 [==============================] - 10s 309ms/step - loss: 0.2659 - mean_squared_error: 0.2659 - auc: 0.7169 - accuracy: 0.6728 - mae: 0.3086 - mape: 101050272.0000 - val_loss: 0.2289 - val_mean_squared_error: 0.2289 - val_auc: 0.7184 - val_accuracy: 0.6927 - val_mae: 0.2915 - val_mape: 101016904.0000\n",
      "Epoch 35/50\n",
      "33/33 [==============================] - 11s 348ms/step - loss: 0.2660 - mean_squared_error: 0.2660 - auc: 0.7161 - accuracy: 0.6728 - mae: 0.3084 - mape: 100958200.0000 - val_loss: 0.2288 - val_mean_squared_error: 0.2288 - val_auc: 0.7195 - val_accuracy: 0.6927 - val_mae: 0.2912 - val_mape: 100904024.0000\n",
      "Epoch 36/50\n",
      "33/33 [==============================] - 10s 315ms/step - loss: 0.2658 - mean_squared_error: 0.2658 - auc: 0.7168 - accuracy: 0.6728 - mae: 0.3082 - mape: 100836848.0000 - val_loss: 0.2288 - val_mean_squared_error: 0.2288 - val_auc: 0.7195 - val_accuracy: 0.6927 - val_mae: 0.2911 - val_mape: 100809448.0000\n",
      "Epoch 37/50\n",
      "33/33 [==============================] - 12s 379ms/step - loss: 0.2656 - mean_squared_error: 0.2656 - auc: 0.7184 - accuracy: 0.6728 - mae: 0.3079 - mape: 100671928.0000 - val_loss: 0.2288 - val_mean_squared_error: 0.2288 - val_auc: 0.7184 - val_accuracy: 0.6927 - val_mae: 0.2908 - val_mape: 100691184.0000\n",
      "Epoch 38/50\n",
      "33/33 [==============================] - 12s 357ms/step - loss: 0.2658 - mean_squared_error: 0.2658 - auc: 0.7169 - accuracy: 0.6728 - mae: 0.3079 - mape: 100706536.0000 - val_loss: 0.2288 - val_mean_squared_error: 0.2288 - val_auc: 0.7184 - val_accuracy: 0.6927 - val_mae: 0.2908 - val_mape: 100669744.0000\n",
      "Epoch 39/50\n",
      "33/33 [==============================] - 12s 375ms/step - loss: 0.2657 - mean_squared_error: 0.2657 - auc: 0.7172 - accuracy: 0.6728 - mae: 0.3079 - mape: 100660040.0000 - val_loss: 0.2287 - val_mean_squared_error: 0.2287 - val_auc: 0.7184 - val_accuracy: 0.6927 - val_mae: 0.2907 - val_mape: 100645008.0000\n",
      "Epoch 40/50\n",
      "33/33 [==============================] - 18s 551ms/step - loss: 0.2656 - mean_squared_error: 0.2656 - auc: 0.7172 - accuracy: 0.6728 - mae: 0.3077 - mape: 100592984.0000 - val_loss: 0.2287 - val_mean_squared_error: 0.2287 - val_auc: 0.7195 - val_accuracy: 0.6927 - val_mae: 0.2906 - val_mape: 100560808.0000\n",
      "Epoch 41/50\n",
      "33/33 [==============================] - 19s 590ms/step - loss: 0.2655 - mean_squared_error: 0.2655 - auc: 0.7174 - accuracy: 0.6728 - mae: 0.3077 - mape: 100560448.0000 - val_loss: 0.2287 - val_mean_squared_error: 0.2287 - val_auc: 0.7195 - val_accuracy: 0.6927 - val_mae: 0.2905 - val_mape: 100532208.0000\n",
      "Epoch 42/50\n",
      "33/33 [==============================] - 11s 346ms/step - loss: 0.2653 - mean_squared_error: 0.2653 - auc: 0.7186 - accuracy: 0.6728 - mae: 0.3073 - mape: 100385232.0000 - val_loss: 0.2287 - val_mean_squared_error: 0.2287 - val_auc: 0.7195 - val_accuracy: 0.6927 - val_mae: 0.2904 - val_mape: 100463592.0000\n",
      "Epoch 43/50\n",
      "33/33 [==============================] - 13s 386ms/step - loss: 0.2655 - mean_squared_error: 0.2655 - auc: 0.7175 - accuracy: 0.6728 - mae: 0.3073 - mape: 100361784.0000 - val_loss: 0.2287 - val_mean_squared_error: 0.2287 - val_auc: 0.7184 - val_accuracy: 0.6927 - val_mae: 0.2902 - val_mape: 100388952.0000\n",
      "Epoch 44/50\n",
      "33/33 [==============================] - 13s 381ms/step - loss: 0.2653 - mean_squared_error: 0.2653 - auc: 0.7180 - accuracy: 0.6728 - mae: 0.3070 - mape: 100243312.0000 - val_loss: 0.2287 - val_mean_squared_error: 0.2287 - val_auc: 0.7184 - val_accuracy: 0.6927 - val_mae: 0.2900 - val_mape: 100302288.0000\n",
      "Epoch 45/50\n",
      "33/33 [==============================] - 11s 338ms/step - loss: 0.2653 - mean_squared_error: 0.2653 - auc: 0.7177 - accuracy: 0.6728 - mae: 0.3071 - mape: 100282584.0000 - val_loss: 0.2286 - val_mean_squared_error: 0.2286 - val_auc: 0.7184 - val_accuracy: 0.6927 - val_mae: 0.2901 - val_mape: 100333088.0000\n",
      "Epoch 46/50\n",
      "33/33 [==============================] - 10s 290ms/step - loss: 0.2653 - mean_squared_error: 0.2653 - auc: 0.7173 - accuracy: 0.6728 - mae: 0.3068 - mape: 100151072.0000 - val_loss: 0.2287 - val_mean_squared_error: 0.2287 - val_auc: 0.7184 - val_accuracy: 0.6927 - val_mae: 0.2898 - val_mape: 100188712.0000\n",
      "Epoch 47/50\n",
      "33/33 [==============================] - 10s 313ms/step - loss: 0.2651 - mean_squared_error: 0.2651 - auc: 0.7185 - accuracy: 0.6728 - mae: 0.3066 - mape: 100052200.0000 - val_loss: 0.2286 - val_mean_squared_error: 0.2286 - val_auc: 0.7195 - val_accuracy: 0.6927 - val_mae: 0.2899 - val_mape: 100210568.0000\n",
      "Epoch 48/50\n",
      "33/33 [==============================] - 10s 300ms/step - loss: 0.2654 - mean_squared_error: 0.2654 - auc: 0.7166 - accuracy: 0.6728 - mae: 0.3069 - mape: 100182192.0000 - val_loss: 0.2286 - val_mean_squared_error: 0.2286 - val_auc: 0.7195 - val_accuracy: 0.6927 - val_mae: 0.2898 - val_mape: 100193232.0000\n",
      "Epoch 49/50\n",
      "33/33 [==============================] - 10s 306ms/step - loss: 0.2652 - mean_squared_error: 0.2652 - auc: 0.7178 - accuracy: 0.6728 - mae: 0.3066 - mape: 100013640.0000 - val_loss: 0.2286 - val_mean_squared_error: 0.2286 - val_auc: 0.7195 - val_accuracy: 0.6927 - val_mae: 0.2897 - val_mape: 100129432.0000\n",
      "Epoch 50/50\n",
      "33/33 [==============================] - 10s 316ms/step - loss: 0.2653 - mean_squared_error: 0.2653 - auc: 0.7170 - accuracy: 0.6728 - mae: 0.3067 - mape: 100100712.0000 - val_loss: 0.2286 - val_mean_squared_error: 0.2286 - val_auc: 0.7195 - val_accuracy: 0.6927 - val_mae: 0.2898 - val_mape: 100186488.0000\n"
     ]
    }
   ],
   "source": [
    "# get the model\n",
    "def get_model():\n",
    "    model = Sequential()\n",
    "    model.add(Conv1D(32, kernel_size=(2), activation='relu', input_shape=(128, 850)))\n",
    "    model.add(MaxPooling1D(pool_size=(2)))\n",
    "    model.add(Dropout(0.25))\n",
    "    model.add(Conv1D(filters=64, kernel_size=(5), activation='relu'))\n",
    "    model.add(MaxPooling1D(pool_size=(2)))\n",
    "    model.add(Dropout(0.25))\n",
    "    model.add(Conv1D(filters=128, kernel_size=(5), activation=\"relu\"))\n",
    "    model.add(MaxPooling1D(pool_size=(2)))\n",
    "    model.add(Dropout(0.25))\n",
    "    model.add(Conv1D(filters=128, kernel_size=(5), activation=\"relu\"))\n",
    "    model.add(MaxPooling1D(pool_size=(2)))\n",
    "    model.add(Dropout(0.25))\n",
    "    model.add(Flatten())\n",
    "    model.add(Dense(128, activation='softmax'))\n",
    "    model.add(Dropout(0.5))\n",
    "    model.add(Dense(60, activation='softmax'))\n",
    "    model.add(Dropout(0.5))\n",
    "    model.add(Dense(6, activation='softmax'))\n",
    "    return model\n",
    " \n",
    "# evaluate a model using repeated k-fold cross-validation\n",
    "adam = Adam(0.0005)\n",
    "model = get_model()\n",
    "model.compile(optimizer='adam',loss='mean_squared_error',metrics=['MeanSquaredError','AUC','accuracy', 'mae', 'mape'])\n",
    "history = model.fit(X_train, y_train, epochs=50, validation_data=(X_dev, y_dev), batch_size=500)"
   ]
  },
  {
   "cell_type": "code",
   "execution_count": 13,
   "metadata": {},
   "outputs": [
    {
     "data": {
      "image/png": "[encoded data removed]",
      "text/plain": [
       "<Figure size 432x288 with 1 Axes>"
      ]
     },
     "metadata": {
      "needs_background": "light"
     },
     "output_type": "display_data"
    }
   ],
   "source": [
    "from matplotlib import pyplot\n",
    "pyplot.plot(history.history['mean_squared_error'])\n",
    "pyplot.xlabel(\"Epochs\")\n",
    "pyplot.ylabel(\"Mean Square Error\")\n",
    "\n",
    "pyplot.show()"
   ]
  },
  {
   "cell_type": "code",
   "execution_count": 15,
   "metadata": {},
   "outputs": [
    {
     "data": {
      "image/png": "[encoded data removed]",
      "text/plain": [
       "<Figure size 432x288 with 1 Axes>"
      ]
     },
     "metadata": {
      "needs_background": "light"
     },
     "output_type": "display_data"
    }
   ],
   "source": [
    "pyplot.plot(history.history['mae'])\n",
    "pyplot.xlabel(\"Epochs\")\n",
    "pyplot.ylabel(\"Mean Absolute Error\")\n",
    "\n",
    "\n",
    "pyplot.show()"
   ]
  },
  {
   "cell_type": "code",
   "execution_count": 16,
   "metadata": {},
   "outputs": [
    {
     "data": {
      "image/png": "[encoded data removed]",
      "text/plain": [
       "<Figure size 432x288 with 1 Axes>"
      ]
     },
     "metadata": {
      "needs_background": "light"
     },
     "output_type": "display_data"
    }
   ],
   "source": [
    "pyplot.plot(history.history['mape'])\n",
    "\n",
    "pyplot.xlabel(\"Epochs\")\n",
    "pyplot.ylabel(\"Mean Absolute Percentage Error\")\n",
    "pyplot.plot(history.history['mae'])\n",
    "\n",
    "pyplot.show()"
   ]
  },
  {
   "cell_type": "code",
   "execution_count": 10,
   "metadata": {
    "id": "R3l_Iso0Wxsl"
   },
   "outputs": [],
   "source": [
    "yhat = model.predict(X_test)"
   ]
  },
  {
   "cell_type": "code",
   "execution_count": 17,
   "metadata": {
    "id": "9-udVMPNWxsm",
    "outputId": "ee6d7455-5dff-47bb-b766-70d717a43680"
   },
   "outputs": [
    {
     "name": "stdout",
     "output_type": "stream",
     "text": [
      "INFO:tensorflow:Assets written to: modelCNN-batch500epoch50\\assets\n"
     ]
    }
   ],
   "source": [
    "model.save('modelCNN-batch500epoch50')"
   ]
  },
  {
   "cell_type": "code",
   "execution_count": 11,
   "metadata": {
    "colab": {
     "base_uri": "https://localhost:8080/"
    },
    "id": "25ePb84t3qeV",
    "outputId": "5186d60f-18a4-4f68-8051-4fe4c46015d3"
   },
   "outputs": [
    {
     "name": "stdout",
     "output_type": "stream",
     "text": [
      "[2. 0. 0. 0. 0. 0.]\n",
      "[1. 0. 0. 0. 0. 0.]\n"
     ]
    }
   ],
   "source": [
    "yhat = yhat*3\n",
    "yhat = yhat.round()\n",
    "print(yhat[100])\n",
    "print(y_test[100])"
   ]
  },
  {
   "cell_type": "code",
   "execution_count": 12,
   "metadata": {
    "colab": {
     "base_uri": "https://localhost:8080/"
    },
    "id": "t3XB9VgN3vrx",
    "outputId": "2c59f960-c816-4082-e319-d928a74bbb51"
   },
   "outputs": [
    {
     "name": "stdout",
     "output_type": "stream",
     "text": [
      ">0.718\n"
     ]
    }
   ],
   "source": [
    "results=[]\n",
    "total = 0\n",
    "similar = 0\n",
    "for i in range(len(y_test)):\n",
    "    for j in range(len(y_test[i])):\n",
    "        if y_test[i][j] == yhat[i][j]:\n",
    "            similar += 1\n",
    "        total += 1\n",
    "acc = similar/total\n",
    "\n",
    "print('>%.3f' % acc)\n",
    "results.append(acc)"
   ]
  },
  {
   "cell_type": "markdown",
   "metadata": {
    "id": "k7YcsrTaWxso"
   },
   "source": [
    "## Training the CNN model with 50 epochs and a batch size of 1000"
   ]
  },
  {
   "cell_type": "code",
   "execution_count": 18,
   "metadata": {
    "id": "QfKXD1RCWxso"
   },
   "outputs": [
    {
     "name": "stdout",
     "output_type": "stream",
     "text": [
      "Epoch 1/50\n",
      "17/17 [==============================] - 80s 4s/step - loss: 0.3071 - mean_squared_error: 0.3071 - auc: 0.6194 - accuracy: 0.3145 - mae: 0.3625 - mape: 127987992.0000 - val_loss: 0.2656 - val_mean_squared_error: 0.2656 - val_auc: 0.7034 - val_accuracy: 0.6927 - val_mae: 0.3461 - val_mape: 128314032.0000\n",
      "Epoch 2/50\n",
      "17/17 [==============================] - 31s 2s/step - loss: 0.3053 - mean_squared_error: 0.3053 - auc: 0.6729 - accuracy: 0.5661 - mae: 0.3612 - mape: 127313192.0000 - val_loss: 0.2638 - val_mean_squared_error: 0.2638 - val_auc: 0.7014 - val_accuracy: 0.6927 - val_mae: 0.3446 - val_mape: 127607328.0000\n",
      "Epoch 3/50\n",
      "17/17 [==============================] - 27s 2s/step - loss: 0.3034 - mean_squared_error: 0.3034 - auc: 0.6856 - accuracy: 0.6668 - mae: 0.3598 - mape: 126623360.0000 - val_loss: 0.2620 - val_mean_squared_error: 0.2620 - val_auc: 0.6981 - val_accuracy: 0.6927 - val_mae: 0.3432 - val_mape: 126890592.0000\n",
      "Epoch 4/50\n",
      "17/17 [==============================] - 22s 1s/step - loss: 0.3016 - mean_squared_error: 0.3016 - auc: 0.6862 - accuracy: 0.6728 - mae: 0.3584 - mape: 125923232.0000 - val_loss: 0.2602 - val_mean_squared_error: 0.2602 - val_auc: 0.7014 - val_accuracy: 0.6927 - val_mae: 0.3417 - val_mape: 126146728.0000\n",
      "Epoch 5/50\n",
      "17/17 [==============================] - 24s 1s/step - loss: 0.2996 - mean_squared_error: 0.2996 - auc: 0.6899 - accuracy: 0.6728 - mae: 0.3569 - mape: 125162368.0000 - val_loss: 0.2584 - val_mean_squared_error: 0.2584 - val_auc: 0.6981 - val_accuracy: 0.6927 - val_mae: 0.3402 - val_mape: 125368144.0000\n",
      "Epoch 6/50\n",
      "17/17 [==============================] - 26s 2s/step - loss: 0.2976 - mean_squared_error: 0.2976 - auc: 0.6864 - accuracy: 0.6728 - mae: 0.3553 - mape: 124394648.0000 - val_loss: 0.2565 - val_mean_squared_error: 0.2565 - val_auc: 0.7014 - val_accuracy: 0.6927 - val_mae: 0.3385 - val_mape: 124555632.0000\n",
      "Epoch 7/50\n",
      "17/17 [==============================] - 21s 1s/step - loss: 0.2957 - mean_squared_error: 0.2957 - auc: 0.6865 - accuracy: 0.6728 - mae: 0.3537 - mape: 123586536.0000 - val_loss: 0.2546 - val_mean_squared_error: 0.2546 - val_auc: 0.6981 - val_accuracy: 0.6927 - val_mae: 0.3369 - val_mape: 123707784.0000\n",
      "Epoch 8/50\n",
      "17/17 [==============================] - 18s 1s/step - loss: 0.2937 - mean_squared_error: 0.2937 - auc: 0.6863 - accuracy: 0.6728 - mae: 0.3520 - mape: 122737872.0000 - val_loss: 0.2527 - val_mean_squared_error: 0.2527 - val_auc: 0.7128 - val_accuracy: 0.6927 - val_mae: 0.3351 - val_mape: 122830384.0000\n",
      "Epoch 9/50\n",
      "17/17 [==============================] - 23s 1s/step - loss: 0.2917 - mean_squared_error: 0.2917 - auc: 0.6859 - accuracy: 0.6728 - mae: 0.3503 - mape: 121890840.0000 - val_loss: 0.2509 - val_mean_squared_error: 0.2509 - val_auc: 0.6981 - val_accuracy: 0.6927 - val_mae: 0.3333 - val_mape: 121931336.0000\n",
      "Epoch 10/50\n",
      "17/17 [==============================] - 22s 1s/step - loss: 0.2898 - mean_squared_error: 0.2898 - auc: 0.6854 - accuracy: 0.6728 - mae: 0.3485 - mape: 120994416.0000 - val_loss: 0.2491 - val_mean_squared_error: 0.2491 - val_auc: 0.7050 - val_accuracy: 0.6927 - val_mae: 0.3314 - val_mape: 121005320.0000\n",
      "Epoch 11/50\n",
      "17/17 [==============================] - 14s 842ms/step - loss: 0.2879 - mean_squared_error: 0.2879 - auc: 0.6834 - accuracy: 0.6728 - mae: 0.3467 - mape: 120072848.0000 - val_loss: 0.2474 - val_mean_squared_error: 0.2474 - val_auc: 0.6981 - val_accuracy: 0.6927 - val_mae: 0.3296 - val_mape: 120068632.0000\n",
      "Epoch 12/50\n",
      "17/17 [==============================] - 16s 972ms/step - loss: 0.2860 - mean_squared_error: 0.2860 - auc: 0.6846 - accuracy: 0.6728 - mae: 0.3448 - mape: 119142272.0000 - val_loss: 0.2457 - val_mean_squared_error: 0.2457 - val_auc: 0.6981 - val_accuracy: 0.6927 - val_mae: 0.3277 - val_mape: 119113360.0000\n",
      "Epoch 13/50\n",
      "17/17 [==============================] - 11s 678ms/step - loss: 0.2843 - mean_squared_error: 0.2843 - auc: 0.6844 - accuracy: 0.6728 - mae: 0.3430 - mape: 118217632.0000 - val_loss: 0.2441 - val_mean_squared_error: 0.2441 - val_auc: 0.7106 - val_accuracy: 0.6927 - val_mae: 0.3257 - val_mape: 118145840.0000\n",
      "Epoch 14/50\n",
      "17/17 [==============================] - 16s 951ms/step - loss: 0.2826 - mean_squared_error: 0.2826 - auc: 0.6846 - accuracy: 0.6728 - mae: 0.3411 - mape: 117281360.0000 - val_loss: 0.2426 - val_mean_squared_error: 0.2426 - val_auc: 0.6981 - val_accuracy: 0.6927 - val_mae: 0.3238 - val_mape: 117183336.0000\n",
      "Epoch 15/50\n",
      "17/17 [==============================] - 15s 882ms/step - loss: 0.2811 - mean_squared_error: 0.2811 - auc: 0.6826 - accuracy: 0.6728 - mae: 0.3392 - mape: 116353840.0000 - val_loss: 0.2412 - val_mean_squared_error: 0.2412 - val_auc: 0.6981 - val_accuracy: 0.6927 - val_mae: 0.3219 - val_mape: 116230344.0000\n",
      "Epoch 16/50\n",
      "17/17 [==============================] - 12s 714ms/step - loss: 0.2795 - mean_squared_error: 0.2795 - auc: 0.6858 - accuracy: 0.6728 - mae: 0.3373 - mape: 115377992.0000 - val_loss: 0.2399 - val_mean_squared_error: 0.2399 - val_auc: 0.6981 - val_accuracy: 0.6927 - val_mae: 0.3200 - val_mape: 115291488.0000\n",
      "Epoch 17/50\n",
      "17/17 [==============================] - 15s 893ms/step - loss: 0.2784 - mean_squared_error: 0.2784 - auc: 0.6838 - accuracy: 0.6728 - mae: 0.3356 - mape: 114552968.0000 - val_loss: 0.2388 - val_mean_squared_error: 0.2388 - val_auc: 0.6981 - val_accuracy: 0.6927 - val_mae: 0.3182 - val_mape: 114385208.0000\n",
      "Epoch 18/50\n",
      "17/17 [==============================] - 17s 1s/step - loss: 0.2772 - mean_squared_error: 0.2772 - auc: 0.6853 - accuracy: 0.6728 - mae: 0.3339 - mape: 113689032.0000 - val_loss: 0.2377 - val_mean_squared_error: 0.2377 - val_auc: 0.7106 - val_accuracy: 0.6927 - val_mae: 0.3164 - val_mape: 113503896.0000\n",
      "Epoch 19/50\n",
      "17/17 [==============================] - 17s 1s/step - loss: 0.2759 - mean_squared_error: 0.2759 - auc: 0.6861 - accuracy: 0.6728 - mae: 0.3321 - mape: 112780624.0000 - val_loss: 0.2368 - val_mean_squared_error: 0.2368 - val_auc: 0.6981 - val_accuracy: 0.6927 - val_mae: 0.3148 - val_mape: 112660080.0000\n",
      "Epoch 20/50\n",
      "17/17 [==============================] - 18s 1s/step - loss: 0.2751 - mean_squared_error: 0.2751 - auc: 0.6859 - accuracy: 0.6728 - mae: 0.3306 - mape: 112043112.0000 - val_loss: 0.2359 - val_mean_squared_error: 0.2359 - val_auc: 0.7128 - val_accuracy: 0.6927 - val_mae: 0.3131 - val_mape: 111844984.0000\n",
      "Epoch 21/50\n",
      "17/17 [==============================] - 16s 975ms/step - loss: 0.2743 - mean_squared_error: 0.2743 - auc: 0.6877 - accuracy: 0.6728 - mae: 0.3291 - mape: 111288400.0000 - val_loss: 0.2352 - val_mean_squared_error: 0.2352 - val_auc: 0.7106 - val_accuracy: 0.6927 - val_mae: 0.3116 - val_mape: 111068528.0000\n",
      "Epoch 22/50\n",
      "17/17 [==============================] - 21s 1s/step - loss: 0.2734 - mean_squared_error: 0.2734 - auc: 0.6893 - accuracy: 0.6728 - mae: 0.3276 - mape: 110540728.0000 - val_loss: 0.2345 - val_mean_squared_error: 0.2345 - val_auc: 0.7128 - val_accuracy: 0.6927 - val_mae: 0.3101 - val_mape: 110338304.0000\n",
      "Epoch 23/50\n",
      "17/17 [==============================] - 16s 963ms/step - loss: 0.2727 - mean_squared_error: 0.2727 - auc: 0.6919 - accuracy: 0.6728 - mae: 0.3261 - mape: 109803552.0000 - val_loss: 0.2339 - val_mean_squared_error: 0.2339 - val_auc: 0.7106 - val_accuracy: 0.6927 - val_mae: 0.3087 - val_mape: 109643920.0000\n",
      "Epoch 24/50\n",
      "17/17 [==============================] - 15s 917ms/step - loss: 0.2722 - mean_squared_error: 0.2722 - auc: 0.6929 - accuracy: 0.6728 - mae: 0.3250 - mape: 109244384.0000 - val_loss: 0.2334 - val_mean_squared_error: 0.2334 - val_auc: 0.7128 - val_accuracy: 0.6927 - val_mae: 0.3074 - val_mape: 109006160.0000\n",
      "Epoch 25/50\n",
      "17/17 [==============================] - 16s 998ms/step - loss: 0.2716 - mean_squared_error: 0.2716 - auc: 0.6931 - accuracy: 0.6728 - mae: 0.3237 - mape: 108603464.0000 - val_loss: 0.2330 - val_mean_squared_error: 0.2330 - val_auc: 0.7106 - val_accuracy: 0.6927 - val_mae: 0.3062 - val_mape: 108379072.0000\n",
      "Epoch 26/50\n",
      "17/17 [==============================] - 18s 1s/step - loss: 0.2711 - mean_squared_error: 0.2711 - auc: 0.6955 - accuracy: 0.6728 - mae: 0.3226 - mape: 108024576.0000 - val_loss: 0.2326 - val_mean_squared_error: 0.2326 - val_auc: 0.7128 - val_accuracy: 0.6927 - val_mae: 0.3051 - val_mape: 107829712.0000\n",
      "Epoch 27/50\n",
      "17/17 [==============================] - 17s 1s/step - loss: 0.2708 - mean_squared_error: 0.2708 - auc: 0.6946 - accuracy: 0.6728 - mae: 0.3216 - mape: 107531040.0000 - val_loss: 0.2323 - val_mean_squared_error: 0.2323 - val_auc: 0.7184 - val_accuracy: 0.6927 - val_mae: 0.3041 - val_mape: 107324328.0000\n",
      "Epoch 28/50\n",
      "17/17 [==============================] - 17s 1s/step - loss: 0.2703 - mean_squared_error: 0.2703 - auc: 0.6975 - accuracy: 0.6728 - mae: 0.3207 - mape: 107068320.0000 - val_loss: 0.2319 - val_mean_squared_error: 0.2319 - val_auc: 0.7128 - val_accuracy: 0.6927 - val_mae: 0.3031 - val_mape: 106842920.0000\n",
      "Epoch 29/50\n",
      "17/17 [==============================] - 20s 1s/step - loss: 0.2699 - mean_squared_error: 0.2699 - auc: 0.7000 - accuracy: 0.6728 - mae: 0.3196 - mape: 106534632.0000 - val_loss: 0.2317 - val_mean_squared_error: 0.2317 - val_auc: 0.7184 - val_accuracy: 0.6927 - val_mae: 0.3023 - val_mape: 106409096.0000\n",
      "Epoch 30/50\n",
      "17/17 [==============================] - 18s 1s/step - loss: 0.2696 - mean_squared_error: 0.2696 - auc: 0.7017 - accuracy: 0.6728 - mae: 0.3188 - mape: 106159328.0000 - val_loss: 0.2314 - val_mean_squared_error: 0.2314 - val_auc: 0.7184 - val_accuracy: 0.6927 - val_mae: 0.3014 - val_mape: 106001432.0000\n",
      "Epoch 31/50\n",
      "17/17 [==============================] - 22s 1s/step - loss: 0.2692 - mean_squared_error: 0.2692 - auc: 0.7029 - accuracy: 0.6728 - mae: 0.3181 - mape: 105805536.0000 - val_loss: 0.2312 - val_mean_squared_error: 0.2312 - val_auc: 0.7128 - val_accuracy: 0.6927 - val_mae: 0.3007 - val_mape: 105625432.0000\n",
      "Epoch 32/50\n",
      "17/17 [==============================] - 17s 1s/step - loss: 0.2690 - mean_squared_error: 0.2690 - auc: 0.7042 - accuracy: 0.6728 - mae: 0.3174 - mape: 105445352.0000 - val_loss: 0.2310 - val_mean_squared_error: 0.2310 - val_auc: 0.7184 - val_accuracy: 0.6927 - val_mae: 0.3001 - val_mape: 105312720.0000\n",
      "Epoch 33/50\n",
      "17/17 [==============================] - 19s 1s/step - loss: 0.2688 - mean_squared_error: 0.2688 - auc: 0.7032 - accuracy: 0.6728 - mae: 0.3167 - mape: 105108528.0000 - val_loss: 0.2309 - val_mean_squared_error: 0.2309 - val_auc: 0.7172 - val_accuracy: 0.6927 - val_mae: 0.2994 - val_mape: 104995808.0000\n",
      "Epoch 34/50\n",
      "17/17 [==============================] - 15s 917ms/step - loss: 0.2687 - mean_squared_error: 0.2687 - auc: 0.7052 - accuracy: 0.6728 - mae: 0.3164 - mape: 104915200.0000 - val_loss: 0.2307 - val_mean_squared_error: 0.2307 - val_auc: 0.7184 - val_accuracy: 0.6927 - val_mae: 0.2989 - val_mape: 104707616.0000\n",
      "Epoch 35/50\n",
      "17/17 [==============================] - 16s 987ms/step - loss: 0.2682 - mean_squared_error: 0.2682 - auc: 0.7091 - accuracy: 0.6728 - mae: 0.3155 - mape: 104500640.0000 - val_loss: 0.2306 - val_mean_squared_error: 0.2306 - val_auc: 0.7184 - val_accuracy: 0.6927 - val_mae: 0.2983 - val_mape: 104421720.0000\n",
      "Epoch 36/50\n",
      "17/17 [==============================] - 17s 1s/step - loss: 0.2682 - mean_squared_error: 0.2682 - auc: 0.7071 - accuracy: 0.6728 - mae: 0.3152 - mape: 104313960.0000 - val_loss: 0.2304 - val_mean_squared_error: 0.2304 - val_auc: 0.7172 - val_accuracy: 0.6927 - val_mae: 0.2977 - val_mape: 104154256.0000\n",
      "Epoch 37/50\n",
      "17/17 [==============================] - 17s 1s/step - loss: 0.2681 - mean_squared_error: 0.2681 - auc: 0.7088 - accuracy: 0.6728 - mae: 0.3147 - mape: 104099840.0000 - val_loss: 0.2303 - val_mean_squared_error: 0.2303 - val_auc: 0.7184 - val_accuracy: 0.6927 - val_mae: 0.2973 - val_mape: 103915104.0000\n",
      "Epoch 38/50\n",
      "17/17 [==============================] - 17s 1s/step - loss: 0.2679 - mean_squared_error: 0.2679 - auc: 0.7087 - accuracy: 0.6728 - mae: 0.3143 - mape: 103894520.0000 - val_loss: 0.2302 - val_mean_squared_error: 0.2302 - val_auc: 0.7184 - val_accuracy: 0.6927 - val_mae: 0.2969 - val_mape: 103719800.0000\n",
      "Epoch 39/50\n",
      "17/17 [==============================] - 16s 982ms/step - loss: 0.2677 - mean_squared_error: 0.2677 - auc: 0.7102 - accuracy: 0.6728 - mae: 0.3138 - mape: 103625392.0000 - val_loss: 0.2301 - val_mean_squared_error: 0.2301 - val_auc: 0.7184 - val_accuracy: 0.6927 - val_mae: 0.2964 - val_mape: 103497664.0000\n",
      "Epoch 40/50\n",
      "17/17 [==============================] - 17s 1s/step - loss: 0.2675 - mean_squared_error: 0.2675 - auc: 0.7098 - accuracy: 0.6728 - mae: 0.3133 - mape: 103381896.0000 - val_loss: 0.2300 - val_mean_squared_error: 0.2300 - val_auc: 0.7172 - val_accuracy: 0.6927 - val_mae: 0.2960 - val_mape: 103262968.0000\n",
      "Epoch 41/50\n",
      "17/17 [==============================] - 24s 1s/step - loss: 0.2676 - mean_squared_error: 0.2676 - auc: 0.7100 - accuracy: 0.6728 - mae: 0.3131 - mape: 103285104.0000 - val_loss: 0.2299 - val_mean_squared_error: 0.2299 - val_auc: 0.7184 - val_accuracy: 0.6927 - val_mae: 0.2956 - val_mape: 103104248.0000\n",
      "Epoch 42/50\n",
      "17/17 [==============================] - 15s 817ms/step - loss: 0.2676 - mean_squared_error: 0.2676 - auc: 0.7095 - accuracy: 0.6728 - mae: 0.3129 - mape: 103170424.0000 - val_loss: 0.2298 - val_mean_squared_error: 0.2298 - val_auc: 0.7184 - val_accuracy: 0.6927 - val_mae: 0.2954 - val_mape: 102975112.0000\n",
      "Epoch 43/50\n",
      "17/17 [==============================] - 18s 1s/step - loss: 0.2674 - mean_squared_error: 0.2674 - auc: 0.7111 - accuracy: 0.6728 - mae: 0.3125 - mape: 102993784.0000 - val_loss: 0.2297 - val_mean_squared_error: 0.2297 - val_auc: 0.7184 - val_accuracy: 0.6927 - val_mae: 0.2951 - val_mape: 102830256.0000\n",
      "Epoch 44/50\n",
      "17/17 [==============================] - 20s 1s/step - loss: 0.2673 - mean_squared_error: 0.2673 - auc: 0.7104 - accuracy: 0.6728 - mae: 0.3123 - mape: 102864352.0000 - val_loss: 0.2297 - val_mean_squared_error: 0.2297 - val_auc: 0.7172 - val_accuracy: 0.6927 - val_mae: 0.2948 - val_mape: 102687160.0000\n",
      "Epoch 45/50\n",
      "17/17 [==============================] - 22s 1s/step - loss: 0.2673 - mean_squared_error: 0.2673 - auc: 0.7119 - accuracy: 0.6728 - mae: 0.3120 - mape: 102712608.0000 - val_loss: 0.2296 - val_mean_squared_error: 0.2296 - val_auc: 0.7184 - val_accuracy: 0.6927 - val_mae: 0.2945 - val_mape: 102528040.0000\n",
      "Epoch 46/50\n",
      "17/17 [==============================] - 25s 2s/step - loss: 0.2671 - mean_squared_error: 0.2671 - auc: 0.7121 - accuracy: 0.6728 - mae: 0.3117 - mape: 102585856.0000 - val_loss: 0.2295 - val_mean_squared_error: 0.2295 - val_auc: 0.7184 - val_accuracy: 0.6927 - val_mae: 0.2943 - val_mape: 102456480.0000\n",
      "Epoch 47/50\n",
      "17/17 [==============================] - 23s 1s/step - loss: 0.2670 - mean_squared_error: 0.2670 - auc: 0.7124 - accuracy: 0.6728 - mae: 0.3114 - mape: 102459216.0000 - val_loss: 0.2295 - val_mean_squared_error: 0.2295 - val_auc: 0.7184 - val_accuracy: 0.6927 - val_mae: 0.2941 - val_mape: 102350648.0000\n",
      "Epoch 48/50\n",
      "17/17 [==============================] - 20s 1s/step - loss: 0.2671 - mean_squared_error: 0.2671 - auc: 0.7123 - accuracy: 0.6728 - mae: 0.3115 - mape: 102508624.0000 - val_loss: 0.2294 - val_mean_squared_error: 0.2294 - val_auc: 0.7184 - val_accuracy: 0.6927 - val_mae: 0.2940 - val_mape: 102264784.0000\n",
      "Epoch 49/50\n",
      "17/17 [==============================] - 17s 1s/step - loss: 0.2670 - mean_squared_error: 0.2670 - auc: 0.7133 - accuracy: 0.6728 - mae: 0.3112 - mape: 102319136.0000 - val_loss: 0.2294 - val_mean_squared_error: 0.2294 - val_auc: 0.7184 - val_accuracy: 0.6927 - val_mae: 0.2938 - val_mape: 102183160.0000\n",
      "Epoch 50/50\n",
      "17/17 [==============================] - 20s 1s/step - loss: 0.2668 - mean_squared_error: 0.2668 - auc: 0.7125 - accuracy: 0.6728 - mae: 0.3110 - mape: 102249952.0000 - val_loss: 0.2293 - val_mean_squared_error: 0.2293 - val_auc: 0.7184 - val_accuracy: 0.6927 - val_mae: 0.2936 - val_mape: 102093072.0000\n"
     ]
    }
   ],
   "source": [
    "# get the model\n",
    "def get_model():\n",
    "    model = Sequential()\n",
    "    model.add(Conv1D(32, kernel_size=(2), activation='relu', input_shape=(128, 850)))\n",
    "    model.add(MaxPooling1D(pool_size=(2)))\n",
    "    model.add(Dropout(0.25))\n",
    "    model.add(Conv1D(filters=64, kernel_size=(5), activation='relu'))\n",
    "    model.add(MaxPooling1D(pool_size=(2)))\n",
    "    model.add(Dropout(0.25))\n",
    "    model.add(Conv1D(filters=128, kernel_size=(5), activation=\"relu\"))\n",
    "    model.add(MaxPooling1D(pool_size=(2)))\n",
    "    model.add(Dropout(0.25))\n",
    "    model.add(Conv1D(filters=128, kernel_size=(5), activation=\"relu\"))\n",
    "    model.add(MaxPooling1D(pool_size=(2)))\n",
    "    model.add(Dropout(0.25))\n",
    "    model.add(Flatten())\n",
    "    model.add(Dense(128, activation='softmax'))\n",
    "    model.add(Dropout(0.5))\n",
    "    model.add(Dense(60, activation='softmax'))\n",
    "    model.add(Dropout(0.5))\n",
    "    model.add(Dense(6, activation='softmax'))\n",
    "    return model\n",
    " \n",
    "# evaluate a model using repeated k-fold cross-validation\n",
    "adam = Adam(0.0005)\n",
    "model = get_model()\n",
    "model.compile(optimizer='adam',loss='mean_squared_error',metrics=['MeanSquaredError','AUC','accuracy', 'mae', 'mape'])\n",
    "history1 = model.fit(X_train, y_train, epochs=50, validation_data=(X_dev, y_dev), batch_size=1000)"
   ]
  },
  {
   "cell_type": "code",
   "execution_count": 19,
   "metadata": {},
   "outputs": [],
   "source": [
    "yhat1 = model.predict(X_test)"
   ]
  },
  {
   "cell_type": "code",
   "execution_count": 20,
   "metadata": {},
   "outputs": [
    {
     "name": "stdout",
     "output_type": "stream",
     "text": [
      "INFO:tensorflow:Assets written to: modelCNN-batch1000epoch50\\assets\n"
     ]
    }
   ],
   "source": [
    "model.save('modelCNN-batch1000epoch50')"
   ]
  },
  {
   "cell_type": "code",
   "execution_count": 22,
   "metadata": {},
   "outputs": [],
   "source": [
    "yhat1 = yhat1*3\n",
    "yhat1 = yhat1.round()\n"
   ]
  },
  {
   "cell_type": "markdown",
   "metadata": {},
   "source": [
    "## Accuracy for emotions including intensity for batch size 100 and 50 epochs using the Adam optimizer"
   ]
  },
  {
   "cell_type": "code",
   "execution_count": 23,
   "metadata": {},
   "outputs": [
    {
     "name": "stdout",
     "output_type": "stream",
     "text": [
      ">0.718\n"
     ]
    }
   ],
   "source": [
    "results=[]\n",
    "total = 0\n",
    "similar = 0\n",
    "for i in range(len(y_test)):\n",
    "    for j in range(len(y_test[i])):\n",
    "        if y_test[i][j] == yhat1[i][j]:\n",
    "            similar += 1\n",
    "        total += 1\n",
    "acc = similar/total\n",
    "\n",
    "print('>%.3f' % acc)\n",
    "results.append(acc)"
   ]
  },
  {
   "cell_type": "code",
   "execution_count": 24,
   "metadata": {},
   "outputs": [
    {
     "data": {
      "image/png": "[encoded data removed]",
      "text/plain": [
       "<Figure size 432x288 with 1 Axes>"
      ]
     },
     "metadata": {
      "needs_background": "light"
     },
     "output_type": "display_data"
    }
   ],
   "source": [
    "from matplotlib import pyplot\n",
    "pyplot.plot(history.history['mean_squared_error'])\n",
    "pyplot.xlabel(\"Epochs\")\n",
    "pyplot.ylabel(\"Mean Square Error\")\n",
    "\n",
    "pyplot.show()"
   ]
  },
  {
   "cell_type": "code",
   "execution_count": 25,
   "metadata": {},
   "outputs": [
    {
     "data": {
      "image/png": "[encoded data removed]",
      "text/plain": [
       "<Figure size 432x288 with 1 Axes>"
      ]
     },
     "metadata": {
      "needs_background": "light"
     },
     "output_type": "display_data"
    }
   ],
   "source": [
    "pyplot.plot(history.history['mae'])\n",
    "pyplot.xlabel(\"Epochs\")\n",
    "pyplot.ylabel(\"Mean Absolute Error\")\n",
    "\n",
    "\n",
    "pyplot.show()"
   ]
  },
  {
   "cell_type": "code",
   "execution_count": 26,
   "metadata": {},
   "outputs": [
    {
     "data": {
      "image/png": "[encoded data removed]",
      "text/plain": [
       "<Figure size 432x288 with 1 Axes>"
      ]
     },
     "metadata": {
      "needs_background": "light"
     },
     "output_type": "display_data"
    }
   ],
   "source": [
    "pyplot.plot(history.history['mape'])\n",
    "\n",
    "pyplot.xlabel(\"Epochs\")\n",
    "pyplot.ylabel(\"Mean Absolute Percentage Error\")\n",
    "pyplot.plot(history.history['mae'])\n",
    "\n",
    "pyplot.show()"
   ]
  },
  {
   "cell_type": "code",
   "execution_count": null,
   "metadata": {},
   "outputs": [],
   "source": []
  }
 ],
 "metadata": {
  "accelerator": "GPU",
  "colab": {
   "name": "cnn_implementation_aqsa.ipynb",
   "provenance": []
  },
  "kernelspec": {
   "display_name": "Python 3 (ipykernel)",
   "language": "python",
   "name": "python3"
  },
  "language_info": {
   "codemirror_mode": {
    "name": "ipython",
    "version": 3
   },
   "file_extension": ".py",
   "mimetype": "text/x-python",
   "name": "python",
   "nbconvert_exporter": "python",
   "pygments_lexer": "ipython3",
   "version": "3.9.7"
  }
 },
 "nbformat": 4,
 "nbformat_minor": 1
}
