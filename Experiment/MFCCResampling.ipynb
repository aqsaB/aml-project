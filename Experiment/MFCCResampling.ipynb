{
  "nbformat": 4,
  "nbformat_minor": 0,
  "metadata": {
    "colab": {
      "name": "MFCCResampling.ipynb",
      "provenance": []
    },
    "kernelspec": {
      "name": "python3",
      "display_name": "Python 3"
    },
    "language_info": {
      "name": "python"
    }
  },
  "cells": [
    {
      "cell_type": "code",
      "source": [
        "from google.colab import drive\n",
        "drive.mount('/content/gdrive')"
      ],
      "metadata": {
        "colab": {
          "base_uri": "https://localhost:8080/"
        },
        "id": "brc4Q6px6ajW",
        "outputId": "5c00210e-fb6e-4ae5-b262-b15276e14441"
      },
      "execution_count": 2,
      "outputs": [
        {
          "output_type": "stream",
          "name": "stdout",
          "text": [
            "Mounted at /content/gdrive\n"
          ]
        }
      ]
    },
    {
      "cell_type": "code",
      "source": [
        "import os\n",
        "\n",
        "data_files = [(x[0], x[2]) for x in os.walk(\"/content/gdrive/MyDrive/AMLProject/audioNN/WAV_1600\")]\n",
        "#print(data_files)\n",
        "data_files = data_files[0][1]"
      ],
      "metadata": {
        "id": "v3TLyL9M2ifx"
      },
      "execution_count": 3,
      "outputs": []
    },
    {
      "cell_type": "code",
      "source": [
        "fileids = [];\n",
        "for i in range(len(data_files)):\n",
        "  fileids.append(data_files[i].strip('.wav'))\n",
        "print(fileids)"
      ],
      "metadata": {
        "id": "4QR-o989Xf9r",
        "colab": {
          "base_uri": "https://localhost:8080/"
        },
        "outputId": "4698e080-ada1-4978-8b8e-4d9db4b600e5"
      },
      "execution_count": 4,
      "outputs": [
        {
          "output_type": "stream",
          "name": "stdout",
          "text": [
            "['_BtdwH6mfWg', '_gzYkdjNvPc', '_BvNNdEkhZA', '_HabvL0VnrQ', '_BXmhCPTQmA', '_gr7o5ynhn', '_HanACduNJk', '_iy7ftq27xE', '_iRAn6feOm', '_OmWVs0-6UM', '_K0okiLaF9I', '_KGd7IpX3B4', '_JcML8u5Wes', '_MGd6t9eZP8', '_on_E-ZWy0I', '_PJ26YwqRJE', '_PKP676ez2c', '_qVgNLJCYdA', '_q7DM8WkzAQ', '_v8c7iWkYz0', '_tBaGXNwlp0', '_t8ETpf2LnM', '_UNQDdiAbWI', '_ZlF5Q9W1DM', '_xjBqNfiEY4', '_WA0HtVEe8U', '_XWUKMkxa-Q', '_Vp4SDp_knI', '_YzIvwvyIq4', '_WkXQNVLQXs', '0AA-wmk8WdA', '0AkGtPzl7D8', '0bsTzavb-AE', '0BVed2nBq1g', '0cBmQ_ItVUc', '0bxhZ-LIfZY', '0EAAfLCQabY', '0DBfvvIVmqY', '_1nvuNk7EFY', '0FA32bEZ6xI', '_0efYOjQYRc', '0EphpADwdPg', '0eTibWQdO5M', '_4PNh8dIILI', '_2u0MkRqpjA', '_4K620KW_Is', '_7HVhnSYX1Y', '_26JmJnPKfM', '_BMdEKNF5Js', '_aJghSQmxD8', '_8pvMpMdGM4', '_aZDaIfGfPo', '_bIJOxiIJFk']\n"
          ]
        }
      ]
    },
    {
      "cell_type": "code",
      "source": [
        "import librosa, librosa.display\n",
        "import matplotlib.pyplot as plt\n",
        "import numpy as np\n",
        "\n",
        "signals = []\n",
        "rates = []\n",
        "fileids = []\n",
        "for i in data_files:\n",
        "    tempdir = '/content/gdrive/MyDrive/AMLProject/audioNN/WAV_1600/' + str(i)\n",
        "    signal_temp, sampleRate_temp = librosa.load(tempdir, sr=22050)\n",
        "    fileids.append(i)\n",
        "    signals.append(signal_temp)\n",
        "    rates.append(sampleRate_temp)\n"
      ],
      "metadata": {
        "id": "6qqGa94636jI"
      },
      "execution_count": 5,
      "outputs": []
    },
    {
      "cell_type": "code",
      "source": [
        "fileids = [];\n",
        "for i in range(len(data_files)):\n",
        "  fileids.append(data_files[i].strip('.wav'))\n",
        "print(fileids)"
      ],
      "metadata": {
        "colab": {
          "base_uri": "https://localhost:8080/"
        },
        "id": "EO0dCikjkLpM",
        "outputId": "c64db289-93f9-410d-fcb3-bbd4b38e6c25"
      },
      "execution_count": 6,
      "outputs": [
        {
          "output_type": "stream",
          "name": "stdout",
          "text": [
            "['_BtdwH6mfWg', '_gzYkdjNvPc', '_BvNNdEkhZA', '_HabvL0VnrQ', '_BXmhCPTQmA', '_gr7o5ynhn', '_HanACduNJk', '_iy7ftq27xE', '_iRAn6feOm', '_OmWVs0-6UM', '_K0okiLaF9I', '_KGd7IpX3B4', '_JcML8u5Wes', '_MGd6t9eZP8', '_on_E-ZWy0I', '_PJ26YwqRJE', '_PKP676ez2c', '_qVgNLJCYdA', '_q7DM8WkzAQ', '_v8c7iWkYz0', '_tBaGXNwlp0', '_t8ETpf2LnM', '_UNQDdiAbWI', '_ZlF5Q9W1DM', '_xjBqNfiEY4', '_WA0HtVEe8U', '_XWUKMkxa-Q', '_Vp4SDp_knI', '_YzIvwvyIq4', '_WkXQNVLQXs', '0AA-wmk8WdA', '0AkGtPzl7D8', '0bsTzavb-AE', '0BVed2nBq1g', '0cBmQ_ItVUc', '0bxhZ-LIfZY', '0EAAfLCQabY', '0DBfvvIVmqY', '_1nvuNk7EFY', '0FA32bEZ6xI', '_0efYOjQYRc', '0EphpADwdPg', '0eTibWQdO5M', '_4PNh8dIILI', '_2u0MkRqpjA', '_4K620KW_Is', '_7HVhnSYX1Y', '_26JmJnPKfM', '_BMdEKNF5Js', '_aJghSQmxD8', '_8pvMpMdGM4', '_aZDaIfGfPo', '_bIJOxiIJFk']\n"
          ]
        }
      ]
    },
    {
      "cell_type": "code",
      "source": [
        "print([signals[0]])"
      ],
      "metadata": {
        "colab": {
          "base_uri": "https://localhost:8080/"
        },
        "id": "MldcAEZBkkpo",
        "outputId": "48b6dc8a-3fff-4ed4-aba0-93cbb24fe78e"
      },
      "execution_count": 7,
      "outputs": [
        {
          "output_type": "stream",
          "name": "stdout",
          "text": [
            "[array([ 0.000000e+00,  0.000000e+00,  0.000000e+00, ...,  4.306241e-06,\n",
            "       -7.964126e-07,  0.000000e+00], dtype=float32)]\n"
          ]
        }
      ]
    },
    {
      "cell_type": "code",
      "source": [
        "new_list = signals[0][300:322]\n",
        "print(new_list)\n"
      ],
      "metadata": {
        "colab": {
          "base_uri": "https://localhost:8080/"
        },
        "id": "HkJYvkKMqKUu",
        "outputId": "3dcd8475-fcdf-4cb4-e5e8-c355c97810a8"
      },
      "execution_count": 8,
      "outputs": [
        {
          "output_type": "stream",
          "name": "stdout",
          "text": [
            "[0. 0. 0. 0. 0. 0. 0. 0. 0. 0. 0. 0. 0. 0. 0. 0. 0. 0. 0. 0. 0. 0.]\n"
          ]
        }
      ]
    },
    {
      "cell_type": "code",
      "source": [
        "a = [1,20,31,4,5,6]\n",
        "b = a[2:5]\n",
        "index = a.index(5)\n",
        "print(index)"
      ],
      "metadata": {
        "colab": {
          "base_uri": "https://localhost:8080/"
        },
        "id": "XRdZqFWkqrUA",
        "outputId": "2bb2dd2c-6bcc-44f9-ba5a-cb6575cdf2eb"
      },
      "execution_count": 9,
      "outputs": [
        {
          "output_type": "stream",
          "name": "stdout",
          "text": [
            "4\n"
          ]
        }
      ]
    },
    {
      "cell_type": "code",
      "source": [
        "print(fileids[0])\n",
        "print(signals[0].shape)\n",
        "print(signals[2].shape)\n",
        "print(signals[3].shape)\n",
        "print(signals[10].shape)"
      ],
      "metadata": {
        "colab": {
          "base_uri": "https://localhost:8080/"
        },
        "id": "kidLIINi5uWA",
        "outputId": "2932fee9-c913-419a-e15d-fc38840e4bac"
      },
      "execution_count": 10,
      "outputs": [
        {
          "output_type": "stream",
          "name": "stdout",
          "text": [
            "_BtdwH6mfWg\n",
            "(2189825,)\n",
            "(2323457,)\n",
            "(3916289,)\n",
            "(1169410,)\n"
          ]
        }
      ]
    },
    {
      "cell_type": "code",
      "source": [
        "%cd /content/gdrive/MyDrive/AMLProject/Multimodal_Dataset"
      ],
      "metadata": {
        "colab": {
          "base_uri": "https://localhost:8080/"
        },
        "id": "-R2nMB4K97SC",
        "outputId": "a0ee8e71-2464-45bd-d34e-a360ecff7bfb"
      },
      "execution_count": 11,
      "outputs": [
        {
          "output_type": "stream",
          "name": "stdout",
          "text": [
            "/content/gdrive/.shortcut-targets-by-id/19hXWzWoU0l_6KZqYHC_U7mp25fP6na39/AMLProject/Multimodal_Dataset\n"
          ]
        }
      ]
    },
    {
      "cell_type": "code",
      "source": [
        "\n",
        "!git clone https://github.com/A2Zadeh/CMU-MultimodalSDK.git"
      ],
      "metadata": {
        "colab": {
          "base_uri": "https://localhost:8080/"
        },
        "id": "qQtuu6Hl7zeN",
        "outputId": "6f289af9-8b6c-4d0a-c9b7-e3be4515bd37"
      },
      "execution_count": 12,
      "outputs": [
        {
          "output_type": "stream",
          "name": "stdout",
          "text": [
            "fatal: destination path 'CMU-MultimodalSDK' already exists and is not an empty directory.\n"
          ]
        }
      ]
    },
    {
      "cell_type": "code",
      "source": [
        "!pip install h5py validators tqdm numpy argparse requests colorama"
      ],
      "metadata": {
        "colab": {
          "base_uri": "https://localhost:8080/",
          "height": 434
        },
        "id": "35jFxWGZ50DQ",
        "outputId": "c8d49ee1-c45f-495e-b4b3-7bb7e4db9b48"
      },
      "execution_count": 13,
      "outputs": [
        {
          "output_type": "stream",
          "name": "stdout",
          "text": [
            "Requirement already satisfied: h5py in /usr/local/lib/python3.7/dist-packages (3.1.0)\n",
            "Collecting validators\n",
            "  Downloading validators-0.18.2-py3-none-any.whl (19 kB)\n",
            "Requirement already satisfied: tqdm in /usr/local/lib/python3.7/dist-packages (4.64.0)\n",
            "Requirement already satisfied: numpy in /usr/local/lib/python3.7/dist-packages (1.21.6)\n",
            "Collecting argparse\n",
            "  Downloading argparse-1.4.0-py2.py3-none-any.whl (23 kB)\n",
            "Requirement already satisfied: requests in /usr/local/lib/python3.7/dist-packages (2.23.0)\n",
            "Collecting colorama\n",
            "  Downloading colorama-0.4.4-py2.py3-none-any.whl (16 kB)\n",
            "Requirement already satisfied: cached-property in /usr/local/lib/python3.7/dist-packages (from h5py) (1.5.2)\n",
            "Requirement already satisfied: decorator>=3.4.0 in /usr/local/lib/python3.7/dist-packages (from validators) (4.4.2)\n",
            "Requirement already satisfied: six>=1.4.0 in /usr/local/lib/python3.7/dist-packages (from validators) (1.15.0)\n",
            "Requirement already satisfied: idna<3,>=2.5 in /usr/local/lib/python3.7/dist-packages (from requests) (2.10)\n",
            "Requirement already satisfied: urllib3!=1.25.0,!=1.25.1,<1.26,>=1.21.1 in /usr/local/lib/python3.7/dist-packages (from requests) (1.24.3)\n",
            "Requirement already satisfied: chardet<4,>=3.0.2 in /usr/local/lib/python3.7/dist-packages (from requests) (3.0.4)\n",
            "Requirement already satisfied: certifi>=2017.4.17 in /usr/local/lib/python3.7/dist-packages (from requests) (2021.10.8)\n",
            "Installing collected packages: validators, colorama, argparse\n",
            "Successfully installed argparse-1.4.0 colorama-0.4.4 validators-0.18.2\n"
          ]
        },
        {
          "output_type": "display_data",
          "data": {
            "application/vnd.colab-display-data+json": {
              "pip_warning": {
                "packages": [
                  "argparse"
                ]
              }
            }
          },
          "metadata": {}
        }
      ]
    },
    {
      "cell_type": "code",
      "source": [
        "%set_env PYTHONPATH=/content/gdrive/MyDrive/AMLProject/Multimodal_Dataset/CMU-MultimodalSDK\n"
      ],
      "metadata": {
        "colab": {
          "base_uri": "https://localhost:8080/"
        },
        "id": "U9cs_vrY7Huo",
        "outputId": "69681089-37f6-41d5-92e1-82d668aa3dbc"
      },
      "execution_count": 14,
      "outputs": [
        {
          "output_type": "stream",
          "name": "stdout",
          "text": [
            "env: PYTHONPATH=/content/gdrive/MyDrive/AMLProject/Multimodal_Dataset/CMU-MultimodalSDK\n"
          ]
        }
      ]
    },
    {
      "cell_type": "code",
      "source": [
        "import sys\n",
        "sys.path.insert(1, \"/content/gdrive/MyDrive/AMLProject/Multimodal_Dataset/CMU-MultimodalSDK\")"
      ],
      "metadata": {
        "id": "rTBzyX137MT8"
      },
      "execution_count": 15,
      "outputs": []
    },
    {
      "cell_type": "code",
      "source": [
        "import colorama\n",
        "import mmsdk\n",
        "from mmsdk import mmdatasdk"
      ],
      "metadata": {
        "id": "GJ3BrWUv9gZz"
      },
      "execution_count": 16,
      "outputs": []
    },
    {
      "cell_type": "code",
      "execution_count": 17,
      "metadata": {
        "colab": {
          "base_uri": "https://localhost:8080/"
        },
        "id": "MEocQwpPz1vN",
        "outputId": "322e1031-ee53-434e-e4c1-18c7bb982d5a"
      },
      "outputs": [
        {
          "output_type": "stream",
          "name": "stdout",
          "text": [
            "1 csd files found\n",
            "\u001b[92m\u001b[1m[2022-04-23 05:30:10.266] | Success | \u001b[0mComputational sequence read from file /content/gdrive/MyDrive/AMLProject/audioNN/downloaded_datasets/CMU_MOSEI_Labels.csd ...\n",
            "\u001b[94m\u001b[1m[2022-04-23 05:30:22.111] | Status  | \u001b[0mChecking the integrity of the <All Labels> computational sequence ...\n",
            "\u001b[94m\u001b[1m[2022-04-23 05:30:22.112] | Status  | \u001b[0mChecking the format of the data in <All Labels> computational sequence ...\n"
          ]
        },
        {
          "output_type": "stream",
          "name": "stderr",
          "text": [
            "                                                                                 "
          ]
        },
        {
          "output_type": "stream",
          "name": "stdout",
          "text": [
            "\u001b[92m\u001b[1m[2022-04-23 05:30:27.969] | Success | \u001b[0m<All Labels> computational sequence data in correct format.\n",
            "\u001b[94m\u001b[1m[2022-04-23 05:30:27.969] | Status  | \u001b[0mChecking the format of the metadata in <All Labels> computational sequence ...\n",
            "\u001b[93m\u001b[1m[2022-04-23 05:30:27.969] | Warning | \u001b[0m<All Labels> computational sequence does not have all the required metadata ... continuing \n",
            "\u001b[92m\u001b[1m[2022-04-23 05:30:27.969] | Success | \u001b[0mDataset initialized successfully ... \n"
          ]
        },
        {
          "output_type": "stream",
          "name": "stderr",
          "text": [
            "\r"
          ]
        }
      ],
      "source": [
        "import os\n",
        "from os import listdir\n",
        "from os.path import isfile, join\n",
        "\n",
        "# Path to csd files. If path is incorrect or missing the entire dataset will be downloaded\n",
        "pathf = '/content/gdrive/MyDrive/AMLProject/audioNN/downloaded_datasets'\n",
        "dataset_dictionary={}\n",
        "\n",
        "\n",
        "# choice={\"cmu_mosei\":mmdatasdk.cmu_mosei.highlevel,\"cmu_mosi\":mmdatasdk.cmu_mosi.highlevel,\"pom\":mmdatasdk.pom.highlevel}\n",
        "# labels={\"cmu_mosei\":mmdatasdk.cmu_mosei.labels,\"cmu_mosi\":mmdatasdk.cmu_mosi.labels,\"pom\":mmdatasdk.pom.labels}\n",
        "##ONLY RUN IF DATASET IS NOT PREVIOUSLY ALIGNED\n",
        "if os.path.isdir(pathf) is False:\n",
        "    dataset=mmdatasdk.mmdataset(mmdatasdk.cmu_mosei.highlevel,pathf)\n",
        "    dataset.add_computational_sequences(mmdatasdk.cmu_mosei.labels,pathf)\n",
        "else: \n",
        "    ##RUN IF DATASET IS PREVIOUSLY ALIGNED aka downloaded previously\n",
        "    csdfiles = [f for f in listdir(pathf) if isfile(join(pathf, f)) and f[-4:]=='.csd']\n",
        "    if len(csdfiles)==0:\n",
        "        print(\"No csd files in the given folder\")\n",
        "        exit(-2)\n",
        "\n",
        "    print(\"%d csd files found\"%len(csdfiles))\n",
        "    for csdfile in csdfiles:\n",
        "        dataset_dictionary[csdfile]=os.path.join(pathf,csdfile)\n",
        "    dataset=mmdatasdk.mmdataset(dataset_dictionary)"
      ]
    },
    {
      "cell_type": "code",
      "source": [
        "print (\"List of the computational sequences in the downloaded dataset\")\n",
        "print (dataset.computational_sequences.keys())"
      ],
      "metadata": {
        "colab": {
          "base_uri": "https://localhost:8080/"
        },
        "id": "KJxchoqq5jyG",
        "outputId": "5468b033-512f-421b-fae4-c0b8a97a0660"
      },
      "execution_count": 18,
      "outputs": [
        {
          "output_type": "stream",
          "name": "stdout",
          "text": [
            "List of the computational sequences in the downloaded dataset\n",
            "dict_keys(['CMU_MOSEI_Labels.csd'])\n"
          ]
        }
      ]
    },
    {
      "cell_type": "code",
      "execution_count": 114,
      "metadata": {
        "id": "iW5WYStdQ2nz"
      },
      "outputs": [],
      "source": [
        "import pandas as pd\n",
        "import numpy as np\n",
        "# The following may require 'CMU_MOSEI_Labels.csd' or 'All Labels' depending on dataset.computational_sequences.keys()\n",
        "compseq = 'CMU_MOSEI_Labels.csd'\n",
        "\n",
        "files = []\n",
        "starts = []\n",
        "ends = []\n",
        "sentiment = []\n",
        "happy = []\n",
        "sad = []\n",
        "anger = []\n",
        "surprise = []\n",
        "disgust = []\n",
        "fear = []\n",
        "\n",
        "for file in dataset.computational_sequences[compseq].keys():\n",
        "    for index in range(len(dataset.computational_sequences[compseq][file]['intervals'])):\n",
        "        files += [file]\n",
        "        starts += [dataset.computational_sequences[compseq][file]['intervals'][index][0]]\n",
        "        ends += [dataset.computational_sequences[compseq][file]['intervals'][index][1]]\n",
        "        # sentiment,happy,sad,anger,surprise,disgust,fear\n",
        "        # dataset.computational_sequences['CMU_MOSEI_Labels.csd']['-3g5yACwYnA']['features'][index][0]\n",
        "        sentiment += [dataset.computational_sequences[compseq][file]['features'][index][0]]\n",
        "        happy += [dataset.computational_sequences[compseq][file]['features'][index][1]]\n",
        "        sad += [dataset.computational_sequences[compseq][file]['features'][index][2]]\n",
        "        anger += [dataset.computational_sequences[compseq][file]['features'][index][3]]\n",
        "        surprise += [dataset.computational_sequences[compseq][file]['features'][index][4]]\n",
        "        disgust += [dataset.computational_sequences[compseq][file]['features'][index][5]]\n",
        "        fear += [dataset.computational_sequences[compseq][file]['features'][index][6]]\n",
        "sampled_signal = [None] * len(happy)\n",
        "df_labels = pd.DataFrame(\n",
        "    data=np.stack([\n",
        "        files,\n",
        "        starts,\n",
        "        ends,\n",
        "        sentiment,\n",
        "        happy,\n",
        "        sad,\n",
        "        anger,\n",
        "        surprise,\n",
        "        disgust,\n",
        "        fear,\n",
        "        sampled_signal\n",
        "    ], axis=1),\n",
        "    columns=[\n",
        "        'file',\n",
        "        'start',\n",
        "        'end',\n",
        "        'sentiment',\n",
        "        'happy',\n",
        "        'sad',\n",
        "        'anger',\n",
        "        'surprise',\n",
        "        'disgust',\n",
        "        'fear',\n",
        "        'sampled_signal'\n",
        "    ]\n",
        ")"
      ]
    },
    {
      "cell_type": "code",
      "source": [
        "print(df_labels)"
      ],
      "metadata": {
        "colab": {
          "base_uri": "https://localhost:8080/"
        },
        "id": "e-65nAVziMpt",
        "outputId": "07a70c8b-eb23-4528-8196-70170450626c"
      },
      "execution_count": 115,
      "outputs": [
        {
          "output_type": "stream",
          "name": "stdout",
          "text": [
            "              file    start      end sentiment     happy       sad anger  \\\n",
            "0      --qXJuDtHPw   23.199   30.325       1.0  0.666667       0.0   0.0   \n",
            "1      -3g5yACwYnA   82.753  100.555       1.0  0.666667  0.666667   0.0   \n",
            "2      -3g5yACwYnA  119.919  125.299  0.666667       0.0       0.0   0.0   \n",
            "3      -3g5yACwYnA     4.84   14.052       0.0  0.666667  0.666667   0.0   \n",
            "4      -3g5yACwYnA   13.211   27.521       0.0  0.333333  0.333333   0.0   \n",
            "...            ...      ...      ...       ...       ...       ...   ...   \n",
            "23254  zwTrXwi54us   47.444   49.312       0.0       0.0       0.0   0.0   \n",
            "23255  zwTrXwi54us   48.511   53.652       0.0       0.0       0.0   0.0   \n",
            "23256  zwTrXwi54us   52.652   57.942       1.0       1.0       0.0   0.0   \n",
            "23257  zwTrXwi54us    57.98   69.326  0.666667  0.333333       0.0   0.0   \n",
            "23258  zx4W0Vuus-I   15.057   38.327       1.0       1.0       0.0   0.0   \n",
            "\n",
            "      surprise disgust      fear sampled_signal  \n",
            "0          0.0     0.0       0.0           None  \n",
            "1          0.0     0.0  0.666667           None  \n",
            "2          0.0     0.0       0.0           None  \n",
            "3          0.0     0.0  0.333333           None  \n",
            "4          0.0     0.0       0.0           None  \n",
            "...        ...     ...       ...            ...  \n",
            "23254      0.0     0.0       0.0           None  \n",
            "23255      0.0     0.0       0.0           None  \n",
            "23256      0.0     0.0       0.0           None  \n",
            "23257      0.0     0.0       0.0           None  \n",
            "23258      0.0     0.0       0.0           None  \n",
            "\n",
            "[23259 rows x 11 columns]\n"
          ]
        }
      ]
    },
    {
      "cell_type": "code",
      "source": [
        "for i in range(len(fileids)):\n",
        "  \n",
        "  sampling_rate = 22050\n",
        "  #target_rows = df_labels.loc[df_labels['file'] == fileids[i]]\n",
        "\n",
        "  index_array = df_labels[df_labels['file'] == fileids[i]].index.to_numpy()\n",
        "  print(index_array)\n",
        "\n",
        "  for index in index_array:\n",
        "    row = df_labels.iloc[index]\n",
        "    start_time = int(float(row['start']))\n",
        "    end_time = int(float(row['end']))\n",
        "    sample_start_time = start_time * sampling_rate\n",
        "    sample_end_time = end_time * sampling_rate\n",
        "    sampled_signals = signals[i][sample_start_time:sample_end_time]\n",
        "    df_labels.iloc[index].sampled_signal = sampled_signals\n",
        "\n",
        "\n"
      ],
      "metadata": {
        "colab": {
          "base_uri": "https://localhost:8080/"
        },
        "id": "qWpdj34No0T7",
        "outputId": "c43503f7-2983-4970-ffad-9899f45f3b57"
      },
      "execution_count": 116,
      "outputs": [
        {
          "output_type": "stream",
          "name": "stdout",
          "text": [
            "[16143 16144]\n",
            "[16236 16237 16238 16239 16240 16241 16242 16243 16244 16245 16246 16247\n",
            " 16248 16249 16250 16251 16252 16253]\n",
            "[16145 16146 16147 16148 16149 16150 16151 16152 16153 16154]\n",
            "[16155 16156 16157 16158 16159 16160 16161 16162 16163]\n",
            "[16141 16142]\n",
            "[]\n",
            "[16164 16165 16166 16167 16168 16169 16170 16171 16172]\n",
            "[16259 16260 16261 16262 16263 16264 16265 16266 16267 16268 16269 16270]\n",
            "[]\n",
            "[16180 16181 16182 16183]\n",
            "[16176 16177]\n",
            "[16178]\n",
            "[16173 16174 16175]\n",
            "[16179]\n",
            "[16271 16272 16273 16274 16275 16276 16277 16278 16279 16280 16281 16282\n",
            " 16283 16284 16285 16286 16287 16288 16289 16290 16291 16292 16293]\n",
            "[16184 16185 16186 16187 16188 16189]\n",
            "[16190 16191 16192 16193 16194 16195 16196 16197]\n",
            "[16300 16301 16302 16303 16304]\n",
            "[16294 16295 16296 16297 16298 16299]\n",
            "[16312 16313 16314 16315 16316 16317]\n",
            "[16306 16307 16308 16309 16310 16311]\n",
            "[16305]\n",
            "[16198 16199 16200 16201]\n",
            "[16211 16212]\n",
            "[16318 16319 16320 16321 16322 16323]\n",
            "[16204]\n",
            "[16209]\n",
            "[16202 16203]\n",
            "[16210]\n",
            "[16205 16206 16207 16208]\n",
            "[318 319]\n",
            "[320]\n",
            "[469 470 471 472]\n",
            "[321 322 323 324 325 326 327]\n",
            "[475 476 477 478 479 480 481 482 483 484 485]\n",
            "[473 474]\n",
            "[339 340 341]\n",
            "[328 329 330 331 332 333 334 335 336 337 338]\n",
            "[16064 16065 16066 16067 16068 16069 16070 16071 16072 16073 16074 16075\n",
            " 16076]\n",
            "[348 349 350 351 352 353 354 355 356 357 358 359 360 361 362 363 364 365\n",
            " 366 367 368 369 370 371 372 373 374 375 376]\n",
            "[16062 16063]\n",
            "[342 343 344 345 346 347]\n",
            "[486]\n",
            "[16105 16106]\n",
            "[16101]\n",
            "[16102 16103 16104]\n",
            "[16107 16108 16109 16110 16111 16112 16113 16114 16115 16116 16117 16118]\n",
            "[16077 16078 16079 16080 16081 16082 16083 16084 16085 16086 16087 16088\n",
            " 16089 16090 16091 16092 16093 16094 16095 16096 16097 16098 16099 16100]\n",
            "[16140]\n",
            "[16213 16214 16215]\n",
            "[16119 16120 16121 16122 16123 16124 16125 16126 16127 16128 16129 16130\n",
            " 16131 16132 16133 16134 16135 16136 16137 16138 16139]\n",
            "[16216 16217 16218]\n",
            "[16219 16220 16221 16222 16223 16224]\n"
          ]
        }
      ]
    },
    {
      "cell_type": "code",
      "source": [
        "print(df_labels.loc[df_labels['file'] == '_BvNNdEkhZA'])"
      ],
      "metadata": {
        "colab": {
          "base_uri": "https://localhost:8080/"
        },
        "id": "GfyfuDhkbfe-",
        "outputId": "d16077d2-dadb-4e7d-8a20-42e316f75fa8"
      },
      "execution_count": 118,
      "outputs": [
        {
          "output_type": "stream",
          "name": "stdout",
          "text": [
            "              file   start     end sentiment     happy       sad     anger  \\\n",
            "16145  _BvNNdEkhZA     0.0   6.339       0.0       0.0  0.333333       0.0   \n",
            "16146  _BvNNdEkhZA  45.298  51.487       0.0       0.0  0.333333       0.0   \n",
            "16147  _BvNNdEkhZA  56.154  67.121      -1.0       0.0  0.666667       0.0   \n",
            "16148  _BvNNdEkhZA   66.49  70.613 -0.666667       0.0       0.0       0.0   \n",
            "16149  _BvNNdEkhZA  70.002  85.878       0.0  0.333333  0.666667       0.0   \n",
            "16150  _BvNNdEkhZA  85.268  88.672  0.666667  0.666667       0.0       0.0   \n",
            "16151  _BvNNdEkhZA  94.117  102.86  0.666667  0.333333       0.0       0.0   \n",
            "16152  _BvNNdEkhZA  17.921  24.009       0.0       0.0       0.0  0.333333   \n",
            "16153  _BvNNdEkhZA  23.558  28.808       1.0  0.333333       0.0       0.0   \n",
            "16154  _BvNNdEkhZA  29.664  33.727  0.333333       0.0       0.0       0.0   \n",
            "\n",
            "       surprise   disgust      fear  \\\n",
            "16145       0.0       0.0       0.0   \n",
            "16146       0.0       0.0       0.0   \n",
            "16147  0.333333       0.0       0.0   \n",
            "16148  0.333333  0.666667       0.0   \n",
            "16149  0.333333  0.333333       0.0   \n",
            "16150       0.0       0.0       0.0   \n",
            "16151       0.0       0.0       0.0   \n",
            "16152       0.0       0.0       0.0   \n",
            "16153       0.0       0.0  0.333333   \n",
            "16154       0.0       0.0       0.0   \n",
            "\n",
            "                                          sampled_signal  \n",
            "16145  [0.0, 0.0, 0.0, 0.0, 0.0, 0.0, 0.0, 0.0, 0.0, ...  \n",
            "16146  [-0.018975476, -0.022228235, -0.024442837, -0....  \n",
            "16147  [0.00075186335, 0.0012238248, 0.00070260244, 3...  \n",
            "16148  [-0.00038881466, 0.0016123998, 0.0043863105, 0...  \n",
            "16149  [-0.00040721547, -0.00056464603, -0.0012402358...  \n",
            "16150  [-0.00021813271, -0.002141612, -0.0019007772, ...  \n",
            "16151  [-0.0010289912, -0.0011805402, -0.00089634495,...  \n",
            "16152  [-0.0113682, -0.00937033, -0.007572875, -0.006...  \n",
            "16153  [0.0072750538, 0.008308463, 0.009340583, 0.010...  \n",
            "16154  [0.04079988, 0.047826692, 0.05392341, 0.057125...  \n"
          ]
        }
      ]
    },
    {
      "cell_type": "code",
      "source": [
        "MFCCs = []\n",
        "numSamplesFFT = 2048\n",
        "hopLength = 512\n",
        "\n",
        "for i in range(len(fileids)):\n",
        "  index_array = df_labels[df_labels['file'] == fileids[i]].index.to_numpy()\n",
        "\n",
        "  for index in index_array:\n",
        "    current_signal = df_labels.iloc[index].sampled_signal\n",
        "    if(len(current_signal)!=0):\n",
        "      MFCC = librosa.feature.mfcc(current_signal, n_fft=numSamplesFFT, hop_length=hopLength, n_mfcc=13)\n",
        "      MFCCs.append(MFCC)\n",
        "      librosa.display.specshow(MFCC, sr=rates[i], hop_length=hopLength)\n",
        "      plt.savefig('/content/gdrive/MyDrive/AMLProject/audioNN/MFCCs/' + str(fileids[i]) + '_sample_' + str(index))"
      ],
      "metadata": {
        "colab": {
          "base_uri": "https://localhost:8080/",
          "height": 252
        },
        "id": "m-i2I2ZVfOOn",
        "outputId": "82a51498-af66-4d98-ffba-a7c55de6281b"
      },
      "execution_count": 122,
      "outputs": [
        {
          "output_type": "display_data",
          "data": {
            "text/plain": [
              "<Figure size 432x288 with 1 Axes>"
            ],
            "image/png": "[encoded data removed]"
          },
          "metadata": {}
        }
      ]
    }
  ]
}