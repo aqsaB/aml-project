{
 "cells": [
  {
   "cell_type": "code",
   "execution_count": 1,
   "metadata": {
    "id": "CKiPaeMP2Qb7"
   },
   "outputs": [
    {
     "name": "stdout",
     "output_type": "stream",
     "text": [
      "Tensorflow version: 2.3.0\n",
      "Keras Version: 2.4.0\n",
      "GPU is NOT AVAILABLE\n"
     ]
    }
   ],
   "source": [
    "import os\n",
    "import pandas as pd\n",
    "import numpy as np\n",
    "import pickle\n",
    "import tensorflow as tf\n",
    "from matplotlib.image import imread\n",
    "from numpy import mean\n",
    "from numpy import std\n",
    "from sklearn.datasets import make_multilabel_classification\n",
    "from sklearn.model_selection import RepeatedKFold\n",
    "from keras.models import Sequential\n",
    "from keras.layers import Dense, Activation\n",
    "from keras.layers import Conv1D, MaxPooling1D\n",
    "from keras.layers import Dense, Dropout, Flatten\n",
    "from sklearn.metrics import accuracy_score\n",
    "from sklearn.model_selection import train_test_split\n",
    "from tensorflow.keras.optimizers import *\n",
    "print(f\"Tensorflow version: {tf.__version__}\")\n",
    "print(f\"Keras Version: {tf.keras.__version__}\")\n",
    "\n",
    "print(\"GPU is\", \"available\" if tf.config.list_physical_devices('GPU') else \"NOT AVAILABLE\")"
   ]
  },
  {
   "cell_type": "code",
   "execution_count": 2,
   "metadata": {},
   "outputs": [],
   "source": [
    "data_dev = []\n",
    "data_test = []\n",
    "data_train = []\n",
    "file_name_dev = \"audioDataDev.pickle\"\n",
    "file_name_test = \"audioDataTest.pickle\"\n",
    "file_name_train = \"audioDataTrain.pickle\"\n",
    "\n",
    "with (open(file_name_dev, \"rb\")) as f:\n",
    "    while True:\n",
    "        try:\n",
    "            data_dev.append(pickle.load(f))\n",
    "        except EOFError:\n",
    "            break\n",
    "f.close()\n",
    "\n",
    "with (open(file_name_test, \"rb\")) as f:\n",
    "    while True:\n",
    "        try:\n",
    "            data_test.append(pickle.load(f))\n",
    "        except EOFError:\n",
    "            break\n",
    "f.close()\n",
    "\n",
    "with (open(file_name_train, \"rb\")) as f:\n",
    "    while True:\n",
    "        try:\n",
    "            data_train.append(pickle.load(f))\n",
    "        except EOFError:\n",
    "            break\n",
    "f.close()"
   ]
  },
  {
   "cell_type": "code",
   "execution_count": 3,
   "metadata": {
    "colab": {
     "base_uri": "https://localhost:8080/",
     "height": 393
    },
    "id": "sdOkQA7J2ngD",
    "outputId": "4d381379-031a-418e-bd12-68057336c64c"
   },
   "outputs": [],
   "source": [
    "X_dev = []\n",
    "y_dev = []\n",
    "X_train = []\n",
    "y_train = []\n",
    "X_test = []\n",
    "y_test = []\n",
    "\n",
    "for i in range(len(data_dev)-1):\n",
    "    X_dev.append(data_dev[i+1][3])\n",
    "for i in range(len(data_dev)-1):\n",
    "    y_dev.append(data_dev[i+1][6:12])\n",
    "    \n",
    "for i in range(len(data_test)-1):\n",
    "    X_test.append(data_test[i+1][3])\n",
    "for i in range(len(data_test)-1):\n",
    "    y_test.append(data_test[i+1][6:12])\n",
    "    \n",
    "for i in range(len(data_train)-1):\n",
    "    X_train.append(data_train[i+1][3])\n",
    "for i in range(len(data_train)-1):\n",
    "    y_train.append(data_train[i+1][6:12])\n",
    "\n",
    "X_dev = np.array(X_dev)\n",
    "y_dev = np.array(y_dev)\n",
    "X_test = np.array(X_test)\n",
    "y_test = np.array(y_test)\n",
    "X_train = np.array(X_train)\n",
    "y_train = np.array(y_train)\n"
   ]
  },
  {
   "cell_type": "code",
   "execution_count": 4,
   "metadata": {},
   "outputs": [],
   "source": [
    "y_dev = np.ceil(y_dev)\n",
    "y_test = np.ceil(y_test)\n",
    "y_train = np.ceil(y_train)"
   ]
  },
  {
   "cell_type": "code",
   "execution_count": 5,
   "metadata": {},
   "outputs": [
    {
     "data": {
      "text/plain": [
       "(16327, 128, 850)"
      ]
     },
     "execution_count": 5,
     "metadata": {},
     "output_type": "execute_result"
    }
   ],
   "source": [
    "X_train.shape"
   ]
  },
  {
   "cell_type": "code",
   "execution_count": 6,
   "metadata": {
    "colab": {
     "base_uri": "https://localhost:8080/"
    },
    "id": "jWyL453O3hXf",
    "outputId": "69777b0a-fcc9-4401-875c-2be39e6c4024"
   },
   "outputs": [
    {
     "name": "stdout",
     "output_type": "stream",
     "text": [
      "Epoch 1/10\n",
      "17/17 [==============================] - 21s 1s/step - loss: 0.3077 - mean_squared_error: 0.3077 - auc: 0.5802 - accuracy: 0.2588 - val_loss: 0.2667 - val_mean_squared_error: 0.2667 - val_auc: 0.6907 - val_accuracy: 0.6927\n",
      "Epoch 2/10\n",
      "17/17 [==============================] - 11s 626ms/step - loss: 0.3067 - mean_squared_error: 0.3067 - auc: 0.6475 - accuracy: 0.4902 - val_loss: 0.2658 - val_mean_squared_error: 0.2658 - val_auc: 0.6928 - val_accuracy: 0.6927\n",
      "Epoch 3/10\n",
      "17/17 [==============================] - 10s 564ms/step - loss: 0.3058 - mean_squared_error: 0.3058 - auc: 0.6719 - accuracy: 0.6226 - val_loss: 0.2649 - val_mean_squared_error: 0.2649 - val_auc: 0.6928 - val_accuracy: 0.6927\n",
      "Epoch 4/10\n",
      "17/17 [==============================] - 10s 565ms/step - loss: 0.3049 - mean_squared_error: 0.3049 - auc: 0.6802 - accuracy: 0.6634 - val_loss: 0.2640 - val_mean_squared_error: 0.2640 - val_auc: 0.7009 - val_accuracy: 0.6927\n",
      "Epoch 5/10\n",
      "17/17 [==============================] - 10s 565ms/step - loss: 0.3040 - mean_squared_error: 0.3040 - auc: 0.6849 - accuracy: 0.6716 - val_loss: 0.2631 - val_mean_squared_error: 0.2631 - val_auc: 0.7009 - val_accuracy: 0.6927\n",
      "Epoch 6/10\n",
      "17/17 [==============================] - 10s 580ms/step - loss: 0.3030 - mean_squared_error: 0.3030 - auc: 0.6870 - accuracy: 0.6726 - val_loss: 0.2622 - val_mean_squared_error: 0.2622 - val_auc: 0.6928 - val_accuracy: 0.6927\n",
      "Epoch 7/10\n",
      "17/17 [==============================] - 10s 565ms/step - loss: 0.3021 - mean_squared_error: 0.3021 - auc: 0.6860 - accuracy: 0.6728 - val_loss: 0.2612 - val_mean_squared_error: 0.2612 - val_auc: 0.7009 - val_accuracy: 0.6927\n",
      "Epoch 8/10\n",
      "17/17 [==============================] - 10s 567ms/step - loss: 0.3011 - mean_squared_error: 0.3011 - auc: 0.6875 - accuracy: 0.6728 - val_loss: 0.2603 - val_mean_squared_error: 0.2603 - val_auc: 0.7009 - val_accuracy: 0.6927\n",
      "Epoch 9/10\n",
      "17/17 [==============================] - 10s 578ms/step - loss: 0.3001 - mean_squared_error: 0.3001 - auc: 0.6861 - accuracy: 0.6728 - val_loss: 0.2594 - val_mean_squared_error: 0.2594 - val_auc: 0.7009 - val_accuracy: 0.6927\n",
      "Epoch 10/10\n",
      "17/17 [==============================] - 9s 540ms/step - loss: 0.2991 - mean_squared_error: 0.2991 - auc: 0.6879 - accuracy: 0.6728 - val_loss: 0.2585 - val_mean_squared_error: 0.2585 - val_auc: 0.6928 - val_accuracy: 0.6927\n"
     ]
    },
    {
     "data": {
      "text/plain": [
       "<tensorflow.python.keras.callbacks.History at 0x14b95b07040>"
      ]
     },
     "execution_count": 6,
     "metadata": {},
     "output_type": "execute_result"
    }
   ],
   "source": [
    "# get the model\n",
    "def get_model():\n",
    "    model = Sequential()\n",
    "    model.add(Conv1D(32, kernel_size=(2), activation='relu', input_shape=(128, 850)))\n",
    "    model.add(MaxPooling1D(pool_size=(2)))\n",
    "    model.add(Dropout(0.25))\n",
    "    model.add(Conv1D(filters=64, kernel_size=(5), activation='relu'))\n",
    "    model.add(MaxPooling1D(pool_size=(2)))\n",
    "    model.add(Dropout(0.25))\n",
    "    model.add(Conv1D(filters=128, kernel_size=(5), activation=\"relu\"))\n",
    "    model.add(MaxPooling1D(pool_size=(2)))\n",
    "    model.add(Dropout(0.25))\n",
    "    model.add(Conv1D(filters=128, kernel_size=(5), activation=\"relu\"))\n",
    "    model.add(MaxPooling1D(pool_size=(2)))\n",
    "    model.add(Dropout(0.25))\n",
    "    model.add(Flatten())\n",
    "    model.add(Dense(128, activation='softmax'))\n",
    "    model.add(Dropout(0.5))\n",
    "    model.add(Dense(60, activation='softmax'))\n",
    "    model.add(Dropout(0.5))\n",
    "    model.add(Dense(6, activation='softmax'))\n",
    "    return model\n",
    " \n",
    "# evaluate a model using repeated k-fold cross-validation\n",
    "adam = Adam(0.0005)\n",
    "model = get_model()\n",
    "model.compile(optimizer=adam,loss='mean_squared_error',metrics=['MeanSquaredError','AUC','accuracy'])\n",
    "model.fit(X_train, y_train, epochs=10, validation_data=(X_dev, y_dev), batch_size=1000)"
   ]
  },
  {
   "cell_type": "code",
   "execution_count": 14,
   "metadata": {},
   "outputs": [],
   "source": [
    "yhat = model.predict(X_test)"
   ]
  },
  {
   "cell_type": "code",
   "execution_count": 28,
   "metadata": {},
   "outputs": [
    {
     "name": "stdout",
     "output_type": "stream",
     "text": [
      "INFO:tensorflow:Assets written to: modelCNN\\assets\n"
     ]
    }
   ],
   "source": [
    "model.save('modelCNN')"
   ]
  },
  {
   "cell_type": "code",
   "execution_count": 15,
   "metadata": {
    "colab": {
     "base_uri": "https://localhost:8080/"
    },
    "id": "25ePb84t3qeV",
    "outputId": "5186d60f-18a4-4f68-8051-4fe4c46015d3"
   },
   "outputs": [
    {
     "name": "stdout",
     "output_type": "stream",
     "text": [
      "[1. 1. 0. 0. 0. 0.]\n",
      "[1. 0. 0. 0. 0. 0.]\n"
     ]
    }
   ],
   "source": [
    "yhat = yhat*3\n",
    "yhat = yhat.round()\n",
    "print(yhat[100])\n",
    "print(y_test[100])"
   ]
  },
  {
   "cell_type": "code",
   "execution_count": 20,
   "metadata": {},
   "outputs": [
    {
     "name": "stdout",
     "output_type": "stream",
     "text": [
      "[1. 1. 0. 0. 0. 0.]\n",
      "[0. 1. 1. 0. 1. 0.]\n"
     ]
    }
   ],
   "source": [
    "print(yhat[2])\n",
    "print(y_test[2])"
   ]
  },
  {
   "cell_type": "code",
   "execution_count": 17,
   "metadata": {
    "colab": {
     "base_uri": "https://localhost:8080/"
    },
    "id": "t3XB9VgN3vrx",
    "outputId": "2c59f960-c816-4082-e319-d928a74bbb51"
   },
   "outputs": [
    {
     "name": "stdout",
     "output_type": "stream",
     "text": [
      ">0.674\n"
     ]
    }
   ],
   "source": [
    "results=[]\n",
    "total = 0\n",
    "similar = 0\n",
    "for i in range(len(y_test)):\n",
    "    for j in range(len(y_test[i])):\n",
    "        if y_test[i][j] == yhat[i][j]:\n",
    "            similar += 1\n",
    "        total += 1\n",
    "acc = similar/total\n",
    "\n",
    "print('>%.3f' % acc)\n",
    "results.append(acc)"
   ]
  },
  {
   "cell_type": "code",
   "execution_count": null,
   "metadata": {},
   "outputs": [],
   "source": []
  },
  {
   "cell_type": "code",
   "execution_count": null,
   "metadata": {},
   "outputs": [],
   "source": []
  }
 ],
 "metadata": {
  "colab": {
   "name": "cnn_implementation.ipynb",
   "provenance": []
  },
  "kernelspec": {
   "display_name": "Python 3 (ipykernel)",
   "language": "python",
   "name": "python3"
  },
  "language_info": {
   "codemirror_mode": {
    "name": "ipython",
    "version": 3
   },
   "file_extension": ".py",
   "mimetype": "text/x-python",
   "name": "python",
   "nbconvert_exporter": "python",
   "pygments_lexer": "ipython3",
   "version": "3.8.12"
  }
 },
 "nbformat": 4,
 "nbformat_minor": 4
}
