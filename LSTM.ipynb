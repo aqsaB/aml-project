{
 "cells": [
  {
   "cell_type": "code",
   "execution_count": 1,
   "id": "f33369c4",
   "metadata": {},
   "outputs": [
    {
     "name": "stderr",
     "output_type": "stream",
     "text": [
      "[nltk_data] Downloading package stopwords to\n",
      "[nltk_data]     C:\\Users\\User\\AppData\\Roaming\\nltk_data...\n",
      "[nltk_data]   Package stopwords is already up-to-date!\n"
     ]
    }
   ],
   "source": [
    "import pickle\n",
    "from tensorflow.keras.preprocessing.text import Tokenizer\n",
    "import pandas as pd\n",
    "import numpy as np\n",
    "from nltk.corpus import stopwords\n",
    "import nltk\n",
    "from keras.preprocessing.sequence import pad_sequences\n",
    "from tensorflow import keras\n",
    "from keras.layers import LSTM, Dense, Dropout\n",
    "import tensorflow as tf\n",
    "from keras import backend as K\n",
    "import matplotlib.pyplot as plt\n",
    "nltk.download('stopwords')\n",
    "stop = stopwords.words('english')\n",
    "tokenizer = Tokenizer(num_words = 8000, filters = '!\"#$%&()*+,-./:;<=>?@[\\\\]^`{|}~\\t\\n')"
   ]
  },
  {
   "cell_type": "code",
   "execution_count": 2,
   "id": "8fa70352-1e03-4f1c-921b-c3c27c615fbb",
   "metadata": {},
   "outputs": [],
   "source": [
    "try:\n",
    "    # Disable all GPUS\n",
    "    tf.config.set_visible_devices([], 'GPU')\n",
    "    visible_devices = tf.config.get_visible_devices()\n",
    "    for device in visible_devices:\n",
    "        assert device.device_type != 'GPU'\n",
    "except:\n",
    "    # Invalid device or cannot modify virtual devices once initialized.\n",
    "    pass\n"
   ]
  },
  {
   "cell_type": "code",
   "execution_count": 3,
   "id": "f738a454-fa09-4b5a-b3ca-46dd084d5084",
   "metadata": {},
   "outputs": [],
   "source": [
    "data_dev = []\n",
    "data_test = []\n",
    "data_train = []\n",
    "file_name_dev = \"audioDataDev.pickle\"\n",
    "file_name_test = \"audioDataTest.pickle\"\n",
    "file_name_train = \"audioDataTrain.pickle\"\n",
    "\n",
    "with (open(file_name_dev, \"rb\")) as f:\n",
    "    while True:\n",
    "        try:\n",
    "            data_dev.append(pickle.load(f))\n",
    "        except EOFError:\n",
    "            break\n",
    "f.close()\n",
    "\n",
    "with (open(file_name_test, \"rb\")) as f:\n",
    "    while True:\n",
    "        try:\n",
    "            data_test.append(pickle.load(f))\n",
    "        except EOFError:\n",
    "            break\n",
    "f.close()\n",
    "\n",
    "with (open(file_name_train, \"rb\")) as f:\n",
    "    while True:\n",
    "        try:\n",
    "            data_train.append(pickle.load(f))\n",
    "        except EOFError:\n",
    "            break\n",
    "f.close()"
   ]
  },
  {
   "cell_type": "code",
   "execution_count": 4,
   "id": "36d52b8c-f03c-4c18-939f-407b1937a976",
   "metadata": {},
   "outputs": [],
   "source": [
    "X_dev = []\n",
    "y_dev = []\n",
    "X_train = []\n",
    "y_train = []\n",
    "X_test = []\n",
    "y_test = []\n",
    "\n",
    "for i in range(len(data_dev)-1):\n",
    "    X_dev.append(data_dev[i+1][4])\n",
    "for i in range(len(data_dev)-1):\n",
    "    y_dev.append(data_dev[i+1][6:12])\n",
    "    \n",
    "for i in range(len(data_test)-1):\n",
    "    X_test.append(data_test[i+1][4])\n",
    "for i in range(len(data_test)-1):\n",
    "    y_test.append(data_test[i+1][6:12])\n",
    "    \n",
    "for i in range(len(data_train)-1):\n",
    "    X_train.append(data_train[i+1][4])\n",
    "for i in range(len(data_train)-1):\n",
    "    y_train.append(data_train[i+1][6:12])\n",
    "\n",
    "X_dev = np.array(X_dev)\n",
    "y_dev = np.array(y_dev).astype(bool).astype(int)\n",
    "X_test = np.array(X_test)\n",
    "y_test = np.array(y_test).astype(bool).astype(int)\n",
    "X_train = np.array(X_train)\n",
    "y_train = np.array(y_train).astype(bool).astype(int)\n"
   ]
  },
  {
   "cell_type": "code",
   "execution_count": null,
   "id": "6484a2c1-2a7b-4a98-8122-7925264493e1",
   "metadata": {},
   "outputs": [],
   "source": []
  },
  {
   "cell_type": "code",
   "execution_count": 5,
   "id": "a0c7c359",
   "metadata": {},
   "outputs": [],
   "source": [
    "def sent(X, y):\n",
    "    data = []\n",
    "    for i in range(1, len(X)):\n",
    "        #add text\n",
    "        temp = X[i].split('\\n')\n",
    "        text_obj = temp[0][6:]\n",
    "\n",
    "        row = [text_obj, np.array(y[i])]\n",
    "        data.append(row)\n",
    "\n",
    "    df = pd.DataFrame(data, columns = ['text', 'sentiment'])\n",
    "    return df\n",
    "\n",
    "def remove_punctuation(text):\n",
    "    import string\n",
    "    translator = str.maketrans('', '', string.punctuation)\n",
    "    return text.translate(translator)\n",
    "\n",
    "def remove_stopwords(text):\n",
    "    sw = stopwords.words('english')\n",
    "    text = [word.lower() for word in text.split() if word.lower() not in sw]\n",
    "    return \" \".join(text)\n",
    "\n",
    "def sequences(dframe):\n",
    "    tokenizer = Tokenizer(num_words = 8000, filters = '!\"#$%&()*+,-./:;<=>?@[\\\\]^`{|}~\\t\\n')\n",
    "    tokenizer.fit_on_texts(dframe['text'])\n",
    "    X = tokenizer.texts_to_sequences(dframe['text'].values)\n",
    "    y = dframe['sentiment'].values\n",
    "    return X,y\n"
   ]
  },
  {
   "cell_type": "code",
   "execution_count": 6,
   "id": "abd0d461-1007-4a33-ace5-f98c77bb7af1",
   "metadata": {},
   "outputs": [],
   "source": [
    "dev_df = sent(X_dev, y_dev)\n",
    "dev_df['text'] = dev_df['text'].apply(remove_punctuation).apply(remove_stopwords)\n",
    "dev = sequences(dev_df)\n",
    "\n",
    "test_df = sent(X_test, y_test)\n",
    "test_df['text'] = test_df['text'].apply(remove_punctuation).apply(remove_stopwords)\n",
    "test = sequences(test_df)\n",
    "\n",
    "train_df = sent(X_train, y_train)\n",
    "train_df['text'] = train_df['text'].apply(remove_punctuation).apply(remove_stopwords)\n",
    "train = sequences(train_df)"
   ]
  },
  {
   "cell_type": "code",
   "execution_count": 7,
   "id": "d7bc7b54-fe14-4e75-9030-dbe07f43d91b",
   "metadata": {},
   "outputs": [],
   "source": [
    "X_dev_text = pad_sequences(dev[0])\n",
    "y_dev_text = pad_sequences(dev[1])\n",
    "X_test_text = pad_sequences(test[0])\n",
    "y_test_text = pad_sequences(test[1])\n",
    "X_train_text = pad_sequences(train[0])\n",
    "y_train_text = pad_sequences(train[1])"
   ]
  },
  {
   "cell_type": "code",
   "execution_count": 8,
   "id": "6012d63c",
   "metadata": {},
   "outputs": [],
   "source": [
    "X_train_text = X_train_text.reshape(X_train_text.shape[0], 1, X_train_text.shape[1])\n",
    "X_test_text = X_test_text.reshape(X_test_text.shape[0], 1, X_test_text.shape[1])"
   ]
  },
  {
   "cell_type": "code",
   "execution_count": 9,
   "id": "51f6f92b",
   "metadata": {},
   "outputs": [
    {
     "data": {
      "text/plain": [
       "(16326, 1, 9)"
      ]
     },
     "execution_count": 9,
     "metadata": {},
     "output_type": "execute_result"
    }
   ],
   "source": [
    "X_train_text.shape"
   ]
  },
  {
   "cell_type": "code",
   "execution_count": 19,
   "id": "52a25550",
   "metadata": {},
   "outputs": [],
   "source": [
    "#set up the LSTM model\n",
    "\n",
    "\n",
    "#using the LSTM model with relu activation\n",
    "lstm = keras.Sequential()\n",
    "lstm.add(LSTM(32, input_shape = (1, X_train_text.shape[2]), activation='relu', return_sequences=False))\n",
    "lstm.add(Dense(6))\n",
    "lstm.compile(loss='mean_squared_error',metrics='accuracy', optimizer='adam')"
   ]
  },
  {
   "cell_type": "code",
   "execution_count": 20,
   "id": "ee399911",
   "metadata": {},
   "outputs": [
    {
     "data": {
      "text/plain": [
       "(16326, 6)"
      ]
     },
     "execution_count": 20,
     "metadata": {},
     "output_type": "execute_result"
    }
   ],
   "source": [
    "y_train_text.shape"
   ]
  },
  {
   "cell_type": "code",
   "execution_count": 21,
   "id": "7b5988c4",
   "metadata": {
    "scrolled": true
   },
   "outputs": [
    {
     "name": "stdout",
     "output_type": "stream",
     "text": [
      "Epoch 1/30\n",
      "1633/1633 [==============================] - 4s 2ms/step - loss: 2966.5417 - accuracy: 0.1264\n",
      "Epoch 2/30\n",
      "1633/1633 [==============================] - 3s 2ms/step - loss: 26.5794 - accuracy: 0.0580\n",
      "Epoch 3/30\n",
      "1633/1633 [==============================] - 3s 2ms/step - loss: 5.2189 - accuracy: 0.1566\n",
      "Epoch 4/30\n",
      "1633/1633 [==============================] - 3s 2ms/step - loss: 0.9182 - accuracy: 0.6440\n",
      "Epoch 5/30\n",
      "1633/1633 [==============================] - 3s 2ms/step - loss: 0.3911 - accuracy: 0.6616\n",
      "Epoch 6/30\n",
      "1633/1633 [==============================] - 3s 2ms/step - loss: 0.1927 - accuracy: 0.6752\n",
      "Epoch 7/30\n",
      "1633/1633 [==============================] - 3s 2ms/step - loss: 0.1559 - accuracy: 0.6816\n",
      "Epoch 8/30\n",
      "1633/1633 [==============================] - 3s 2ms/step - loss: 0.1546 - accuracy: 0.6816\n",
      "Epoch 9/30\n",
      "1633/1633 [==============================] - 3s 2ms/step - loss: 0.1544 - accuracy: 0.6816\n",
      "Epoch 10/30\n",
      "1633/1633 [==============================] - 3s 2ms/step - loss: 0.1544 - accuracy: 0.6815\n",
      "Epoch 11/30\n",
      "1633/1633 [==============================] - 3s 2ms/step - loss: 0.1543 - accuracy: 0.6815\n",
      "Epoch 12/30\n",
      "1633/1633 [==============================] - 3s 2ms/step - loss: 0.1543 - accuracy: 0.6814\n",
      "Epoch 13/30\n",
      "1633/1633 [==============================] - 3s 2ms/step - loss: 0.1543 - accuracy: 0.6815\n",
      "Epoch 14/30\n",
      "1633/1633 [==============================] - 3s 2ms/step - loss: 0.1596 - accuracy: 0.6814\n",
      "Epoch 15/30\n",
      "1633/1633 [==============================] - 3s 2ms/step - loss: 0.1542 - accuracy: 0.6815\n",
      "Epoch 16/30\n",
      "1633/1633 [==============================] - 3s 2ms/step - loss: 0.1755 - accuracy: 0.6814\n",
      "Epoch 17/30\n",
      "1633/1633 [==============================] - 3s 2ms/step - loss: 0.1548 - accuracy: 0.6814\n",
      "Epoch 18/30\n",
      "1633/1633 [==============================] - 3s 2ms/step - loss: 0.8395 - accuracy: 0.6814\n",
      "Epoch 19/30\n",
      "1633/1633 [==============================] - 3s 2ms/step - loss: 0.1546 - accuracy: 0.6813\n",
      "Epoch 20/30\n",
      "1633/1633 [==============================] - 3s 2ms/step - loss: 0.1542 - accuracy: 0.6815\n",
      "Epoch 21/30\n",
      "1633/1633 [==============================] - 3s 2ms/step - loss: 0.1548 - accuracy: 0.6815\n",
      "Epoch 22/30\n",
      "1633/1633 [==============================] - 3s 2ms/step - loss: 0.1544 - accuracy: 0.6814\n",
      "Epoch 23/30\n",
      "1633/1633 [==============================] - 3s 2ms/step - loss: 1.3122 - accuracy: 0.6815\n",
      "Epoch 24/30\n",
      "1633/1633 [==============================] - 3s 2ms/step - loss: 0.2398 - accuracy: 0.6812\n",
      "Epoch 25/30\n",
      "1633/1633 [==============================] - 3s 2ms/step - loss: 0.1646 - accuracy: 0.6815\n",
      "Epoch 26/30\n",
      "1633/1633 [==============================] - 3s 2ms/step - loss: 0.1542 - accuracy: 0.6813\n",
      "Epoch 27/30\n",
      "1633/1633 [==============================] - 3s 2ms/step - loss: 0.1572 - accuracy: 0.6814\n",
      "Epoch 28/30\n",
      "1633/1633 [==============================] - 3s 2ms/step - loss: 0.1628 - accuracy: 0.6812\n",
      "Epoch 29/30\n",
      "1633/1633 [==============================] - 3s 2ms/step - loss: 0.1672 - accuracy: 0.6816\n",
      "Epoch 30/30\n",
      "1633/1633 [==============================] - 3s 2ms/step - loss: 0.1542 - accuracy: 0.6814\n"
     ]
    },
    {
     "data": {
      "text/plain": [
       "<keras.callbacks.History at 0x248a867f190>"
      ]
     },
     "execution_count": 21,
     "metadata": {},
     "output_type": "execute_result"
    }
   ],
   "source": [
    "lstm.fit(X_train_text, y_train_text, epochs=30, batch_size=10, verbose=1, shuffle=False)"
   ]
  },
  {
   "cell_type": "markdown",
   "id": "91eedd77",
   "metadata": {},
   "source": [
    "loading testing set"
   ]
  },
  {
   "cell_type": "code",
   "execution_count": 22,
   "id": "06679452",
   "metadata": {},
   "outputs": [],
   "source": [
    "y_pred= lstm.predict(X_test_text)"
   ]
  },
  {
   "cell_type": "code",
   "execution_count": 23,
   "id": "3df0bf36-70fb-4eae-a679-cfe75c118c1e",
   "metadata": {},
   "outputs": [],
   "source": [
    "y_pred= y_pred.round()"
   ]
  },
  {
   "cell_type": "code",
   "execution_count": 24,
   "id": "0da26262-4b33-4022-b310-89cf81ced022",
   "metadata": {},
   "outputs": [
    {
     "name": "stdout",
     "output_type": "stream",
     "text": [
      ">0.786\n"
     ]
    }
   ],
   "source": [
    "results=[]\n",
    "total = 0\n",
    "similar = 0\n",
    "for i in range(len(y_test_text)):\n",
    "    for j in range(len(y_test_text[i])):\n",
    "        if y_test_text[i][j] == y_pred[i][j]:\n",
    "            similar += 1\n",
    "        total += 1\n",
    "acc = similar/total\n",
    "\n",
    "print('>%.3f' % acc)\n",
    "results.append(acc)"
   ]
  },
  {
   "cell_type": "code",
   "execution_count": 20,
   "id": "50133567",
   "metadata": {},
   "outputs": [
    {
     "name": "stdout",
     "output_type": "stream",
     "text": [
      "y1 MSE:0.2930\n",
      "y2 MSE:0.0510\n",
      "y3 MSE:0.0886\n",
      "y4 MSE:0.0087\n",
      "y5 MSE:0.0606\n",
      "y6 MSE:0.0077\n"
     ]
    },
    {
     "data": {
      "image/png": "[encoded data removed]",
      "text/plain": [
       "<Figure size 432x288 with 1 Axes>"
      ]
     },
     "metadata": {
      "needs_background": "light"
     },
     "output_type": "display_data"
    }
   ],
   "source": [
    "from sklearn.metrics import mean_squared_error\n",
    "print(\"y1 MSE:%.4f\" % mean_squared_error(y_test_text[:,0], y_pred[:,0]))\n",
    "print(\"y2 MSE:%.4f\" % mean_squared_error(y_test_text[:,1], y_pred[:,1])) \n",
    "print(\"y3 MSE:%.4f\" % mean_squared_error(y_test_text[:,2], y_pred[:,2])) \n",
    "print(\"y4 MSE:%.4f\" % mean_squared_error(y_test_text[:,3], y_pred[:,3])) \n",
    "print(\"y5 MSE:%.4f\" % mean_squared_error(y_test_text[:,4], y_pred[:,4])) \n",
    "print(\"y6 MSE:%.4f\" % mean_squared_error(y_test_text[:,5], y_pred[:,5])) \n",
    "\n",
    "x_ax = range(len(X_test_text))\n",
    "plt.title(\"LSTM multi-output prediction\")\n",
    "plt.scatter(x_ax, y_test_text[:,0],  s=6, label=\"y1-test\")\n",
    "plt.plot(x_ax, y_pred[:,0], label=\"y1-pred\")\n",
    "plt.scatter(x_ax, y_test_text[:,1],  s=6, label=\"y2-test\")\n",
    "plt.plot(x_ax, y_pred[:,1], label=\"y2-pred\")\n",
    "plt.legend()\n",
    "plt.show()"
   ]
  },
  {
   "cell_type": "code",
   "execution_count": 34,
   "id": "f5b547da",
   "metadata": {},
   "outputs": [],
   "source": [
    "from sklearn.metrics import accuracy_score, precision_score, recall_score\n",
    "\n",
    "range_vals = [i/100 for i in range(1, 30)]\n",
    "\n",
    "\n",
    "precision = []\n",
    "recall = []\n",
    "accuracy = []\n",
    "for i in range_vals:\n",
    "    precision.append(precision_score(y_test_text[1], y_pred[1]))\n",
    "    recall.append(recall_score(y_test_text[1], y_pred[1]))\n",
    "    accuracy.append(accuracy_score(y_test_text[1], y_pred[1]))"
   ]
  },
  {
   "cell_type": "code",
   "execution_count": 31,
   "id": "1716a82b-f38f-4675-9480-5f1cbc489e42",
   "metadata": {},
   "outputs": [
    {
     "data": {
      "text/plain": [
       "array([0, 1, 1, 0, 1, 0])"
      ]
     },
     "execution_count": 33,
     "metadata": {},
     "output_type": "execute_result"
    }
   ],
   "source": [
    "y_test_text[1]"
   ]
  },
  {
   "cell_type": "code",
   "execution_count": 29,
   "id": "566ff197-6404-4ad4-99fc-663105e51f22",
   "metadata": {},
   "outputs": [
    {
     "name": "stderr",
     "output_type": "stream",
     "text": [
      "D:\\User\\Documents\\conda\\envs\\amlproj\\lib\\site-packages\\seaborn\\_decorators.py:36: FutureWarning: Pass the following variables as keyword args: x, y. From version 0.12, the only valid positional argument will be `data`, and passing other arguments without an explicit keyword will result in an error or misinterpretation.\n",
      "  warnings.warn(\n",
      "D:\\User\\Documents\\conda\\envs\\amlproj\\lib\\site-packages\\seaborn\\_decorators.py:36: FutureWarning: Pass the following variables as keyword args: x, y. From version 0.12, the only valid positional argument will be `data`, and passing other arguments without an explicit keyword will result in an error or misinterpretation.\n",
      "  warnings.warn(\n",
      "D:\\User\\Documents\\conda\\envs\\amlproj\\lib\\site-packages\\seaborn\\_decorators.py:36: FutureWarning: Pass the following variables as keyword args: x, y. From version 0.12, the only valid positional argument will be `data`, and passing other arguments without an explicit keyword will result in an error or misinterpretation.\n",
      "  warnings.warn(\n",
      "D:\\User\\Documents\\conda\\envs\\amlproj\\lib\\site-packages\\seaborn\\_decorators.py:36: FutureWarning: Pass the following variables as keyword args: x, y. From version 0.12, the only valid positional argument will be `data`, and passing other arguments without an explicit keyword will result in an error or misinterpretation.\n",
      "  warnings.warn(\n",
      "D:\\User\\Documents\\conda\\envs\\amlproj\\lib\\site-packages\\seaborn\\_decorators.py:36: FutureWarning: Pass the following variables as keyword args: x, y. From version 0.12, the only valid positional argument will be `data`, and passing other arguments without an explicit keyword will result in an error or misinterpretation.\n",
      "  warnings.warn(\n",
      "D:\\User\\Documents\\conda\\envs\\amlproj\\lib\\site-packages\\seaborn\\_decorators.py:36: FutureWarning: Pass the following variables as keyword args: x, y. From version 0.12, the only valid positional argument will be `data`, and passing other arguments without an explicit keyword will result in an error or misinterpretation.\n",
      "  warnings.warn(\n"
     ]
    },
    {
     "data": {
      "image/png": "[encoded data removed]",
      "text/plain": [
       "<Figure size 792x504 with 1 Axes>"
      ]
     },
     "metadata": {
      "needs_background": "light"
     },
     "output_type": "display_data"
    }
   ],
   "source": [
    "import seaborn as sns\n",
    "import matplotlib.pyplot as plt\n",
    "\n",
    "plt.figure(figsize = (11, 7))\n",
    "sns.lineplot(range_vals, precision)\n",
    "sns.scatterplot(range_vals, precision)\n",
    "sns.lineplot(range_vals, recall)\n",
    "sns.scatterplot(range_vals, recall)\n",
    "sns.lineplot(range_vals, accuracy)\n",
    "sns.scatterplot(range_vals, accuracy)\n",
    "plt.legend(['prec', 'rec', 'Acc'])\n",
    "plt.show()"
   ]
  },
  {
   "cell_type": "code",
   "execution_count": null,
   "id": "1d018b75-ce50-422f-9e36-a8a88a2e7684",
   "metadata": {},
   "outputs": [],
   "source": []
  }
 ],
 "metadata": {
  "kernelspec": {
   "display_name": "Python 3 (ipykernel)",
   "language": "python",
   "name": "python3"
  },
  "language_info": {
   "codemirror_mode": {
    "name": "ipython",
    "version": 3
   },
   "file_extension": ".py",
   "mimetype": "text/x-python",
   "name": "python",
   "nbconvert_exporter": "python",
   "pygments_lexer": "ipython3",
   "version": "3.8.12"
  }
 },
 "nbformat": 4,
 "nbformat_minor": 5
}
